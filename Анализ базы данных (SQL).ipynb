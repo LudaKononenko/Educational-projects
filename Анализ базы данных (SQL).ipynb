{
 "cells": [
  {
   "cell_type": "markdown",
   "id": "cbbb04ee",
   "metadata": {},
   "source": [
    "# Анализ базы данных"
   ]
  },
  {
   "cell_type": "markdown",
   "id": "b8c9a7a2",
   "metadata": {},
   "source": [
    "**Цель:** анализ базы данных для формулировки ценностного предложения нового продукта.\n",
    "\n",
    "**Заказчик:** стартап, занимающийся разработкой приложения для любителей книг.\n",
    "\n",
    "**Источник данных:** крупный сервис для чтения книг по подписке.  \n",
    "\n",
    "**План:**\n",
    "1. Импорт и обзор данных\n",
    "2. Написание необходимых SQL-запросов для оценки интересующих параметров\n",
    "3. Формулировка выводов"
   ]
  },
  {
   "cell_type": "markdown",
   "id": "4e642dba",
   "metadata": {},
   "source": [
    "## Импорт и обзор таблиц"
   ]
  },
  {
   "cell_type": "code",
   "execution_count": 1,
   "id": "2d4ff094",
   "metadata": {},
   "outputs": [],
   "source": [
    "# импортируем библиотеки\n",
    "import pandas as pd\n",
    "from sqlalchemy import create_engine\n",
    "# устанавливаем параметры\n",
    "db_config = {'user': 'praktikum_student', # имя пользователя\n",
    "'pwd': 'Sdf4$2;d-d30pp', # пароль\n",
    "'host': 'rc1b-wcoijxj3yxfsf3fs.mdb.yandexcloud.net',\n",
    "'port': 6432, # порт подключения\n",
    "'db': 'data-analyst-final-project-db'} # название базы данных\n",
    "connection_string = 'postgresql://{}:{}@{}:{}/{}'.format(db_config['user'],\n",
    " db_config['pwd'],\n",
    " db_config['host'],\n",
    " db_config['port'],\n",
    " db_config['db'])\n",
    "# сохраняем коннектор\n",
    "engine = create_engine(connection_string, connect_args={'sslmode':'require'}) "
   ]
  },
  {
   "cell_type": "code",
   "execution_count": 2,
   "id": "d5660a77",
   "metadata": {},
   "outputs": [],
   "source": [
    "#создадим функцию для упрощения вывода результатов SQL-запросов\n",
    "def sql(table_name):\n",
    "    return pd.io.sql.read_sql(table_name, con = engine)\n",
    "\n",
    "#и функцию для вывода информации о таблицах\n",
    "def table(table_name):\n",
    "    name = pd.io.sql.read_sql(table_name, con = engine)\n",
    "    print (name.info())\n",
    "    display (name.head())\n",
    "    print('Количество дубликатов:', name.duplicated().sum())"
   ]
  },
  {
   "cell_type": "markdown",
   "id": "fed1b921",
   "metadata": {},
   "source": [
    "Для начала оценим таблицы с данными, которые у нас есть."
   ]
  },
  {
   "cell_type": "code",
   "execution_count": 3,
   "id": "00c4d5bd",
   "metadata": {},
   "outputs": [
    {
     "name": "stdout",
     "output_type": "stream",
     "text": [
      "<class 'pandas.core.frame.DataFrame'>\n",
      "RangeIndex: 1000 entries, 0 to 999\n",
      "Data columns (total 6 columns):\n",
      " #   Column            Non-Null Count  Dtype \n",
      "---  ------            --------------  ----- \n",
      " 0   book_id           1000 non-null   int64 \n",
      " 1   author_id         1000 non-null   int64 \n",
      " 2   title             1000 non-null   object\n",
      " 3   num_pages         1000 non-null   int64 \n",
      " 4   publication_date  1000 non-null   object\n",
      " 5   publisher_id      1000 non-null   int64 \n",
      "dtypes: int64(4), object(2)\n",
      "memory usage: 47.0+ KB\n",
      "None\n"
     ]
    },
    {
     "data": {
      "text/html": [
       "<div>\n",
       "<style scoped>\n",
       "    .dataframe tbody tr th:only-of-type {\n",
       "        vertical-align: middle;\n",
       "    }\n",
       "\n",
       "    .dataframe tbody tr th {\n",
       "        vertical-align: top;\n",
       "    }\n",
       "\n",
       "    .dataframe thead th {\n",
       "        text-align: right;\n",
       "    }\n",
       "</style>\n",
       "<table border=\"1\" class=\"dataframe\">\n",
       "  <thead>\n",
       "    <tr style=\"text-align: right;\">\n",
       "      <th></th>\n",
       "      <th>book_id</th>\n",
       "      <th>author_id</th>\n",
       "      <th>title</th>\n",
       "      <th>num_pages</th>\n",
       "      <th>publication_date</th>\n",
       "      <th>publisher_id</th>\n",
       "    </tr>\n",
       "  </thead>\n",
       "  <tbody>\n",
       "    <tr>\n",
       "      <th>0</th>\n",
       "      <td>1</td>\n",
       "      <td>546</td>\n",
       "      <td>'Salem's Lot</td>\n",
       "      <td>594</td>\n",
       "      <td>2005-11-01</td>\n",
       "      <td>93</td>\n",
       "    </tr>\n",
       "    <tr>\n",
       "      <th>1</th>\n",
       "      <td>2</td>\n",
       "      <td>465</td>\n",
       "      <td>1 000 Places to See Before You Die</td>\n",
       "      <td>992</td>\n",
       "      <td>2003-05-22</td>\n",
       "      <td>336</td>\n",
       "    </tr>\n",
       "    <tr>\n",
       "      <th>2</th>\n",
       "      <td>3</td>\n",
       "      <td>407</td>\n",
       "      <td>13 Little Blue Envelopes (Little Blue Envelope...</td>\n",
       "      <td>322</td>\n",
       "      <td>2010-12-21</td>\n",
       "      <td>135</td>\n",
       "    </tr>\n",
       "    <tr>\n",
       "      <th>3</th>\n",
       "      <td>4</td>\n",
       "      <td>82</td>\n",
       "      <td>1491: New Revelations of the Americas Before C...</td>\n",
       "      <td>541</td>\n",
       "      <td>2006-10-10</td>\n",
       "      <td>309</td>\n",
       "    </tr>\n",
       "    <tr>\n",
       "      <th>4</th>\n",
       "      <td>5</td>\n",
       "      <td>125</td>\n",
       "      <td>1776</td>\n",
       "      <td>386</td>\n",
       "      <td>2006-07-04</td>\n",
       "      <td>268</td>\n",
       "    </tr>\n",
       "  </tbody>\n",
       "</table>\n",
       "</div>"
      ],
      "text/plain": [
       "   book_id  author_id                                              title  \\\n",
       "0        1        546                                       'Salem's Lot   \n",
       "1        2        465                 1 000 Places to See Before You Die   \n",
       "2        3        407  13 Little Blue Envelopes (Little Blue Envelope...   \n",
       "3        4         82  1491: New Revelations of the Americas Before C...   \n",
       "4        5        125                                               1776   \n",
       "\n",
       "   num_pages publication_date  publisher_id  \n",
       "0        594       2005-11-01            93  \n",
       "1        992       2003-05-22           336  \n",
       "2        322       2010-12-21           135  \n",
       "3        541       2006-10-10           309  \n",
       "4        386       2006-07-04           268  "
      ]
     },
     "metadata": {},
     "output_type": "display_data"
    },
    {
     "name": "stdout",
     "output_type": "stream",
     "text": [
      "Количество дубликатов: 0\n"
     ]
    }
   ],
   "source": [
    "#таблица books\n",
    "table('SELECT * FROM books')"
   ]
  },
  {
   "cell_type": "code",
   "execution_count": 4,
   "id": "63c029a5",
   "metadata": {},
   "outputs": [
    {
     "name": "stdout",
     "output_type": "stream",
     "text": [
      "<class 'pandas.core.frame.DataFrame'>\n",
      "RangeIndex: 636 entries, 0 to 635\n",
      "Data columns (total 2 columns):\n",
      " #   Column     Non-Null Count  Dtype \n",
      "---  ------     --------------  ----- \n",
      " 0   author_id  636 non-null    int64 \n",
      " 1   author     636 non-null    object\n",
      "dtypes: int64(1), object(1)\n",
      "memory usage: 10.1+ KB\n",
      "None\n"
     ]
    },
    {
     "data": {
      "text/html": [
       "<div>\n",
       "<style scoped>\n",
       "    .dataframe tbody tr th:only-of-type {\n",
       "        vertical-align: middle;\n",
       "    }\n",
       "\n",
       "    .dataframe tbody tr th {\n",
       "        vertical-align: top;\n",
       "    }\n",
       "\n",
       "    .dataframe thead th {\n",
       "        text-align: right;\n",
       "    }\n",
       "</style>\n",
       "<table border=\"1\" class=\"dataframe\">\n",
       "  <thead>\n",
       "    <tr style=\"text-align: right;\">\n",
       "      <th></th>\n",
       "      <th>author_id</th>\n",
       "      <th>author</th>\n",
       "    </tr>\n",
       "  </thead>\n",
       "  <tbody>\n",
       "    <tr>\n",
       "      <th>0</th>\n",
       "      <td>1</td>\n",
       "      <td>A.S. Byatt</td>\n",
       "    </tr>\n",
       "    <tr>\n",
       "      <th>1</th>\n",
       "      <td>2</td>\n",
       "      <td>Aesop/Laura Harris/Laura Gibbs</td>\n",
       "    </tr>\n",
       "    <tr>\n",
       "      <th>2</th>\n",
       "      <td>3</td>\n",
       "      <td>Agatha Christie</td>\n",
       "    </tr>\n",
       "    <tr>\n",
       "      <th>3</th>\n",
       "      <td>4</td>\n",
       "      <td>Alan Brennert</td>\n",
       "    </tr>\n",
       "    <tr>\n",
       "      <th>4</th>\n",
       "      <td>5</td>\n",
       "      <td>Alan Moore/David   Lloyd</td>\n",
       "    </tr>\n",
       "  </tbody>\n",
       "</table>\n",
       "</div>"
      ],
      "text/plain": [
       "   author_id                          author\n",
       "0          1                      A.S. Byatt\n",
       "1          2  Aesop/Laura Harris/Laura Gibbs\n",
       "2          3                 Agatha Christie\n",
       "3          4                   Alan Brennert\n",
       "4          5        Alan Moore/David   Lloyd"
      ]
     },
     "metadata": {},
     "output_type": "display_data"
    },
    {
     "name": "stdout",
     "output_type": "stream",
     "text": [
      "Количество дубликатов: 0\n"
     ]
    }
   ],
   "source": [
    "#таблица authors\n",
    "table('SELECT * FROM authors')"
   ]
  },
  {
   "cell_type": "code",
   "execution_count": 5,
   "id": "bb65272b",
   "metadata": {},
   "outputs": [
    {
     "name": "stdout",
     "output_type": "stream",
     "text": [
      "<class 'pandas.core.frame.DataFrame'>\n",
      "RangeIndex: 340 entries, 0 to 339\n",
      "Data columns (total 2 columns):\n",
      " #   Column        Non-Null Count  Dtype \n",
      "---  ------        --------------  ----- \n",
      " 0   publisher_id  340 non-null    int64 \n",
      " 1   publisher     340 non-null    object\n",
      "dtypes: int64(1), object(1)\n",
      "memory usage: 5.4+ KB\n",
      "None\n"
     ]
    },
    {
     "data": {
      "text/html": [
       "<div>\n",
       "<style scoped>\n",
       "    .dataframe tbody tr th:only-of-type {\n",
       "        vertical-align: middle;\n",
       "    }\n",
       "\n",
       "    .dataframe tbody tr th {\n",
       "        vertical-align: top;\n",
       "    }\n",
       "\n",
       "    .dataframe thead th {\n",
       "        text-align: right;\n",
       "    }\n",
       "</style>\n",
       "<table border=\"1\" class=\"dataframe\">\n",
       "  <thead>\n",
       "    <tr style=\"text-align: right;\">\n",
       "      <th></th>\n",
       "      <th>publisher_id</th>\n",
       "      <th>publisher</th>\n",
       "    </tr>\n",
       "  </thead>\n",
       "  <tbody>\n",
       "    <tr>\n",
       "      <th>0</th>\n",
       "      <td>1</td>\n",
       "      <td>Ace</td>\n",
       "    </tr>\n",
       "    <tr>\n",
       "      <th>1</th>\n",
       "      <td>2</td>\n",
       "      <td>Ace Book</td>\n",
       "    </tr>\n",
       "    <tr>\n",
       "      <th>2</th>\n",
       "      <td>3</td>\n",
       "      <td>Ace Books</td>\n",
       "    </tr>\n",
       "    <tr>\n",
       "      <th>3</th>\n",
       "      <td>4</td>\n",
       "      <td>Ace Hardcover</td>\n",
       "    </tr>\n",
       "    <tr>\n",
       "      <th>4</th>\n",
       "      <td>5</td>\n",
       "      <td>Addison Wesley Publishing Company</td>\n",
       "    </tr>\n",
       "  </tbody>\n",
       "</table>\n",
       "</div>"
      ],
      "text/plain": [
       "   publisher_id                          publisher\n",
       "0             1                                Ace\n",
       "1             2                           Ace Book\n",
       "2             3                          Ace Books\n",
       "3             4                      Ace Hardcover\n",
       "4             5  Addison Wesley Publishing Company"
      ]
     },
     "metadata": {},
     "output_type": "display_data"
    },
    {
     "name": "stdout",
     "output_type": "stream",
     "text": [
      "Количество дубликатов: 0\n"
     ]
    }
   ],
   "source": [
    "#таблица publishers\n",
    "table('SELECT * FROM publishers')"
   ]
  },
  {
   "cell_type": "code",
   "execution_count": 6,
   "id": "567bf2f3",
   "metadata": {},
   "outputs": [
    {
     "name": "stdout",
     "output_type": "stream",
     "text": [
      "<class 'pandas.core.frame.DataFrame'>\n",
      "RangeIndex: 6456 entries, 0 to 6455\n",
      "Data columns (total 4 columns):\n",
      " #   Column     Non-Null Count  Dtype \n",
      "---  ------     --------------  ----- \n",
      " 0   rating_id  6456 non-null   int64 \n",
      " 1   book_id    6456 non-null   int64 \n",
      " 2   username   6456 non-null   object\n",
      " 3   rating     6456 non-null   int64 \n",
      "dtypes: int64(3), object(1)\n",
      "memory usage: 201.9+ KB\n",
      "None\n"
     ]
    },
    {
     "data": {
      "text/html": [
       "<div>\n",
       "<style scoped>\n",
       "    .dataframe tbody tr th:only-of-type {\n",
       "        vertical-align: middle;\n",
       "    }\n",
       "\n",
       "    .dataframe tbody tr th {\n",
       "        vertical-align: top;\n",
       "    }\n",
       "\n",
       "    .dataframe thead th {\n",
       "        text-align: right;\n",
       "    }\n",
       "</style>\n",
       "<table border=\"1\" class=\"dataframe\">\n",
       "  <thead>\n",
       "    <tr style=\"text-align: right;\">\n",
       "      <th></th>\n",
       "      <th>rating_id</th>\n",
       "      <th>book_id</th>\n",
       "      <th>username</th>\n",
       "      <th>rating</th>\n",
       "    </tr>\n",
       "  </thead>\n",
       "  <tbody>\n",
       "    <tr>\n",
       "      <th>0</th>\n",
       "      <td>1</td>\n",
       "      <td>1</td>\n",
       "      <td>ryanfranco</td>\n",
       "      <td>4</td>\n",
       "    </tr>\n",
       "    <tr>\n",
       "      <th>1</th>\n",
       "      <td>2</td>\n",
       "      <td>1</td>\n",
       "      <td>grantpatricia</td>\n",
       "      <td>2</td>\n",
       "    </tr>\n",
       "    <tr>\n",
       "      <th>2</th>\n",
       "      <td>3</td>\n",
       "      <td>1</td>\n",
       "      <td>brandtandrea</td>\n",
       "      <td>5</td>\n",
       "    </tr>\n",
       "    <tr>\n",
       "      <th>3</th>\n",
       "      <td>4</td>\n",
       "      <td>2</td>\n",
       "      <td>lorichen</td>\n",
       "      <td>3</td>\n",
       "    </tr>\n",
       "    <tr>\n",
       "      <th>4</th>\n",
       "      <td>5</td>\n",
       "      <td>2</td>\n",
       "      <td>mariokeller</td>\n",
       "      <td>2</td>\n",
       "    </tr>\n",
       "  </tbody>\n",
       "</table>\n",
       "</div>"
      ],
      "text/plain": [
       "   rating_id  book_id       username  rating\n",
       "0          1        1     ryanfranco       4\n",
       "1          2        1  grantpatricia       2\n",
       "2          3        1   brandtandrea       5\n",
       "3          4        2       lorichen       3\n",
       "4          5        2    mariokeller       2"
      ]
     },
     "metadata": {},
     "output_type": "display_data"
    },
    {
     "name": "stdout",
     "output_type": "stream",
     "text": [
      "Количество дубликатов: 0\n"
     ]
    }
   ],
   "source": [
    "#таблица ratings\n",
    "table('SELECT * FROM ratings')"
   ]
  },
  {
   "cell_type": "code",
   "execution_count": 7,
   "id": "77e128f2",
   "metadata": {},
   "outputs": [
    {
     "name": "stdout",
     "output_type": "stream",
     "text": [
      "<class 'pandas.core.frame.DataFrame'>\n",
      "RangeIndex: 2793 entries, 0 to 2792\n",
      "Data columns (total 4 columns):\n",
      " #   Column     Non-Null Count  Dtype \n",
      "---  ------     --------------  ----- \n",
      " 0   review_id  2793 non-null   int64 \n",
      " 1   book_id    2793 non-null   int64 \n",
      " 2   username   2793 non-null   object\n",
      " 3   text       2793 non-null   object\n",
      "dtypes: int64(2), object(2)\n",
      "memory usage: 87.4+ KB\n",
      "None\n"
     ]
    },
    {
     "data": {
      "text/html": [
       "<div>\n",
       "<style scoped>\n",
       "    .dataframe tbody tr th:only-of-type {\n",
       "        vertical-align: middle;\n",
       "    }\n",
       "\n",
       "    .dataframe tbody tr th {\n",
       "        vertical-align: top;\n",
       "    }\n",
       "\n",
       "    .dataframe thead th {\n",
       "        text-align: right;\n",
       "    }\n",
       "</style>\n",
       "<table border=\"1\" class=\"dataframe\">\n",
       "  <thead>\n",
       "    <tr style=\"text-align: right;\">\n",
       "      <th></th>\n",
       "      <th>review_id</th>\n",
       "      <th>book_id</th>\n",
       "      <th>username</th>\n",
       "      <th>text</th>\n",
       "    </tr>\n",
       "  </thead>\n",
       "  <tbody>\n",
       "    <tr>\n",
       "      <th>0</th>\n",
       "      <td>1</td>\n",
       "      <td>1</td>\n",
       "      <td>brandtandrea</td>\n",
       "      <td>Mention society tell send professor analysis. ...</td>\n",
       "    </tr>\n",
       "    <tr>\n",
       "      <th>1</th>\n",
       "      <td>2</td>\n",
       "      <td>1</td>\n",
       "      <td>ryanfranco</td>\n",
       "      <td>Foot glass pretty audience hit themselves. Amo...</td>\n",
       "    </tr>\n",
       "    <tr>\n",
       "      <th>2</th>\n",
       "      <td>3</td>\n",
       "      <td>2</td>\n",
       "      <td>lorichen</td>\n",
       "      <td>Listen treat keep worry. Miss husband tax but ...</td>\n",
       "    </tr>\n",
       "    <tr>\n",
       "      <th>3</th>\n",
       "      <td>4</td>\n",
       "      <td>3</td>\n",
       "      <td>johnsonamanda</td>\n",
       "      <td>Finally month interesting blue could nature cu...</td>\n",
       "    </tr>\n",
       "    <tr>\n",
       "      <th>4</th>\n",
       "      <td>5</td>\n",
       "      <td>3</td>\n",
       "      <td>scotttamara</td>\n",
       "      <td>Nation purpose heavy give wait song will. List...</td>\n",
       "    </tr>\n",
       "  </tbody>\n",
       "</table>\n",
       "</div>"
      ],
      "text/plain": [
       "   review_id  book_id       username  \\\n",
       "0          1        1   brandtandrea   \n",
       "1          2        1     ryanfranco   \n",
       "2          3        2       lorichen   \n",
       "3          4        3  johnsonamanda   \n",
       "4          5        3    scotttamara   \n",
       "\n",
       "                                                text  \n",
       "0  Mention society tell send professor analysis. ...  \n",
       "1  Foot glass pretty audience hit themselves. Amo...  \n",
       "2  Listen treat keep worry. Miss husband tax but ...  \n",
       "3  Finally month interesting blue could nature cu...  \n",
       "4  Nation purpose heavy give wait song will. List...  "
      ]
     },
     "metadata": {},
     "output_type": "display_data"
    },
    {
     "name": "stdout",
     "output_type": "stream",
     "text": [
      "Количество дубликатов: 0\n"
     ]
    }
   ],
   "source": [
    "#таблица reviews\n",
    "table('SELECT * FROM reviews')"
   ]
  },
  {
   "cell_type": "markdown",
   "id": "ad5a3384",
   "metadata": {},
   "source": [
    "У нас имеется следующая информация:\n",
    "* **1000** книг\n",
    "* **636** авторов\n",
    "* **340** издательств\n",
    "* **6456** пользовательских оценок\n",
    "* **2793** пользовательских обзора\n",
    "\n",
    "Пропуски и явные дубликаты в данных отсутствуют."
   ]
  },
  {
   "cell_type": "markdown",
   "id": "72646701",
   "metadata": {},
   "source": [
    "## Анализ базы данных"
   ]
  },
  {
   "cell_type": "code",
   "execution_count": 8,
   "id": "2bfd504f",
   "metadata": {},
   "outputs": [
    {
     "data": {
      "text/html": [
       "<div>\n",
       "<style scoped>\n",
       "    .dataframe tbody tr th:only-of-type {\n",
       "        vertical-align: middle;\n",
       "    }\n",
       "\n",
       "    .dataframe tbody tr th {\n",
       "        vertical-align: top;\n",
       "    }\n",
       "\n",
       "    .dataframe thead th {\n",
       "        text-align: right;\n",
       "    }\n",
       "</style>\n",
       "<table border=\"1\" class=\"dataframe\">\n",
       "  <thead>\n",
       "    <tr style=\"text-align: right;\">\n",
       "      <th></th>\n",
       "      <th>books_count</th>\n",
       "    </tr>\n",
       "  </thead>\n",
       "  <tbody>\n",
       "    <tr>\n",
       "      <th>0</th>\n",
       "      <td>819</td>\n",
       "    </tr>\n",
       "  </tbody>\n",
       "</table>\n",
       "</div>"
      ],
      "text/plain": [
       "   books_count\n",
       "0          819"
      ]
     },
     "execution_count": 8,
     "metadata": {},
     "output_type": "execute_result"
    }
   ],
   "source": [
    "#посчитаем, сколько книг вышло после 1 января 2000 года\n",
    "sql(\n",
    "    \"SELECT count(book_id) AS books_count\\\n",
    "    FROM books\\\n",
    "    WHERE publication_date > '2000-01-01'\"\n",
    ")"
   ]
  },
  {
   "cell_type": "markdown",
   "id": "e21c61db",
   "metadata": {},
   "source": [
    "Из 1000 представленных книг **819** была выпущена после 2000 года, это больше 81%."
   ]
  },
  {
   "cell_type": "code",
   "execution_count": 9,
   "id": "e29fd960",
   "metadata": {},
   "outputs": [
    {
     "data": {
      "text/html": [
       "<div>\n",
       "<style scoped>\n",
       "    .dataframe tbody tr th:only-of-type {\n",
       "        vertical-align: middle;\n",
       "    }\n",
       "\n",
       "    .dataframe tbody tr th {\n",
       "        vertical-align: top;\n",
       "    }\n",
       "\n",
       "    .dataframe thead th {\n",
       "        text-align: right;\n",
       "    }\n",
       "</style>\n",
       "<table border=\"1\" class=\"dataframe\">\n",
       "  <thead>\n",
       "    <tr style=\"text-align: right;\">\n",
       "      <th></th>\n",
       "      <th>title</th>\n",
       "      <th>count</th>\n",
       "      <th>round</th>\n",
       "    </tr>\n",
       "  </thead>\n",
       "  <tbody>\n",
       "    <tr>\n",
       "      <th>0</th>\n",
       "      <td>Disney's Beauty and the Beast (A Little Golden...</td>\n",
       "      <td>0</td>\n",
       "      <td>4.00</td>\n",
       "    </tr>\n",
       "    <tr>\n",
       "      <th>1</th>\n",
       "      <td>Leonardo's Notebooks</td>\n",
       "      <td>0</td>\n",
       "      <td>4.00</td>\n",
       "    </tr>\n",
       "    <tr>\n",
       "      <th>2</th>\n",
       "      <td>Anne Rice's The Vampire Lestat: A Graphic Novel</td>\n",
       "      <td>0</td>\n",
       "      <td>3.67</td>\n",
       "    </tr>\n",
       "    <tr>\n",
       "      <th>3</th>\n",
       "      <td>The Cat in the Hat and Other Dr. Seuss Favorites</td>\n",
       "      <td>0</td>\n",
       "      <td>5.00</td>\n",
       "    </tr>\n",
       "    <tr>\n",
       "      <th>4</th>\n",
       "      <td>Essential Tales and Poems</td>\n",
       "      <td>0</td>\n",
       "      <td>4.00</td>\n",
       "    </tr>\n",
       "    <tr>\n",
       "      <th>...</th>\n",
       "      <td>...</td>\n",
       "      <td>...</td>\n",
       "      <td>...</td>\n",
       "    </tr>\n",
       "    <tr>\n",
       "      <th>995</th>\n",
       "      <td>Harry Potter and the Chamber of Secrets (Harry...</td>\n",
       "      <td>6</td>\n",
       "      <td>4.29</td>\n",
       "    </tr>\n",
       "    <tr>\n",
       "      <th>996</th>\n",
       "      <td>The Road</td>\n",
       "      <td>6</td>\n",
       "      <td>3.77</td>\n",
       "    </tr>\n",
       "    <tr>\n",
       "      <th>997</th>\n",
       "      <td>Harry Potter and the Prisoner of Azkaban (Harr...</td>\n",
       "      <td>6</td>\n",
       "      <td>4.41</td>\n",
       "    </tr>\n",
       "    <tr>\n",
       "      <th>998</th>\n",
       "      <td>The Hobbit  or There and Back Again</td>\n",
       "      <td>6</td>\n",
       "      <td>4.13</td>\n",
       "    </tr>\n",
       "    <tr>\n",
       "      <th>999</th>\n",
       "      <td>Twilight (Twilight  #1)</td>\n",
       "      <td>7</td>\n",
       "      <td>3.66</td>\n",
       "    </tr>\n",
       "  </tbody>\n",
       "</table>\n",
       "<p>1000 rows × 3 columns</p>\n",
       "</div>"
      ],
      "text/plain": [
       "                                                 title  count  round\n",
       "0    Disney's Beauty and the Beast (A Little Golden...      0   4.00\n",
       "1                                 Leonardo's Notebooks      0   4.00\n",
       "2      Anne Rice's The Vampire Lestat: A Graphic Novel      0   3.67\n",
       "3     The Cat in the Hat and Other Dr. Seuss Favorites      0   5.00\n",
       "4                            Essential Tales and Poems      0   4.00\n",
       "..                                                 ...    ...    ...\n",
       "995  Harry Potter and the Chamber of Secrets (Harry...      6   4.29\n",
       "996                                           The Road      6   3.77\n",
       "997  Harry Potter and the Prisoner of Azkaban (Harr...      6   4.41\n",
       "998                The Hobbit  or There and Back Again      6   4.13\n",
       "999                            Twilight (Twilight  #1)      7   3.66\n",
       "\n",
       "[1000 rows x 3 columns]"
      ]
     },
     "execution_count": 9,
     "metadata": {},
     "output_type": "execute_result"
    }
   ],
   "source": [
    "#посчитаем количество обзоров и среднюю оценку для каждой книги\n",
    "sql(\n",
    "    \"\\\n",
    "    SELECT k.title,\\\n",
    "            k.count,\\\n",
    "            ROUND(AVG(t.rating),2)\\\n",
    "    FROM (SELECT b.title, b.book_id,\\\n",
    "           COUNT(r.review_id)\\\n",
    "    FROM books AS b LEFT JOIN reviews AS r ON b.book_id = r.book_id\\\n",
    "    GROUP BY b.title, b.book_id) AS k JOIN ratings AS t ON k.book_id = t.book_id\\\n",
    "    GROUP BY k.title, k.count\\\n",
    "    ORDER BY count\\\n",
    "    \"\n",
    ")"
   ]
  },
  {
   "cell_type": "markdown",
   "id": "b7aaeb9d",
   "metadata": {},
   "source": [
    "Взаимосвязи между количеством обзоров и средней пользовательской оценкой не обнаружено: даже при отсутствии обзоров оценка может максимальной (5.00), или чуть выше средней (3.66) несмотря на максимальное количество обзоров. "
   ]
  },
  {
   "cell_type": "code",
   "execution_count": 10,
   "id": "1b8fc66e",
   "metadata": {},
   "outputs": [
    {
     "data": {
      "text/html": [
       "<div>\n",
       "<style scoped>\n",
       "    .dataframe tbody tr th:only-of-type {\n",
       "        vertical-align: middle;\n",
       "    }\n",
       "\n",
       "    .dataframe tbody tr th {\n",
       "        vertical-align: top;\n",
       "    }\n",
       "\n",
       "    .dataframe thead th {\n",
       "        text-align: right;\n",
       "    }\n",
       "</style>\n",
       "<table border=\"1\" class=\"dataframe\">\n",
       "  <thead>\n",
       "    <tr style=\"text-align: right;\">\n",
       "      <th></th>\n",
       "      <th>publisher</th>\n",
       "    </tr>\n",
       "  </thead>\n",
       "  <tbody>\n",
       "    <tr>\n",
       "      <th>0</th>\n",
       "      <td>Penguin Books</td>\n",
       "    </tr>\n",
       "  </tbody>\n",
       "</table>\n",
       "</div>"
      ],
      "text/plain": [
       "       publisher\n",
       "0  Penguin Books"
      ]
     },
     "execution_count": 10,
     "metadata": {},
     "output_type": "execute_result"
    }
   ],
   "source": [
    "#определим, какое издательство выпустило больше всего книг (толще 50 страниц)\n",
    "sql(\n",
    "    'SELECT publisher\\\n",
    "    FROM (SELECT p.publisher,\\\n",
    "            COUNT(b.book_id) AS books_count\\\n",
    "    FROM books AS b LEFT JOIN publishers AS p ON b.publisher_id = p.publisher_id\\\n",
    "    WHERE b.num_pages > 50\\\n",
    "    GROUP BY p.publisher\\\n",
    "    ORDER BY COUNT(b.book_id) DESC\\\n",
    "    LIMIT 1) AS a'\n",
    ")"
   ]
  },
  {
   "cell_type": "markdown",
   "id": "a9658f18",
   "metadata": {},
   "source": [
    "Самым активным оказалось издательство **Penguin Books** с 42 выпущенными книгами."
   ]
  },
  {
   "cell_type": "code",
   "execution_count": 11,
   "id": "8e39e89b",
   "metadata": {
    "scrolled": true
   },
   "outputs": [
    {
     "data": {
      "text/html": [
       "<div>\n",
       "<style scoped>\n",
       "    .dataframe tbody tr th:only-of-type {\n",
       "        vertical-align: middle;\n",
       "    }\n",
       "\n",
       "    .dataframe tbody tr th {\n",
       "        vertical-align: top;\n",
       "    }\n",
       "\n",
       "    .dataframe thead th {\n",
       "        text-align: right;\n",
       "    }\n",
       "</style>\n",
       "<table border=\"1\" class=\"dataframe\">\n",
       "  <thead>\n",
       "    <tr style=\"text-align: right;\">\n",
       "      <th></th>\n",
       "      <th>author</th>\n",
       "      <th>avg_rating</th>\n",
       "    </tr>\n",
       "  </thead>\n",
       "  <tbody>\n",
       "    <tr>\n",
       "      <th>0</th>\n",
       "      <td>J.K. Rowling/Mary GrandPré</td>\n",
       "      <td>4.29</td>\n",
       "    </tr>\n",
       "  </tbody>\n",
       "</table>\n",
       "</div>"
      ],
      "text/plain": [
       "                       author  avg_rating\n",
       "0  J.K. Rowling/Mary GrandPré        4.29"
      ]
     },
     "execution_count": 11,
     "metadata": {},
     "output_type": "execute_result"
    }
   ],
   "source": [
    "#найдем автора с самой высокой средней оценкой книг (для книг, у которых 50 и более оценок)\n",
    "sql(\n",
    "    'WITH cnt AS (SELECT book_id\\\n",
    "                    FROM(SELECT b.book_id,\\\n",
    "                        COUNT(rating_id) AS rating_count\\\n",
    "                        FROM books AS b JOIN ratings AS r ON b.book_id = r.book_id\\\n",
    "                        GROUP BY b.book_id) AS f\\\n",
    "                        WHERE rating_count >=50)\\\n",
    "    SELECT author, avg_rating\\\n",
    "    FROM (SELECT author_id,\\\n",
    "                 ROUND(AVG(rating), 2) AS avg_rating\\\n",
    "            FROM cnt LEFT JOIN books AS b ON cnt.book_id = b.book_id LEFT JOIN ratings AS r ON b.book_id = r.book_id\\\n",
    "            GROUP BY author_id\\\n",
    "            ORDER BY AVG(rating) DESC\\\n",
    "            LIMIT 1) AS at LEFT JOIN authors AS a ON at.author_id = a.author_id'\n",
    ")\n"
   ]
  },
  {
   "cell_type": "markdown",
   "id": "0c1fbe40",
   "metadata": {},
   "source": [
    "Самым любимым автором стала **Джоан Роулинг** со средним рейтингом 4.3. "
   ]
  },
  {
   "cell_type": "code",
   "execution_count": 13,
   "id": "b729a7b8",
   "metadata": {},
   "outputs": [
    {
     "data": {
      "text/html": [
       "<div>\n",
       "<style scoped>\n",
       "    .dataframe tbody tr th:only-of-type {\n",
       "        vertical-align: middle;\n",
       "    }\n",
       "\n",
       "    .dataframe tbody tr th {\n",
       "        vertical-align: top;\n",
       "    }\n",
       "\n",
       "    .dataframe thead th {\n",
       "        text-align: right;\n",
       "    }\n",
       "</style>\n",
       "<table border=\"1\" class=\"dataframe\">\n",
       "  <thead>\n",
       "    <tr style=\"text-align: right;\">\n",
       "      <th></th>\n",
       "      <th>avg</th>\n",
       "    </tr>\n",
       "  </thead>\n",
       "  <tbody>\n",
       "    <tr>\n",
       "      <th>0</th>\n",
       "      <td>24.333333</td>\n",
       "    </tr>\n",
       "  </tbody>\n",
       "</table>\n",
       "</div>"
      ],
      "text/plain": [
       "         avg\n",
       "0  24.333333"
      ]
     },
     "execution_count": 13,
     "metadata": {},
     "output_type": "execute_result"
    }
   ],
   "source": [
    "#посчитаем среднее количество обзоров от пользователей, которые поставили больше 50 оценок\n",
    "sql(\n",
    "\"\\\n",
    "    SELECT AVG(count)\\\n",
    "    FROM (SELECT r.username, COUNT(review_id)\\\n",
    "    FROM reviews AS r\\\n",
    "    WHERE r.username IN (SELECT username\\\n",
    "                        FROM ratings\\\n",
    "                        GROUP BY username\\\n",
    "                        HAVING COUNT(rating)>50)\\\n",
    "    GROUP BY r.username) AS t\\\n",
    "\"\n",
    ")"
   ]
  },
  {
   "cell_type": "markdown",
   "id": "eddf99cf",
   "metadata": {},
   "source": [
    "В среднем активные пользователи обозревают около **24 - 25** книг."
   ]
  },
  {
   "cell_type": "markdown",
   "id": "58ee620a",
   "metadata": {},
   "source": [
    "## Выводы"
   ]
  },
  {
   "cell_type": "markdown",
   "id": "2d77bbb1",
   "metadata": {},
   "source": [
    "В ходе изучения данных не было выявлено необоснованных пропусков иявных дубликатов.\n",
    "\n",
    "Исходя из решенных задач были получены ответы на вопросы заказчиков и выявлены следующие данные:\n",
    "* **819 книг** была выпущена после 1 января 2000 года\n",
    "* **количество обзоров** и **средняя оценка** книг не коррелируют друг с другом\n",
    "* больше всего книг выпустило издательство **Penguin Books** (42 книги)\n",
    "* самая высокий средний рейтинг книг у **Джоан Роулинг** (4,3)\n",
    "* пользователи, которые поставили больше 50 оценок, имеют в среднем **24 - 25 обзоров**"
   ]
  }
 ],
 "metadata": {
  "ExecuteTimeLog": [
   {
    "duration": 8393,
    "start_time": "2022-12-21T22:17:18.963Z"
   },
   {
    "duration": 4,
    "start_time": "2022-12-21T22:17:27.359Z"
   },
   {
    "duration": 80,
    "start_time": "2022-12-21T22:17:27.365Z"
   },
   {
    "duration": 18,
    "start_time": "2022-12-21T22:17:27.448Z"
   },
   {
    "duration": 36,
    "start_time": "2022-12-21T22:17:27.468Z"
   },
   {
    "duration": 32,
    "start_time": "2022-12-21T22:17:27.506Z"
   },
   {
    "duration": 30,
    "start_time": "2022-12-21T22:17:27.539Z"
   },
   {
    "duration": 11,
    "start_time": "2022-12-21T22:17:27.570Z"
   },
   {
    "duration": 51,
    "start_time": "2022-12-21T22:17:27.583Z"
   },
   {
    "duration": 19,
    "start_time": "2022-12-21T22:17:27.636Z"
   },
   {
    "duration": 30,
    "start_time": "2022-12-21T22:17:27.657Z"
   },
   {
    "duration": 23,
    "start_time": "2022-12-21T22:17:27.689Z"
   },
   {
    "duration": 21,
    "start_time": "2022-12-21T22:17:27.714Z"
   },
   {
    "duration": 157,
    "start_time": "2022-12-21T22:19:17.448Z"
   },
   {
    "duration": 3,
    "start_time": "2022-12-21T22:20:01.678Z"
   },
   {
    "duration": 5,
    "start_time": "2022-12-21T22:20:08.450Z"
   },
   {
    "duration": 52,
    "start_time": "2022-12-21T22:20:17.094Z"
   },
   {
    "duration": 17,
    "start_time": "2022-12-21T22:22:45.964Z"
   },
   {
    "duration": 14,
    "start_time": "2022-12-21T22:22:48.492Z"
   },
   {
    "duration": 43,
    "start_time": "2022-12-21T22:33:29.696Z"
   },
   {
    "duration": 7890,
    "start_time": "2022-12-21T22:33:35.043Z"
   },
   {
    "duration": 3,
    "start_time": "2022-12-21T22:33:42.935Z"
   },
   {
    "duration": 68,
    "start_time": "2022-12-21T22:33:42.939Z"
   },
   {
    "duration": 17,
    "start_time": "2022-12-21T22:33:43.009Z"
   },
   {
    "duration": 19,
    "start_time": "2022-12-21T22:33:43.027Z"
   },
   {
    "duration": 30,
    "start_time": "2022-12-21T22:33:43.048Z"
   },
   {
    "duration": 23,
    "start_time": "2022-12-21T22:33:43.080Z"
   },
   {
    "duration": 26,
    "start_time": "2022-12-21T22:33:43.105Z"
   },
   {
    "duration": 22,
    "start_time": "2022-12-21T22:33:43.132Z"
   },
   {
    "duration": 9,
    "start_time": "2022-12-21T22:33:43.156Z"
   },
   {
    "duration": 10,
    "start_time": "2022-12-21T22:33:43.167Z"
   },
   {
    "duration": 14,
    "start_time": "2022-12-21T22:33:43.178Z"
   },
   {
    "duration": 12,
    "start_time": "2022-12-21T22:33:43.194Z"
   },
   {
    "duration": 151,
    "start_time": "2022-12-21T22:35:52.895Z"
   },
   {
    "duration": 11,
    "start_time": "2022-12-22T08:07:06.856Z"
   },
   {
    "duration": 6766,
    "start_time": "2022-12-22T08:07:12.432Z"
   },
   {
    "duration": 4,
    "start_time": "2022-12-22T08:07:19.200Z"
   },
   {
    "duration": 322,
    "start_time": "2022-12-22T08:07:19.206Z"
   },
   {
    "duration": 80,
    "start_time": "2022-12-22T08:07:19.529Z"
   },
   {
    "duration": 80,
    "start_time": "2022-12-22T08:07:19.611Z"
   },
   {
    "duration": 111,
    "start_time": "2022-12-22T08:07:19.692Z"
   },
   {
    "duration": 100,
    "start_time": "2022-12-22T08:07:19.804Z"
   },
   {
    "duration": 207,
    "start_time": "2022-12-22T08:07:19.906Z"
   },
   {
    "duration": 0,
    "start_time": "2022-12-22T08:07:20.115Z"
   },
   {
    "duration": 0,
    "start_time": "2022-12-22T08:07:20.117Z"
   },
   {
    "duration": 0,
    "start_time": "2022-12-22T08:07:20.118Z"
   },
   {
    "duration": 0,
    "start_time": "2022-12-22T08:07:20.120Z"
   },
   {
    "duration": 0,
    "start_time": "2022-12-22T08:07:20.121Z"
   },
   {
    "duration": 5,
    "start_time": "2022-12-22T08:08:36.917Z"
   },
   {
    "duration": 108,
    "start_time": "2022-12-22T08:08:39.494Z"
   },
   {
    "duration": 3,
    "start_time": "2022-12-22T08:08:48.962Z"
   },
   {
    "duration": 103,
    "start_time": "2022-12-22T08:08:50.411Z"
   },
   {
    "duration": 91,
    "start_time": "2022-12-22T08:09:21.304Z"
   },
   {
    "duration": 77,
    "start_time": "2022-12-22T08:09:29.063Z"
   },
   {
    "duration": 132,
    "start_time": "2022-12-22T08:10:17.668Z"
   },
   {
    "duration": 126,
    "start_time": "2022-12-22T08:10:20.380Z"
   },
   {
    "duration": 48,
    "start_time": "2022-12-22T08:16:53.602Z"
   },
   {
    "duration": 46,
    "start_time": "2022-12-22T08:21:07.645Z"
   },
   {
    "duration": 37,
    "start_time": "2022-12-22T08:21:37.225Z"
   },
   {
    "duration": 63,
    "start_time": "2022-12-22T08:21:45.047Z"
   },
   {
    "duration": 55,
    "start_time": "2022-12-22T08:22:07.070Z"
   },
   {
    "duration": 130,
    "start_time": "2022-12-22T08:22:20.747Z"
   },
   {
    "duration": 50,
    "start_time": "2022-12-22T08:22:59.716Z"
   },
   {
    "duration": 48,
    "start_time": "2022-12-22T08:23:09.105Z"
   },
   {
    "duration": 140,
    "start_time": "2022-12-22T08:23:16.958Z"
   },
   {
    "duration": 58,
    "start_time": "2022-12-22T08:24:25.579Z"
   },
   {
    "duration": 57,
    "start_time": "2022-12-22T08:24:46.991Z"
   },
   {
    "duration": 137,
    "start_time": "2022-12-22T08:25:00.709Z"
   },
   {
    "duration": 126,
    "start_time": "2022-12-22T08:25:37.001Z"
   },
   {
    "duration": 50,
    "start_time": "2022-12-22T08:26:02.254Z"
   },
   {
    "duration": 48,
    "start_time": "2022-12-22T08:26:29.111Z"
   },
   {
    "duration": 49,
    "start_time": "2022-12-22T08:26:44.342Z"
   },
   {
    "duration": 40,
    "start_time": "2022-12-22T08:28:31.735Z"
   },
   {
    "duration": 5394,
    "start_time": "2022-12-22T08:31:40.365Z"
   },
   {
    "duration": 3,
    "start_time": "2022-12-22T08:31:45.761Z"
   },
   {
    "duration": 270,
    "start_time": "2022-12-22T08:31:45.765Z"
   },
   {
    "duration": 77,
    "start_time": "2022-12-22T08:31:46.037Z"
   },
   {
    "duration": 77,
    "start_time": "2022-12-22T08:31:46.116Z"
   },
   {
    "duration": 109,
    "start_time": "2022-12-22T08:31:46.194Z"
   },
   {
    "duration": 96,
    "start_time": "2022-12-22T08:31:46.305Z"
   },
   {
    "duration": 56,
    "start_time": "2022-12-22T08:31:46.403Z"
   },
   {
    "duration": 0,
    "start_time": "2022-12-22T08:31:46.461Z"
   },
   {
    "duration": 0,
    "start_time": "2022-12-22T08:31:46.462Z"
   },
   {
    "duration": 0,
    "start_time": "2022-12-22T08:31:46.463Z"
   },
   {
    "duration": 0,
    "start_time": "2022-12-22T08:31:46.464Z"
   },
   {
    "duration": 0,
    "start_time": "2022-12-22T08:31:46.465Z"
   },
   {
    "duration": 55,
    "start_time": "2022-12-22T08:34:17.579Z"
   },
   {
    "duration": 198,
    "start_time": "2022-12-22T08:34:35.790Z"
   },
   {
    "duration": 130,
    "start_time": "2022-12-22T08:35:08.845Z"
   },
   {
    "duration": 126,
    "start_time": "2022-12-22T08:35:13.141Z"
   },
   {
    "duration": 127,
    "start_time": "2022-12-22T08:36:37.052Z"
   },
   {
    "duration": 129,
    "start_time": "2022-12-22T08:36:55.822Z"
   },
   {
    "duration": 143,
    "start_time": "2022-12-22T08:37:35.292Z"
   },
   {
    "duration": 71,
    "start_time": "2022-12-22T08:39:43.534Z"
   },
   {
    "duration": 95,
    "start_time": "2022-12-22T08:43:01.753Z"
   },
   {
    "duration": 96,
    "start_time": "2022-12-22T08:43:52.034Z"
   },
   {
    "duration": 93,
    "start_time": "2022-12-22T08:44:17.992Z"
   },
   {
    "duration": 53,
    "start_time": "2022-12-22T09:09:35.108Z"
   },
   {
    "duration": 81,
    "start_time": "2022-12-22T09:09:38.743Z"
   },
   {
    "duration": 92,
    "start_time": "2022-12-22T09:10:42.961Z"
   },
   {
    "duration": 107,
    "start_time": "2022-12-22T09:12:08.872Z"
   },
   {
    "duration": 107,
    "start_time": "2022-12-22T09:12:22.331Z"
   },
   {
    "duration": 104,
    "start_time": "2022-12-22T09:12:44.704Z"
   },
   {
    "duration": 111,
    "start_time": "2022-12-22T09:12:54.715Z"
   },
   {
    "duration": 76,
    "start_time": "2022-12-22T10:00:29.019Z"
   },
   {
    "duration": 131,
    "start_time": "2022-12-22T10:00:32.112Z"
   },
   {
    "duration": 99,
    "start_time": "2022-12-22T10:00:46.556Z"
   },
   {
    "duration": 41,
    "start_time": "2022-12-22T10:01:15.848Z"
   },
   {
    "duration": 129,
    "start_time": "2022-12-22T10:01:23.064Z"
   },
   {
    "duration": 75,
    "start_time": "2022-12-22T10:01:38.305Z"
   },
   {
    "duration": 121,
    "start_time": "2022-12-22T10:02:01.002Z"
   },
   {
    "duration": 104,
    "start_time": "2022-12-22T10:04:31.679Z"
   },
   {
    "duration": 104,
    "start_time": "2022-12-22T10:04:52.420Z"
   },
   {
    "duration": 44,
    "start_time": "2022-12-22T10:05:10.168Z"
   },
   {
    "duration": 106,
    "start_time": "2022-12-22T10:05:13.417Z"
   },
   {
    "duration": 218,
    "start_time": "2022-12-22T10:18:42.199Z"
   },
   {
    "duration": 141,
    "start_time": "2022-12-22T10:19:05.900Z"
   },
   {
    "duration": 101,
    "start_time": "2022-12-22T10:19:30.528Z"
   },
   {
    "duration": 100,
    "start_time": "2022-12-22T10:19:45.036Z"
   },
   {
    "duration": 101,
    "start_time": "2022-12-22T10:22:58.741Z"
   },
   {
    "duration": 103,
    "start_time": "2022-12-22T10:23:12.533Z"
   },
   {
    "duration": 76,
    "start_time": "2022-12-22T10:24:21.709Z"
   },
   {
    "duration": 76,
    "start_time": "2022-12-22T10:24:45.471Z"
   },
   {
    "duration": 77,
    "start_time": "2022-12-22T10:27:01.902Z"
   },
   {
    "duration": 2,
    "start_time": "2022-12-22T10:27:20.474Z"
   },
   {
    "duration": 53,
    "start_time": "2022-12-22T10:40:37.600Z"
   },
   {
    "duration": 72,
    "start_time": "2022-12-22T10:40:41.064Z"
   },
   {
    "duration": 50,
    "start_time": "2022-12-22T10:40:56.389Z"
   },
   {
    "duration": 73,
    "start_time": "2022-12-22T10:40:59.158Z"
   },
   {
    "duration": 76,
    "start_time": "2022-12-22T10:41:48.767Z"
   },
   {
    "duration": 119,
    "start_time": "2022-12-22T10:42:49.512Z"
   },
   {
    "duration": 75,
    "start_time": "2022-12-22T10:43:09.105Z"
   },
   {
    "duration": 51,
    "start_time": "2022-12-22T10:43:50.279Z"
   },
   {
    "duration": 75,
    "start_time": "2022-12-22T10:43:53.111Z"
   },
   {
    "duration": 53,
    "start_time": "2022-12-22T10:46:08.477Z"
   },
   {
    "duration": 73,
    "start_time": "2022-12-22T10:46:10.656Z"
   },
   {
    "duration": 136,
    "start_time": "2022-12-22T10:51:50.915Z"
   },
   {
    "duration": 126,
    "start_time": "2022-12-22T10:52:05.507Z"
   },
   {
    "duration": 72,
    "start_time": "2022-12-22T10:52:15.765Z"
   },
   {
    "duration": 72,
    "start_time": "2022-12-22T10:53:10.366Z"
   },
   {
    "duration": 72,
    "start_time": "2022-12-22T10:53:27.639Z"
   },
   {
    "duration": 5652,
    "start_time": "2022-12-22T10:54:34.172Z"
   },
   {
    "duration": 3,
    "start_time": "2022-12-22T10:54:39.826Z"
   },
   {
    "duration": 304,
    "start_time": "2022-12-22T10:54:39.830Z"
   },
   {
    "duration": 80,
    "start_time": "2022-12-22T10:54:40.137Z"
   },
   {
    "duration": 80,
    "start_time": "2022-12-22T10:54:40.218Z"
   },
   {
    "duration": 105,
    "start_time": "2022-12-22T10:54:40.299Z"
   },
   {
    "duration": 96,
    "start_time": "2022-12-22T10:54:40.405Z"
   },
   {
    "duration": 70,
    "start_time": "2022-12-22T10:54:40.503Z"
   },
   {
    "duration": 86,
    "start_time": "2022-12-22T10:54:40.575Z"
   },
   {
    "duration": 72,
    "start_time": "2022-12-22T10:54:40.663Z"
   },
   {
    "duration": 77,
    "start_time": "2022-12-22T10:54:40.736Z"
   },
   {
    "duration": 75,
    "start_time": "2022-12-22T10:54:40.815Z"
   },
   {
    "duration": 5700,
    "start_time": "2022-12-22T15:18:30.648Z"
   },
   {
    "duration": 4,
    "start_time": "2022-12-22T15:18:36.350Z"
   },
   {
    "duration": 397,
    "start_time": "2022-12-22T15:18:36.355Z"
   },
   {
    "duration": 85,
    "start_time": "2022-12-22T15:18:36.754Z"
   },
   {
    "duration": 84,
    "start_time": "2022-12-22T15:18:36.841Z"
   },
   {
    "duration": 122,
    "start_time": "2022-12-22T15:18:36.927Z"
   },
   {
    "duration": 103,
    "start_time": "2022-12-22T15:18:37.051Z"
   },
   {
    "duration": 78,
    "start_time": "2022-12-22T15:18:37.156Z"
   },
   {
    "duration": 88,
    "start_time": "2022-12-22T15:18:37.236Z"
   },
   {
    "duration": 77,
    "start_time": "2022-12-22T15:18:37.327Z"
   },
   {
    "duration": 82,
    "start_time": "2022-12-22T15:18:37.405Z"
   },
   {
    "duration": 78,
    "start_time": "2022-12-22T15:18:37.489Z"
   },
   {
    "duration": 46,
    "start_time": "2022-12-22T20:34:05.924Z"
   },
   {
    "duration": 4948,
    "start_time": "2022-12-22T20:34:26.436Z"
   },
   {
    "duration": 3,
    "start_time": "2022-12-22T20:34:31.386Z"
   },
   {
    "duration": 303,
    "start_time": "2022-12-22T20:34:31.391Z"
   },
   {
    "duration": 80,
    "start_time": "2022-12-22T20:34:31.696Z"
   },
   {
    "duration": 80,
    "start_time": "2022-12-22T20:34:31.777Z"
   },
   {
    "duration": 104,
    "start_time": "2022-12-22T20:34:31.859Z"
   },
   {
    "duration": 98,
    "start_time": "2022-12-22T20:34:31.964Z"
   },
   {
    "duration": 73,
    "start_time": "2022-12-22T20:34:32.064Z"
   },
   {
    "duration": 83,
    "start_time": "2022-12-22T20:34:32.138Z"
   },
   {
    "duration": 73,
    "start_time": "2022-12-22T20:34:32.223Z"
   },
   {
    "duration": 79,
    "start_time": "2022-12-22T20:34:32.297Z"
   },
   {
    "duration": 88,
    "start_time": "2022-12-22T20:34:32.378Z"
   },
   {
    "duration": 103,
    "start_time": "2022-12-22T20:36:43.428Z"
   },
   {
    "duration": 104,
    "start_time": "2022-12-22T20:36:48.332Z"
   },
   {
    "duration": 77,
    "start_time": "2022-12-22T22:28:48.719Z"
   },
   {
    "duration": 219,
    "start_time": "2022-12-22T22:30:21.439Z"
   },
   {
    "duration": 139,
    "start_time": "2022-12-22T22:30:27.419Z"
   },
   {
    "duration": 88,
    "start_time": "2022-12-22T22:30:45.463Z"
   },
   {
    "duration": 126,
    "start_time": "2022-12-22T22:32:47.295Z"
   },
   {
    "duration": 80,
    "start_time": "2022-12-22T22:32:50.739Z"
   },
   {
    "duration": 143,
    "start_time": "2022-12-22T22:33:32.452Z"
   },
   {
    "duration": 166,
    "start_time": "2022-12-22T22:33:48.354Z"
   },
   {
    "duration": 85,
    "start_time": "2022-12-22T22:34:23.066Z"
   },
   {
    "duration": 131,
    "start_time": "2022-12-22T22:34:53.802Z"
   },
   {
    "duration": 94,
    "start_time": "2022-12-22T22:35:03.982Z"
   },
   {
    "duration": 76,
    "start_time": "2022-12-22T22:35:12.265Z"
   },
   {
    "duration": 55,
    "start_time": "2022-12-22T23:29:57.683Z"
   },
   {
    "duration": 44,
    "start_time": "2022-12-22T23:30:02.681Z"
   },
   {
    "duration": 5336,
    "start_time": "2022-12-22T23:30:07.372Z"
   },
   {
    "duration": 4,
    "start_time": "2022-12-22T23:30:12.710Z"
   },
   {
    "duration": 323,
    "start_time": "2022-12-22T23:30:12.715Z"
   },
   {
    "duration": 79,
    "start_time": "2022-12-22T23:30:13.041Z"
   },
   {
    "duration": 81,
    "start_time": "2022-12-22T23:30:13.122Z"
   },
   {
    "duration": 102,
    "start_time": "2022-12-22T23:30:13.205Z"
   },
   {
    "duration": 104,
    "start_time": "2022-12-22T23:30:13.309Z"
   },
   {
    "duration": 75,
    "start_time": "2022-12-22T23:30:13.415Z"
   },
   {
    "duration": 82,
    "start_time": "2022-12-22T23:30:13.492Z"
   },
   {
    "duration": 72,
    "start_time": "2022-12-22T23:30:13.576Z"
   },
   {
    "duration": 76,
    "start_time": "2022-12-22T23:30:13.649Z"
   },
   {
    "duration": 73,
    "start_time": "2022-12-22T23:30:13.727Z"
   },
   {
    "duration": 74,
    "start_time": "2022-12-22T23:30:19.973Z"
   },
   {
    "duration": 81,
    "start_time": "2022-12-22T23:31:01.790Z"
   },
   {
    "duration": 73,
    "start_time": "2022-12-22T23:31:29.334Z"
   },
   {
    "duration": 47,
    "start_time": "2022-12-23T07:16:24.070Z"
   },
   {
    "duration": 6683,
    "start_time": "2022-12-23T07:16:29.534Z"
   },
   {
    "duration": 4,
    "start_time": "2022-12-23T07:16:36.219Z"
   },
   {
    "duration": 337,
    "start_time": "2022-12-23T07:16:36.225Z"
   },
   {
    "duration": 85,
    "start_time": "2022-12-23T07:16:36.564Z"
   },
   {
    "duration": 85,
    "start_time": "2022-12-23T07:16:36.651Z"
   },
   {
    "duration": 112,
    "start_time": "2022-12-23T07:16:36.738Z"
   },
   {
    "duration": 100,
    "start_time": "2022-12-23T07:16:36.852Z"
   },
   {
    "duration": 75,
    "start_time": "2022-12-23T07:16:36.954Z"
   },
   {
    "duration": 89,
    "start_time": "2022-12-23T07:16:37.031Z"
   },
   {
    "duration": 77,
    "start_time": "2022-12-23T07:16:37.122Z"
   },
   {
    "duration": 83,
    "start_time": "2022-12-23T07:16:37.201Z"
   },
   {
    "duration": 79,
    "start_time": "2022-12-23T07:16:37.285Z"
   },
   {
    "duration": 91,
    "start_time": "2022-12-23T07:32:08.063Z"
   }
  ],
  "kernelspec": {
   "display_name": "Python 3 (ipykernel)",
   "language": "python",
   "name": "python3"
  },
  "language_info": {
   "codemirror_mode": {
    "name": "ipython",
    "version": 3
   },
   "file_extension": ".py",
   "mimetype": "text/x-python",
   "name": "python",
   "nbconvert_exporter": "python",
   "pygments_lexer": "ipython3",
   "version": "3.9.13"
  },
  "toc": {
   "base_numbering": 1,
   "nav_menu": {},
   "number_sections": true,
   "sideBar": false,
   "skip_h1_title": true,
   "title_cell": "Table of Contents",
   "title_sidebar": "Contents",
   "toc_cell": false,
   "toc_position": {
    "height": "calc(100% - 180px)",
    "left": "10px",
    "top": "150px",
    "width": "165px"
   },
   "toc_section_display": true,
   "toc_window_display": false
  }
 },
 "nbformat": 4,
 "nbformat_minor": 5
}
