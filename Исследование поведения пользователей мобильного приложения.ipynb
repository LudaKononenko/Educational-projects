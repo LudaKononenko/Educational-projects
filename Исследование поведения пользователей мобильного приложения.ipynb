{
 "cells": [
  {
   "cell_type": "markdown",
   "metadata": {},
   "source": [
    "# Исследование поведения пользователей мобильного приложения "
   ]
  },
  {
   "cell_type": "markdown",
   "metadata": {},
   "source": [
    "**Заказчик:** стартап, который продает продукты питания.\n",
    "\n",
    "**Цель:** изучить логику поведения пользователей и решить, стоит ли менять все шрифты в мобильном приложении. \n",
    "\n",
    "**Гипотеза:** изменение всех шрифтов в мобильном приложении повысит прибыль от покупок. \n",
    "\n",
    "**Ход исследования:**\n",
    "1. Обзор и предобработка данных\n",
    "2. Изучение имеющейся информации о клиентах и их действиях\n",
    "3. Анализ воронки продаж\n",
    "4. Анализ результатов A/B тестирования\n",
    "5. Формулировка выводов и рекомендаций"
   ]
  },
  {
   "cell_type": "markdown",
   "metadata": {},
   "source": [
    "## Обзор и предобработка данных"
   ]
  },
  {
   "cell_type": "code",
   "execution_count": 1,
   "metadata": {},
   "outputs": [],
   "source": [
    "import pandas as pd\n",
    "import matplotlib.pyplot as plt\n",
    "import scipy.stats as stats\n",
    "import math as mth\n",
    "import datetime as dt\n",
    "import numpy as np"
   ]
  },
  {
   "cell_type": "code",
   "execution_count": 2,
   "metadata": {},
   "outputs": [
    {
     "name": "stdout",
     "output_type": "stream",
     "text": [
      "<class 'pandas.core.frame.DataFrame'>\n",
      "RangeIndex: 244126 entries, 0 to 244125\n",
      "Data columns (total 4 columns):\n",
      " #   Column          Non-Null Count   Dtype \n",
      "---  ------          --------------   ----- \n",
      " 0   EventName       244126 non-null  object\n",
      " 1   DeviceIDHash    244126 non-null  int64 \n",
      " 2   EventTimestamp  244126 non-null  int64 \n",
      " 3   ExpId           244126 non-null  int64 \n",
      "dtypes: int64(3), object(1)\n",
      "memory usage: 7.5+ MB\n"
     ]
    },
    {
     "data": {
      "text/html": [
       "<div>\n",
       "<style scoped>\n",
       "    .dataframe tbody tr th:only-of-type {\n",
       "        vertical-align: middle;\n",
       "    }\n",
       "\n",
       "    .dataframe tbody tr th {\n",
       "        vertical-align: top;\n",
       "    }\n",
       "\n",
       "    .dataframe thead th {\n",
       "        text-align: right;\n",
       "    }\n",
       "</style>\n",
       "<table border=\"1\" class=\"dataframe\">\n",
       "  <thead>\n",
       "    <tr style=\"text-align: right;\">\n",
       "      <th></th>\n",
       "      <th>event_name</th>\n",
       "      <th>user_id</th>\n",
       "      <th>date</th>\n",
       "      <th>group</th>\n",
       "      <th>datetime</th>\n",
       "    </tr>\n",
       "  </thead>\n",
       "  <tbody>\n",
       "    <tr>\n",
       "      <th>0</th>\n",
       "      <td>MainScreenAppear</td>\n",
       "      <td>4575588528974610257</td>\n",
       "      <td>2019-07-25</td>\n",
       "      <td>246</td>\n",
       "      <td>2019-07-25 04:43:36</td>\n",
       "    </tr>\n",
       "    <tr>\n",
       "      <th>1</th>\n",
       "      <td>MainScreenAppear</td>\n",
       "      <td>7416695313311560658</td>\n",
       "      <td>2019-07-25</td>\n",
       "      <td>246</td>\n",
       "      <td>2019-07-25 11:11:42</td>\n",
       "    </tr>\n",
       "    <tr>\n",
       "      <th>2</th>\n",
       "      <td>PaymentScreenSuccessful</td>\n",
       "      <td>3518123091307005509</td>\n",
       "      <td>2019-07-25</td>\n",
       "      <td>248</td>\n",
       "      <td>2019-07-25 11:28:47</td>\n",
       "    </tr>\n",
       "    <tr>\n",
       "      <th>3</th>\n",
       "      <td>CartScreenAppear</td>\n",
       "      <td>3518123091307005509</td>\n",
       "      <td>2019-07-25</td>\n",
       "      <td>248</td>\n",
       "      <td>2019-07-25 11:28:47</td>\n",
       "    </tr>\n",
       "    <tr>\n",
       "      <th>4</th>\n",
       "      <td>PaymentScreenSuccessful</td>\n",
       "      <td>6217807653094995999</td>\n",
       "      <td>2019-07-25</td>\n",
       "      <td>248</td>\n",
       "      <td>2019-07-25 11:48:42</td>\n",
       "    </tr>\n",
       "  </tbody>\n",
       "</table>\n",
       "</div>"
      ],
      "text/plain": [
       "                event_name              user_id       date  group  \\\n",
       "0         MainScreenAppear  4575588528974610257 2019-07-25    246   \n",
       "1         MainScreenAppear  7416695313311560658 2019-07-25    246   \n",
       "2  PaymentScreenSuccessful  3518123091307005509 2019-07-25    248   \n",
       "3         CartScreenAppear  3518123091307005509 2019-07-25    248   \n",
       "4  PaymentScreenSuccessful  6217807653094995999 2019-07-25    248   \n",
       "\n",
       "             datetime  \n",
       "0 2019-07-25 04:43:36  \n",
       "1 2019-07-25 11:11:42  \n",
       "2 2019-07-25 11:28:47  \n",
       "3 2019-07-25 11:28:47  \n",
       "4 2019-07-25 11:48:42  "
      ]
     },
     "execution_count": 2,
     "metadata": {},
     "output_type": "execute_result"
    }
   ],
   "source": [
    "data = pd.read_csv('/datasets/logs_exp.csv', sep='\\t')\n",
    "\n",
    "data.info()\n",
    "\n",
    "#переименуем столбцы для удобства\n",
    "data= data.rename(columns = {'EventName':'event_name', 'DeviceIDHash': 'user_id', 'EventTimestamp':'date', 'ExpId':'group'})\n",
    "\n",
    "#приведем дату к нужному формату и разобьем столбец с датой на два: со временем и без\n",
    "data['datetime'] = pd.to_datetime(data['date'], unit='s')\n",
    "data['date'] = pd.to_datetime(data['date'], unit='s').dt.floor('1D')\n",
    "\n",
    "data.head()"
   ]
  },
  {
   "cell_type": "code",
   "execution_count": 3,
   "metadata": {},
   "outputs": [
    {
     "name": "stdout",
     "output_type": "stream",
     "text": [
      "<class 'pandas.core.frame.DataFrame'>\n",
      "RangeIndex: 243713 entries, 0 to 243712\n",
      "Data columns (total 6 columns):\n",
      " #   Column      Non-Null Count   Dtype         \n",
      "---  ------      --------------   -----         \n",
      " 0   index       243713 non-null  int64         \n",
      " 1   event_name  243713 non-null  object        \n",
      " 2   user_id     243713 non-null  int64         \n",
      " 3   date        243713 non-null  datetime64[ns]\n",
      " 4   group       243713 non-null  int64         \n",
      " 5   datetime    243713 non-null  datetime64[ns]\n",
      "dtypes: datetime64[ns](2), int64(3), object(1)\n",
      "memory usage: 11.2+ MB\n"
     ]
    }
   ],
   "source": [
    "#проверяем и удаляем дубликаты, обновляем индексы, чтобы не путаться\n",
    "data.duplicated().value_counts()\n",
    "data = data.drop_duplicates().reset_index()\n",
    "\n",
    "data.info()"
   ]
  },
  {
   "cell_type": "markdown",
   "metadata": {},
   "source": [
    "**Выводы:**\n",
    "Данных достаточно много для исследования (более **244 тысяч** строк), в них входят id пользователей, их разбивка на три группы (две контрольные и одна экспериментальная), а также каждое совершенное пользователем событие и его время. \n",
    "\n",
    "Удалили несколько дублирующих строк (0,1% данных), поменяли для удобства названия столбцов, привели даты к нужному формату и разделили их на два столбца: просто дата и дата вместе с временем. "
   ]
  },
  {
   "cell_type": "markdown",
   "metadata": {},
   "source": [
    "## Изучение данных о пользователях и их действиях"
   ]
  },
  {
   "cell_type": "code",
   "execution_count": 137,
   "metadata": {},
   "outputs": [
    {
     "name": "stdout",
     "output_type": "stream",
     "text": [
      "Всего событий: 240887\n",
      "\n",
      "Количество пользователей: 7534\n",
      "\n",
      "Среднее число событий на пользователя: 32\n",
      "В разбивке по событиям:\n",
      "MainScreenAppear           15.57\n",
      "OffersScreenAppear          6.15\n",
      "CartScreenAppear            5.61\n",
      "PaymentScreenSuccessful     4.50\n",
      "Tutorial                    0.13\n",
      "Name: event_name, dtype: float64\n"
     ]
    },
    {
     "data": {
      "image/png": "[encoded data removed]",
      "text/plain": [
       "<Figure size 432x288 with 1 Axes>"
      ]
     },
     "metadata": {
      "needs_background": "light"
     },
     "output_type": "display_data"
    }
   ],
   "source": [
    "#посмотрим, сколько всего событий произошло за исследуемый период\n",
    "print('Всего событий:',data['event_name'].count())\n",
    "data['event_name'].value_counts()\n",
    "print('')\n",
    "\n",
    "#оценим количество пользователей\n",
    "print('Количество пользователей:',data['user_id'].nunique())\n",
    "print('')\n",
    "\n",
    "#сколько событий в среднем совершают пользователи\n",
    "print('Среднее число событий на пользователя:', round(data['event_name'].count()/data['user_id'].nunique()))\n",
    "print('В разбивке по событиям:')\n",
    "print(round(data['event_name'].value_counts()/data['user_id'].nunique(),2))\n",
    "\n",
    "#посмотрим на соотношение количества событий и пользователей\n",
    "data.groupby('user_id')['event_name'].count().sort_values(ascending = False).hist(bins = 200)\n",
    "plt.title('Распределение количества событий по участникам')\n",
    "plt.xlabel('Пользователи')\n",
    "plt.ylabel('События')\n",
    "plt.show()"
   ]
  },
  {
   "cell_type": "code",
   "execution_count": 5,
   "metadata": {},
   "outputs": [
    {
     "name": "stdout",
     "output_type": "stream",
     "text": [
      "Дата начала тестирования: 2019-07-25 00:00:00\n",
      "Дата окончания тестирования: 2019-08-07 00:00:00\n"
     ]
    },
    {
     "data": {
      "image/png": "[encoded data removed]",
      "text/plain": [
       "<Figure size 432x288 with 1 Axes>"
      ]
     },
     "metadata": {
      "needs_background": "light"
     },
     "output_type": "display_data"
    },
    {
     "name": "stdout",
     "output_type": "stream",
     "text": [
      "Количество событий после очистки данных: 240887\n",
      "Количество пользователей после очистки данных: 7534\n"
     ]
    },
    {
     "data": {
      "text/plain": [
       "248    84563\n",
       "246    79302\n",
       "247    77022\n",
       "Name: group, dtype: int64"
      ]
     },
     "execution_count": 5,
     "metadata": {},
     "output_type": "execute_result"
    }
   ],
   "source": [
    "#проверим, данными за какой период мы располагаем\n",
    "print('Дата начала тестирования:',data['date'].min())\n",
    "print('Дата окончания тестирования:',data['date'].max())\n",
    "\n",
    "#посмотрим на графики \n",
    "data['datetime'].hist(bins=168)\n",
    "plt.xticks(rotation = 'vertical')\n",
    "plt.title('Количество событий за рассматриваемый период')\n",
    "plt.xlabel('Дата')\n",
    "plt.ylabel('Количество событий')\n",
    "plt.show()\n",
    "\n",
    "#данных до 1 августа совсем мало по сравнению с остальной неделей, \n",
    "#поэтому можем убрать их: они дадут слишком мало полезных выводов\n",
    "data = data.query('date >= \"2019-08-01\"')\n",
    "\n",
    "#проверим, сколько данных у нас осталось после таких манипуляций\n",
    "print('Количество событий после очистки данных:',data['event_name'].count())\n",
    "print('Количество пользователей после очистки данных:',data['user_id'].nunique())\n",
    "\n",
    "#проверим, что у нас остались пользователи всех трех групп\n",
    "data['group'].value_counts()"
   ]
  },
  {
   "cell_type": "markdown",
   "metadata": {},
   "source": [
    "**Выводы:**\n",
    "\n",
    "У нас есть **пять видов** событий: \n",
    "1. Открытие главного экрана - 119 тысяч раз\n",
    "2. Выбор товара/открытие страницы с предложением - 46,8 тысяч раз\n",
    "3. Просмотр корзины - 42,6 тысячи раз\n",
    "4. Успешное проведение оплаты - 34 тысячи раз\n",
    "5. Обучение/инструкция - 1 тысячу раз\n",
    "\n",
    "Тестирование проводилось с участием **7551** пользователя. \n",
    "\n",
    "В среднем каждый из них:\n",
    "* 15 раз заходит на главную страницу \n",
    "* 6 раз открывает страницу продукта\n",
    "* 5 раз открывает корзину\n",
    "* 4 раза оплачивает товары\n",
    "* 0 раз проходит обучение \n",
    "\n",
    "То есть всего в среднем - **32** события на человека.\n",
    "\n",
    "Данные представлены за период с 25 июля по 7 августа 2019 года. Так как значительных данных до 1 августа очень мало, отбросили их и оставили неделю наблюдений: **с 1 по 7 августа** влючительно. Учитывая, что это приложение для заказа продуктов питания, неделя - адекватный период для исследований, так как в большинстве случаев людям не нужно обдумывать такой заказ несколько дней/недель.   \n",
    "\n",
    "После удаления данных у нас осталось: **7534** пользователя (убрали **0,2%** пользователей) и **240,8 тысяч** событий (убрали **1,1%** событий).\n"
   ]
  },
  {
   "cell_type": "markdown",
   "metadata": {},
   "source": [
    "## Анализ воронки событий"
   ]
  },
  {
   "cell_type": "code",
   "execution_count": 6,
   "metadata": {
    "scrolled": false
   },
   "outputs": [
    {
     "name": "stdout",
     "output_type": "stream",
     "text": [
      "            user_id\n",
      "date               \n",
      "2019-08-01     3703\n",
      "2019-08-02     3647\n",
      "2019-08-03     3482\n",
      "2019-08-04     3527\n",
      "2019-08-05     3802\n",
      "2019-08-06     3922\n",
      "2019-08-07     3651\n"
     ]
    },
    {
     "data": {
      "image/png": "[encoded data removed]",
      "text/plain": [
       "<Figure size 432x288 with 1 Axes>"
      ]
     },
     "metadata": {
      "needs_background": "light"
     },
     "output_type": "display_data"
    }
   ],
   "source": [
    "# вычисляем количесвто людей, совершавших какие-либо действия по дням:\n",
    "print(data.groupby('date').agg({'user_id': 'nunique'}))\n",
    "\n",
    "data.groupby('date').agg({'user_id': 'nunique'}).plot()\n",
    "plt.title('Количество пользователей по дням')\n",
    "plt.xlabel('Дата')\n",
    "plt.ylabel('Количество человек')\n",
    "plt.show()"
   ]
  },
  {
   "cell_type": "markdown",
   "metadata": {},
   "source": [
    "Заметно, что в середине недели количество людей резко падает, а к концу - снова растет. В последний день количество посетителей снова уменьшается, однако это может быть связано с неполными данными за последний день (если, например, логи собираются не день в день). \n",
    "\n",
    "3 и 4 августа 2019 года - выходные, самый пик пришелся на вторник. Вероятно, в выходные люди предпочитают прогуляться в магазин или на рынок за продуктами самостоятельно. Однако для проверки этой гипотезы нужны данные за несколько недель."
   ]
  },
  {
   "cell_type": "code",
   "execution_count": 7,
   "metadata": {},
   "outputs": [
    {
     "name": "stdout",
     "output_type": "stream",
     "text": [
      "Количество пользователей в каждом событии\n",
      "event_name\n",
      "MainScreenAppear           7419\n",
      "OffersScreenAppear         4593\n",
      "CartScreenAppear           3734\n",
      "PaymentScreenSuccessful    3539\n",
      "Tutorial                    840\n",
      "Name: user_id, dtype: int64\n"
     ]
    },
    {
     "data": {
      "image/png": "[encoded data removed]",
      "text/plain": [
       "<Figure size 432x288 with 1 Axes>"
      ]
     },
     "metadata": {
      "needs_background": "light"
     },
     "output_type": "display_data"
    }
   ],
   "source": [
    "#узнаем, сколько пользоватаелей совершали каждое из событий \n",
    "users_cnt = data.groupby('event_name')['user_id'].nunique().sort_values(ascending = False)\n",
    "\n",
    "print('Количество пользователей в каждом событии')\n",
    "print(users_cnt)\n",
    "\n",
    "data.pivot_table(index = 'date', columns = 'event_name', values = 'user_id', aggfunc = 'count').plot()\n",
    "plt.title('Количество человек, совершивших событие')\n",
    "plt.xlabel('Дата')\n",
    "plt.ylabel('Количество человек')\n",
    "plt.show()"
   ]
  },
  {
   "cell_type": "markdown",
   "metadata": {},
   "source": [
    "На первый взгляд, воронка продаж выглядит так: Главный экран --> Страница продукта --> Корзина --> Оплата заказа.  \n",
    "Страница обучения не обязательна.\n",
    "\n",
    "По графику видно, что самое частое действие - посещение Главной страницы, однако выглядит так, что оно необязательно для совершения покупки (т.к. колебания этого события не отражаются на других). Самое редкое - обучение, тут может быть два варианта: либо приложение настолько понятное, что инструкции практически не требуются, либо есть какая-то проблема с этой страницей (не открывается/неудобный шрифт/не отвечает на нужный вопрос и т.д.)\n",
    "\n",
    "Для бизнеса самой главной метрикой из этих является оплата покупки (красная линия на графике), которая практически полностью стабильна в течение недели. "
   ]
  },
  {
   "cell_type": "code",
   "execution_count": 8,
   "metadata": {},
   "outputs": [
    {
     "name": "stdout",
     "output_type": "stream",
     "text": [
      "Какая доля всех пользователей совершили действие:\n",
      "event_name\n",
      "MainScreenAppear           98.47\n",
      "OffersScreenAppear         60.96\n",
      "CartScreenAppear           49.56\n",
      "PaymentScreenSuccessful    46.97\n",
      "Tutorial                   11.15\n",
      "Name: user_id, dtype: float64\n",
      "\n",
      "Конверсия пользователей по этапам:\n",
      "event_name\n",
      "MainScreenAppear           98.47\n",
      "OffersScreenAppear         61.91\n",
      "CartScreenAppear           81.30\n",
      "PaymentScreenSuccessful    94.78\n",
      "Tutorial                   23.74\n",
      "Name: user_id, dtype: float64\n",
      "\n",
      "Доля пользователей, оплативших покупки: 47.7\n"
     ]
    }
   ],
   "source": [
    "#посмотрим на доли пользователей\n",
    "print('Какая доля всех пользователей совершили действие:')\n",
    "print(round(users_cnt/data['user_id'].nunique()*100,2))\n",
    "print('')\n",
    "print('Конверсия пользователей по этапам:')\n",
    "print(round((users_cnt/users_cnt.shift(1)*100).fillna(users_cnt[0]/data['user_id'].nunique()*100),2))\n",
    "print('')\n",
    "print('Доля пользователей, оплативших покупки:',round(users_cnt[3]/users_cnt[0]*100,2))"
   ]
  },
  {
   "cell_type": "markdown",
   "metadata": {},
   "source": [
    "Так как только 98,5% клиентов посещают главную страницу, значит, для дальнейших этапов она не обязательна. \n",
    "\n",
    "Интересно, что самая высокая конверсия на этапе оплаты: в 95% случаев пользователи оплачивают заказ, если добавили его в корзину, это очень хорошее значение. Пункт обучения самый маленький, но и необязательный и не важен для совершения покупки. Соответственно, больше всего посетителей \"теряется\" на этапе перехода от главного экрана к товару: конверсия почти 62% - показатель высокий, но можно улучшить.\n",
    "\n",
    "И только 47,7% людей, которые открыли главный экран, дошли до покупки товара, меньше половины. Есть, над чем поработать. "
   ]
  },
  {
   "cell_type": "markdown",
   "metadata": {},
   "source": [
    "**Выводы:**\n",
    "* количество людей сильно колеблется по дням, например, в выходные меньше всего клиентов посещало приложение\n",
    "* стандартная воронка продаж: главный экран --> страница товара --> корзина --> оплата товара, отдельно идет страница с инструкциями\n",
    "* **95%** пользователей, добавивших товар в корзину, покупает его\n",
    "* самая низкая конверсия - при переходе от главного экрана к товару - **62%**\n",
    "* всего **47,7%** людей, посетивших главную страницу, делают покупки"
   ]
  },
  {
   "cell_type": "markdown",
   "metadata": {},
   "source": [
    "## Анализ результатов A/B тестирования"
   ]
  },
  {
   "cell_type": "markdown",
   "metadata": {},
   "source": [
    "### A/A тест: проверка гипотезы о равенстве долей"
   ]
  },
  {
   "cell_type": "markdown",
   "metadata": {},
   "source": [
    "Группы 246 и 247 - контрольные, 248 - экспериментальная. "
   ]
  },
  {
   "cell_type": "code",
   "execution_count": 9,
   "metadata": {},
   "outputs": [
    {
     "name": "stdout",
     "output_type": "stream",
     "text": [
      "Количество пользователей в группах: group\n",
      "246    2484\n",
      "247    2513\n",
      "248    2537\n",
      "Name: user_id, dtype: int64\n"
     ]
    }
   ],
   "source": [
    "#посмотрим на группы пользователей\n",
    "print('Количество пользователей в группах:',data.groupby('group')['user_id'].nunique())"
   ]
  },
  {
   "cell_type": "code",
   "execution_count": 10,
   "metadata": {},
   "outputs": [
    {
     "data": {
      "text/plain": [
       "user_id\n",
       "6888746892508752       1\n",
       "6204944347213293942    1\n",
       "6215559225876063378    1\n",
       "6215162890135937308    1\n",
       "6213626876710715478    1\n",
       "                      ..\n",
       "3171454373076660766    1\n",
       "3170212200647575044    1\n",
       "3167974726645136146    1\n",
       "3167390091686880227    1\n",
       "9222603179720523844    1\n",
       "Name: group, Length: 7534, dtype: int64"
      ]
     },
     "execution_count": 10,
     "metadata": {},
     "output_type": "execute_result"
    }
   ],
   "source": [
    "#проверим, не попадают ли одни и те же пользователи в разные группы\n",
    "data.groupby('user_id')['group'].nunique().sort_values(ascending = False)"
   ]
  },
  {
   "cell_type": "markdown",
   "metadata": {},
   "source": [
    "Данные верные, одни и те же люди не попали в разные группы.\n",
    "\n",
    "Cтатистически значимых различий между группами 246 и 247 не должно быть, проверим наши данные.  \n",
    "\n",
    "Нулевая гипотеза: доли уникальных посетителей, побывавших на этапе воронки, одинаковы. Альтернативная гипотеза: между долями уникальных посетителей, побывавших на этапе воронки, есть значимая разница.  "
   ]
  },
  {
   "cell_type": "markdown",
   "metadata": {},
   "source": [
    "Нулевая гипотеза не может быть отвержена, то есть доли посетителей в контрольных группах равны(или их различие меньше уровня статистической значимости)."
   ]
  },
  {
   "cell_type": "code",
   "execution_count": 11,
   "metadata": {},
   "outputs": [
    {
     "data": {
      "text/html": [
       "<div>\n",
       "<style scoped>\n",
       "    .dataframe tbody tr th:only-of-type {\n",
       "        vertical-align: middle;\n",
       "    }\n",
       "\n",
       "    .dataframe tbody tr th {\n",
       "        vertical-align: top;\n",
       "    }\n",
       "\n",
       "    .dataframe thead th {\n",
       "        text-align: right;\n",
       "    }\n",
       "</style>\n",
       "<table border=\"1\" class=\"dataframe\">\n",
       "  <thead>\n",
       "    <tr style=\"text-align: right;\">\n",
       "      <th>group</th>\n",
       "      <th>event_name</th>\n",
       "      <th>246</th>\n",
       "      <th>247</th>\n",
       "      <th>248</th>\n",
       "      <th>246_total</th>\n",
       "      <th>247_total</th>\n",
       "      <th>248_total</th>\n",
       "    </tr>\n",
       "  </thead>\n",
       "  <tbody>\n",
       "    <tr>\n",
       "      <th>0</th>\n",
       "      <td>MainScreenAppear</td>\n",
       "      <td>2450</td>\n",
       "      <td>2476</td>\n",
       "      <td>2493</td>\n",
       "      <td>2484</td>\n",
       "      <td>2513</td>\n",
       "      <td>2537</td>\n",
       "    </tr>\n",
       "    <tr>\n",
       "      <th>1</th>\n",
       "      <td>OffersScreenAppear</td>\n",
       "      <td>1542</td>\n",
       "      <td>1520</td>\n",
       "      <td>1531</td>\n",
       "      <td>2484</td>\n",
       "      <td>2513</td>\n",
       "      <td>2537</td>\n",
       "    </tr>\n",
       "    <tr>\n",
       "      <th>2</th>\n",
       "      <td>CartScreenAppear</td>\n",
       "      <td>1266</td>\n",
       "      <td>1238</td>\n",
       "      <td>1230</td>\n",
       "      <td>2484</td>\n",
       "      <td>2513</td>\n",
       "      <td>2537</td>\n",
       "    </tr>\n",
       "    <tr>\n",
       "      <th>3</th>\n",
       "      <td>PaymentScreenSuccessful</td>\n",
       "      <td>1200</td>\n",
       "      <td>1158</td>\n",
       "      <td>1181</td>\n",
       "      <td>2484</td>\n",
       "      <td>2513</td>\n",
       "      <td>2537</td>\n",
       "    </tr>\n",
       "    <tr>\n",
       "      <th>4</th>\n",
       "      <td>Tutorial</td>\n",
       "      <td>278</td>\n",
       "      <td>283</td>\n",
       "      <td>279</td>\n",
       "      <td>2484</td>\n",
       "      <td>2513</td>\n",
       "      <td>2537</td>\n",
       "    </tr>\n",
       "  </tbody>\n",
       "</table>\n",
       "</div>"
      ],
      "text/plain": [
       "group               event_name   246   247   248  246_total  247_total  \\\n",
       "0             MainScreenAppear  2450  2476  2493       2484       2513   \n",
       "1           OffersScreenAppear  1542  1520  1531       2484       2513   \n",
       "2             CartScreenAppear  1266  1238  1230       2484       2513   \n",
       "3      PaymentScreenSuccessful  1200  1158  1181       2484       2513   \n",
       "4                     Tutorial   278   283   279       2484       2513   \n",
       "\n",
       "group  248_total  \n",
       "0           2537  \n",
       "1           2537  \n",
       "2           2537  \n",
       "3           2537  \n",
       "4           2537  "
      ]
     },
     "metadata": {},
     "output_type": "display_data"
    },
    {
     "name": "stdout",
     "output_type": "stream",
     "text": [
      "\n",
      "Проверка равенства 246 и 247 групп\n",
      "p-значение события MainScreenAppear 0.7570597232046099\n",
      "Не получилось отвергнуть нулевую гипотезу, нет оснований считать доли разными\n",
      "Соотношение групп: 0.9894991922455574\n",
      "\n",
      "p-значение события OffersScreenAppear 0.2480954578522181\n",
      "Не получилось отвергнуть нулевую гипотезу, нет оснований считать доли разными\n",
      "Соотношение групп: 1.0144736842105264\n",
      "\n",
      "p-значение события CartScreenAppear 0.22883372237997213\n",
      "Не получилось отвергнуть нулевую гипотезу, нет оснований считать доли разными\n",
      "Соотношение групп: 1.0226171243941842\n",
      "\n",
      "p-значение события PaymentScreenSuccessful 0.11456679313141849\n",
      "Не получилось отвергнуть нулевую гипотезу, нет оснований считать доли разными\n",
      "Соотношение групп: 1.0362694300518134\n",
      "\n",
      "p-значение события Tutorial 0.9376996189257114\n",
      "Не получилось отвергнуть нулевую гипотезу, нет оснований считать доли разными\n",
      "Соотношение групп: 0.9823321554770318\n",
      "\n"
     ]
    }
   ],
   "source": [
    "#также проверим доли пользователей в группах в разбивке по событиям\n",
    "#поделим на выборки\n",
    "sample_246 = data[data['group']==246][['date', 'datetime', 'user_id', 'event_name']]\n",
    "sample_247 = data[data['group']==247][['date', 'datetime', 'user_id', 'event_name']]\n",
    "sample_248 = data[data['group']==248][['date', 'datetime', 'user_id', 'event_name']]\n",
    "\n",
    "#разделим по событиям\n",
    "test = data.pivot_table(index = 'event_name', columns = 'group', values = 'user_id', aggfunc = 'nunique')\\\n",
    ".sort_values(by=246, ascending = False).reset_index()\n",
    "\n",
    "#составим общую таблицу с количеством пользователей по событиям и группам\n",
    "test['246_total'] = sample_246['user_id'].nunique()\n",
    "test['247_total'] = sample_247['user_id'].nunique()\n",
    "test['248_total'] = sample_248['user_id'].nunique()\n",
    "\n",
    "display(test)\n",
    "print('')\n",
    "\n",
    "#создадим функцию для расчета равенства долей по аналогии с расчетами для групп целиком\n",
    "def aa_test(successes, leads):\n",
    "    # пропорция успехов в первой группе:\n",
    "    p1 = successes[0]/leads[0]\n",
    "    # пропорция успехов во второй группе:\n",
    "    p2 = successes[1]/leads[1]\n",
    "    # пропорция успехов в комбинированном датасете:\n",
    "    p_combined = (successes[0] + successes[1]) / (leads[0] + leads[1])\n",
    "    # разница пропорций в датасетах\n",
    "    difference = p1 - p2\n",
    "    #считаем статистику в ст.отклонениях стандартного нормального распределения\n",
    "    z_value = difference / mth.sqrt(p_combined * (1 - p_combined) * (1/leads[0] + 1/leads[1]))\n",
    "    #задаем стандартное нормальное распределение (среднее 0, ст.отклонение 1)\n",
    "    distr = stats.norm(0, 1)\n",
    "    p_value = (1 - distr.cdf(abs(z_value))) * 2\n",
    "    print('p-значение события',event, p_value)\n",
    "    if p_value < alpha:\n",
    "        print('Отвергаем нулевую гипотезу: между долями есть значимая разница')\n",
    "        print('')\n",
    "    else:\n",
    "        print('Не получилось отвергнуть нулевую гипотезу, нет оснований считать доли разными')\n",
    "    print('Соотношение групп:', successes[0]/successes[1])\n",
    "    print('')\n",
    "alpha = 0.05\n",
    "\n",
    "print('Проверка равенства 246 и 247 групп')\n",
    "for idx, event in enumerate(test['event_name']):\n",
    "    successes = np.array([test[246][idx], test[247][idx]])\n",
    "    leads = np.array([test['246_total'][idx], test['247_total'][idx]])\n",
    "    aa_test(successes, leads)"
   ]
  },
  {
   "cell_type": "markdown",
   "metadata": {},
   "source": [
    "**Выводы:** Контрольные группы собраны правильно, статистически значимые различия между группами и между долями групп отсутствуют."
   ]
  },
  {
   "cell_type": "markdown",
   "metadata": {},
   "source": [
    "### Анализ экспериментальной группы"
   ]
  },
  {
   "cell_type": "markdown",
   "metadata": {},
   "source": [
    "Проделаем то же самое с 248 группой, в которой заложен измененный шрифт.\n",
    "\n",
    "Нулевая гипотеза: доли посетителей в 246 и 248 группах равны. Альтернативная гипотеза: доли посетителей в группах отличаются.  \n",
    "Нулевая гипотеза: доли посетителей в 247 и 248 группах равны. Альтернативная гипотеза: доли посетителей в группах отличаются."
   ]
  },
  {
   "cell_type": "markdown",
   "metadata": {},
   "source": [
    "Обе нулевые гипотезы не удалось опровергнуть, количество посетителей в 248 группе такое же, как в 246 и 247 группах."
   ]
  },
  {
   "cell_type": "code",
   "execution_count": 12,
   "metadata": {},
   "outputs": [
    {
     "name": "stdout",
     "output_type": "stream",
     "text": [
      "Проверка равенства 246 и 248 групп\n",
      "p-значение события MainScreenAppear 0.2949721933554552\n",
      "Не получилось отвергнуть нулевую гипотезу, нет оснований считать доли разными\n",
      "Соотношение групп: 0.9827517047733654\n",
      "\n",
      "p-значение события OffersScreenAppear 0.20836205402738917\n",
      "Не получилось отвергнуть нулевую гипотезу, нет оснований считать доли разными\n",
      "Соотношение групп: 1.007184846505552\n",
      "\n",
      "p-значение события CartScreenAppear 0.07842923237520116\n",
      "Не получилось отвергнуть нулевую гипотезу, нет оснований считать доли разными\n",
      "Соотношение групп: 1.0292682926829269\n",
      "\n",
      "p-значение события PaymentScreenSuccessful 0.2122553275697796\n",
      "Не получилось отвергнуть нулевую гипотезу, нет оснований считать доли разными\n",
      "Соотношение групп: 1.0160880609652836\n",
      "\n",
      "p-значение события Tutorial 0.8264294010087645\n",
      "Не получилось отвергнуть нулевую гипотезу, нет оснований считать доли разными\n",
      "Соотношение групп: 0.996415770609319\n",
      "\n",
      "\n",
      "Проверка равенства 247 и 248 групп\n",
      "p-значение события MainScreenAppear 0.4587053616621515\n",
      "Не получилось отвергнуть нулевую гипотезу, нет оснований считать доли разными\n",
      "Соотношение групп: 0.9931809065383073\n",
      "\n",
      "p-значение события OffersScreenAppear 0.9197817830592261\n",
      "Не получилось отвергнуть нулевую гипотезу, нет оснований считать доли разными\n",
      "Соотношение групп: 0.992815153494448\n",
      "\n",
      "p-значение события CartScreenAppear 0.5786197879539783\n",
      "Не получилось отвергнуть нулевую гипотезу, нет оснований считать доли разными\n",
      "Соотношение групп: 1.0065040650406505\n",
      "\n",
      "p-значение события PaymentScreenSuccessful 0.7373415053803964\n",
      "Не получилось отвергнуть нулевую гипотезу, нет оснований считать доли разными\n",
      "Соотношение групп: 0.9805249788314987\n",
      "\n",
      "p-значение события Tutorial 0.765323922474501\n",
      "Не получилось отвергнуть нулевую гипотезу, нет оснований считать доли разными\n",
      "Соотношение групп: 1.014336917562724\n",
      "\n"
     ]
    }
   ],
   "source": [
    "#теперь проверим отдельно по каждому событию\n",
    "\n",
    "print('Проверка равенства 246 и 248 групп')\n",
    "for idx, event in enumerate(test['event_name']):\n",
    "    successes = np.array([test[246][idx], test[248][idx]])\n",
    "    leads = np.array([test['246_total'][idx], test['248_total'][idx]])\n",
    "    aa_test(successes, leads)\n",
    "    \n",
    "print('')\n",
    "\n",
    "print('Проверка равенства 247 и 248 групп')\n",
    "for idx, event in enumerate(test['event_name']):\n",
    "    successes = np.array([test[247][idx], test[248][idx]])\n",
    "    leads = np.array([test['247_total'][idx], test['248_total'][idx]])\n",
    "    aa_test(successes, leads)"
   ]
  },
  {
   "cell_type": "markdown",
   "metadata": {},
   "source": [
    "Есть основания для подтверждения нулевой гипотезы: различий в количестве посетителей между экспериментальной и контрольными группами нет. Следовательно, значительных изменений после введения новых шрифтов не обнаружено."
   ]
  },
  {
   "cell_type": "code",
   "execution_count": 13,
   "metadata": {},
   "outputs": [
    {
     "name": "stdout",
     "output_type": "stream",
     "text": [
      "Проверка равенства трех групп\n",
      "p-значение события MainScreenAppear 0.29424526837179577\n",
      "Не получилось отвергнуть нулевую гипотезу, нет оснований считать доли разными\n",
      "Соотношение групп: 1.9759326113116726\n",
      "\n",
      "p-значение события OffersScreenAppear 0.43425549655188256\n",
      "Не получилось отвергнуть нулевую гипотезу, нет оснований считать доли разными\n",
      "Соотношение групп: 2.0\n",
      "\n",
      "p-значение события CartScreenAppear 0.18175875284404386\n",
      "Не получилось отвергнуть нулевую гипотезу, нет оснований считать доли разными\n",
      "Соотношение групп: 2.035772357723577\n",
      "\n",
      "p-значение события PaymentScreenSuccessful 0.6004294282308704\n",
      "Не получилось отвергнуть нулевую гипотезу, нет оснований считать доли разными\n",
      "Соотношение групп: 1.9966130397967823\n",
      "\n",
      "p-значение события Tutorial 0.764862472531507\n",
      "Не получилось отвергнуть нулевую гипотезу, нет оснований считать доли разными\n",
      "Соотношение групп: 2.010752688172043\n",
      "\n"
     ]
    }
   ],
   "source": [
    "#сверим объединенную контрольную группу(246+247) и экспериментальную\n",
    "print('Проверка равенства трех групп')\n",
    "for idx, event in enumerate(test['event_name']):\n",
    "    successes = np.array([test[246][idx]+test[247][idx], test[248][idx]])\n",
    "    leads = np.array([test['246_total'][idx]+test['247_total'][idx], test['248_total'][idx]])\n",
    "    aa_test(successes, leads)"
   ]
  },
  {
   "cell_type": "markdown",
   "metadata": {},
   "source": [
    "Гипотезу о равенстве долей объединенной контрольной и экспериментальной групп также не удалось опровергнуть, а значит, статистически значимых различий между ними нет. На текущий момент изменение шрифта в дизайне приложения не повлияло на действия пользователей. "
   ]
  },
  {
   "cell_type": "markdown",
   "metadata": {},
   "source": [
    "## Выводы и рекомендации"
   ]
  },
  {
   "cell_type": "markdown",
   "metadata": {},
   "source": [
    "В результате проведения A/B тестирования были собраны данные о поведении пользователей в мобильном приложении: более 240 тысяч событий. В нем приняли участие более 7,5 тысяч посетителей. Мы проанализировали данные за одну неделю: с 1 по 7 августа 2019 года.\n",
    "\n",
    "В приложении можно совершить 5 основных действий: \n",
    "1. Зайти на главный экран\n",
    "2. Зайти на страницу товара\n",
    "3. Добавить товар в корзину\n",
    "4. Оплатить заказ\n",
    "5. Пройти обучение\n",
    "\n",
    "Последний этап необязательный, его проходили в среднем 13% пользователей. \n",
    "Больше всего людей \"теряется\" при переходе от главного экрана к странице товара - конверсия **62%**. Зато около **95%** людей, добавшивших товар в корзину, покупает его. Всего покупки в приложении совершает около **47%** посетителей.\n",
    "\n",
    "Интересное наблюдение: в выходные меньше всего клиентов пользуются приложением (это предположение стоит проверить на данных за более длительный период).\n",
    "\n",
    "\n",
    "Получили основания для подтверждения гипотезы о равенстве двух контрольных групп: 246 и 247, следовательно, тестирование было проведено верно, и все инструменты правильно работали. \n",
    "\n",
    "Что касается, экспериментальной (248) группы, за исследуемый период статистически значимых различий с контрольными группами не обнаружено. Тут может быть два варианта: либо шрифты не сказались на лояльности покупателей и не принесли ожидаемой выгоды, либо тестирование проводилось слишком короткое время. \n",
    "\n",
    "**Рекомендация**: тестирование можно остановить, изменений в действиях пользователей не предвидется. \n"
   ]
  }
 ],
 "metadata": {
  "ExecuteTimeLog": [
   {
    "duration": 413,
    "start_time": "2022-10-28T09:21:27.787Z"
   },
   {
    "duration": 944,
    "start_time": "2022-10-28T09:21:29.734Z"
   },
   {
    "duration": 323,
    "start_time": "2022-10-28T09:21:53.042Z"
   },
   {
    "duration": 103,
    "start_time": "2022-10-28T09:22:35.634Z"
   },
   {
    "duration": 76,
    "start_time": "2022-10-28T09:22:53.706Z"
   },
   {
    "duration": 282,
    "start_time": "2022-10-28T09:24:04.961Z"
   },
   {
    "duration": 283,
    "start_time": "2022-10-28T09:24:10.100Z"
   },
   {
    "duration": 201,
    "start_time": "2022-10-28T09:24:26.585Z"
   },
   {
    "duration": 168,
    "start_time": "2022-10-28T09:24:53.005Z"
   },
   {
    "duration": 247,
    "start_time": "2022-10-28T09:30:56.682Z"
   },
   {
    "duration": 251,
    "start_time": "2022-10-28T09:31:44.185Z"
   },
   {
    "duration": 223,
    "start_time": "2022-10-28T09:31:57.110Z"
   },
   {
    "duration": 2,
    "start_time": "2022-10-28T09:36:15.853Z"
   },
   {
    "duration": 171,
    "start_time": "2022-10-28T09:38:06.052Z"
   },
   {
    "duration": 210,
    "start_time": "2022-10-28T09:38:19.074Z"
   },
   {
    "duration": 217,
    "start_time": "2022-10-28T09:38:40.606Z"
   },
   {
    "duration": 1354,
    "start_time": "2022-10-28T09:40:29.149Z"
   },
   {
    "duration": 76,
    "start_time": "2022-10-28T09:42:11.397Z"
   },
   {
    "duration": 69,
    "start_time": "2022-10-28T09:42:18.022Z"
   },
   {
    "duration": 73,
    "start_time": "2022-10-28T09:42:23.808Z"
   },
   {
    "duration": 87,
    "start_time": "2022-10-28T09:42:31.608Z"
   },
   {
    "duration": 892,
    "start_time": "2022-10-28T09:42:45.934Z"
   },
   {
    "duration": 444,
    "start_time": "2022-10-28T09:44:22.288Z"
   },
   {
    "duration": 158,
    "start_time": "2022-10-28T09:46:11.153Z"
   },
   {
    "duration": 174,
    "start_time": "2022-10-28T09:46:18.068Z"
   },
   {
    "duration": 203,
    "start_time": "2022-10-28T09:47:54.338Z"
   },
   {
    "duration": 167,
    "start_time": "2022-10-28T09:48:03.138Z"
   },
   {
    "duration": 195,
    "start_time": "2022-10-28T09:48:16.404Z"
   },
   {
    "duration": 175,
    "start_time": "2022-10-28T09:48:56.187Z"
   },
   {
    "duration": 187,
    "start_time": "2022-10-28T09:49:20.653Z"
   },
   {
    "duration": 205,
    "start_time": "2022-10-28T09:49:40.269Z"
   },
   {
    "duration": 177,
    "start_time": "2022-10-28T09:50:08.456Z"
   },
   {
    "duration": 178,
    "start_time": "2022-10-28T09:50:16.244Z"
   },
   {
    "duration": 1031,
    "start_time": "2022-10-28T09:50:54.292Z"
   },
   {
    "duration": 189,
    "start_time": "2022-10-28T09:50:57.275Z"
   },
   {
    "duration": 247,
    "start_time": "2022-10-28T09:51:52.046Z"
   },
   {
    "duration": 276,
    "start_time": "2022-10-28T09:52:27.668Z"
   },
   {
    "duration": 252,
    "start_time": "2022-10-28T09:52:41.441Z"
   },
   {
    "duration": 253,
    "start_time": "2022-10-28T09:52:51.263Z"
   },
   {
    "duration": 304,
    "start_time": "2022-10-28T09:53:15.238Z"
   },
   {
    "duration": 305,
    "start_time": "2022-10-28T09:53:52.928Z"
   },
   {
    "duration": 324,
    "start_time": "2022-10-28T09:54:01.951Z"
   },
   {
    "duration": 906,
    "start_time": "2022-10-28T09:54:46.209Z"
   },
   {
    "duration": 181,
    "start_time": "2022-10-28T09:54:58.897Z"
   },
   {
    "duration": 328,
    "start_time": "2022-10-28T09:55:05.668Z"
   },
   {
    "duration": 240,
    "start_time": "2022-10-28T09:55:20.030Z"
   },
   {
    "duration": 251,
    "start_time": "2022-10-28T09:56:13.607Z"
   },
   {
    "duration": 869,
    "start_time": "2022-10-28T09:56:35.370Z"
   },
   {
    "duration": 199,
    "start_time": "2022-10-28T09:56:36.242Z"
   },
   {
    "duration": 223,
    "start_time": "2022-10-28T09:56:43.416Z"
   },
   {
    "duration": 206,
    "start_time": "2022-10-28T09:57:25.824Z"
   },
   {
    "duration": 166,
    "start_time": "2022-10-28T09:57:47.298Z"
   },
   {
    "duration": 151,
    "start_time": "2022-10-28T09:58:00.036Z"
   },
   {
    "duration": 175,
    "start_time": "2022-10-28T09:58:48.797Z"
   },
   {
    "duration": 158,
    "start_time": "2022-10-28T09:59:29.687Z"
   },
   {
    "duration": 160,
    "start_time": "2022-10-28T09:59:45.731Z"
   },
   {
    "duration": 3,
    "start_time": "2022-10-29T09:35:42.299Z"
   },
   {
    "duration": 12,
    "start_time": "2022-10-29T14:23:29.878Z"
   },
   {
    "duration": 36,
    "start_time": "2022-10-29T14:24:55.249Z"
   },
   {
    "duration": 5,
    "start_time": "2022-10-29T18:10:07.077Z"
   },
   {
    "duration": 39,
    "start_time": "2022-10-29T18:10:13.349Z"
   },
   {
    "duration": 79,
    "start_time": "2022-10-29T18:17:27.308Z"
   },
   {
    "duration": 8,
    "start_time": "2022-10-29T18:20:14.648Z"
   },
   {
    "duration": 102,
    "start_time": "2022-10-29T18:21:36.584Z"
   },
   {
    "duration": 9,
    "start_time": "2022-10-29T18:21:43.363Z"
   },
   {
    "duration": 61,
    "start_time": "2022-10-29T18:22:35.527Z"
   },
   {
    "duration": 17,
    "start_time": "2022-10-29T18:22:42.499Z"
   },
   {
    "duration": 27,
    "start_time": "2022-10-29T18:23:40.575Z"
   },
   {
    "duration": 49,
    "start_time": "2022-10-29T18:30:25.603Z"
   },
   {
    "duration": 33,
    "start_time": "2022-10-29T18:30:34.862Z"
   },
   {
    "duration": 25,
    "start_time": "2022-10-29T18:30:47.742Z"
   },
   {
    "duration": 6,
    "start_time": "2022-10-29T18:32:13.778Z"
   },
   {
    "duration": 672,
    "start_time": "2022-10-29T18:33:03.062Z"
   },
   {
    "duration": 21,
    "start_time": "2022-10-29T18:33:42.822Z"
   },
   {
    "duration": 72,
    "start_time": "2022-10-29T18:34:09.090Z"
   },
   {
    "duration": 3,
    "start_time": "2022-10-29T18:34:39.765Z"
   },
   {
    "duration": 106,
    "start_time": "2022-10-29T18:34:43.222Z"
   },
   {
    "duration": 169,
    "start_time": "2022-10-29T18:34:55.741Z"
   },
   {
    "duration": 160,
    "start_time": "2022-10-29T18:35:02.474Z"
   },
   {
    "duration": 164,
    "start_time": "2022-10-29T18:35:16.470Z"
   },
   {
    "duration": 179,
    "start_time": "2022-10-29T18:37:08.382Z"
   },
   {
    "duration": 162,
    "start_time": "2022-10-29T18:38:57.017Z"
   },
   {
    "duration": 234,
    "start_time": "2022-10-29T18:39:12.325Z"
   },
   {
    "duration": 238,
    "start_time": "2022-10-29T18:39:44.053Z"
   },
   {
    "duration": 204,
    "start_time": "2022-10-29T18:39:58.325Z"
   },
   {
    "duration": 253,
    "start_time": "2022-10-29T18:40:09.125Z"
   },
   {
    "duration": 293,
    "start_time": "2022-10-29T18:40:33.589Z"
   },
   {
    "duration": 273,
    "start_time": "2022-10-29T18:40:51.445Z"
   },
   {
    "duration": 274,
    "start_time": "2022-10-29T18:41:28.301Z"
   },
   {
    "duration": 191,
    "start_time": "2022-10-29T18:43:41.409Z"
   },
   {
    "duration": 257,
    "start_time": "2022-10-29T18:44:37.917Z"
   },
   {
    "duration": 13,
    "start_time": "2022-10-29T18:45:51.077Z"
   },
   {
    "duration": 188,
    "start_time": "2022-10-29T18:46:49.248Z"
   },
   {
    "duration": 193,
    "start_time": "2022-10-29T18:47:13.118Z"
   },
   {
    "duration": 216,
    "start_time": "2022-10-29T18:50:02.291Z"
   },
   {
    "duration": 249,
    "start_time": "2022-10-29T18:50:11.542Z"
   },
   {
    "duration": 213,
    "start_time": "2022-10-29T18:50:39.642Z"
   },
   {
    "duration": 198,
    "start_time": "2022-10-29T18:50:45.942Z"
   },
   {
    "duration": 239,
    "start_time": "2022-10-29T18:51:30.247Z"
   },
   {
    "duration": 236,
    "start_time": "2022-10-29T18:51:52.022Z"
   },
   {
    "duration": 256,
    "start_time": "2022-10-29T18:52:32.905Z"
   },
   {
    "duration": 214,
    "start_time": "2022-10-29T18:53:08.790Z"
   },
   {
    "duration": 317,
    "start_time": "2022-10-29T18:53:28.057Z"
   },
   {
    "duration": 247,
    "start_time": "2022-10-29T18:53:34.382Z"
   },
   {
    "duration": 224,
    "start_time": "2022-10-29T19:00:51.832Z"
   },
   {
    "duration": 218,
    "start_time": "2022-10-29T19:02:34.707Z"
   },
   {
    "duration": 255,
    "start_time": "2022-10-29T19:07:40.983Z"
   },
   {
    "duration": 1086,
    "start_time": "2022-10-29T19:08:42.559Z"
   },
   {
    "duration": 199,
    "start_time": "2022-10-29T19:08:44.848Z"
   },
   {
    "duration": 164,
    "start_time": "2022-10-29T19:08:47.123Z"
   },
   {
    "duration": 7,
    "start_time": "2022-10-29T19:08:58.758Z"
   },
   {
    "duration": 1073,
    "start_time": "2022-10-29T19:09:08.677Z"
   },
   {
    "duration": 198,
    "start_time": "2022-10-29T19:09:09.752Z"
   },
   {
    "duration": 171,
    "start_time": "2022-10-29T19:09:09.951Z"
   },
   {
    "duration": 20,
    "start_time": "2022-10-29T19:09:10.124Z"
   },
   {
    "duration": 8,
    "start_time": "2022-10-29T19:09:10.145Z"
   },
   {
    "duration": 45,
    "start_time": "2022-10-29T19:09:10.154Z"
   },
   {
    "duration": 311,
    "start_time": "2022-10-29T19:09:10.200Z"
   },
   {
    "duration": 27,
    "start_time": "2022-10-29T19:13:26.333Z"
   },
   {
    "duration": 252,
    "start_time": "2022-10-29T19:14:41.525Z"
   },
   {
    "duration": 39,
    "start_time": "2022-10-29T19:16:38.653Z"
   },
   {
    "duration": 33,
    "start_time": "2022-10-29T19:16:54.110Z"
   },
   {
    "duration": 51,
    "start_time": "2022-10-29T19:17:52.832Z"
   },
   {
    "duration": 90,
    "start_time": "2022-10-29T19:18:20.557Z"
   },
   {
    "duration": 72,
    "start_time": "2022-10-29T19:18:32.036Z"
   },
   {
    "duration": 2616,
    "start_time": "2022-10-29T19:18:48.937Z"
   },
   {
    "duration": 58,
    "start_time": "2022-10-29T19:19:04.312Z"
   },
   {
    "duration": 24,
    "start_time": "2022-10-29T19:19:34.136Z"
   },
   {
    "duration": 49,
    "start_time": "2022-10-29T19:19:41.804Z"
   },
   {
    "duration": 48,
    "start_time": "2022-10-29T19:19:51.816Z"
   },
   {
    "duration": 47,
    "start_time": "2022-10-29T19:20:10.052Z"
   },
   {
    "duration": 190,
    "start_time": "2022-10-29T19:21:42.649Z"
   },
   {
    "duration": 167,
    "start_time": "2022-10-29T19:21:52.508Z"
   },
   {
    "duration": 320,
    "start_time": "2022-10-29T19:22:10.287Z"
   },
   {
    "duration": 329,
    "start_time": "2022-10-29T19:22:19.892Z"
   },
   {
    "duration": 393,
    "start_time": "2022-10-29T19:22:33.828Z"
   },
   {
    "duration": 74,
    "start_time": "2022-10-29T19:22:57.256Z"
   },
   {
    "duration": 39,
    "start_time": "2022-10-29T19:23:00.044Z"
   },
   {
    "duration": 57,
    "start_time": "2022-10-29T19:23:03.676Z"
   },
   {
    "duration": 97,
    "start_time": "2022-10-29T19:23:18.694Z"
   },
   {
    "duration": 233,
    "start_time": "2022-10-29T19:23:25.536Z"
   },
   {
    "duration": 225,
    "start_time": "2022-10-29T19:23:49.768Z"
   },
   {
    "duration": 97,
    "start_time": "2022-10-29T19:23:54.752Z"
   },
   {
    "duration": 83,
    "start_time": "2022-10-29T19:24:00.816Z"
   },
   {
    "duration": 208,
    "start_time": "2022-10-29T19:24:11.031Z"
   },
   {
    "duration": 85,
    "start_time": "2022-10-29T19:24:22.028Z"
   },
   {
    "duration": 53,
    "start_time": "2022-10-29T19:25:05.080Z"
   },
   {
    "duration": 50,
    "start_time": "2022-10-29T19:25:33.948Z"
   },
   {
    "duration": 52,
    "start_time": "2022-10-29T19:25:37.791Z"
   },
   {
    "duration": 283,
    "start_time": "2022-10-29T19:26:19.571Z"
   },
   {
    "duration": 248,
    "start_time": "2022-10-29T19:26:30.391Z"
   },
   {
    "duration": 257,
    "start_time": "2022-10-29T19:26:55.583Z"
   },
   {
    "duration": 245,
    "start_time": "2022-10-29T19:28:37.736Z"
   },
   {
    "duration": 57,
    "start_time": "2022-10-29T19:36:41.026Z"
   },
   {
    "duration": 51,
    "start_time": "2022-10-29T19:37:03.950Z"
   },
   {
    "duration": 3,
    "start_time": "2022-10-29T19:37:13.442Z"
   },
   {
    "duration": 48,
    "start_time": "2022-10-29T19:37:16.058Z"
   },
   {
    "duration": 46,
    "start_time": "2022-10-29T19:37:24.878Z"
   },
   {
    "duration": 68,
    "start_time": "2022-10-29T19:40:54.773Z"
   },
   {
    "duration": 133,
    "start_time": "2022-10-29T19:41:02.618Z"
   },
   {
    "duration": 50,
    "start_time": "2022-10-29T19:41:08.793Z"
   },
   {
    "duration": 259,
    "start_time": "2022-10-29T19:42:54.369Z"
   },
   {
    "duration": 341,
    "start_time": "2022-10-29T19:43:01.270Z"
   },
   {
    "duration": 60,
    "start_time": "2022-10-29T19:45:07.053Z"
   },
   {
    "duration": 51,
    "start_time": "2022-10-29T19:45:50.169Z"
   },
   {
    "duration": 50,
    "start_time": "2022-10-29T19:52:55.631Z"
   },
   {
    "duration": 45,
    "start_time": "2022-10-29T19:53:23.320Z"
   },
   {
    "duration": 49,
    "start_time": "2022-10-29T19:53:40.303Z"
   },
   {
    "duration": 54,
    "start_time": "2022-10-29T19:55:14.131Z"
   },
   {
    "duration": 52,
    "start_time": "2022-10-29T19:55:21.135Z"
   },
   {
    "duration": 63,
    "start_time": "2022-10-29T19:55:36.594Z"
   },
   {
    "duration": 51,
    "start_time": "2022-10-29T19:55:50.939Z"
   },
   {
    "duration": 51,
    "start_time": "2022-10-29T19:55:59.271Z"
   },
   {
    "duration": 57,
    "start_time": "2022-10-29T19:56:14.528Z"
   },
   {
    "duration": 56,
    "start_time": "2022-10-29T19:56:20.431Z"
   },
   {
    "duration": 25,
    "start_time": "2022-10-29T21:25:35.575Z"
   },
   {
    "duration": 53,
    "start_time": "2022-10-29T21:25:42.919Z"
   },
   {
    "duration": 60,
    "start_time": "2022-10-29T21:32:58.331Z"
   },
   {
    "duration": 348,
    "start_time": "2022-10-29T21:33:25.746Z"
   },
   {
    "duration": 320,
    "start_time": "2022-10-29T21:33:35.339Z"
   },
   {
    "duration": 258,
    "start_time": "2022-10-29T21:35:14.238Z"
   },
   {
    "duration": 38,
    "start_time": "2022-10-29T21:38:12.870Z"
   },
   {
    "duration": 36,
    "start_time": "2022-10-29T21:38:41.958Z"
   },
   {
    "duration": 280,
    "start_time": "2022-10-29T21:38:47.698Z"
   },
   {
    "duration": 50,
    "start_time": "2022-10-29T21:39:47.137Z"
   },
   {
    "duration": 49,
    "start_time": "2022-10-29T21:39:55.381Z"
   },
   {
    "duration": 41,
    "start_time": "2022-10-29T21:42:06.649Z"
   },
   {
    "duration": 298,
    "start_time": "2022-10-29T21:42:15.030Z"
   },
   {
    "duration": 303,
    "start_time": "2022-10-29T21:43:05.933Z"
   },
   {
    "duration": 38,
    "start_time": "2022-10-29T21:44:27.964Z"
   },
   {
    "duration": 38,
    "start_time": "2022-10-29T21:44:42.285Z"
   },
   {
    "duration": 164,
    "start_time": "2022-10-29T21:45:12.329Z"
   },
   {
    "duration": 152,
    "start_time": "2022-10-29T21:45:54.169Z"
   },
   {
    "duration": 148,
    "start_time": "2022-10-29T21:46:04.101Z"
   },
   {
    "duration": 163,
    "start_time": "2022-10-29T21:46:27.793Z"
   },
   {
    "duration": 170,
    "start_time": "2022-10-29T21:47:04.680Z"
   },
   {
    "duration": 165,
    "start_time": "2022-10-29T21:47:12.232Z"
   },
   {
    "duration": 201,
    "start_time": "2022-10-29T21:50:10.076Z"
   },
   {
    "duration": 9,
    "start_time": "2022-10-29T21:51:24.484Z"
   },
   {
    "duration": 11,
    "start_time": "2022-10-29T21:55:43.519Z"
   },
   {
    "duration": 16,
    "start_time": "2022-10-29T21:56:30.403Z"
   },
   {
    "duration": 84,
    "start_time": "2022-10-29T21:56:50.808Z"
   },
   {
    "duration": 88,
    "start_time": "2022-10-29T21:56:54.331Z"
   },
   {
    "duration": 285,
    "start_time": "2022-10-29T21:56:57.384Z"
   },
   {
    "duration": 323,
    "start_time": "2022-10-29T21:59:29.851Z"
   },
   {
    "duration": 13,
    "start_time": "2022-10-29T22:01:09.023Z"
   },
   {
    "duration": 14,
    "start_time": "2022-10-29T22:07:30.003Z"
   },
   {
    "duration": 12,
    "start_time": "2022-10-29T22:07:49.625Z"
   },
   {
    "duration": 10,
    "start_time": "2022-10-29T22:07:56.698Z"
   },
   {
    "duration": 11,
    "start_time": "2022-10-29T22:08:06.426Z"
   },
   {
    "duration": 12,
    "start_time": "2022-10-29T22:08:14.274Z"
   },
   {
    "duration": 11,
    "start_time": "2022-10-29T22:08:40.810Z"
   },
   {
    "duration": 12,
    "start_time": "2022-10-29T22:08:51.129Z"
   },
   {
    "duration": 12,
    "start_time": "2022-10-29T22:09:19.466Z"
   },
   {
    "duration": 10,
    "start_time": "2022-10-29T22:13:42.581Z"
   },
   {
    "duration": 11,
    "start_time": "2022-10-29T22:13:48.830Z"
   },
   {
    "duration": 69,
    "start_time": "2022-10-29T22:13:58.573Z"
   },
   {
    "duration": 10,
    "start_time": "2022-10-29T22:14:02.389Z"
   },
   {
    "duration": 13,
    "start_time": "2022-10-29T22:15:18.701Z"
   },
   {
    "duration": 13,
    "start_time": "2022-10-29T22:15:34.629Z"
   },
   {
    "duration": 13,
    "start_time": "2022-10-29T22:15:57.645Z"
   },
   {
    "duration": 14,
    "start_time": "2022-10-29T22:16:08.932Z"
   },
   {
    "duration": 15,
    "start_time": "2022-10-29T22:16:17.045Z"
   },
   {
    "duration": 72,
    "start_time": "2022-10-29T22:16:40.601Z"
   },
   {
    "duration": 15,
    "start_time": "2022-10-29T22:16:47.773Z"
   },
   {
    "duration": 16,
    "start_time": "2022-10-29T22:17:07.816Z"
   },
   {
    "duration": 13,
    "start_time": "2022-10-29T22:17:19.105Z"
   },
   {
    "duration": 16,
    "start_time": "2022-10-29T22:17:39.820Z"
   },
   {
    "duration": 139,
    "start_time": "2022-10-29T22:18:21.993Z"
   },
   {
    "duration": 257,
    "start_time": "2022-10-29T22:18:31.961Z"
   },
   {
    "duration": 14,
    "start_time": "2022-10-29T22:18:37.916Z"
   },
   {
    "duration": 4,
    "start_time": "2022-10-29T22:27:36.979Z"
   },
   {
    "duration": 16,
    "start_time": "2022-10-29T22:30:03.967Z"
   },
   {
    "duration": 15,
    "start_time": "2022-10-29T22:30:21.127Z"
   },
   {
    "duration": 15,
    "start_time": "2022-10-29T22:30:28.491Z"
   },
   {
    "duration": 14,
    "start_time": "2022-10-29T22:32:27.799Z"
   },
   {
    "duration": 14,
    "start_time": "2022-10-29T22:33:55.179Z"
   },
   {
    "duration": 14,
    "start_time": "2022-10-29T22:34:00.075Z"
   },
   {
    "duration": 191,
    "start_time": "2022-10-29T22:40:17.306Z"
   },
   {
    "duration": 1027,
    "start_time": "2022-10-29T22:47:01.204Z"
   },
   {
    "duration": 188,
    "start_time": "2022-10-29T22:47:02.233Z"
   },
   {
    "duration": 165,
    "start_time": "2022-10-29T22:47:02.426Z"
   },
   {
    "duration": 26,
    "start_time": "2022-10-29T22:47:02.592Z"
   },
   {
    "duration": 7,
    "start_time": "2022-10-29T22:47:02.619Z"
   },
   {
    "duration": 23,
    "start_time": "2022-10-29T22:47:02.627Z"
   },
   {
    "duration": 305,
    "start_time": "2022-10-29T22:47:02.651Z"
   },
   {
    "duration": 200,
    "start_time": "2022-10-29T22:47:02.957Z"
   },
   {
    "duration": 286,
    "start_time": "2022-10-29T22:47:03.159Z"
   },
   {
    "duration": 14,
    "start_time": "2022-10-29T22:47:03.447Z"
   },
   {
    "duration": 48,
    "start_time": "2022-10-29T22:50:03.593Z"
   },
   {
    "duration": 45,
    "start_time": "2022-10-29T22:50:21.197Z"
   },
   {
    "duration": 48,
    "start_time": "2022-10-29T22:50:45.168Z"
   },
   {
    "duration": 45,
    "start_time": "2022-10-29T22:51:09.308Z"
   },
   {
    "duration": 29,
    "start_time": "2022-10-29T22:54:58.540Z"
   },
   {
    "duration": 58,
    "start_time": "2022-10-30T12:49:49.961Z"
   },
   {
    "duration": 285,
    "start_time": "2022-10-30T12:52:53.849Z"
   },
   {
    "duration": 148,
    "start_time": "2022-10-30T12:53:07.593Z"
   },
   {
    "duration": 67,
    "start_time": "2022-10-30T12:53:21.377Z"
   },
   {
    "duration": 65,
    "start_time": "2022-10-30T12:53:27.349Z"
   },
   {
    "duration": 228,
    "start_time": "2022-10-30T12:54:15.085Z"
   },
   {
    "duration": 8,
    "start_time": "2022-10-30T12:54:48.988Z"
   },
   {
    "duration": 4,
    "start_time": "2022-10-30T12:55:02.197Z"
   },
   {
    "duration": 22,
    "start_time": "2022-10-30T12:55:11.956Z"
   },
   {
    "duration": 59,
    "start_time": "2022-10-30T12:58:52.860Z"
   },
   {
    "duration": 116,
    "start_time": "2022-10-30T12:59:20.756Z"
   },
   {
    "duration": 51,
    "start_time": "2022-10-30T12:59:25.148Z"
   },
   {
    "duration": 10,
    "start_time": "2022-10-30T13:18:08.436Z"
   },
   {
    "duration": 19,
    "start_time": "2022-10-30T13:18:17.357Z"
   },
   {
    "duration": 21,
    "start_time": "2022-10-30T13:19:59.756Z"
   },
   {
    "duration": 76,
    "start_time": "2022-10-30T13:23:35.396Z"
   },
   {
    "duration": 14,
    "start_time": "2022-10-30T13:24:39.229Z"
   },
   {
    "duration": 26,
    "start_time": "2022-10-30T13:24:45.648Z"
   },
   {
    "duration": 15,
    "start_time": "2022-10-30T13:29:25.639Z"
   },
   {
    "duration": 24,
    "start_time": "2022-10-30T13:29:29.876Z"
   },
   {
    "duration": 28,
    "start_time": "2022-10-30T13:31:33.771Z"
   },
   {
    "duration": 41,
    "start_time": "2022-10-30T13:31:54.027Z"
   },
   {
    "duration": 58,
    "start_time": "2022-10-30T13:38:18.586Z"
   },
   {
    "duration": 353,
    "start_time": "2022-10-30T13:38:52.363Z"
   },
   {
    "duration": 149,
    "start_time": "2022-10-30T13:41:03.118Z"
   },
   {
    "duration": 145,
    "start_time": "2022-10-30T13:41:34.459Z"
   },
   {
    "duration": 29,
    "start_time": "2022-10-30T13:42:30.201Z"
   },
   {
    "duration": 20,
    "start_time": "2022-10-30T13:42:39.222Z"
   },
   {
    "duration": 73,
    "start_time": "2022-10-30T13:43:26.461Z"
   },
   {
    "duration": 100,
    "start_time": "2022-10-30T13:43:31.186Z"
   },
   {
    "duration": 25,
    "start_time": "2022-10-30T13:43:48.135Z"
   },
   {
    "duration": 20,
    "start_time": "2022-10-30T13:44:11.942Z"
   },
   {
    "duration": 20,
    "start_time": "2022-10-30T13:47:24.833Z"
   },
   {
    "duration": 55,
    "start_time": "2022-10-30T13:49:36.625Z"
   },
   {
    "duration": 85,
    "start_time": "2022-10-30T13:52:17.712Z"
   },
   {
    "duration": 75,
    "start_time": "2022-10-30T13:52:42.769Z"
   },
   {
    "duration": 73,
    "start_time": "2022-10-30T13:53:00.521Z"
   },
   {
    "duration": 76,
    "start_time": "2022-10-30T13:53:07.505Z"
   },
   {
    "duration": 100,
    "start_time": "2022-10-30T13:53:50.504Z"
   },
   {
    "duration": 24,
    "start_time": "2022-10-30T13:54:09.733Z"
   },
   {
    "duration": 32,
    "start_time": "2022-10-30T13:55:49.860Z"
   },
   {
    "duration": 33,
    "start_time": "2022-10-30T13:56:12.665Z"
   },
   {
    "duration": 34,
    "start_time": "2022-10-30T13:56:29.424Z"
   },
   {
    "duration": 36,
    "start_time": "2022-10-30T13:56:33.860Z"
   },
   {
    "duration": 1088,
    "start_time": "2022-10-30T13:56:40.854Z"
   },
   {
    "duration": 198,
    "start_time": "2022-10-30T13:56:41.944Z"
   },
   {
    "duration": 168,
    "start_time": "2022-10-30T13:56:42.143Z"
   },
   {
    "duration": 52,
    "start_time": "2022-10-30T13:56:42.313Z"
   },
   {
    "duration": 340,
    "start_time": "2022-10-30T13:56:42.367Z"
   },
   {
    "duration": 216,
    "start_time": "2022-10-30T13:56:42.708Z"
   },
   {
    "duration": 297,
    "start_time": "2022-10-30T13:56:42.926Z"
   },
   {
    "duration": 15,
    "start_time": "2022-10-30T13:56:43.224Z"
   },
   {
    "duration": 113,
    "start_time": "2022-10-30T13:56:43.240Z"
   },
   {
    "duration": 41,
    "start_time": "2022-10-30T13:56:43.356Z"
   },
   {
    "duration": 192,
    "start_time": "2022-10-30T13:57:08.687Z"
   },
   {
    "duration": 109,
    "start_time": "2022-10-30T13:57:21.063Z"
   },
   {
    "duration": 105,
    "start_time": "2022-10-30T13:57:30.879Z"
   },
   {
    "duration": 34,
    "start_time": "2022-10-30T13:57:35.514Z"
   },
   {
    "duration": 32,
    "start_time": "2022-10-30T13:58:49.983Z"
   },
   {
    "duration": 36,
    "start_time": "2022-10-30T14:02:57.482Z"
   },
   {
    "duration": 3,
    "start_time": "2022-10-30T14:03:20.106Z"
   },
   {
    "duration": 36,
    "start_time": "2022-10-30T14:03:24.190Z"
   },
   {
    "duration": 32,
    "start_time": "2022-10-30T14:03:43.599Z"
   },
   {
    "duration": 1257,
    "start_time": "2022-10-30T14:08:14.769Z"
   },
   {
    "duration": 102,
    "start_time": "2022-10-30T14:11:41.153Z"
   },
   {
    "duration": 67,
    "start_time": "2022-10-30T14:11:44.825Z"
   },
   {
    "duration": 76,
    "start_time": "2022-10-30T14:14:03.516Z"
   },
   {
    "duration": 209,
    "start_time": "2022-10-30T14:15:19.252Z"
   },
   {
    "duration": 79,
    "start_time": "2022-10-30T14:16:40.240Z"
   },
   {
    "duration": 37,
    "start_time": "2022-10-30T14:16:52.348Z"
   },
   {
    "duration": 39,
    "start_time": "2022-10-30T14:16:59.744Z"
   },
   {
    "duration": 36,
    "start_time": "2022-10-30T14:17:04.568Z"
   },
   {
    "duration": 33,
    "start_time": "2022-10-30T14:17:09.088Z"
   },
   {
    "duration": 37,
    "start_time": "2022-10-30T14:17:19.384Z"
   },
   {
    "duration": 1121,
    "start_time": "2022-10-30T14:18:16.729Z"
   },
   {
    "duration": 45,
    "start_time": "2022-10-30T14:18:30.819Z"
   },
   {
    "duration": 37,
    "start_time": "2022-10-30T14:18:45.184Z"
   },
   {
    "duration": 36,
    "start_time": "2022-10-30T14:18:54.728Z"
   },
   {
    "duration": 37,
    "start_time": "2022-10-30T14:20:48.171Z"
   },
   {
    "duration": 38,
    "start_time": "2022-10-30T14:20:59.244Z"
   },
   {
    "duration": 37,
    "start_time": "2022-10-30T14:21:41.787Z"
   },
   {
    "duration": 37,
    "start_time": "2022-10-30T14:21:51.827Z"
   },
   {
    "duration": 1026,
    "start_time": "2022-10-30T14:22:03.124Z"
   },
   {
    "duration": 200,
    "start_time": "2022-10-30T14:22:04.151Z"
   },
   {
    "duration": 184,
    "start_time": "2022-10-30T14:22:04.352Z"
   },
   {
    "duration": 69,
    "start_time": "2022-10-30T14:22:04.538Z"
   },
   {
    "duration": 313,
    "start_time": "2022-10-30T14:22:04.609Z"
   },
   {
    "duration": 216,
    "start_time": "2022-10-30T14:22:04.923Z"
   },
   {
    "duration": 307,
    "start_time": "2022-10-30T14:22:05.140Z"
   },
   {
    "duration": 17,
    "start_time": "2022-10-30T14:22:05.449Z"
   },
   {
    "duration": 128,
    "start_time": "2022-10-30T14:22:05.468Z"
   },
   {
    "duration": 136,
    "start_time": "2022-10-30T14:22:05.599Z"
   },
   {
    "duration": 38,
    "start_time": "2022-10-30T14:22:19.700Z"
   },
   {
    "duration": 40,
    "start_time": "2022-10-30T14:22:35.632Z"
   },
   {
    "duration": 36,
    "start_time": "2022-10-30T14:22:44.905Z"
   },
   {
    "duration": 38,
    "start_time": "2022-10-30T14:23:10.784Z"
   },
   {
    "duration": 39,
    "start_time": "2022-10-30T14:23:23.520Z"
   },
   {
    "duration": 41,
    "start_time": "2022-10-30T14:23:32.713Z"
   },
   {
    "duration": 40,
    "start_time": "2022-10-30T14:26:33.488Z"
   },
   {
    "duration": 46,
    "start_time": "2022-10-30T14:27:02.388Z"
   },
   {
    "duration": 39,
    "start_time": "2022-10-30T14:27:19.339Z"
   },
   {
    "duration": 40,
    "start_time": "2022-10-30T14:28:44.312Z"
   },
   {
    "duration": 40,
    "start_time": "2022-10-30T14:28:52.124Z"
   },
   {
    "duration": 43,
    "start_time": "2022-10-30T14:28:58.588Z"
   },
   {
    "duration": 11,
    "start_time": "2022-10-30T14:30:45.836Z"
   },
   {
    "duration": 21,
    "start_time": "2022-10-30T14:31:16.987Z"
   },
   {
    "duration": 12,
    "start_time": "2022-10-30T14:31:32.211Z"
   },
   {
    "duration": 21,
    "start_time": "2022-10-30T14:37:47.014Z"
   },
   {
    "duration": 25,
    "start_time": "2022-10-30T14:38:01.382Z"
   },
   {
    "duration": 18,
    "start_time": "2022-10-30T14:38:11.443Z"
   },
   {
    "duration": 23,
    "start_time": "2022-10-30T14:39:16.437Z"
   },
   {
    "duration": 21,
    "start_time": "2022-10-30T14:39:20.562Z"
   },
   {
    "duration": 29,
    "start_time": "2022-10-30T15:07:09.286Z"
   },
   {
    "duration": 36,
    "start_time": "2022-10-30T15:08:51.090Z"
   },
   {
    "duration": 42,
    "start_time": "2022-10-30T15:14:58.281Z"
   },
   {
    "duration": 39,
    "start_time": "2022-10-30T15:15:50.153Z"
   },
   {
    "duration": 45,
    "start_time": "2022-10-30T15:17:39.209Z"
   },
   {
    "duration": 96,
    "start_time": "2022-10-30T15:18:50.277Z"
   },
   {
    "duration": 101,
    "start_time": "2022-10-30T15:19:03.177Z"
   },
   {
    "duration": 8,
    "start_time": "2022-10-30T15:19:35.897Z"
   },
   {
    "duration": 87,
    "start_time": "2022-10-30T15:20:00.264Z"
   },
   {
    "duration": 100,
    "start_time": "2022-10-30T15:20:20.844Z"
   },
   {
    "duration": 100,
    "start_time": "2022-10-30T15:20:39.840Z"
   },
   {
    "duration": 102,
    "start_time": "2022-10-30T15:20:44.980Z"
   },
   {
    "duration": 33,
    "start_time": "2022-10-30T15:21:50.596Z"
   },
   {
    "duration": 39,
    "start_time": "2022-10-30T15:22:54.399Z"
   },
   {
    "duration": 101,
    "start_time": "2022-10-30T15:24:11.448Z"
   },
   {
    "duration": 70,
    "start_time": "2022-10-30T15:32:35.911Z"
   },
   {
    "duration": 34,
    "start_time": "2022-10-30T15:32:45.780Z"
   },
   {
    "duration": 32,
    "start_time": "2022-10-30T15:32:52.851Z"
   },
   {
    "duration": 40,
    "start_time": "2022-10-30T15:33:45.543Z"
   },
   {
    "duration": 69,
    "start_time": "2022-10-30T15:33:50.015Z"
   },
   {
    "duration": 44,
    "start_time": "2022-10-30T15:33:56.807Z"
   },
   {
    "duration": 33,
    "start_time": "2022-10-30T15:34:19.737Z"
   },
   {
    "duration": 95,
    "start_time": "2022-10-30T15:38:32.226Z"
   },
   {
    "duration": 21,
    "start_time": "2022-10-30T15:45:39.262Z"
   },
   {
    "duration": 16,
    "start_time": "2022-10-30T15:48:01.629Z"
   },
   {
    "duration": 13,
    "start_time": "2022-10-30T15:48:49.737Z"
   },
   {
    "duration": 35,
    "start_time": "2022-10-30T15:49:05.954Z"
   },
   {
    "duration": 26,
    "start_time": "2022-10-30T15:49:54.624Z"
   },
   {
    "duration": 20,
    "start_time": "2022-10-30T15:52:39.868Z"
   },
   {
    "duration": 5,
    "start_time": "2022-10-30T15:54:20.576Z"
   },
   {
    "duration": 11,
    "start_time": "2022-10-30T15:54:24.455Z"
   },
   {
    "duration": 13,
    "start_time": "2022-10-30T15:55:12.432Z"
   },
   {
    "duration": 11,
    "start_time": "2022-10-30T16:00:21.407Z"
   },
   {
    "duration": 6,
    "start_time": "2022-10-30T16:00:47.790Z"
   },
   {
    "duration": 8,
    "start_time": "2022-10-30T16:01:31.847Z"
   },
   {
    "duration": 17,
    "start_time": "2022-10-30T16:01:34.655Z"
   },
   {
    "duration": 4,
    "start_time": "2022-10-30T16:07:49.466Z"
   },
   {
    "duration": 20,
    "start_time": "2022-10-30T16:08:53.872Z"
   },
   {
    "duration": 35,
    "start_time": "2022-10-30T16:12:49.276Z"
   },
   {
    "duration": 20,
    "start_time": "2022-10-30T16:13:48.380Z"
   },
   {
    "duration": 13,
    "start_time": "2022-10-30T16:14:28.144Z"
   },
   {
    "duration": 9,
    "start_time": "2022-10-30T16:19:34.256Z"
   },
   {
    "duration": 12,
    "start_time": "2022-10-30T16:19:38.000Z"
   },
   {
    "duration": 65,
    "start_time": "2022-10-30T16:19:45.081Z"
   },
   {
    "duration": 11,
    "start_time": "2022-10-30T16:19:53.737Z"
   },
   {
    "duration": 9,
    "start_time": "2022-10-30T16:21:02.560Z"
   },
   {
    "duration": 5,
    "start_time": "2022-10-30T16:21:30.174Z"
   },
   {
    "duration": 146,
    "start_time": "2022-10-30T16:22:54.028Z"
   },
   {
    "duration": 224,
    "start_time": "2022-10-30T16:23:04.856Z"
   },
   {
    "duration": 148,
    "start_time": "2022-10-30T16:23:35.207Z"
   },
   {
    "duration": 213,
    "start_time": "2022-10-30T16:23:59.243Z"
   },
   {
    "duration": 40,
    "start_time": "2022-10-30T16:24:50.687Z"
   },
   {
    "duration": 99,
    "start_time": "2022-10-30T16:24:53.472Z"
   },
   {
    "duration": 12,
    "start_time": "2022-10-30T16:24:59.544Z"
   },
   {
    "duration": 21,
    "start_time": "2022-10-30T16:25:12.156Z"
   },
   {
    "duration": 34,
    "start_time": "2022-10-30T16:25:19.303Z"
   },
   {
    "duration": 96,
    "start_time": "2022-10-30T16:25:25.179Z"
   },
   {
    "duration": 34,
    "start_time": "2022-10-30T16:25:33.536Z"
   },
   {
    "duration": 105,
    "start_time": "2022-10-30T16:25:38.190Z"
   },
   {
    "duration": 19,
    "start_time": "2022-10-30T16:28:06.287Z"
   },
   {
    "duration": 999,
    "start_time": "2022-10-30T18:51:35.368Z"
   },
   {
    "duration": 188,
    "start_time": "2022-10-30T18:51:36.368Z"
   },
   {
    "duration": 138,
    "start_time": "2022-10-30T18:51:36.558Z"
   },
   {
    "duration": 52,
    "start_time": "2022-10-30T18:51:36.698Z"
   },
   {
    "duration": 274,
    "start_time": "2022-10-30T18:51:36.752Z"
   },
   {
    "duration": 184,
    "start_time": "2022-10-30T18:51:37.028Z"
   },
   {
    "duration": 276,
    "start_time": "2022-10-30T18:51:37.213Z"
   },
   {
    "duration": 13,
    "start_time": "2022-10-30T18:51:37.491Z"
   },
   {
    "duration": 38,
    "start_time": "2022-10-30T18:51:37.505Z"
   },
   {
    "duration": 29,
    "start_time": "2022-10-30T18:51:37.546Z"
   },
   {
    "duration": 103,
    "start_time": "2022-10-30T18:51:37.576Z"
   },
   {
    "duration": 11,
    "start_time": "2022-10-30T18:51:37.681Z"
   },
   {
    "duration": 41,
    "start_time": "2022-10-30T18:51:37.694Z"
   },
   {
    "duration": 68,
    "start_time": "2022-10-30T20:02:51.859Z"
   },
   {
    "duration": 64,
    "start_time": "2022-10-30T20:03:03.975Z"
   },
   {
    "duration": 68,
    "start_time": "2022-10-30T20:04:08.004Z"
   },
   {
    "duration": 67,
    "start_time": "2022-10-30T20:04:28.021Z"
   },
   {
    "duration": 56,
    "start_time": "2022-10-30T20:04:50.558Z"
   },
   {
    "duration": 189,
    "start_time": "2022-10-30T20:06:31.915Z"
   },
   {
    "duration": 268,
    "start_time": "2022-10-30T20:07:22.402Z"
   },
   {
    "duration": 211,
    "start_time": "2022-10-30T20:07:38.042Z"
   },
   {
    "duration": 249,
    "start_time": "2022-10-30T20:08:07.219Z"
   },
   {
    "duration": 86,
    "start_time": "2022-10-30T20:08:34.477Z"
   },
   {
    "duration": 226,
    "start_time": "2022-10-30T20:09:39.593Z"
   },
   {
    "duration": 88,
    "start_time": "2022-10-30T20:09:45.961Z"
   },
   {
    "duration": 91,
    "start_time": "2022-10-30T20:09:59.134Z"
   },
   {
    "duration": 103,
    "start_time": "2022-10-30T20:10:09.188Z"
   },
   {
    "duration": 221,
    "start_time": "2022-10-30T20:10:14.263Z"
   },
   {
    "duration": 215,
    "start_time": "2022-10-30T20:10:31.448Z"
   },
   {
    "duration": 194,
    "start_time": "2022-10-30T20:11:29.654Z"
   },
   {
    "duration": 10655,
    "start_time": "2022-10-30T20:12:31.102Z"
   },
   {
    "duration": 204,
    "start_time": "2022-10-30T20:12:50.474Z"
   },
   {
    "duration": 75,
    "start_time": "2022-10-30T20:13:53.010Z"
   },
   {
    "duration": 222,
    "start_time": "2022-10-30T20:14:35.622Z"
   },
   {
    "duration": 223,
    "start_time": "2022-10-30T20:14:43.150Z"
   },
   {
    "duration": 254,
    "start_time": "2022-10-30T20:15:00.882Z"
   },
   {
    "duration": 118,
    "start_time": "2022-10-30T20:15:28.618Z"
   },
   {
    "duration": 217,
    "start_time": "2022-10-30T20:16:16.366Z"
   },
   {
    "duration": 78,
    "start_time": "2022-10-30T20:16:35.540Z"
   },
   {
    "duration": 194,
    "start_time": "2022-10-30T20:16:41.207Z"
   },
   {
    "duration": 237,
    "start_time": "2022-10-30T20:17:08.541Z"
   },
   {
    "duration": 212,
    "start_time": "2022-10-30T20:17:29.513Z"
   },
   {
    "duration": 1016,
    "start_time": "2022-10-30T20:19:05.481Z"
   },
   {
    "duration": 405,
    "start_time": "2022-10-30T20:20:05.737Z"
   },
   {
    "duration": 390,
    "start_time": "2022-10-30T20:25:48.292Z"
   },
   {
    "duration": 40,
    "start_time": "2022-10-30T20:25:57.468Z"
   },
   {
    "duration": 34,
    "start_time": "2022-10-30T20:26:42.029Z"
   },
   {
    "duration": 35,
    "start_time": "2022-10-30T20:27:02.880Z"
   },
   {
    "duration": 115,
    "start_time": "2022-10-30T20:30:11.360Z"
   },
   {
    "duration": 116,
    "start_time": "2022-10-30T20:31:17.815Z"
   },
   {
    "duration": 113,
    "start_time": "2022-10-30T20:31:32.727Z"
   },
   {
    "duration": 137,
    "start_time": "2022-10-30T20:33:44.363Z"
   },
   {
    "duration": 117,
    "start_time": "2022-10-30T20:33:56.735Z"
   },
   {
    "duration": 115,
    "start_time": "2022-10-30T20:34:18.739Z"
   },
   {
    "duration": 120,
    "start_time": "2022-10-30T20:34:28.895Z"
   },
   {
    "duration": 28,
    "start_time": "2022-10-30T20:35:26.571Z"
   },
   {
    "duration": 13,
    "start_time": "2022-10-30T20:39:32.794Z"
   },
   {
    "duration": 1120,
    "start_time": "2022-10-30T20:59:33.704Z"
   },
   {
    "duration": 185,
    "start_time": "2022-10-30T20:59:34.826Z"
   },
   {
    "duration": 157,
    "start_time": "2022-10-30T20:59:35.013Z"
   },
   {
    "duration": 218,
    "start_time": "2022-10-30T20:59:35.172Z"
   },
   {
    "duration": 462,
    "start_time": "2022-10-30T20:59:35.392Z"
   },
   {
    "duration": 244,
    "start_time": "2022-10-30T20:59:35.856Z"
   },
   {
    "duration": 307,
    "start_time": "2022-10-30T20:59:36.102Z"
   },
   {
    "duration": 19,
    "start_time": "2022-10-30T20:59:36.411Z"
   },
   {
    "duration": 33,
    "start_time": "2022-10-30T20:59:36.432Z"
   },
   {
    "duration": 59,
    "start_time": "2022-10-30T20:59:36.468Z"
   },
   {
    "duration": 125,
    "start_time": "2022-10-30T20:59:36.529Z"
   },
   {
    "duration": 26,
    "start_time": "2022-10-30T20:59:36.657Z"
   },
   {
    "duration": 37,
    "start_time": "2022-10-30T20:59:36.685Z"
   },
   {
    "duration": 162,
    "start_time": "2022-10-30T21:00:52.802Z"
   },
   {
    "duration": 191,
    "start_time": "2022-10-30T21:01:10.434Z"
   },
   {
    "duration": 246,
    "start_time": "2022-10-30T21:01:16.031Z"
   },
   {
    "duration": 319,
    "start_time": "2022-10-30T21:01:36.178Z"
   },
   {
    "duration": 423,
    "start_time": "2022-10-31T07:46:02.355Z"
   },
   {
    "duration": 464,
    "start_time": "2022-10-31T07:47:03.786Z"
   },
   {
    "duration": 424,
    "start_time": "2022-10-31T07:47:10.657Z"
   }
  ],
  "kernelspec": {
   "display_name": "Python 3 (ipykernel)",
   "language": "python",
   "name": "python3"
  },
  "language_info": {
   "codemirror_mode": {
    "name": "ipython",
    "version": 3
   },
   "file_extension": ".py",
   "mimetype": "text/x-python",
   "name": "python",
   "nbconvert_exporter": "python",
   "pygments_lexer": "ipython3",
   "version": "3.9.5"
  },
  "toc": {
   "base_numbering": 1,
   "nav_menu": {
    "height": "260px",
    "width": "372px"
   },
   "number_sections": true,
   "sideBar": true,
   "skip_h1_title": true,
   "title_cell": "Table of Contents",
   "title_sidebar": "Contents",
   "toc_cell": false,
   "toc_position": {
    "height": "calc(100% - 180px)",
    "left": "10px",
    "top": "150px",
    "width": "164.988px"
   },
   "toc_section_display": true,
   "toc_window_display": true
  }
 },
 "nbformat": 4,
 "nbformat_minor": 2
}
