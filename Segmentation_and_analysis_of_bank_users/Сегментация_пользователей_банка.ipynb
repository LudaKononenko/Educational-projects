{
 "cells": [
  {
   "cell_type": "markdown",
   "metadata": {
    "id": "BVioHOwwZzIY"
   },
   "source": [
    "# Сегментация пользователей банка"
   ]
  },
  {
   "cell_type": "markdown",
   "metadata": {
    "id": "YNmT0dMWZzIZ"
   },
   "source": [
    "# Материалы: \n",
    "* Презентация, https://docs.google.com/presentation/d/1xymxqY5yRF3G_J0UPfZJRWV5ZZIHDEtpEi-Kkowhbvo/edit?usp=sharing\n",
    "* Дашборд: https://public.tableau.com/views/_16711085535450/Dashboard1?:language=en-US&:display_count=n&:origin=viz_share_link"
   ]
  },
  {
   "cell_type": "markdown",
   "metadata": {
    "id": "zDo598CaZzIa"
   },
   "source": [
    "**Заказчик:** \"Метанпромбанк\"\n",
    "\n",
    "**Цель:** уменьшение оттока клиентов банка. \n",
    "\n",
    "**Задачи:**\n",
    "* сегментация текущих пользователей Банка\n",
    "* выдвижение рекомендаций и наиболее подходящих предложений клиентам из каждого сегмента для уменьшения оттока\n",
    "\n",
    "**Гипотезы:**\n",
    "* Средний доход клиентов, которые пользуются двумя продуктами, и тех, у кого только один продукт, равны.\n",
    "* Доли клиентов с кредитной картой, имеющих один продукт и клиентов, у которых их два, равны.\n",
    "\n",
    "**Ход выполнения:**\n",
    "1. Знакомство с данными\n",
    "2. Предобработка данных\n",
    "3. Исследовательский анализ данных\n",
    "4. Сегментация пользователей\n",
    "5. Проверка гипотез\n",
    "6. Формулировка выводов и рекомендаций"
   ]
  },
  {
   "cell_type": "markdown",
   "metadata": {
    "id": "bqWInlW0ZzIc"
   },
   "source": [
    "## Знакомство с данными"
   ]
  },
  {
   "cell_type": "code",
   "execution_count": null,
   "metadata": {
    "id": "qETRu_5kZzId"
   },
   "outputs": [],
   "source": [
    "import pandas as pd\n",
    "import matplotlib.pyplot as plt\n",
    "import seaborn as sns\n",
    "import numpy as np\n",
    "from scipy import stats as st\n",
    "import math as mth\n",
    "\n",
    "sns.set_palette('pastel')"
   ]
  },
  {
   "cell_type": "code",
   "execution_count": null,
   "metadata": {
    "id": "IBbYh-xbZzIf",
    "outputId": "cc139923-31a4-4cab-8a98-6fe687d5b588"
   },
   "outputs": [
    {
     "name": "stdout",
     "output_type": "stream",
     "text": [
      "<class 'pandas.core.frame.DataFrame'>\n",
      "RangeIndex: 10000 entries, 0 to 9999\n",
      "Data columns (total 12 columns):\n",
      " #   Column            Non-Null Count  Dtype  \n",
      "---  ------            --------------  -----  \n",
      " 0   userid            10000 non-null  int64  \n",
      " 1   score             10000 non-null  int64  \n",
      " 2   City              10000 non-null  object \n",
      " 3   Gender            10000 non-null  object \n",
      " 4   Age               10000 non-null  int64  \n",
      " 5   Objects           10000 non-null  int64  \n",
      " 6   Balance           6383 non-null   float64\n",
      " 7   Products          10000 non-null  int64  \n",
      " 8   CreditCard        10000 non-null  int64  \n",
      " 9   Loyalty           10000 non-null  int64  \n",
      " 10  estimated_salary  10000 non-null  float64\n",
      " 11  Churn             10000 non-null  int64  \n",
      "dtypes: float64(2), int64(8), object(2)\n",
      "memory usage: 937.6+ KB\n"
     ]
    },
    {
     "data": {
      "text/html": [
       "<div>\n",
       "<style scoped>\n",
       "    .dataframe tbody tr th:only-of-type {\n",
       "        vertical-align: middle;\n",
       "    }\n",
       "\n",
       "    .dataframe tbody tr th {\n",
       "        vertical-align: top;\n",
       "    }\n",
       "\n",
       "    .dataframe thead th {\n",
       "        text-align: right;\n",
       "    }\n",
       "</style>\n",
       "<table border=\"1\" class=\"dataframe\">\n",
       "  <thead>\n",
       "    <tr style=\"text-align: right;\">\n",
       "      <th></th>\n",
       "      <th>user_id</th>\n",
       "      <th>score</th>\n",
       "      <th>city</th>\n",
       "      <th>gender</th>\n",
       "      <th>age</th>\n",
       "      <th>objects</th>\n",
       "      <th>balance</th>\n",
       "      <th>products</th>\n",
       "      <th>credit_card</th>\n",
       "      <th>loyalty</th>\n",
       "      <th>estimated_salary</th>\n",
       "      <th>churn</th>\n",
       "    </tr>\n",
       "  </thead>\n",
       "  <tbody>\n",
       "    <tr>\n",
       "      <th>0</th>\n",
       "      <td>15677338</td>\n",
       "      <td>619</td>\n",
       "      <td>Ярославль</td>\n",
       "      <td>Ж</td>\n",
       "      <td>42</td>\n",
       "      <td>2</td>\n",
       "      <td>NaN</td>\n",
       "      <td>1</td>\n",
       "      <td>1</td>\n",
       "      <td>1</td>\n",
       "      <td>101348.88</td>\n",
       "      <td>1</td>\n",
       "    </tr>\n",
       "    <tr>\n",
       "      <th>1</th>\n",
       "      <td>15690047</td>\n",
       "      <td>608</td>\n",
       "      <td>Рыбинск</td>\n",
       "      <td>Ж</td>\n",
       "      <td>41</td>\n",
       "      <td>1</td>\n",
       "      <td>83807.86</td>\n",
       "      <td>1</td>\n",
       "      <td>0</td>\n",
       "      <td>1</td>\n",
       "      <td>112542.58</td>\n",
       "      <td>0</td>\n",
       "    </tr>\n",
       "    <tr>\n",
       "      <th>2</th>\n",
       "      <td>15662040</td>\n",
       "      <td>502</td>\n",
       "      <td>Ярославль</td>\n",
       "      <td>Ж</td>\n",
       "      <td>42</td>\n",
       "      <td>8</td>\n",
       "      <td>159660.80</td>\n",
       "      <td>3</td>\n",
       "      <td>1</td>\n",
       "      <td>0</td>\n",
       "      <td>113931.57</td>\n",
       "      <td>1</td>\n",
       "    </tr>\n",
       "    <tr>\n",
       "      <th>3</th>\n",
       "      <td>15744090</td>\n",
       "      <td>699</td>\n",
       "      <td>Ярославль</td>\n",
       "      <td>Ж</td>\n",
       "      <td>39</td>\n",
       "      <td>1</td>\n",
       "      <td>NaN</td>\n",
       "      <td>2</td>\n",
       "      <td>0</td>\n",
       "      <td>0</td>\n",
       "      <td>93826.63</td>\n",
       "      <td>0</td>\n",
       "    </tr>\n",
       "    <tr>\n",
       "      <th>4</th>\n",
       "      <td>15780624</td>\n",
       "      <td>850</td>\n",
       "      <td>Рыбинск</td>\n",
       "      <td>Ж</td>\n",
       "      <td>43</td>\n",
       "      <td>2</td>\n",
       "      <td>125510.82</td>\n",
       "      <td>1</td>\n",
       "      <td>1</td>\n",
       "      <td>1</td>\n",
       "      <td>79084.10</td>\n",
       "      <td>0</td>\n",
       "    </tr>\n",
       "  </tbody>\n",
       "</table>\n",
       "</div>"
      ],
      "text/plain": [
       "    user_id  score       city gender  age  objects    balance  products  \\\n",
       "0  15677338    619  Ярославль      Ж   42        2        NaN         1   \n",
       "1  15690047    608    Рыбинск      Ж   41        1   83807.86         1   \n",
       "2  15662040    502  Ярославль      Ж   42        8  159660.80         3   \n",
       "3  15744090    699  Ярославль      Ж   39        1        NaN         2   \n",
       "4  15780624    850    Рыбинск      Ж   43        2  125510.82         1   \n",
       "\n",
       "   credit_card  loyalty  estimated_salary  churn  \n",
       "0            1        1         101348.88      1  \n",
       "1            0        1         112542.58      0  \n",
       "2            1        0         113931.57      1  \n",
       "3            0        0          93826.63      0  \n",
       "4            1        1          79084.10      0  "
      ]
     },
     "execution_count": 2,
     "metadata": {},
     "output_type": "execute_result"
    }
   ],
   "source": [
    "#посмотрим, какие данные у нас есть\n",
    "data = pd.read_csv('bank_dataset.csv')\n",
    "\n",
    "data.info()\n",
    "\n",
    "#изменим названия столбцов для удобства \n",
    "data.columns = data.columns.str.lower() \n",
    "data = data.rename(columns = {'userid':'user_id', 'creditcard':'credit_card'})\n",
    "\n",
    "data.head()"
   ]
  },
  {
   "cell_type": "code",
   "execution_count": null,
   "metadata": {
    "id": "lf0XUQ00ZzIf",
    "outputId": "e84481cc-9dc9-4ffb-cb90-c179899baec5"
   },
   "outputs": [
    {
     "data": {
      "text/html": [
       "<div>\n",
       "<style scoped>\n",
       "    .dataframe tbody tr th:only-of-type {\n",
       "        vertical-align: middle;\n",
       "    }\n",
       "\n",
       "    .dataframe tbody tr th {\n",
       "        vertical-align: top;\n",
       "    }\n",
       "\n",
       "    .dataframe thead th {\n",
       "        text-align: right;\n",
       "    }\n",
       "</style>\n",
       "<table border=\"1\" class=\"dataframe\">\n",
       "  <thead>\n",
       "    <tr style=\"text-align: right;\">\n",
       "      <th></th>\n",
       "      <th>user_id</th>\n",
       "      <th>score</th>\n",
       "      <th>city</th>\n",
       "      <th>gender</th>\n",
       "      <th>age</th>\n",
       "      <th>objects</th>\n",
       "      <th>balance</th>\n",
       "      <th>products</th>\n",
       "      <th>credit_card</th>\n",
       "      <th>loyalty</th>\n",
       "      <th>estimated_salary</th>\n",
       "      <th>churn</th>\n",
       "    </tr>\n",
       "  </thead>\n",
       "  <tbody>\n",
       "    <tr>\n",
       "      <th>count</th>\n",
       "      <td>1.000000e+04</td>\n",
       "      <td>10000.000000</td>\n",
       "      <td>10000</td>\n",
       "      <td>10000</td>\n",
       "      <td>10000.000000</td>\n",
       "      <td>10000.000000</td>\n",
       "      <td>6383.000000</td>\n",
       "      <td>10000.000000</td>\n",
       "      <td>10000.00000</td>\n",
       "      <td>10000.000000</td>\n",
       "      <td>10000.000000</td>\n",
       "      <td>10000.000000</td>\n",
       "    </tr>\n",
       "    <tr>\n",
       "      <th>unique</th>\n",
       "      <td>NaN</td>\n",
       "      <td>NaN</td>\n",
       "      <td>3</td>\n",
       "      <td>2</td>\n",
       "      <td>NaN</td>\n",
       "      <td>NaN</td>\n",
       "      <td>NaN</td>\n",
       "      <td>NaN</td>\n",
       "      <td>NaN</td>\n",
       "      <td>NaN</td>\n",
       "      <td>NaN</td>\n",
       "      <td>NaN</td>\n",
       "    </tr>\n",
       "    <tr>\n",
       "      <th>top</th>\n",
       "      <td>NaN</td>\n",
       "      <td>NaN</td>\n",
       "      <td>Ярославль</td>\n",
       "      <td>М</td>\n",
       "      <td>NaN</td>\n",
       "      <td>NaN</td>\n",
       "      <td>NaN</td>\n",
       "      <td>NaN</td>\n",
       "      <td>NaN</td>\n",
       "      <td>NaN</td>\n",
       "      <td>NaN</td>\n",
       "      <td>NaN</td>\n",
       "    </tr>\n",
       "    <tr>\n",
       "      <th>freq</th>\n",
       "      <td>NaN</td>\n",
       "      <td>NaN</td>\n",
       "      <td>5014</td>\n",
       "      <td>5457</td>\n",
       "      <td>NaN</td>\n",
       "      <td>NaN</td>\n",
       "      <td>NaN</td>\n",
       "      <td>NaN</td>\n",
       "      <td>NaN</td>\n",
       "      <td>NaN</td>\n",
       "      <td>NaN</td>\n",
       "      <td>NaN</td>\n",
       "    </tr>\n",
       "    <tr>\n",
       "      <th>mean</th>\n",
       "      <td>1.573368e+07</td>\n",
       "      <td>650.528800</td>\n",
       "      <td>NaN</td>\n",
       "      <td>NaN</td>\n",
       "      <td>38.921800</td>\n",
       "      <td>5.012800</td>\n",
       "      <td>119827.493793</td>\n",
       "      <td>1.530200</td>\n",
       "      <td>0.70550</td>\n",
       "      <td>0.515100</td>\n",
       "      <td>100090.239881</td>\n",
       "      <td>0.203700</td>\n",
       "    </tr>\n",
       "    <tr>\n",
       "      <th>std</th>\n",
       "      <td>7.193619e+04</td>\n",
       "      <td>96.653299</td>\n",
       "      <td>NaN</td>\n",
       "      <td>NaN</td>\n",
       "      <td>10.487806</td>\n",
       "      <td>2.892174</td>\n",
       "      <td>30095.056462</td>\n",
       "      <td>0.581654</td>\n",
       "      <td>0.45584</td>\n",
       "      <td>0.499797</td>\n",
       "      <td>57510.492818</td>\n",
       "      <td>0.402769</td>\n",
       "    </tr>\n",
       "    <tr>\n",
       "      <th>min</th>\n",
       "      <td>1.560844e+07</td>\n",
       "      <td>350.000000</td>\n",
       "      <td>NaN</td>\n",
       "      <td>NaN</td>\n",
       "      <td>18.000000</td>\n",
       "      <td>0.000000</td>\n",
       "      <td>3768.690000</td>\n",
       "      <td>1.000000</td>\n",
       "      <td>0.00000</td>\n",
       "      <td>0.000000</td>\n",
       "      <td>11.580000</td>\n",
       "      <td>0.000000</td>\n",
       "    </tr>\n",
       "    <tr>\n",
       "      <th>25%</th>\n",
       "      <td>1.567126e+07</td>\n",
       "      <td>584.000000</td>\n",
       "      <td>NaN</td>\n",
       "      <td>NaN</td>\n",
       "      <td>32.000000</td>\n",
       "      <td>3.000000</td>\n",
       "      <td>100181.975000</td>\n",
       "      <td>1.000000</td>\n",
       "      <td>0.00000</td>\n",
       "      <td>0.000000</td>\n",
       "      <td>51002.110000</td>\n",
       "      <td>0.000000</td>\n",
       "    </tr>\n",
       "    <tr>\n",
       "      <th>50%</th>\n",
       "      <td>1.573347e+07</td>\n",
       "      <td>652.000000</td>\n",
       "      <td>NaN</td>\n",
       "      <td>NaN</td>\n",
       "      <td>37.000000</td>\n",
       "      <td>5.000000</td>\n",
       "      <td>119839.690000</td>\n",
       "      <td>1.000000</td>\n",
       "      <td>1.00000</td>\n",
       "      <td>1.000000</td>\n",
       "      <td>100193.915000</td>\n",
       "      <td>0.000000</td>\n",
       "    </tr>\n",
       "    <tr>\n",
       "      <th>75%</th>\n",
       "      <td>1.579597e+07</td>\n",
       "      <td>718.000000</td>\n",
       "      <td>NaN</td>\n",
       "      <td>NaN</td>\n",
       "      <td>44.000000</td>\n",
       "      <td>7.000000</td>\n",
       "      <td>139512.290000</td>\n",
       "      <td>2.000000</td>\n",
       "      <td>1.00000</td>\n",
       "      <td>1.000000</td>\n",
       "      <td>149388.247500</td>\n",
       "      <td>0.000000</td>\n",
       "    </tr>\n",
       "    <tr>\n",
       "      <th>max</th>\n",
       "      <td>1.585843e+07</td>\n",
       "      <td>850.000000</td>\n",
       "      <td>NaN</td>\n",
       "      <td>NaN</td>\n",
       "      <td>92.000000</td>\n",
       "      <td>10.000000</td>\n",
       "      <td>250898.090000</td>\n",
       "      <td>4.000000</td>\n",
       "      <td>1.00000</td>\n",
       "      <td>1.000000</td>\n",
       "      <td>199992.480000</td>\n",
       "      <td>1.000000</td>\n",
       "    </tr>\n",
       "  </tbody>\n",
       "</table>\n",
       "</div>"
      ],
      "text/plain": [
       "             user_id         score       city gender           age  \\\n",
       "count   1.000000e+04  10000.000000      10000  10000  10000.000000   \n",
       "unique           NaN           NaN          3      2           NaN   \n",
       "top              NaN           NaN  Ярославль      М           NaN   \n",
       "freq             NaN           NaN       5014   5457           NaN   \n",
       "mean    1.573368e+07    650.528800        NaN    NaN     38.921800   \n",
       "std     7.193619e+04     96.653299        NaN    NaN     10.487806   \n",
       "min     1.560844e+07    350.000000        NaN    NaN     18.000000   \n",
       "25%     1.567126e+07    584.000000        NaN    NaN     32.000000   \n",
       "50%     1.573347e+07    652.000000        NaN    NaN     37.000000   \n",
       "75%     1.579597e+07    718.000000        NaN    NaN     44.000000   \n",
       "max     1.585843e+07    850.000000        NaN    NaN     92.000000   \n",
       "\n",
       "             objects        balance      products  credit_card       loyalty  \\\n",
       "count   10000.000000    6383.000000  10000.000000  10000.00000  10000.000000   \n",
       "unique           NaN            NaN           NaN          NaN           NaN   \n",
       "top              NaN            NaN           NaN          NaN           NaN   \n",
       "freq             NaN            NaN           NaN          NaN           NaN   \n",
       "mean        5.012800  119827.493793      1.530200      0.70550      0.515100   \n",
       "std         2.892174   30095.056462      0.581654      0.45584      0.499797   \n",
       "min         0.000000    3768.690000      1.000000      0.00000      0.000000   \n",
       "25%         3.000000  100181.975000      1.000000      0.00000      0.000000   \n",
       "50%         5.000000  119839.690000      1.000000      1.00000      1.000000   \n",
       "75%         7.000000  139512.290000      2.000000      1.00000      1.000000   \n",
       "max        10.000000  250898.090000      4.000000      1.00000      1.000000   \n",
       "\n",
       "        estimated_salary         churn  \n",
       "count       10000.000000  10000.000000  \n",
       "unique               NaN           NaN  \n",
       "top                  NaN           NaN  \n",
       "freq                 NaN           NaN  \n",
       "mean       100090.239881      0.203700  \n",
       "std         57510.492818      0.402769  \n",
       "min            11.580000      0.000000  \n",
       "25%         51002.110000      0.000000  \n",
       "50%        100193.915000      0.000000  \n",
       "75%        149388.247500      0.000000  \n",
       "max        199992.480000      1.000000  "
      ]
     },
     "execution_count": 3,
     "metadata": {},
     "output_type": "execute_result"
    }
   ],
   "source": [
    "#посмотрим описание данных\n",
    "data.describe(include= 'all')"
   ]
  },
  {
   "cell_type": "code",
   "execution_count": null,
   "metadata": {
    "id": "jZLldmjoZzIg",
    "outputId": "1a24e421-b89a-440c-99d4-09ae79fbbb88"
   },
   "outputs": [
    {
     "data": {
      "text/plain": [
       "Ярославль         5014\n",
       "Ростов Великий    2509\n",
       "Рыбинск           2477\n",
       "Name: city, dtype: int64"
      ]
     },
     "execution_count": 4,
     "metadata": {},
     "output_type": "execute_result"
    }
   ],
   "source": [
    "data['city'].value_counts()"
   ]
  },
  {
   "cell_type": "markdown",
   "metadata": {
    "id": "2H0D7CHZZzIg"
   },
   "source": [
    "**Выводы**\n",
    "\n",
    "У нас есть **10 000** строк с информацией о пользователях Банка в городах Ярославль, Ростов Великий и Рыбинск и **11** столбцов, описывающих клиентов и их действия.   \n",
    "Только столбец с текущим балансом (balance) имеет пропуски.   \n",
    "Все данные представлены в верном формате.\n",
    "\n",
    "Наш **\"медианный\" пользователь** - это человек около 39 лет, имеющий 1 или 2 продукта в банке, баланс на карте более 100 000.   \n",
    "Заметны выбросы (например, зарплата 11 рублей или 10 объектов в собственности), их мы проработаем в следующем блоке. "
   ]
  },
  {
   "cell_type": "markdown",
   "metadata": {
    "id": "rhRkGhbyZzIh"
   },
   "source": [
    "## Предобработка данных"
   ]
  },
  {
   "cell_type": "markdown",
   "metadata": {
    "id": "m3r_be2vZzIh"
   },
   "source": [
    "### Категоризация данных"
   ]
  },
  {
   "cell_type": "markdown",
   "metadata": {
    "id": "5nESw-5KZzIh"
   },
   "source": [
    "Разделим пользователей на несколько различных категорий для удобства дальнейшей обработки и поиска закономерностей в их поведении."
   ]
  },
  {
   "cell_type": "code",
   "execution_count": null,
   "metadata": {
    "id": "NFxwZdYxZzIh"
   },
   "outputs": [],
   "source": [
    "#выделим категорию возраста, добавив банковский критерий: \n",
    "#многие выдают кредитные карты/ипотеки с 21-23 лет и перестают после 65-75,\n",
    "#поэтому выделим их в отдельные группы\n",
    "\n",
    "def age_group(age):\n",
    "    if age <=23:\n",
    "        return '18-23'\n",
    "    if age >23 and age <=35:\n",
    "        return '24-35'\n",
    "    if age >35 and age <=50:\n",
    "        return '36-50'\n",
    "    if age >50 and age <65:\n",
    "        return '51-65'\n",
    "    if age >=65:\n",
    "        return '65+'\n",
    "\n",
    "data['age_group'] = data['age'].apply(age_group)"
   ]
  },
  {
   "cell_type": "code",
   "execution_count": null,
   "metadata": {
    "id": "gCdT5SmXZzIi",
    "outputId": "6ac4cc8d-de78-41f6-e40d-2a05ed9a7f04"
   },
   "outputs": [
    {
     "name": "stdout",
     "output_type": "stream",
     "text": [
      "city\n",
      "Ростов Великий    102397.22\n",
      "Рыбинск            99984.86\n",
      "Ярославль          99132.31\n",
      "Name: estimated_salary, dtype: float64\n"
     ]
    },
    {
     "data": {
      "text/html": [
       "<div>\n",
       "<style scoped>\n",
       "    .dataframe tbody tr th:only-of-type {\n",
       "        vertical-align: middle;\n",
       "    }\n",
       "\n",
       "    .dataframe tbody tr th {\n",
       "        vertical-align: top;\n",
       "    }\n",
       "\n",
       "    .dataframe thead th {\n",
       "        text-align: right;\n",
       "    }\n",
       "</style>\n",
       "<table border=\"1\" class=\"dataframe\">\n",
       "  <thead>\n",
       "    <tr style=\"text-align: right;\">\n",
       "      <th></th>\n",
       "      <th>user_id</th>\n",
       "      <th>score</th>\n",
       "      <th>city</th>\n",
       "      <th>gender</th>\n",
       "      <th>age</th>\n",
       "      <th>objects</th>\n",
       "      <th>balance</th>\n",
       "      <th>products</th>\n",
       "      <th>credit_card</th>\n",
       "      <th>loyalty</th>\n",
       "      <th>estimated_salary</th>\n",
       "      <th>churn</th>\n",
       "      <th>age_group</th>\n",
       "      <th>salary_group</th>\n",
       "    </tr>\n",
       "  </thead>\n",
       "  <tbody>\n",
       "    <tr>\n",
       "      <th>0</th>\n",
       "      <td>15677338</td>\n",
       "      <td>619</td>\n",
       "      <td>Ярославль</td>\n",
       "      <td>Ж</td>\n",
       "      <td>42</td>\n",
       "      <td>2</td>\n",
       "      <td>NaN</td>\n",
       "      <td>1</td>\n",
       "      <td>1</td>\n",
       "      <td>1</td>\n",
       "      <td>101348.88</td>\n",
       "      <td>1</td>\n",
       "      <td>36-50</td>\n",
       "      <td>средний доход</td>\n",
       "    </tr>\n",
       "    <tr>\n",
       "      <th>1</th>\n",
       "      <td>15690047</td>\n",
       "      <td>608</td>\n",
       "      <td>Рыбинск</td>\n",
       "      <td>Ж</td>\n",
       "      <td>41</td>\n",
       "      <td>1</td>\n",
       "      <td>83807.86</td>\n",
       "      <td>1</td>\n",
       "      <td>0</td>\n",
       "      <td>1</td>\n",
       "      <td>112542.58</td>\n",
       "      <td>0</td>\n",
       "      <td>36-50</td>\n",
       "      <td>средний доход</td>\n",
       "    </tr>\n",
       "    <tr>\n",
       "      <th>2</th>\n",
       "      <td>15662040</td>\n",
       "      <td>502</td>\n",
       "      <td>Ярославль</td>\n",
       "      <td>Ж</td>\n",
       "      <td>42</td>\n",
       "      <td>8</td>\n",
       "      <td>159660.80</td>\n",
       "      <td>3</td>\n",
       "      <td>1</td>\n",
       "      <td>0</td>\n",
       "      <td>113931.57</td>\n",
       "      <td>1</td>\n",
       "      <td>36-50</td>\n",
       "      <td>средний доход</td>\n",
       "    </tr>\n",
       "    <tr>\n",
       "      <th>3</th>\n",
       "      <td>15744090</td>\n",
       "      <td>699</td>\n",
       "      <td>Ярославль</td>\n",
       "      <td>Ж</td>\n",
       "      <td>39</td>\n",
       "      <td>1</td>\n",
       "      <td>NaN</td>\n",
       "      <td>2</td>\n",
       "      <td>0</td>\n",
       "      <td>0</td>\n",
       "      <td>93826.63</td>\n",
       "      <td>0</td>\n",
       "      <td>36-50</td>\n",
       "      <td>средний доход</td>\n",
       "    </tr>\n",
       "    <tr>\n",
       "      <th>4</th>\n",
       "      <td>15780624</td>\n",
       "      <td>850</td>\n",
       "      <td>Рыбинск</td>\n",
       "      <td>Ж</td>\n",
       "      <td>43</td>\n",
       "      <td>2</td>\n",
       "      <td>125510.82</td>\n",
       "      <td>1</td>\n",
       "      <td>1</td>\n",
       "      <td>1</td>\n",
       "      <td>79084.10</td>\n",
       "      <td>0</td>\n",
       "      <td>36-50</td>\n",
       "      <td>средний доход</td>\n",
       "    </tr>\n",
       "  </tbody>\n",
       "</table>\n",
       "</div>"
      ],
      "text/plain": [
       "    user_id  score       city gender  age  objects    balance  products  \\\n",
       "0  15677338    619  Ярославль      Ж   42        2        NaN         1   \n",
       "1  15690047    608    Рыбинск      Ж   41        1   83807.86         1   \n",
       "2  15662040    502  Ярославль      Ж   42        8  159660.80         3   \n",
       "3  15744090    699  Ярославль      Ж   39        1        NaN         2   \n",
       "4  15780624    850    Рыбинск      Ж   43        2  125510.82         1   \n",
       "\n",
       "   credit_card  loyalty  estimated_salary  churn age_group   salary_group  \n",
       "0            1        1         101348.88      1     36-50  средний доход  \n",
       "1            0        1         112542.58      0     36-50  средний доход  \n",
       "2            1        0         113931.57      1     36-50  средний доход  \n",
       "3            0        0          93826.63      0     36-50  средний доход  \n",
       "4            1        1          79084.10      0     36-50  средний доход  "
      ]
     },
     "execution_count": 6,
     "metadata": {},
     "output_type": "execute_result"
    }
   ],
   "source": [
    "#добавим категоризацию по уровню зарплаты\n",
    "\n",
    "#посмотрим, сильно ли отличается доход по регионам\n",
    "print(data.groupby('city')['estimated_salary'].median())\n",
    "\n",
    "#разница в средней и медианной зарплате между городами небольшая, поэтому можно не формировать разные диапазоны для них\n",
    "#возьмем цифры из описания данных в первом блоке\n",
    "\n",
    "def salary_group (salary):\n",
    "    if salary <=51000:\n",
    "        return 'низкий доход'\n",
    "    if salary >=149000:\n",
    "        return 'высокий доход'\n",
    "    return 'средний доход'\n",
    "\n",
    "data['salary_group'] = data['estimated_salary'].apply(salary_group)\n",
    "\n",
    "#проверяем\n",
    "data.head()"
   ]
  },
  {
   "cell_type": "markdown",
   "metadata": {
    "id": "FQA7Ih12ZzIi"
   },
   "source": [
    "### Проверка дубликатов"
   ]
  },
  {
   "cell_type": "code",
   "execution_count": null,
   "metadata": {
    "id": "lImsHHwMZzIj",
    "outputId": "21149e3a-4e16-4487-e696-56e8fcbefafc"
   },
   "outputs": [
    {
     "data": {
      "text/plain": [
       "0"
      ]
     },
     "execution_count": 7,
     "metadata": {},
     "output_type": "execute_result"
    }
   ],
   "source": [
    "data.duplicated().sum()"
   ]
  },
  {
   "cell_type": "markdown",
   "metadata": {
    "id": "bQSTny8ZZzIj"
   },
   "source": [
    "Явных(полных) дубликатов не обнаружено.\n",
    "\n",
    "Все представленные данные о пользователях могут быть одинаковыми у разных людей, кроме их id. Посмотрим, не попал ли один и тот же человек в датасет повторно."
   ]
  },
  {
   "cell_type": "code",
   "execution_count": null,
   "metadata": {
    "id": "oaNvlELpZzIj",
    "outputId": "f6e20a38-b5d3-4cf5-dc50-71b6e15b8f55"
   },
   "outputs": [
    {
     "data": {
      "text/plain": [
       "0"
      ]
     },
     "execution_count": 8,
     "metadata": {},
     "output_type": "execute_result"
    }
   ],
   "source": [
    "data['user_id'].duplicated().sum()"
   ]
  },
  {
   "cell_type": "markdown",
   "metadata": {
    "id": "IsrnQqOAZzIj"
   },
   "source": [
    "Повторы в представленных данных отсутствуют."
   ]
  },
  {
   "cell_type": "markdown",
   "metadata": {
    "id": "_dOZBlw6ZzIj"
   },
   "source": [
    "### Изучение пропусков"
   ]
  },
  {
   "cell_type": "markdown",
   "metadata": {
    "id": "DJEY1f35ZzIj"
   },
   "source": [
    "Пропуски есть только в столбце с текущим балансом карты. Это может быть отсутствие средств у клиента или неполнота данных у банка. Попробуем определить закономерности этих пропусков."
   ]
  },
  {
   "cell_type": "code",
   "execution_count": null,
   "metadata": {
    "id": "32YJ4f2eZzIk",
    "outputId": "f5dd70c9-9956-4eaa-fa0e-449e3978eb55"
   },
   "outputs": [
    {
     "name": "stdout",
     "output_type": "stream",
     "text": [
      "Отсутствие данных о балансе в разрезе городов\n",
      "Ярославль    2418\n",
      "Рыбинск      1199\n",
      "Name: city, dtype: int64\n",
      "\n",
      "Отсутствие данных о балансе в разрезе возраста\n",
      "36-50    1621\n",
      "24-35    1455\n",
      "51-65     303\n",
      "18-23     127\n",
      "65+       111\n",
      "Name: age_group, dtype: int64\n",
      "\n",
      "Отсутствие данных о балансе в разрезе доходов\n",
      "средний доход    1795\n",
      "низкий доход      927\n",
      "высокий доход     895\n",
      "Name: salary_group, dtype: int64\n",
      "\n",
      "Отсутствие данных о балансе в разрезе активности пользователей\n",
      "1    1873\n",
      "0    1744\n",
      "Name: loyalty, dtype: int64\n",
      "\n",
      "Отсутствие данных о балансе в разрезе оставшихся и ушедших пользователей\n",
      "0    3117\n",
      "1     500\n",
      "Name: churn, dtype: int64\n"
     ]
    }
   ],
   "source": [
    "#создадим временную переменную для датафрейма со строками, где отсутствуют данные о балансе карты\n",
    "b = data[data['balance'].isna()==True]\n",
    "\n",
    "print('Отсутствие данных о балансе в разрезе городов')\n",
    "print(b['city'].value_counts())\n",
    "print()\n",
    "\n",
    "print('Отсутствие данных о балансе в разрезе возраста')\n",
    "print(b['age_group'].value_counts())\n",
    "print()\n",
    "\n",
    "print('Отсутствие данных о балансе в разрезе доходов')\n",
    "print(b['salary_group'].value_counts())\n",
    "print()\n",
    "\n",
    "print('Отсутствие данных о балансе в разрезе активности пользователей')\n",
    "print(b['loyalty'].value_counts())\n",
    "print()\n",
    "\n",
    "print('Отсутствие данных о балансе в разрезе оставшихся и ушедших пользователей')\n",
    "print(b['churn'].value_counts())"
   ]
  },
  {
   "cell_type": "markdown",
   "metadata": {
    "id": "vSIz_rjRZzIk"
   },
   "source": [
    "Интересно, что в Ростове нет ни одного человека с нулевым балансом. То есть:\n",
    "* проблема пропусков может быть со стороны банка (ошибки при сборе данных в Ярославле и Рыбинске) \n",
    "* либо в этих городах карты реже используются для хранения средств\n",
    "\n",
    "Возраст чаще всего средний, хотя это связано с тем, что таких людей в принципе больше, как и со средним доходом.   \n",
    "Примерно половина клиентов не активна, а 500 - покинули банк. "
   ]
  },
  {
   "cell_type": "code",
   "execution_count": null,
   "metadata": {
    "id": "jJsw5Y45ZzIk",
    "outputId": "f896a9a7-113c-4801-fcfd-199ac1666ffd"
   },
   "outputs": [
    {
     "data": {
      "text/plain": [
       "0"
      ]
     },
     "execution_count": 10,
     "metadata": {},
     "output_type": "execute_result"
    }
   ],
   "source": [
    "#проверим, есть ли пользователи, у которых на карте 0 рублей\n",
    "data[data['balance']==0]['user_id'].count()"
   ]
  },
  {
   "cell_type": "markdown",
   "metadata": {
    "id": "0tz0ndB9ZzIk"
   },
   "source": [
    "В данных нет клиентов, у которых на карте совсем не было бы денег, значит, вероятно, некоторые пропуски все же означают нулевой баланс. Заменим на 0 данные тех людей, которые уже покинули банк, остальным проставим медианное значение. Это нужно для того, чтобы баланс имел численний формат, и мы могли проводить расчеты в дальнейшем."
   ]
  },
  {
   "cell_type": "code",
   "execution_count": null,
   "metadata": {
    "id": "7LlEa520ZzIl"
   },
   "outputs": [],
   "source": [
    "data.loc[data['churn']==1,'balance'] = data.loc[data['churn']==1,'balance'].fillna(0)\n",
    "\n",
    "data['balance'] = data['balance'].fillna(data['balance'].median())"
   ]
  },
  {
   "cell_type": "markdown",
   "metadata": {
    "id": "HJH5IKFtZzIl"
   },
   "source": [
    "### Исследование выбросов и аномалий"
   ]
  },
  {
   "cell_type": "markdown",
   "metadata": {
    "id": "62D4iXG9ZzIl"
   },
   "source": [
    "Проверим, нет ли необычных аномалий в столбцах с объектами в собственности, балансом счета и зарплатой.  \n",
    "Также выбросы будут в информации о возрасте, однако даже самые высокие значения могут быть правдивыми. В других же столбцах имеются, в основном, категориальные данные. "
   ]
  },
  {
   "cell_type": "code",
   "execution_count": null,
   "metadata": {
    "id": "mdDxN7ZcZzIl",
    "outputId": "cd503937-7e8e-4976-f44f-13d504917a6a",
    "scrolled": false
   },
   "outputs": [
    {
     "data": {
      "image/png": "[encoded data removed]",
      "text/plain": [
       "<Figure size 1440x1440 with 3 Axes>"
      ]
     },
     "metadata": {
      "needs_background": "light"
     },
     "output_type": "display_data"
    }
   ],
   "source": [
    "#построим \"ящики с усами\" для интересующих нас столбцов\n",
    "plt.figure(figsize=(20,20))\n",
    "\n",
    "ax=plt.subplot(221)\n",
    "sns.boxplot(y = 'objects', data = data)\n",
    "plt.title('Диаграмма размаха количества объектов в собственности', fontsize = 16)\n",
    "plt.ylabel('Количество объектов', fontsize = 14)\n",
    "plt.yticks(fontsize = 14)\n",
    "\n",
    "ax=plt.subplot(222)\n",
    "sns.boxplot(y = 'balance', data = data)\n",
    "plt.title('Диаграмма размаха баланса счета', fontsize = 16)\n",
    "plt.ylabel('Баланс счета',fontsize = 14)\n",
    "plt.yticks(fontsize = 14)\n",
    "\n",
    "ax=plt.subplot(223)\n",
    "sns.boxplot(y ='estimated_salary', data = data)\n",
    "plt.title('Диаграмма размаха зарплаты', fontsize = 16)\n",
    "plt.ylabel('Зарплата',fontsize = 14)\n",
    "plt.yticks(fontsize = 14)\n",
    "\n",
    "plt.show()"
   ]
  },
  {
   "cell_type": "markdown",
   "metadata": {
    "id": "mnWIfh98ZzIm"
   },
   "source": [
    "На графиках количества объектов и зарплаты не видно никаких аномалий, разброс данных равномерный. \n",
    "Только столбец с балансом имеет сильные выбросы ниже 75 000 и выше 275 000. "
   ]
  },
  {
   "cell_type": "code",
   "execution_count": null,
   "metadata": {
    "id": "sqZOlHO1ZzIm",
    "outputId": "69cfdabc-a23c-4b78-a746-300328a278ae"
   },
   "outputs": [
    {
     "data": {
      "text/html": [
       "<div>\n",
       "<style scoped>\n",
       "    .dataframe tbody tr th:only-of-type {\n",
       "        vertical-align: middle;\n",
       "    }\n",
       "\n",
       "    .dataframe tbody tr th {\n",
       "        vertical-align: top;\n",
       "    }\n",
       "\n",
       "    .dataframe thead th {\n",
       "        text-align: right;\n",
       "    }\n",
       "</style>\n",
       "<table border=\"1\" class=\"dataframe\">\n",
       "  <thead>\n",
       "    <tr style=\"text-align: right;\">\n",
       "      <th></th>\n",
       "      <th>objects</th>\n",
       "      <th>balance</th>\n",
       "      <th>estimated_salary</th>\n",
       "    </tr>\n",
       "  </thead>\n",
       "  <tbody>\n",
       "    <tr>\n",
       "      <th>0</th>\n",
       "      <td>9.0</td>\n",
       "      <td>162711.6690</td>\n",
       "      <td>190155.3755</td>\n",
       "    </tr>\n",
       "    <tr>\n",
       "      <th>1</th>\n",
       "      <td>10.0</td>\n",
       "      <td>185967.9854</td>\n",
       "      <td>198069.7345</td>\n",
       "    </tr>\n",
       "  </tbody>\n",
       "</table>\n",
       "</div>"
      ],
      "text/plain": [
       "   objects      balance  estimated_salary\n",
       "0      9.0  162711.6690       190155.3755\n",
       "1     10.0  185967.9854       198069.7345"
      ]
     },
     "execution_count": 13,
     "metadata": {},
     "output_type": "execute_result"
    }
   ],
   "source": [
    "#посмотрим на цифры аномальных значений \n",
    "#напишем функцию расчета перцентилей\n",
    "\n",
    "def anomaly_research(column):\n",
    "    return np.percentile(column, [95,99])\n",
    "    \n",
    "data[['objects', 'balance', 'estimated_salary']].apply(anomaly_research)"
   ]
  },
  {
   "cell_type": "markdown",
   "metadata": {
    "id": "ux6GTvnjZzIm"
   },
   "source": [
    "Только 5% пользователей имеют 9 объектов в собственности, более 160 тысяч на счету и зарплату выше 190 тысяч. \n",
    "1% людей - 10 объектов, более 185 тысяч на счете и зарплату более 190 тысяч. Такие данные могут быть вполне реальными, к тому же, они не имеют неоправданно большого отличия от средних значений, а значит, не будут мешать нам в дальнейших исследованиях, оставим их в датасете."
   ]
  },
  {
   "cell_type": "markdown",
   "metadata": {
    "id": "Pam2qz7LZzIm"
   },
   "source": [
    "**Выводы:**  \n",
    "Данные очень хорошо собраны: в них отсутствуют дубликаты, пропуски имеются только в одном столбце: баланс карты, который, мы заполнили нулем для ушедших пользователей и медианными значениями для оставшихся (пропусков в городе Ростов Великий нет совсем, вероятно, там очень хорошо отлажена система сбора данных).  \n",
    "В этом же столбце наблюдаются выбросы, которые могут быть верными, поэтому не стали избавляться от них. По другим данным аномальных значений не обнаружено."
   ]
  },
  {
   "cell_type": "markdown",
   "metadata": {
    "id": "yezAoteyZzIn"
   },
   "source": [
    "## Исследовательский анализ данных. Отток клиентов. "
   ]
  },
  {
   "cell_type": "markdown",
   "metadata": {
    "id": "OMDwsBOmZzIn"
   },
   "source": [
    "Посмотрим более подробно на категории пользователей, оценим, какие клиенты уходят из Банка чаще и от чего может зависеть."
   ]
  },
  {
   "cell_type": "code",
   "execution_count": null,
   "metadata": {
    "id": "BJYHAhFeZzIn"
   },
   "outputs": [],
   "source": [
    "#создадим функцию для добавления подписей к графикам\n",
    "def labels(label_x_name, label_y_name, title = ' ', title_size = 16, ticks_fontsize = 12,  labels_fontsize = 14, rotation = 0):\n",
    "    plt.title(title, fontsize = title_size)\n",
    "    plt.xticks(rotation = rotation, fontsize = ticks_fontsize)\n",
    "    plt.yticks(fontsize = ticks_fontsize)\n",
    "    plt.xlabel(label_x_name, fontsize = labels_fontsize)\n",
    "    plt.ylabel(label_y_name, fontsize = labels_fontsize)"
   ]
  },
  {
   "cell_type": "code",
   "execution_count": null,
   "metadata": {
    "id": "SfkFUhkxZzIn",
    "outputId": "cfa84602-f809-4822-8782-ec0593a3e9ff"
   },
   "outputs": [
    {
     "data": {
      "image/png": "[encoded data removed]",
      "text/plain": [
       "<Figure size 1008x864 with 2 Axes>"
      ]
     },
     "metadata": {
      "needs_background": "light"
     },
     "output_type": "display_data"
    }
   ],
   "source": [
    "#переведем категориальные значения городов в цифры, чтобы тоже отследить их на графике корреляции\n",
    "one_hot = pd.get_dummies(data['city'])\n",
    "data = pd.concat([data, one_hot], axis=1)\n",
    "\n",
    "#посмотрим в целом на корреляцию величин\n",
    "data.corr()\n",
    "\n",
    "plt.figure(figsize=(14,12))\n",
    "sns.heatmap(data.corr())\n",
    "labels('', '', 'Взаимозависимость исследуемых величин', ticks_fontsize = 14, rotation = 90)"
   ]
  },
  {
   "cell_type": "markdown",
   "metadata": {
    "id": "S9F33mkwZzIo"
   },
   "source": [
    "На первый взгляд, больше всего уход из банка (churn) зависит от возраста(прямая корреляция), баланса и активности клиента (обратная корреляция). \n",
    "\n",
    "Также наблюдается положительная корреляция между возрастом и активносью пользователей, и отрицательная - между возрастом и балансом на счете. \n",
    "\n",
    "В городах заметны зависимости с возрастом, балансом и уходом, причем в разных городах они разные: В Ростове все три положительные, а в Рыбинске и Ярославле - отрицательные. "
   ]
  },
  {
   "cell_type": "markdown",
   "metadata": {
    "id": "-O9an6GDZzIp"
   },
   "source": [
    "### Пол, возраст и город"
   ]
  },
  {
   "cell_type": "markdown",
   "metadata": {
    "id": "-qy3XrCMZzIp"
   },
   "source": [
    "Для начала проанализируем наших клиентов и посмотрим, как зависит отток клиентов от пола, возраста и месторасположения."
   ]
  },
  {
   "cell_type": "code",
   "execution_count": null,
   "metadata": {
    "id": "IE1EOB_tZzIp",
    "outputId": "0fc27ec4-bffe-4528-ddbe-aca95427b409"
   },
   "outputs": [
    {
     "data": {
      "image/png": "[encoded data removed]",
      "text/plain": [
       "<Figure size 1440x432 with 2 Axes>"
      ]
     },
     "metadata": {
      "needs_background": "light"
     },
     "output_type": "display_data"
    }
   ],
   "source": [
    "#построим графики для определения половозрастного состав\n",
    "plt.figure(figsize=(20,6))\n",
    "plt.suptitle('Половозрастной состав клиентов', fontsize = 20)\n",
    "\n",
    "ax = plt.subplot(121)\n",
    "data.groupby(['gender'])['user_id'].count().plot(kind = 'bar')\n",
    "labels('Пол', 'Количество человек', ticks_fontsize = 14,  labels_fontsize = 16)\n",
    "\n",
    "plt.subplot(122, sharey = ax)\n",
    "data.groupby(['age_group'])['user_id'].count().plot(kind = 'bar')\n",
    "labels('Возрастная группа', 'Количество человек', ticks_fontsize = 14,  labels_fontsize = 16)"
   ]
  },
  {
   "cell_type": "markdown",
   "metadata": {
    "id": "DxeqxazZZzIp"
   },
   "source": [
    "Мужчин больше, но ненамного: разница около 1000 человек.  \n",
    "Чаще всего услугами банка пользуются люди среднего возраста (36-50), и молодежь (24-35). "
   ]
  },
  {
   "cell_type": "code",
   "execution_count": null,
   "metadata": {
    "id": "dgykRV0JZzIq"
   },
   "outputs": [],
   "source": [
    "#создадим функцию для отрисовки столбчатых диаграмм\n",
    "def barplot_hue (column_x, column_y, hue, data = data):\n",
    "    plt.figure(figsize=(9,6))\n",
    "    sns.barplot(x = column_x, y = column_y, hue = hue, data = data)\n",
    "    \n",
    "#и такую же без третьего дополнительного параметра\n",
    "def barplot (column_x, column_y, data = data):\n",
    "    plt.figure(figsize=(9,6))\n",
    "    sns.barplot(x = column_x, y = column_y, data = data)"
   ]
  },
  {
   "cell_type": "code",
   "execution_count": null,
   "metadata": {
    "id": "BKWyjAx2ZzIq",
    "outputId": "e5a62032-d7c3-40b3-c087-a94e646d08e7"
   },
   "outputs": [
    {
     "data": {
      "image/png": "[encoded data removed]",
      "text/plain": [
       "<Figure size 648x432 with 1 Axes>"
      ]
     },
     "metadata": {
      "needs_background": "light"
     },
     "output_type": "display_data"
    }
   ],
   "source": [
    "#посмотрим, какие люди обычно уходят из банка\n",
    "barplot_hue('age_group', 'churn', 'gender')\n",
    "labels('Возрастная группа', 'Уход из банка', 'Отток клиентов в зависимости от пола и возраста')\n",
    "plt.legend();"
   ]
  },
  {
   "cell_type": "code",
   "execution_count": null,
   "metadata": {
    "id": "cq883OQNZzIq",
    "outputId": "f56b10e1-c20e-4c58-d70e-dae3d6dd9ac4"
   },
   "outputs": [
    {
     "data": {
      "image/png": "[encoded data removed]",
      "text/plain": [
       "<Figure size 648x432 with 1 Axes>"
      ]
     },
     "metadata": {
      "needs_background": "light"
     },
     "output_type": "display_data"
    }
   ],
   "source": [
    "#оценим количество банковских продуктов по возрастам\n",
    "data['age_group'].value_counts()\n",
    "\n",
    "data.groupby('age_group')[['products','credit_card']].sum().plot(kind = 'bar', figsize=(9,6))\n",
    "labels('Возраст','Сумма банковских продуктов','Распределение продуктов по возрастным категориям');"
   ]
  },
  {
   "cell_type": "markdown",
   "metadata": {
    "id": "XpCKhlxhZzIq"
   },
   "source": [
    "Как мы и отметили ранее, больше всего продуктов и кредитных карт у людей среднего возраста, меньше всего - у молодежи до 23 лет и пожилых людей (старше 65). В части кредитных карт ситуация логичная: банки редко выдают кредиты этим категориям населения. "
   ]
  },
  {
   "cell_type": "code",
   "execution_count": null,
   "metadata": {
    "id": "iv83gJhhZzIq",
    "outputId": "15766604-54fb-4586-dfb0-06b8fe096903"
   },
   "outputs": [
    {
     "data": {
      "text/plain": [
       "1.5"
      ]
     },
     "execution_count": 20,
     "metadata": {},
     "output_type": "execute_result"
    }
   ],
   "source": [
    "#посчитаем разницу между оттоком мужчин и женщин\n",
    "round(data[data['gender']=='Ж']['churn'].mean()/data[data['gender']=='М']['churn'].mean(),1)"
   ]
  },
  {
   "cell_type": "code",
   "execution_count": null,
   "metadata": {
    "id": "cqu49Tw2ZzIr",
    "outputId": "1888c703-2dfa-4029-d4c4-da7fe1920040",
    "scrolled": false
   },
   "outputs": [
    {
     "data": {
      "image/png": "[encoded data removed]",
      "text/plain": [
       "<Figure size 1440x432 with 2 Axes>"
      ]
     },
     "metadata": {
      "needs_background": "light"
     },
     "output_type": "display_data"
    }
   ],
   "source": [
    "#оценим распределение пользователей по городам\n",
    "plt.figure(figsize=(20,6))\n",
    "\n",
    "plt.subplot(121)\n",
    "data.groupby(['city'])['user_id'].count().plot(kind = 'bar')\n",
    "labels('Город', 'Количество человек', title = 'Распределение клиентов по городам')\n",
    "\n",
    "#проверим, где чаще всего клиенты покидают банк\n",
    "plt.subplot(122)\n",
    "sns.barplot(x = 'city', y = 'churn', data = data)\n",
    "labels('Город', 'Уход из банка', 'Отток клиентов в зависимости от города')"
   ]
  },
  {
   "cell_type": "markdown",
   "metadata": {
    "id": "qUL4E286ZzIr"
   },
   "source": [
    "Интересное наблюдение: город, где находится больше всего пользователей (Ярославль), оказался самым стабильным (отток - чуть больше 15%), в Ростове же дела хуже всего - отток более 30%, хотя его численность одна из самых маленьких.   "
   ]
  },
  {
   "cell_type": "code",
   "execution_count": null,
   "metadata": {
    "id": "FsAY5IioZzIr",
    "outputId": "caa6522a-4810-4e3c-ab9e-fc651ee97692"
   },
   "outputs": [
    {
     "data": {
      "image/png": "[encoded data removed]",
      "text/plain": [
       "<Figure size 648x432 with 1 Axes>"
      ]
     },
     "metadata": {
      "needs_background": "light"
     },
     "output_type": "display_data"
    }
   ],
   "source": [
    "#проверим, нет ли разницы между количеством продуктов в разных городах\n",
    "barplot('city', 'products')\n",
    "labels('Города', 'Количство продуктов', 'Разбивка банковских продуктов по городам')"
   ]
  },
  {
   "cell_type": "markdown",
   "metadata": {
    "id": "-l4GDfSyZzIr"
   },
   "source": [
    "Во всех трех регионах среднее число имеющихся у людей банковских продуктов - 1,5, разница между городами небольшая."
   ]
  },
  {
   "cell_type": "markdown",
   "metadata": {
    "id": "tKFhwoTAZzIs"
   },
   "source": [
    "**Выводы:**  \n",
    "Текущие клиенты: мужчин примерно на 1000 человек больше, чем женщин, возраст в основном средний (24-50 лет), самый многочисленный город - Ярославль. \n",
    "\n",
    "Самая лояльная аудитория - молодежь **(18-35)** и пенсионеры **(65+)**. Вероятно, для этих категорий на данный момент существуют выгодные предложения. К тому же пожилым людям может быть гораздо проще оставаться в одном месте, чем переходить в другие банки. \n",
    "   \n",
    "Клиенты в возрасте **51-65** уходят практически в 6 раз чаще, чем молодежь, несмотря на то, что их меньше всего по численности. На втором месте по оттоку - люди среднего возраста (36-50). Есть смысл пересмотреть условия, которые мы даем этим клиентам по сравнению с крупными конкурентами. \n",
    "\n",
    "Мужчины в среднем в **1,5** раза чаще покидают банк, чем женщины. \n",
    "\n",
    "Пользователи банка в **Ярославле** реже, чем в других городах, уходят. Стоит обратить внимание на Ростов Великий, где самый высокий уровень оттока несмотря на низкую численность клиентов, вероятно филиалы Ярославля имеют большую стабильность приложения или более высокий уровень сервиса. "
   ]
  },
  {
   "cell_type": "markdown",
   "metadata": {
    "id": "6kUZvSEWZzIs"
   },
   "source": [
    "### Доходы, баланс и собственность"
   ]
  },
  {
   "cell_type": "markdown",
   "metadata": {
    "id": "XZHUb8PQZzIs"
   },
   "source": [
    "Посмотрим на доходы, баланс на карте и объекты в собственности клиентов и определим, влияет ли это на уход из банка."
   ]
  },
  {
   "cell_type": "code",
   "execution_count": null,
   "metadata": {
    "id": "aKZdrKj7ZzIs",
    "outputId": "33e61ad5-0662-4e00-c2c0-d9db2fddfcb9"
   },
   "outputs": [
    {
     "data": {
      "image/png": "[encoded data removed]",
      "text/plain": [
       "<Figure size 648x432 with 1 Axes>"
      ]
     },
     "metadata": {
      "needs_background": "light"
     },
     "output_type": "display_data"
    }
   ],
   "source": [
    "#построим график оттока в разрезе зарплаты и возрастной группы по городам\n",
    "barplot_hue('salary_group', 'churn', 'city')\n",
    "labels('Зарплата', 'Уход из банка', 'Отток клиентов в зависимости от дохода')"
   ]
  },
  {
   "cell_type": "markdown",
   "metadata": {
    "id": "7uzi3Rt8ZzIs"
   },
   "source": [
    "Люди с высоким доходом покидают банк чуть чаще, чем с зарплатой ниже (уровень оттока чуть выше 20%). Вероятно, в банке не очень выгодные предложения по сбережению или инвестициям средств. Проверим, много ли накоплений есть у таких клиентов. В Ростове проблема выражена сильнее."
   ]
  },
  {
   "cell_type": "code",
   "execution_count": null,
   "metadata": {
    "id": "CmjQnppFZzIs",
    "outputId": "3a5cd331-376d-4131-d441-3b31e619b77e"
   },
   "outputs": [
    {
     "data": {
      "image/png": "[encoded data removed]",
      "text/plain": [
       "<Figure size 1440x576 with 2 Axes>"
      ]
     },
     "metadata": {
      "needs_background": "light"
     },
     "output_type": "display_data"
    }
   ],
   "source": [
    "#создадим категории балансов по аналогии с зарплатой\n",
    "\n",
    "def balance_group (balance):\n",
    "    if balance <=51000:\n",
    "        return 'низкий баланс'\n",
    "    if balance >=149000:\n",
    "        return 'высокий баланс'\n",
    "    return 'средний баланс'\n",
    "\n",
    "data['balance_group'] = data['balance'].apply(balance_group)\n",
    "\n",
    "plt.figure(figsize=(20,8))\n",
    "plt.suptitle('Отток клиентов в зависимости от баланса на счету', fontsize = 20)\n",
    "\n",
    "plt.subplot(121)\n",
    "sns.barplot(x = 'balance_group', y = 'churn',data = data)\n",
    "labels('Зарплата', 'Уход из банка',  ticks_fontsize = 14,  labels_fontsize = 16)\n",
    "\n",
    "plt.subplot(122)\n",
    "data.groupby('churn')['balance'].plot(kind = 'hist', alpha = 0.7)\n",
    "labels('Баланс на счете', 'Количество человек',  ticks_fontsize = 14,  labels_fontsize = 16)\n",
    "plt.legend()\n",
    "plt.show()"
   ]
  },
  {
   "cell_type": "markdown",
   "metadata": {
    "id": "EVlen1pVZzIt"
   },
   "source": [
    "Самым ненадежным оказался низкий баланс: отток более 80%. Отсутствие денег на счету может говорить об отсутствии лояльности со стороны клиента и его скором уходе. Больше всего остаются люди с балансом 100 - 120 тысяч."
   ]
  },
  {
   "cell_type": "code",
   "execution_count": null,
   "metadata": {
    "id": "qZ-425GUZzIt",
    "outputId": "d4de5f1e-647a-408f-d144-8adc11a7ba6a"
   },
   "outputs": [
    {
     "data": {
      "text/plain": [
       "-0.00528846914682861"
      ]
     },
     "execution_count": 25,
     "metadata": {},
     "output_type": "execute_result"
    }
   ],
   "source": [
    "#посмотрим на корреляцию баланса на счету и зарплаты\n",
    "data['balance'].corr(data['estimated_salary'])"
   ]
  },
  {
   "cell_type": "markdown",
   "metadata": {
    "id": "az31uF--ZzIt"
   },
   "source": [
    "Зависимости между уровнем дохода и балансом нет. Возможно, высокую зарплату клиенты хранят другим способом, либо в других банках. "
   ]
  },
  {
   "cell_type": "code",
   "execution_count": null,
   "metadata": {
    "id": "Fbx--YQvZzIt",
    "outputId": "b9716ac3-bf2b-4342-e106-883726c9277d"
   },
   "outputs": [
    {
     "data": {
      "image/png": "[encoded data removed]",
      "text/plain": [
       "<Figure size 648x432 with 1 Axes>"
      ]
     },
     "metadata": {
      "needs_background": "light"
     },
     "output_type": "display_data"
    }
   ],
   "source": [
    "#посмотрим на собственность пользователей\n",
    "barplot('objects', 'churn')\n",
    "labels('Количество объектов в собственности', 'Уход из банка', 'Отток клиентов в зависимости от объектов')\n"
   ]
  },
  {
   "cell_type": "markdown",
   "metadata": {
    "id": "sxaFtpIaZzIt"
   },
   "source": [
    "Чаще всего уходят пользователи без собственности или с одним объектом, реже всего - с семью. Соответственно, зависимости между количеством объектов и оттоком, не обнаружено."
   ]
  },
  {
   "cell_type": "markdown",
   "metadata": {
    "id": "A35d4s1WZzIu"
   },
   "source": [
    "**Выводы:**  \n",
    "Больше всего внимания стоит обратить на людей с **высоким доходом**, которые чаще остальных покидают банк: более **20%** пользователей.  \n",
    "\n",
    "Что качается денег на счету, отток больше всего заметен именно у тех клиентов, которые имеют **низкий баланс**: более **80%**. Зависимости между балансом и зарплатой не обнаружено. \n",
    "\n",
    "Самые стабильные пользователи - те, кто имеет 2 или 7 объектов в собственности. \n",
    "\n",
    "Рекомендация: пересмотреть текущие предложения по хранению и инвестициям средств. "
   ]
  },
  {
   "cell_type": "markdown",
   "metadata": {
    "id": "4tVg3gtSZzIu"
   },
   "source": [
    "### Взаимодействие с банком"
   ]
  },
  {
   "cell_type": "markdown",
   "metadata": {
    "id": "BC6Y0-0qZzIu"
   },
   "source": [
    "Рассмотрим, как сильно влияют на отток клиентов количество продуктов в банке, наличие кредитной карты и активность клиента."
   ]
  },
  {
   "cell_type": "code",
   "execution_count": null,
   "metadata": {
    "id": "LptMO3gUZzIu",
    "outputId": "a9794a53-bca5-4978-ccc5-5b4bcc2f5660"
   },
   "outputs": [
    {
     "data": {
      "image/png": "[encoded data removed]",
      "text/plain": [
       "<Figure size 648x432 with 1 Axes>"
      ]
     },
     "metadata": {
      "needs_background": "light"
     },
     "output_type": "display_data"
    }
   ],
   "source": [
    "barplot_hue('products','churn','credit_card')\n",
    "labels('Количество продуктов в банке', 'Уход из банка', 'Отток клиентов в зависимости от количества продуктов')"
   ]
  },
  {
   "cell_type": "markdown",
   "metadata": {
    "id": "ajKGsyczZzIu"
   },
   "source": [
    "Необычное наблюдение: абсолютно все пользователи, имеющие в банке четыре разных продукта, покинули банк, а те, у кого их три, уходят в 80% случаев. \n",
    "Те, у кого их всего 2, остаются гораздо чаще.\n",
    "\n",
    "Наличие кредитной карты практически не влияет на отток. "
   ]
  },
  {
   "cell_type": "code",
   "execution_count": null,
   "metadata": {
    "id": "_MxUP52JZzIu",
    "outputId": "edaedccf-855e-44c6-c455-cdf2b710b165"
   },
   "outputs": [
    {
     "data": {
      "text/plain": [
       "60"
      ]
     },
     "execution_count": 28,
     "metadata": {},
     "output_type": "execute_result"
    }
   ],
   "source": [
    "#посмотрим, как много пользователей пользуются четырьмя продуктами\n",
    "data[data['products']==4]['user_id'].count()"
   ]
  },
  {
   "cell_type": "markdown",
   "metadata": {
    "id": "Lprq1avVZzIv"
   },
   "source": [
    "Менее 1% клиентов используют 4 продукта, следовательно, внутри банка может существовать проблема в обслуживании редких/непопулярных продуктов, например, счета или другие услуги в иностранных валютах или инвестиции.   \n",
    "Проанализируем продукты подробнее в следующем разделе по сегментации пользователей. "
   ]
  },
  {
   "cell_type": "code",
   "execution_count": null,
   "metadata": {
    "id": "ExHRwVjZZzIv",
    "outputId": "992777a2-248e-481c-b736-6446dedc2752"
   },
   "outputs": [
    {
     "data": {
      "image/png": "[encoded data removed]",
      "text/plain": [
       "<Figure size 648x432 with 1 Axes>"
      ]
     },
     "metadata": {
      "needs_background": "light"
     },
     "output_type": "display_data"
    }
   ],
   "source": [
    "barplot_hue('loyalty','churn', 'gender')\n",
    "labels('Активность клиента', 'Уход из банка', 'Отток клиентов в зависимости от их активности')"
   ]
  },
  {
   "cell_type": "markdown",
   "metadata": {
    "id": "bg67Wke-ZzIv"
   },
   "source": [
    "Как и ожидалось, более активные пользователи чаще остаются в банке, поэтому стоит уделять внимание людям, которые реже обращаются в банк. Женщины гораздо активнее, чем мужчины. "
   ]
  },
  {
   "cell_type": "markdown",
   "metadata": {
    "id": "lktlCq3YZzIv"
   },
   "source": [
    "**Выводы:**\n",
    "Стоит уделить особое внимание людям, которые приостанавливают свою активность в банке: скорее всего, скоро они могут уйти. \n",
    "\n",
    "Абсолютно все люди, имеющие четыре банковских продукта, покидают его. Вероятно, есть смысл пересмотреть обслуживание более редких предложений. "
   ]
  },
  {
   "cell_type": "markdown",
   "metadata": {
    "id": "2lL_L0s_ZzIw"
   },
   "source": [
    "**Общие выводы по оттоку:**\n",
    "Клиенты, которые чаще всего покидают банк: \n",
    "* мужчины (в **1,5** раза чаще, чем женщины)\n",
    "* люди в возрасте **51-65** (в **шесть** раз чаще, чем молодежь)\n",
    "* жители Ростова (в **два** раза чаще, чем в Ярославле, хотя численность в **два** раза меньше)\n",
    "* пользователи с **высоким доходом** (более **20%** всех пользователей)\n",
    "* клиенты с **низким балансом** на счету (на **60%** чаще, чем с высоким балансом)\n",
    "* **100%** пользователей с **четырьмя** продуктами в банке и **80%** - с **тремя**\n",
    "* **неактивные** пользователи (примерно в **1,7** раз чаще, чем активные\n",
    "\n",
    "Соответственно, **рекомендации** на текущий момент такие: \n",
    "* проанализировать текущие продукты и услуги, которыми чаще всего пользуются люди среднего возраста и определить, в каких чаще бывает просадка\n",
    "* сравнить уровень сервиса, а также региональные уникальные предложения в Ярославле и Ростове\n",
    "* оценить проблемы, возникающие у людей с высоким доходом: безопасность хранения средств, возможность инвестиций и т.д.\n",
    "* регулярно отслеживать активность пользователей и текущий уровень баланса на счету - если они начали меняться в худшую сторону, можно запросить обратную связь от клиента или предложить новую услугу\n",
    "* обратить внимание на редкие услуги, которые люди могут брать в дополнение к уже имеющимся у них продуктам: с их обслуживанием могут быть проблемы"
   ]
  },
  {
   "cell_type": "markdown",
   "metadata": {
    "id": "Us-xCroqZzIw"
   },
   "source": [
    "## Сегментация пользователей"
   ]
  },
  {
   "cell_type": "markdown",
   "metadata": {
    "id": "LRqgwE9IZzIw"
   },
   "source": [
    "Разделим текущих клиентов на два сегмента: те, у кого в банке только один продукт и те, у кого их два (это основная масса пользователей) и проанализируем их. "
   ]
  },
  {
   "cell_type": "code",
   "execution_count": null,
   "metadata": {
    "id": "6rWoBjNxZzIw",
    "outputId": "b888680c-8a61-4da5-f0e1-53f72af0276a"
   },
   "outputs": [
    {
     "name": "stderr",
     "output_type": "stream",
     "text": [
      "/tmp/ipykernel_147/3510142353.py:2: SettingWithCopyWarning: \n",
      "A value is trying to be set on a copy of a slice from a DataFrame.\n",
      "Try using .loc[row_indexer,col_indexer] = value instead\n",
      "\n",
      "See the caveats in the documentation: https://pandas.pydata.org/pandas-docs/stable/user_guide/indexing.html#returning-a-view-versus-a-copy\n",
      "  segmented_data['segments'] = segmented_data['products'].apply(lambda x: 'Segment 1' if x==1 else 'Segment 2')\n"
     ]
    }
   ],
   "source": [
    "segmented_data = data[(data['products']==1)|(data['products']==2)]\n",
    "segmented_data['segments'] = segmented_data['products'].apply(lambda x: 'Segment 1' if x==1 else 'Segment 2')"
   ]
  },
  {
   "cell_type": "code",
   "execution_count": null,
   "metadata": {
    "id": "IZ7jHRoqZzIw",
    "outputId": "dedf4ea1-5985-4ab4-b3e8-bc81154d2317"
   },
   "outputs": [
    {
     "data": {
      "image/png": "[encoded data removed]",
      "text/plain": [
       "<Figure size 648x432 with 1 Axes>"
      ]
     },
     "metadata": {
      "needs_background": "light"
     },
     "output_type": "display_data"
    }
   ],
   "source": [
    "#посмотрим на отток клиентов в разных сегментах и городах\n",
    "barplot_hue('segments', 'churn', 'city',data = segmented_data)\n",
    "labels('Сегменты', 'Уход из банка', 'Отток клиентов в зависимости от сегмента')"
   ]
  },
  {
   "cell_type": "markdown",
   "metadata": {
    "id": "8G2Qz8oNZzIx"
   },
   "source": [
    "Пользователи с одним продуктом чаще покидают банк, чем те, у кого их два. Выглядит логично, так как люди, покупающие еще одну услугу, скорее всего, более лояльны к компании. Как и отмечали ранее, проблема ухода в Ростове более выражена."
   ]
  },
  {
   "cell_type": "code",
   "execution_count": null,
   "metadata": {
    "id": "RncMyrkQZzIx",
    "outputId": "addf3de9-2cba-4c07-8d08-fe0b08c2494f"
   },
   "outputs": [
    {
     "data": {
      "image/png": "[encoded data removed]",
      "text/plain": [
       "<Figure size 648x432 with 1 Axes>"
      ]
     },
     "metadata": {
      "needs_background": "light"
     },
     "output_type": "display_data"
    }
   ],
   "source": [
    "barplot_hue('segments', 'loyalty', 'city',data = segmented_data)\n",
    "labels('Сегменты', 'Активность', 'Активность клиентов по сегментам')"
   ]
  },
  {
   "cell_type": "markdown",
   "metadata": {
    "id": "Dhd8p3CzZzIx"
   },
   "source": [
    "Как и ожидалось, активность клиентов с двумя продуктами выше, чем с одним. Причем в Рыбинске активность первого сегмента выше всех, а второго - ниже всех. Обратная ситуация в Ростове: люди с двумя продуктами активнее, однако отток в этом городе гораздо выше, чем в других."
   ]
  },
  {
   "cell_type": "code",
   "execution_count": null,
   "metadata": {
    "id": "65f3GOZTZzIx",
    "outputId": "00f6f6c9-6f39-4ae9-f961-5426d085ca5d"
   },
   "outputs": [
    {
     "data": {
      "image/png": "[encoded data removed]",
      "text/plain": [
       "<Figure size 720x576 with 2 Axes>"
      ]
     },
     "metadata": {
      "needs_background": "light"
     },
     "output_type": "display_data"
    }
   ],
   "source": [
    "plt.figure(figsize=(10,8))\n",
    "sns.heatmap(segmented_data.corr())\n",
    "labels('', '', 'Взаимозависимость значений в выделенных сегментах', ticks_fontsize = 14, rotation = 90)"
   ]
  },
  {
   "cell_type": "markdown",
   "metadata": {
    "id": "HUoM1u4qZzIx"
   },
   "source": [
    "По хитмэпу видно, что количество продуктов коррелирует с уходом, возрастом (отрицательная зависимость), с балансом на счете и активностью пользователей (положительная зависимость).\n",
    "\n",
    "Что касается оттока, он зависит от возраста(прямая корреляция), баланса, количества продуктов и активности (обратная корреляция). "
   ]
  },
  {
   "cell_type": "code",
   "execution_count": null,
   "metadata": {
    "id": "sEGpAiheZzIx",
    "outputId": "43847cc9-92fd-46b5-82b9-03d4516ee66b"
   },
   "outputs": [
    {
     "data": {
      "image/png": "[encoded data removed]",
      "text/plain": [
       "<Figure size 1440x576 with 4 Axes>"
      ]
     },
     "metadata": {
      "needs_background": "light"
     },
     "output_type": "display_data"
    }
   ],
   "source": [
    "#посмотрим на отдельные хитмэпы по сегментам\n",
    "plt.figure(figsize=(20,8))\n",
    "plt.suptitle('Корреляция величин в разных сегментах', fontsize = 20)\n",
    "\n",
    "plt.subplot(121)\n",
    "sns.heatmap(segmented_data[segmented_data['segments']=='Segment 1'].corr())\n",
    "labels('','','Сегмент 1', rotation = 90)\n",
    "\n",
    "plt.subplot(122)\n",
    "sns.heatmap(segmented_data[segmented_data['segments']=='Segment 2'].corr())\n",
    "labels('','','Сегмент 2', rotation = 90)"
   ]
  },
  {
   "cell_type": "markdown",
   "metadata": {
    "id": "smPocs7jZzIy"
   },
   "source": [
    "В первом сегменте проблемы ухода более выражены, во втором же основная проблема в меньшем количестве клиентов. Значит, задача в том, чтобы максимально переводить пользователей из первого сегмента во второй, параллельно устраняя недостатки обслуживания в отношении часто уходящих категорий людей."
   ]
  },
  {
   "cell_type": "code",
   "execution_count": null,
   "metadata": {
    "id": "jVry9VCtZzIy",
    "outputId": "bfb3dde1-3eb3-4391-dde2-6a69f76036f3"
   },
   "outputs": [
    {
     "data": {
      "image/png": "[encoded data removed]",
      "text/plain": [
       "<Figure size 648x432 with 1 Axes>"
      ]
     },
     "metadata": {
      "needs_background": "light"
     },
     "output_type": "display_data"
    }
   ],
   "source": [
    "plt.figure(figsize=(9,6))\n",
    "sns.histplot(x = 'segments', y = 'age', hue = 'age_group',data = segmented_data)\n",
    "labels('Сегменты', 'Возраст', 'Распределение возрастов в сегментах')"
   ]
  },
  {
   "cell_type": "markdown",
   "metadata": {
    "id": "af3Ufj9BZzIy"
   },
   "source": [
    "В основном возраст средний, однако в первом сегменте больше людей старшего возраста (до 55 лет). Зато во втором сегменте есть люди от 85-90 лет, которых совсем нет в первом. Скорее всего, в банке есть дополнительные продукты для пенсионеров, которые оформляются в дополнение к основному счету. "
   ]
  },
  {
   "cell_type": "code",
   "execution_count": null,
   "metadata": {
    "id": "lxk9kZ6KZzIz",
    "outputId": "9953bbb1-ed47-488c-8775-4cfbe2f12dcf"
   },
   "outputs": [
    {
     "data": {
      "image/png": "[encoded data removed]",
      "text/plain": [
       "<Figure size 648x432 with 1 Axes>"
      ]
     },
     "metadata": {
      "needs_background": "light"
     },
     "output_type": "display_data"
    }
   ],
   "source": [
    "#посмотрим, как распределяется отток по сегментам в зависимости от возраста\n",
    "barplot_hue('age_group','churn','segments',data = segmented_data)\n",
    "labels('Возраст', 'Уход из банка', 'Отток клиентов в зависимости от возраста')"
   ]
  },
  {
   "cell_type": "markdown",
   "metadata": {
    "id": "GAssdAiKZzIz"
   },
   "source": [
    "График оттока по возрастам похож на тот, что мы делали на полных данных: больше всего людей покидают банк в возрасте 51-65 лет, а также 36-50 лет, и в первом сегменте это выражено особенно. "
   ]
  },
  {
   "cell_type": "code",
   "execution_count": null,
   "metadata": {
    "id": "hn_1s6aXZzIz",
    "outputId": "52777067-940f-4494-b63e-ec0579e0c338"
   },
   "outputs": [
    {
     "data": {
      "image/png": "[encoded data removed]",
      "text/plain": [
       "<Figure size 648x432 with 1 Axes>"
      ]
     },
     "metadata": {
      "needs_background": "light"
     },
     "output_type": "display_data"
    },
    {
     "name": "stdout",
     "output_type": "stream",
     "text": [
      "Суммарный баланс в сегментах: segments\n",
      "Segment 1    5.673124e+08\n",
      "Segment 2    5.319782e+08\n",
      "Name: balance, dtype: float64\n"
     ]
    }
   ],
   "source": [
    "plt.figure(figsize=(9,6))\n",
    "segmented_data.groupby('segments')['balance'].plot(kind = 'hist', alpha = 0.7)\n",
    "labels('Баланс', 'Количество человек', 'Распределение баланса по сегментам')\n",
    "plt.legend()\n",
    "plt.show()\n",
    "\n",
    "print('Суммарный баланс в сегментах:',segmented_data.groupby('segments')['balance'].sum())"
   ]
  },
  {
   "cell_type": "markdown",
   "metadata": {
    "id": "cCWw5l5PZzIz"
   },
   "source": [
    "Суммарный баланс в разных сегментах не сильно отличается, хотя распределение немного разное: во втором чаще всего встречаются цифры примерно от 110 до 130 тысяч, в первом суммы рассредоточены между 90 и 140 тысячами.   \n",
    "Также на графике виден небольшой выброс в низких балансах: от 0 до 25 тысяч. Нулевой баланс проставлен нами ранее для людей, покинувших банк, и, как мы видели ранее, в первом сегменте их больше. "
   ]
  },
  {
   "cell_type": "code",
   "execution_count": null,
   "metadata": {
    "id": "9EcHiF_4ZzIz",
    "outputId": "b906af6d-35e8-4282-8fa3-cf45152e1d5e"
   },
   "outputs": [
    {
     "data": {
      "image/png": "[encoded data removed]",
      "text/plain": [
       "<Figure size 648x432 with 1 Axes>"
      ]
     },
     "metadata": {
      "needs_background": "light"
     },
     "output_type": "display_data"
    }
   ],
   "source": [
    "barplot_hue('balance_group','churn', 'segments', data = segmented_data)\n",
    "labels('Баланс', 'Уход из банка', 'Отток клиентов в зависимости от баланса')"
   ]
  },
  {
   "cell_type": "markdown",
   "metadata": {
    "id": "1PQrGh4rZzI0"
   },
   "source": [
    "**Выводы:**\n",
    "* клиенты с одним продуктов чаще покидают банк, чем с двумя продуктами (примерно в **3,5** раза)\n",
    "* активность клиентов с двумя продуктами выше\n",
    "* в первом сегменте больше людей старшего возраста (до 55 лет), самый высокий возраст чаще встречается у людей второго сегмента\n",
    "* второй сегмент чуть ниже по суммарному балансу, а также более равномерно распределен (в разрезе баланса на счете), чем первый.\n",
    "* в первом сегменте уходят чаще всего люди с низким балансом (почти в **4** раза чаще)\n",
    "\n",
    "В целом, \"проблемные\" категории клиентов одинаковы у обоих сегментов. Задача банка: расширять количество клиентов во втором сегменте, при этом устраняя текущие недостатки, из-за которых происходит отток."
   ]
  },
  {
   "cell_type": "markdown",
   "metadata": {
    "id": "BgmUfOIGZzI0"
   },
   "source": [
    "## Статистический анализ данных. Проверка гипотез"
   ]
  },
  {
   "cell_type": "markdown",
   "metadata": {
    "id": "FYqwHjaEZzI0"
   },
   "source": [
    "Проверим поставленные гипотезы разными статистическими методами."
   ]
  },
  {
   "cell_type": "markdown",
   "metadata": {
    "id": "1Tp4RrpQZzI1"
   },
   "source": [
    "### Гипотеза о различии среднего дохода в разных сегментах"
   ]
  },
  {
   "cell_type": "markdown",
   "metadata": {
    "id": "3-1ljEufZzI1"
   },
   "source": [
    "Формулируем гипотезу:\n",
    "\n",
    "H0: Средний доход клиентов, которые пользуются двумя продуктами, и тех, у кого только один продукт, равны.  \n",
    "H1: Средний доход клиентов, которые пользуются двумя продуктами, и тех, у кого только один продукт, различаются."
   ]
  },
  {
   "cell_type": "code",
   "execution_count": null,
   "metadata": {
    "id": "vG6LXtrmZzI1",
    "outputId": "acf26355-4fbe-44be-e7c5-68d8b858add9"
   },
   "outputs": [
    {
     "name": "stdout",
     "output_type": "stream",
     "text": [
      "0.41047183624949335\n",
      "Не получилось отвергнуть нулевую гипотезу\n"
     ]
    }
   ],
   "source": [
    "#проверим гипотезу с помощью t-теста (равенство среднего двух генеральных совокупностей)\n",
    "array_1 = segmented_data[segmented_data['segments']=='Segment 1']['estimated_salary']\n",
    "array_2 = segmented_data[segmented_data['segments']=='Segment 2']['estimated_salary']\n",
    "\n",
    "results = st.ttest_ind(array_1, array_2)\n",
    "#задаем уровень статистической значимости\n",
    "alpha = .05\n",
    "\n",
    "print(results.pvalue)\n",
    "# условный оператор с выводом строки с ответом\n",
    "if results.pvalue < alpha:\n",
    "    print('Отвергаем нулевую гипотезу ')\n",
    "else:\n",
    "    print('Не получилось отвергнуть нулевую гипотезу')"
   ]
  },
  {
   "cell_type": "markdown",
   "metadata": {
    "id": "s0GAyXP-ZzI1"
   },
   "source": [
    "**Вывод:**  \n",
    "Гипотеза о различии доходов в сегментах 1 и 2 не может быть подтверждена, следовательно количество продуктов в банке не зависит от зарплаты клиента."
   ]
  },
  {
   "cell_type": "markdown",
   "metadata": {
    "id": "M3HA_LDRZzI1"
   },
   "source": [
    "### Гипотеза о равенстве долей пользователей с кредитными картами"
   ]
  },
  {
   "cell_type": "markdown",
   "metadata": {
    "id": "YI-DPd9jZzI1"
   },
   "source": [
    "Формулируем гипотезу:\n",
    "\n",
    "H0: Доли клиентов с кредитной картой, имеющих один продукт и клиентов, у которых их два, равны.   \n",
    "H1: Доли клиентов с кредитной картой, имеющих один продукт и клиентов, у которых их два, различаются."
   ]
  },
  {
   "cell_type": "code",
   "execution_count": null,
   "metadata": {
    "id": "G-r3381-ZzI1",
    "outputId": "68ca478c-a8d8-4b67-a9e2-62f767c40d2f"
   },
   "outputs": [
    {
     "name": "stdout",
     "output_type": "stream",
     "text": [
      "p-значение:  0.7130897285055979\n",
      "Не получилось отвергнуть нулевую гипотезу, нет оснований считать доли разными\n"
     ]
    }
   ],
   "source": [
    "#проверим гипотезу с помощью z-критерия (разница между пропорциями)\n",
    "sample_1 = data[(data['credit_card']==1)&(data['products']==1)]['user_id'].count()\n",
    "sample_2 = data[(data['credit_card']==1)&(data['products']==2)]['user_id'].count()\n",
    "\n",
    "successes = sample_1, sample_2\n",
    "trials = data[data['products']==1]['user_id'].count(), data[data['products']==2]['user_id'].count()\n",
    "\n",
    "p1 = successes[0]/trials[0]\n",
    "p2 = successes[1]/trials[1]\n",
    "p_combined = (successes[0] + successes[1]) / (trials[0] + trials[1])\n",
    "\n",
    "difference = p1 - p2 \n",
    "z_value = difference / mth.sqrt(p_combined * (1 - p_combined) * (1/trials[0] + 1/trials[1]))\n",
    "distr = st.norm(0, 1)  \n",
    "p_value = (1 - distr.cdf(abs(z_value))) * 2\n",
    "\n",
    "print('p-значение: ', p_value)\n",
    "\n",
    "if p_value < alpha:\n",
    "    print('Отвергаем нулевую гипотезу: между долями есть значимая разница')\n",
    "else:\n",
    "    print(\n",
    "        'Не получилось отвергнуть нулевую гипотезу, нет оснований считать доли разными'\n",
    "    ) "
   ]
  },
  {
   "cell_type": "markdown",
   "metadata": {
    "id": "HaKap5rcZzI2"
   },
   "source": [
    "**Вывод:**  \n",
    "Гипотеза о равенстве долей пользователей с кредитными картами с разным количеством карт может быть подтверждена."
   ]
  },
  {
   "cell_type": "markdown",
   "metadata": {
    "id": "AwLKOO3UZzI3"
   },
   "source": [
    "## Выводы и рекомендации"
   ]
  },
  {
   "cell_type": "markdown",
   "metadata": {
    "id": "1wNlQmmPZzI3"
   },
   "source": [
    "**Выводы** \n",
    "\n",
    "Мы проанализировали данные банка \"Метанпромбанк\" о 10000 пользователей в трех городах: Ярославле, Ростове Великом и Рыбинске.   \n",
    "Данные целые и чистые, в верном формате. Имеется только проблема со сбором информации о текущем балансе пользователя в Ярославле и Рыбинске. \n",
    "\n",
    "Основная масса клиентов - люди среднего возраста (24-50 лет) с одним или двумя продуктами в банке и зарплатой в среднем 100 000. \n",
    "\n",
    "При анализе оттока пользователей было выявлено, что основные претенденты имеют следующие характеристики:\n",
    "* **мужчины** (в 1,5 раза чаще покидают банк, чем женщины)\n",
    "* люди **в возрасте 51-65** (в шесть раз чаще, чем молодежь)\n",
    "* жители **Ростова** (в два раза чаще, чем в Ярославле, хотя численность в два раза меньше)\n",
    "* пользователи **с высоким доходом** (более 20% всех пользователей)\n",
    "* клиенты **с низким балансом** на счету (на 60% чаще, чем с высоким балансом)\n",
    "* 100% пользователей **с четырьмя продуктами** в банке и 80% - с тремя\n",
    "* **неактивные** пользователи (примерно в 1,7 раз чаще, чем активные)\n",
    "\n",
    "Также мы провели сегментацию клиентов по количеству продуктов: Сегмент 1 - те, кто имеет один продукт в банке, Сегмент 2 - два продукта. Анализируя эти группы, были получены выводы об их различии:\n",
    "* клиенты с одним продуктом **чаще покидают** банк, чем с двумя (примерно в 3,5 раза)\n",
    "* **активность** клиентов с двумя продуктами выше\n",
    "* в первом сегменте больше людей **старшего возраста (до 55 лет)**, хотя **самый высокий возраст** чаще встречается у людей второго сегмента\n",
    "* второй сегмент чуть ниже по **суммарному балансу**, а также более равномерно распределен (в разрезе баланса на счете), чем первый\n",
    "* категории, которые покидают банк, одинаковы в обоих сегментах, поэтому задача - расширять количество людей во втором сегменте\n",
    "\n",
    "**Рекомендации** \n",
    "\n",
    "1. Оценить уровень сервиса и обслуживание уникальных продуктов **в Ростове**, чтобы понять, с чем может быть связан сильный отток клиентов.\n",
    "2. Регулярно отслеживать клиентов **с низким уровнем активности и балансом** и собирать обратную связь и предложения по улучшению работы. \n",
    "3. Так как активность пользователей **с одним продуктом** ниже, а отток - выше, есть смысл отдельно работать с этим сегментом людей и предложить им услуги, которые могут их заинтересовать.\n",
    "4. Все клиенты **с четырьмя продуктами** уходят, следовательно, следует обратить особое внимание на условия и сервис по редким услугам, которыми пользуется небольшое количество людей (это могут быть инвестиции, валютные операции, брокерские услуги, доверительное управление капиталом и т.п.)\n",
    "5. Проработать интересные предложения для категорий, которые чаще других уходят из банка **(люди старшего возраста и пользователи с низким балансом)**\n",
    "\n",
    "\n",
    "**Предложения для клиентов разных сегментов**  \n",
    "\n",
    "**Сегмент 1**  \n",
    "Мы отметили сильное расхождение в цифрах по людям в возрасте от 51 до 65 лет. Они покидают банк в три раза чаще, чем люди среднего возраста, хотя их численность практически в 3,5 раза ниже по сравнению с этой же категорией. Это возраст пенсионеров и предпенсионеров, в этот период их доходы могут снижаться, однако они все же имеют постоянные зачисления и способны более финансово грамотно относиться к своим средствам. Здесь будут интересны услуги, связанные со сбережением средств, страховыми продуктами, а также льготами или программами лояльности. Например, **Мультикарта** с процентным вкладом и кэшбеком на некоторые категории товаров, которую можно привязать к зарплатным/социальным выплатам. Чтобы выделить ее среди других услуг/банков, можно предложить дополнительные бесплатные услуги: консультации юриста, неограниченные звонки на определенные номера, база вакансий от проверенных компаний, и т.п.\n",
    "\n",
    "Одной из основных причин нежелания людей хранить деньги на балансе своего счета может быть недоверие к банку (и основная часть дохода хранится в другом месте), либо невозможность откладывания средств. В этом случае самым оптимальным подходом, помимо прокачки сервиса и репутации банка, будет предложить оформить **Накопительный счет** с более привлекательными ставками, чем у конкурентов. Чтобы не терять в выручке, а также мотивировать клиента вкладывать больше средств, ставки должны быть накопительными в зависимости от суммы вложений. \n",
    "\n",
    "**Сегмент 2**  \n",
    "Для этого сегмента также подойдут описанные выше предложения, так как категории клиентов, покидающих банк, практически одинаковы в обоих сегментах. И все же стоит сделать упор на людях в возрасте (от 51 года), так как в этом сегменте таких клиентов меньше, а уходят они гораздо чаще других возрастных категорий. "
   ]
  }
 ],
 "metadata": {
  "ExecuteTimeLog": [
   {
    "duration": 1235,
    "start_time": "2022-12-09T16:50:08.343Z"
   },
   {
    "duration": 59,
    "start_time": "2022-12-09T17:00:52.167Z"
   },
   {
    "duration": 180,
    "start_time": "2022-12-09T17:03:02.058Z"
   },
   {
    "duration": 66,
    "start_time": "2022-12-09T17:03:49.265Z"
   },
   {
    "duration": 46,
    "start_time": "2022-12-09T17:05:08.769Z"
   },
   {
    "duration": 51,
    "start_time": "2022-12-09T17:05:15.372Z"
   },
   {
    "duration": 66,
    "start_time": "2022-12-09T17:07:20.896Z"
   },
   {
    "duration": 56,
    "start_time": "2022-12-09T17:07:36.317Z"
   },
   {
    "duration": 83,
    "start_time": "2022-12-09T17:08:54.085Z"
   },
   {
    "duration": 74,
    "start_time": "2022-12-09T17:10:12.880Z"
   },
   {
    "duration": 70,
    "start_time": "2022-12-09T17:10:27.288Z"
   },
   {
    "duration": 57,
    "start_time": "2022-12-09T17:10:39.119Z"
   },
   {
    "duration": 66,
    "start_time": "2022-12-09T17:10:47.752Z"
   },
   {
    "duration": 1141,
    "start_time": "2022-12-09T17:11:12.467Z"
   },
   {
    "duration": 63,
    "start_time": "2022-12-09T17:11:13.612Z"
   },
   {
    "duration": 50,
    "start_time": "2022-12-09T17:11:27.737Z"
   },
   {
    "duration": 100,
    "start_time": "2022-12-09T17:13:29.096Z"
   },
   {
    "duration": 39,
    "start_time": "2022-12-09T17:13:35.127Z"
   },
   {
    "duration": 37,
    "start_time": "2022-12-09T17:19:33.935Z"
   },
   {
    "duration": 43,
    "start_time": "2022-12-09T17:19:51.764Z"
   },
   {
    "duration": 11,
    "start_time": "2022-12-09T17:32:07.538Z"
   },
   {
    "duration": 11,
    "start_time": "2022-12-09T17:32:13.250Z"
   },
   {
    "duration": 9,
    "start_time": "2022-12-09T17:32:20.870Z"
   },
   {
    "duration": 12,
    "start_time": "2022-12-09T17:32:28.338Z"
   },
   {
    "duration": 6,
    "start_time": "2022-12-09T17:33:38.802Z"
   },
   {
    "duration": 5,
    "start_time": "2022-12-09T17:35:36.232Z"
   },
   {
    "duration": 7,
    "start_time": "2022-12-09T17:41:33.848Z"
   },
   {
    "duration": 6,
    "start_time": "2022-12-09T17:41:54.755Z"
   },
   {
    "duration": 7,
    "start_time": "2022-12-09T17:42:17.165Z"
   },
   {
    "duration": 7,
    "start_time": "2022-12-09T17:42:24.021Z"
   },
   {
    "duration": 18,
    "start_time": "2022-12-09T17:42:28.745Z"
   },
   {
    "duration": 14,
    "start_time": "2022-12-09T17:42:53.987Z"
   },
   {
    "duration": 12,
    "start_time": "2022-12-09T17:43:57.814Z"
   },
   {
    "duration": 8,
    "start_time": "2022-12-09T17:44:21.833Z"
   },
   {
    "duration": 13,
    "start_time": "2022-12-09T17:44:37.700Z"
   },
   {
    "duration": 5,
    "start_time": "2022-12-09T17:45:13.307Z"
   },
   {
    "duration": 6,
    "start_time": "2022-12-09T17:45:19.269Z"
   },
   {
    "duration": 8,
    "start_time": "2022-12-09T17:46:06.892Z"
   },
   {
    "duration": 8,
    "start_time": "2022-12-09T17:49:28.798Z"
   },
   {
    "duration": 10,
    "start_time": "2022-12-09T17:57:31.741Z"
   },
   {
    "duration": 5,
    "start_time": "2022-12-09T17:57:37.379Z"
   },
   {
    "duration": 7,
    "start_time": "2022-12-09T18:14:34.521Z"
   },
   {
    "duration": 29,
    "start_time": "2022-12-09T18:14:40.384Z"
   },
   {
    "duration": 22,
    "start_time": "2022-12-09T18:14:52.414Z"
   },
   {
    "duration": 30,
    "start_time": "2022-12-09T18:15:10.210Z"
   },
   {
    "duration": 29,
    "start_time": "2022-12-09T18:15:29.256Z"
   },
   {
    "duration": 15,
    "start_time": "2022-12-09T18:15:52.897Z"
   },
   {
    "duration": 6,
    "start_time": "2022-12-09T18:19:36.652Z"
   },
   {
    "duration": 6,
    "start_time": "2022-12-09T18:19:45.036Z"
   },
   {
    "duration": 6,
    "start_time": "2022-12-09T18:20:54.345Z"
   },
   {
    "duration": 6,
    "start_time": "2022-12-09T18:24:33.563Z"
   },
   {
    "duration": 25,
    "start_time": "2022-12-09T18:25:09.785Z"
   },
   {
    "duration": 207,
    "start_time": "2022-12-09T18:26:12.415Z"
   },
   {
    "duration": 17,
    "start_time": "2022-12-09T18:26:28.413Z"
   },
   {
    "duration": 24,
    "start_time": "2022-12-09T18:26:55.900Z"
   },
   {
    "duration": 16,
    "start_time": "2022-12-09T18:27:04.135Z"
   },
   {
    "duration": 1119,
    "start_time": "2022-12-09T18:27:13.684Z"
   },
   {
    "duration": 95,
    "start_time": "2022-12-09T18:27:14.805Z"
   },
   {
    "duration": 36,
    "start_time": "2022-12-09T18:27:14.901Z"
   },
   {
    "duration": 6,
    "start_time": "2022-12-09T18:27:14.940Z"
   },
   {
    "duration": 9,
    "start_time": "2022-12-09T18:27:14.947Z"
   },
   {
    "duration": 43,
    "start_time": "2022-12-09T18:27:14.958Z"
   },
   {
    "duration": 13,
    "start_time": "2022-12-09T18:27:15.003Z"
   },
   {
    "duration": 9,
    "start_time": "2022-12-09T18:27:15.017Z"
   },
   {
    "duration": 16,
    "start_time": "2022-12-09T18:27:15.027Z"
   },
   {
    "duration": 9,
    "start_time": "2022-12-09T18:27:46.077Z"
   },
   {
    "duration": 9,
    "start_time": "2022-12-09T18:28:59.980Z"
   },
   {
    "duration": 8,
    "start_time": "2022-12-09T18:29:09.313Z"
   },
   {
    "duration": 13,
    "start_time": "2022-12-09T18:30:11.312Z"
   },
   {
    "duration": 12,
    "start_time": "2022-12-09T18:30:27.496Z"
   },
   {
    "duration": 11,
    "start_time": "2022-12-09T18:30:41.970Z"
   },
   {
    "duration": 9,
    "start_time": "2022-12-09T18:33:39.173Z"
   },
   {
    "duration": 6,
    "start_time": "2022-12-09T18:34:20.446Z"
   },
   {
    "duration": 43,
    "start_time": "2022-12-09T18:34:33.558Z"
   },
   {
    "duration": 7,
    "start_time": "2022-12-09T18:34:36.344Z"
   },
   {
    "duration": 9,
    "start_time": "2022-12-09T18:34:48.919Z"
   },
   {
    "duration": 6,
    "start_time": "2022-12-09T18:35:00.003Z"
   },
   {
    "duration": 12,
    "start_time": "2022-12-09T18:39:17.831Z"
   },
   {
    "duration": 10,
    "start_time": "2022-12-09T18:39:31.739Z"
   },
   {
    "duration": 12,
    "start_time": "2022-12-09T18:41:10.495Z"
   },
   {
    "duration": 12,
    "start_time": "2022-12-09T18:41:50.151Z"
   },
   {
    "duration": 11,
    "start_time": "2022-12-09T18:41:56.898Z"
   },
   {
    "duration": 21,
    "start_time": "2022-12-09T18:48:15.610Z"
   },
   {
    "duration": 7,
    "start_time": "2022-12-09T18:48:46.188Z"
   },
   {
    "duration": 8,
    "start_time": "2022-12-09T18:48:57.941Z"
   },
   {
    "duration": 6,
    "start_time": "2022-12-09T18:51:39.471Z"
   },
   {
    "duration": 8,
    "start_time": "2022-12-09T18:51:45.532Z"
   },
   {
    "duration": 3,
    "start_time": "2022-12-09T18:52:44.418Z"
   },
   {
    "duration": 38,
    "start_time": "2022-12-09T18:53:33.326Z"
   },
   {
    "duration": 17,
    "start_time": "2022-12-09T18:53:42.425Z"
   },
   {
    "duration": 4,
    "start_time": "2022-12-09T18:54:04.969Z"
   },
   {
    "duration": 4,
    "start_time": "2022-12-09T18:54:14.822Z"
   },
   {
    "duration": 8,
    "start_time": "2022-12-09T18:54:22.290Z"
   },
   {
    "duration": 12,
    "start_time": "2022-12-09T18:56:20.068Z"
   },
   {
    "duration": 4,
    "start_time": "2022-12-09T18:56:25.371Z"
   },
   {
    "duration": 96,
    "start_time": "2022-12-10T19:09:20.691Z"
   },
   {
    "duration": 8,
    "start_time": "2022-12-10T19:09:29.531Z"
   },
   {
    "duration": 13,
    "start_time": "2022-12-10T19:11:56.898Z"
   },
   {
    "duration": 1159,
    "start_time": "2022-12-10T19:12:03.897Z"
   },
   {
    "duration": 131,
    "start_time": "2022-12-10T19:12:05.059Z"
   },
   {
    "duration": 43,
    "start_time": "2022-12-10T19:12:05.192Z"
   },
   {
    "duration": 6,
    "start_time": "2022-12-10T19:12:05.237Z"
   },
   {
    "duration": 11,
    "start_time": "2022-12-10T19:12:05.245Z"
   },
   {
    "duration": 48,
    "start_time": "2022-12-10T19:12:05.258Z"
   },
   {
    "duration": 17,
    "start_time": "2022-12-10T19:12:05.308Z"
   },
   {
    "duration": 6,
    "start_time": "2022-12-10T19:12:05.327Z"
   },
   {
    "duration": 17,
    "start_time": "2022-12-10T19:12:05.335Z"
   },
   {
    "duration": 7,
    "start_time": "2022-12-10T19:12:05.354Z"
   },
   {
    "duration": 4,
    "start_time": "2022-12-10T19:12:05.397Z"
   },
   {
    "duration": 112,
    "start_time": "2022-12-10T19:12:23.269Z"
   },
   {
    "duration": 11,
    "start_time": "2022-12-10T19:12:29.406Z"
   },
   {
    "duration": 1111,
    "start_time": "2022-12-10T19:12:36.902Z"
   },
   {
    "duration": 64,
    "start_time": "2022-12-10T19:12:38.016Z"
   },
   {
    "duration": 38,
    "start_time": "2022-12-10T19:12:38.081Z"
   },
   {
    "duration": 6,
    "start_time": "2022-12-10T19:12:38.122Z"
   },
   {
    "duration": 7,
    "start_time": "2022-12-10T19:12:38.129Z"
   },
   {
    "duration": 38,
    "start_time": "2022-12-10T19:12:38.138Z"
   },
   {
    "duration": 29,
    "start_time": "2022-12-10T19:12:38.178Z"
   },
   {
    "duration": 5,
    "start_time": "2022-12-10T19:12:38.208Z"
   },
   {
    "duration": 17,
    "start_time": "2022-12-10T19:12:38.215Z"
   },
   {
    "duration": 7,
    "start_time": "2022-12-10T19:12:38.234Z"
   },
   {
    "duration": 12,
    "start_time": "2022-12-10T19:12:38.242Z"
   },
   {
    "duration": 97,
    "start_time": "2022-12-10T19:13:56.437Z"
   },
   {
    "duration": 191,
    "start_time": "2022-12-10T19:14:08.529Z"
   },
   {
    "duration": 127,
    "start_time": "2022-12-10T19:14:15.902Z"
   },
   {
    "duration": 97,
    "start_time": "2022-12-10T19:14:53.409Z"
   },
   {
    "duration": 91,
    "start_time": "2022-12-10T19:19:16.551Z"
   },
   {
    "duration": 93,
    "start_time": "2022-12-10T19:19:24.383Z"
   },
   {
    "duration": 112,
    "start_time": "2022-12-10T19:19:44.323Z"
   },
   {
    "duration": 110,
    "start_time": "2022-12-10T19:21:10.878Z"
   },
   {
    "duration": 130,
    "start_time": "2022-12-10T19:21:17.358Z"
   },
   {
    "duration": 181,
    "start_time": "2022-12-10T19:21:24.115Z"
   },
   {
    "duration": 268,
    "start_time": "2022-12-10T19:21:46.368Z"
   },
   {
    "duration": 124,
    "start_time": "2022-12-10T19:22:10.154Z"
   },
   {
    "duration": 89,
    "start_time": "2022-12-10T19:25:02.949Z"
   },
   {
    "duration": 90,
    "start_time": "2022-12-10T19:25:12.514Z"
   },
   {
    "duration": 116,
    "start_time": "2022-12-10T19:25:16.141Z"
   },
   {
    "duration": 93,
    "start_time": "2022-12-10T19:25:44.338Z"
   },
   {
    "duration": 99,
    "start_time": "2022-12-10T19:26:01.837Z"
   },
   {
    "duration": 3,
    "start_time": "2022-12-10T19:28:18.661Z"
   },
   {
    "duration": 181,
    "start_time": "2022-12-10T19:35:50.628Z"
   },
   {
    "duration": 9,
    "start_time": "2022-12-10T19:36:04.880Z"
   },
   {
    "duration": 95,
    "start_time": "2022-12-10T19:36:50.736Z"
   },
   {
    "duration": 40,
    "start_time": "2022-12-10T19:37:44.224Z"
   },
   {
    "duration": 11,
    "start_time": "2022-12-10T19:38:15.315Z"
   },
   {
    "duration": 51,
    "start_time": "2022-12-10T19:38:51.723Z"
   },
   {
    "duration": 115,
    "start_time": "2022-12-10T19:39:28.951Z"
   },
   {
    "duration": 354,
    "start_time": "2022-12-10T19:39:43.147Z"
   },
   {
    "duration": 280,
    "start_time": "2022-12-10T19:39:58.991Z"
   },
   {
    "duration": 281,
    "start_time": "2022-12-10T19:40:29.715Z"
   },
   {
    "duration": 256,
    "start_time": "2022-12-10T19:40:45.547Z"
   },
   {
    "duration": 78,
    "start_time": "2022-12-10T19:42:02.583Z"
   },
   {
    "duration": 11,
    "start_time": "2022-12-10T19:59:05.325Z"
   },
   {
    "duration": 13,
    "start_time": "2022-12-10T20:00:36.877Z"
   },
   {
    "duration": 17,
    "start_time": "2022-12-10T20:00:57.985Z"
   },
   {
    "duration": 45,
    "start_time": "2022-12-10T20:02:45.441Z"
   },
   {
    "duration": 45,
    "start_time": "2022-12-10T20:03:09.289Z"
   },
   {
    "duration": 13,
    "start_time": "2022-12-10T20:03:50.733Z"
   },
   {
    "duration": 12,
    "start_time": "2022-12-10T20:03:55.549Z"
   },
   {
    "duration": 7,
    "start_time": "2022-12-10T20:04:00.957Z"
   },
   {
    "duration": 11,
    "start_time": "2022-12-10T20:04:10.113Z"
   },
   {
    "duration": 12,
    "start_time": "2022-12-10T20:05:53.501Z"
   },
   {
    "duration": 13,
    "start_time": "2022-12-10T20:06:19.556Z"
   },
   {
    "duration": 16,
    "start_time": "2022-12-10T20:08:37.756Z"
   },
   {
    "duration": 82,
    "start_time": "2022-12-10T20:08:50.660Z"
   },
   {
    "duration": 113,
    "start_time": "2022-12-10T20:09:51.198Z"
   },
   {
    "duration": 103,
    "start_time": "2022-12-10T20:09:56.460Z"
   },
   {
    "duration": 108,
    "start_time": "2022-12-10T20:10:02.744Z"
   },
   {
    "duration": 106,
    "start_time": "2022-12-10T20:10:18.897Z"
   },
   {
    "duration": 89,
    "start_time": "2022-12-10T20:10:24.096Z"
   },
   {
    "duration": 412,
    "start_time": "2022-12-10T20:14:58.251Z"
   },
   {
    "duration": 288,
    "start_time": "2022-12-10T20:15:19.672Z"
   },
   {
    "duration": 359,
    "start_time": "2022-12-10T20:15:23.480Z"
   },
   {
    "duration": 278,
    "start_time": "2022-12-10T20:15:30.320Z"
   },
   {
    "duration": 287,
    "start_time": "2022-12-10T20:16:16.123Z"
   },
   {
    "duration": 407,
    "start_time": "2022-12-10T20:16:25.555Z"
   },
   {
    "duration": 297,
    "start_time": "2022-12-10T20:17:04.548Z"
   },
   {
    "duration": 289,
    "start_time": "2022-12-10T20:17:16.569Z"
   },
   {
    "duration": 289,
    "start_time": "2022-12-10T20:17:35.284Z"
   },
   {
    "duration": 323,
    "start_time": "2022-12-10T20:18:05.755Z"
   },
   {
    "duration": 388,
    "start_time": "2022-12-10T20:18:13.867Z"
   },
   {
    "duration": 280,
    "start_time": "2022-12-10T20:18:52.399Z"
   },
   {
    "duration": 16,
    "start_time": "2022-12-10T20:21:03.775Z"
   },
   {
    "duration": 300,
    "start_time": "2022-12-10T20:21:49.998Z"
   },
   {
    "duration": 281,
    "start_time": "2022-12-10T20:22:39.439Z"
   },
   {
    "duration": 277,
    "start_time": "2022-12-10T20:23:26.790Z"
   },
   {
    "duration": 290,
    "start_time": "2022-12-10T20:23:34.494Z"
   },
   {
    "duration": 334,
    "start_time": "2022-12-10T20:23:46.911Z"
   },
   {
    "duration": 277,
    "start_time": "2022-12-10T20:23:59.647Z"
   },
   {
    "duration": 11,
    "start_time": "2022-12-10T20:26:53.974Z"
   },
   {
    "duration": 269,
    "start_time": "2022-12-10T20:26:57.006Z"
   },
   {
    "duration": 216,
    "start_time": "2022-12-10T20:28:37.018Z"
   },
   {
    "duration": 231,
    "start_time": "2022-12-10T20:29:06.370Z"
   },
   {
    "duration": 256,
    "start_time": "2022-12-10T20:29:16.503Z"
   },
   {
    "duration": 373,
    "start_time": "2022-12-10T20:31:39.568Z"
   },
   {
    "duration": 286,
    "start_time": "2022-12-10T20:31:50.269Z"
   },
   {
    "duration": 287,
    "start_time": "2022-12-10T20:31:54.922Z"
   },
   {
    "duration": 272,
    "start_time": "2022-12-10T20:32:04.301Z"
   },
   {
    "duration": 264,
    "start_time": "2022-12-10T20:32:10.310Z"
   },
   {
    "duration": 369,
    "start_time": "2022-12-10T20:32:15.373Z"
   },
   {
    "duration": 110,
    "start_time": "2022-12-10T20:32:21.613Z"
   },
   {
    "duration": 283,
    "start_time": "2022-12-10T20:32:31.789Z"
   },
   {
    "duration": 302,
    "start_time": "2022-12-10T20:32:38.797Z"
   },
   {
    "duration": 266,
    "start_time": "2022-12-10T20:32:59.137Z"
   },
   {
    "duration": 284,
    "start_time": "2022-12-10T20:36:02.083Z"
   },
   {
    "duration": 375,
    "start_time": "2022-12-10T20:36:19.716Z"
   },
   {
    "duration": 261,
    "start_time": "2022-12-10T20:39:48.871Z"
   },
   {
    "duration": 289,
    "start_time": "2022-12-10T20:40:20.739Z"
   },
   {
    "duration": 421,
    "start_time": "2022-12-10T20:41:03.803Z"
   },
   {
    "duration": 311,
    "start_time": "2022-12-10T20:41:09.787Z"
   },
   {
    "duration": 209,
    "start_time": "2022-12-10T20:41:21.547Z"
   },
   {
    "duration": 448,
    "start_time": "2022-12-10T20:41:27.423Z"
   },
   {
    "duration": 204,
    "start_time": "2022-12-10T20:41:33.415Z"
   },
   {
    "duration": 302,
    "start_time": "2022-12-10T20:41:41.239Z"
   },
   {
    "duration": 276,
    "start_time": "2022-12-10T20:41:56.471Z"
   },
   {
    "duration": 276,
    "start_time": "2022-12-10T20:42:42.434Z"
   },
   {
    "duration": 249,
    "start_time": "2022-12-10T20:42:50.055Z"
   },
   {
    "duration": 396,
    "start_time": "2022-12-10T20:42:55.587Z"
   },
   {
    "duration": 278,
    "start_time": "2022-12-10T20:43:01.315Z"
   },
   {
    "duration": 279,
    "start_time": "2022-12-10T20:43:06.675Z"
   },
   {
    "duration": 297,
    "start_time": "2022-12-10T20:43:18.127Z"
   },
   {
    "duration": 280,
    "start_time": "2022-12-10T20:43:24.626Z"
   },
   {
    "duration": 10,
    "start_time": "2022-12-10T20:46:12.630Z"
   },
   {
    "duration": 1110,
    "start_time": "2022-12-10T20:57:34.080Z"
   },
   {
    "duration": 132,
    "start_time": "2022-12-10T20:57:35.192Z"
   },
   {
    "duration": 34,
    "start_time": "2022-12-10T20:57:35.325Z"
   },
   {
    "duration": 6,
    "start_time": "2022-12-10T20:57:35.360Z"
   },
   {
    "duration": 31,
    "start_time": "2022-12-10T20:57:35.368Z"
   },
   {
    "duration": 18,
    "start_time": "2022-12-10T20:57:35.401Z"
   },
   {
    "duration": 12,
    "start_time": "2022-12-10T20:57:35.421Z"
   },
   {
    "duration": 3,
    "start_time": "2022-12-10T20:57:35.435Z"
   },
   {
    "duration": 11,
    "start_time": "2022-12-10T20:57:35.439Z"
   },
   {
    "duration": 44,
    "start_time": "2022-12-10T20:57:35.453Z"
   },
   {
    "duration": 3,
    "start_time": "2022-12-10T20:57:35.499Z"
   },
   {
    "duration": 303,
    "start_time": "2022-12-10T20:57:35.504Z"
   },
   {
    "duration": 11,
    "start_time": "2022-12-10T20:57:35.809Z"
   },
   {
    "duration": 17,
    "start_time": "2022-12-10T21:08:05.524Z"
   },
   {
    "duration": 53,
    "start_time": "2022-12-10T21:10:29.236Z"
   },
   {
    "duration": 46,
    "start_time": "2022-12-10T21:11:39.932Z"
   },
   {
    "duration": 69,
    "start_time": "2022-12-10T21:11:44.960Z"
   },
   {
    "duration": 43,
    "start_time": "2022-12-10T21:12:32.259Z"
   },
   {
    "duration": 47,
    "start_time": "2022-12-10T21:12:48.247Z"
   },
   {
    "duration": 50,
    "start_time": "2022-12-10T21:13:45.111Z"
   },
   {
    "duration": 26,
    "start_time": "2022-12-10T21:13:49.663Z"
   },
   {
    "duration": 17,
    "start_time": "2022-12-10T21:18:17.463Z"
   },
   {
    "duration": 1064,
    "start_time": "2022-12-10T21:18:23.427Z"
   },
   {
    "duration": 60,
    "start_time": "2022-12-10T21:18:24.493Z"
   },
   {
    "duration": 36,
    "start_time": "2022-12-10T21:18:24.555Z"
   },
   {
    "duration": 6,
    "start_time": "2022-12-10T21:18:24.595Z"
   },
   {
    "duration": 11,
    "start_time": "2022-12-10T21:18:24.603Z"
   },
   {
    "duration": 19,
    "start_time": "2022-12-10T21:18:24.615Z"
   },
   {
    "duration": 11,
    "start_time": "2022-12-10T21:18:24.636Z"
   },
   {
    "duration": 4,
    "start_time": "2022-12-10T21:18:24.648Z"
   },
   {
    "duration": 48,
    "start_time": "2022-12-10T21:18:24.654Z"
   },
   {
    "duration": 6,
    "start_time": "2022-12-10T21:18:24.705Z"
   },
   {
    "duration": 3,
    "start_time": "2022-12-10T21:18:24.713Z"
   },
   {
    "duration": 310,
    "start_time": "2022-12-10T21:18:24.718Z"
   },
   {
    "duration": 11,
    "start_time": "2022-12-10T21:18:25.030Z"
   },
   {
    "duration": 16,
    "start_time": "2022-12-10T21:18:25.043Z"
   },
   {
    "duration": 96,
    "start_time": "2022-12-10T21:22:21.579Z"
   },
   {
    "duration": 11,
    "start_time": "2022-12-10T21:22:31.065Z"
   },
   {
    "duration": 23,
    "start_time": "2022-12-10T21:22:35.758Z"
   },
   {
    "duration": 11,
    "start_time": "2022-12-10T21:22:43.099Z"
   },
   {
    "duration": 344,
    "start_time": "2022-12-10T21:22:48.012Z"
   },
   {
    "duration": 370,
    "start_time": "2022-12-10T21:23:25.508Z"
   },
   {
    "duration": 388,
    "start_time": "2022-12-10T21:23:33.779Z"
   },
   {
    "duration": 384,
    "start_time": "2022-12-10T21:23:44.355Z"
   },
   {
    "duration": 398,
    "start_time": "2022-12-10T21:23:48.260Z"
   },
   {
    "duration": 393,
    "start_time": "2022-12-10T21:24:02.171Z"
   },
   {
    "duration": 448,
    "start_time": "2022-12-10T21:24:47.332Z"
   },
   {
    "duration": 1103,
    "start_time": "2022-12-10T21:26:49.687Z"
   },
   {
    "duration": 64,
    "start_time": "2022-12-10T21:26:50.792Z"
   },
   {
    "duration": 35,
    "start_time": "2022-12-10T21:26:50.857Z"
   },
   {
    "duration": 6,
    "start_time": "2022-12-10T21:26:50.894Z"
   },
   {
    "duration": 8,
    "start_time": "2022-12-10T21:26:50.901Z"
   },
   {
    "duration": 17,
    "start_time": "2022-12-10T21:26:50.910Z"
   },
   {
    "duration": 11,
    "start_time": "2022-12-10T21:26:50.928Z"
   },
   {
    "duration": 4,
    "start_time": "2022-12-10T21:26:50.941Z"
   },
   {
    "duration": 17,
    "start_time": "2022-12-10T21:26:50.946Z"
   },
   {
    "duration": 33,
    "start_time": "2022-12-10T21:26:50.965Z"
   },
   {
    "duration": 309,
    "start_time": "2022-12-10T21:26:50.999Z"
   },
   {
    "duration": 11,
    "start_time": "2022-12-10T21:26:51.310Z"
   },
   {
    "duration": 379,
    "start_time": "2022-12-10T21:26:51.323Z"
   },
   {
    "duration": 3,
    "start_time": "2022-12-10T21:27:54.655Z"
   },
   {
    "duration": 275,
    "start_time": "2022-12-10T21:27:57.074Z"
   },
   {
    "duration": 1103,
    "start_time": "2022-12-10T21:30:21.203Z"
   },
   {
    "duration": 63,
    "start_time": "2022-12-10T21:30:22.308Z"
   },
   {
    "duration": 38,
    "start_time": "2022-12-10T21:30:22.372Z"
   },
   {
    "duration": 5,
    "start_time": "2022-12-10T21:30:22.412Z"
   },
   {
    "duration": 12,
    "start_time": "2022-12-10T21:30:22.419Z"
   },
   {
    "duration": 21,
    "start_time": "2022-12-10T21:30:22.432Z"
   },
   {
    "duration": 13,
    "start_time": "2022-12-10T21:30:22.454Z"
   },
   {
    "duration": 6,
    "start_time": "2022-12-10T21:30:22.496Z"
   },
   {
    "duration": 16,
    "start_time": "2022-12-10T21:30:22.503Z"
   },
   {
    "duration": 8,
    "start_time": "2022-12-10T21:30:22.522Z"
   },
   {
    "duration": 338,
    "start_time": "2022-12-10T21:30:22.531Z"
   },
   {
    "duration": 12,
    "start_time": "2022-12-10T21:30:22.871Z"
   },
   {
    "duration": 397,
    "start_time": "2022-12-10T21:30:22.884Z"
   },
   {
    "duration": 13,
    "start_time": "2022-12-10T21:32:11.886Z"
   },
   {
    "duration": 4,
    "start_time": "2022-12-10T21:34:08.534Z"
   },
   {
    "duration": 301,
    "start_time": "2022-12-10T21:34:11.246Z"
   },
   {
    "duration": 1065,
    "start_time": "2022-12-10T21:34:50.017Z"
   },
   {
    "duration": 60,
    "start_time": "2022-12-10T21:34:51.084Z"
   },
   {
    "duration": 36,
    "start_time": "2022-12-10T21:34:51.145Z"
   },
   {
    "duration": 6,
    "start_time": "2022-12-10T21:34:51.184Z"
   },
   {
    "duration": 6,
    "start_time": "2022-12-10T21:34:51.195Z"
   },
   {
    "duration": 22,
    "start_time": "2022-12-10T21:34:51.203Z"
   },
   {
    "duration": 12,
    "start_time": "2022-12-10T21:34:51.227Z"
   },
   {
    "duration": 4,
    "start_time": "2022-12-10T21:34:51.241Z"
   },
   {
    "duration": 49,
    "start_time": "2022-12-10T21:34:51.247Z"
   },
   {
    "duration": 8,
    "start_time": "2022-12-10T21:34:51.299Z"
   },
   {
    "duration": 5,
    "start_time": "2022-12-10T21:34:51.309Z"
   },
   {
    "duration": 334,
    "start_time": "2022-12-10T21:34:51.316Z"
   },
   {
    "duration": 14,
    "start_time": "2022-12-10T21:34:51.652Z"
   },
   {
    "duration": 419,
    "start_time": "2022-12-10T21:34:51.668Z"
   },
   {
    "duration": 14,
    "start_time": "2022-12-10T21:35:09.899Z"
   },
   {
    "duration": 11,
    "start_time": "2022-12-10T21:35:15.354Z"
   },
   {
    "duration": 12,
    "start_time": "2022-12-10T21:35:25.269Z"
   },
   {
    "duration": 4,
    "start_time": "2022-12-10T21:39:03.229Z"
   },
   {
    "duration": 9,
    "start_time": "2022-12-10T21:39:13.946Z"
   },
   {
    "duration": 7,
    "start_time": "2022-12-10T21:40:21.148Z"
   },
   {
    "duration": 4,
    "start_time": "2022-12-10T21:43:15.040Z"
   },
   {
    "duration": 380,
    "start_time": "2022-12-10T21:44:23.247Z"
   },
   {
    "duration": 6,
    "start_time": "2022-12-10T21:47:22.075Z"
   },
   {
    "duration": 7,
    "start_time": "2022-12-10T21:47:28.207Z"
   },
   {
    "duration": 19,
    "start_time": "2022-12-10T21:47:47.117Z"
   },
   {
    "duration": 5,
    "start_time": "2022-12-10T21:48:29.154Z"
   },
   {
    "duration": 18,
    "start_time": "2022-12-10T21:48:33.974Z"
   },
   {
    "duration": 7,
    "start_time": "2022-12-10T21:48:54.858Z"
   },
   {
    "duration": 6,
    "start_time": "2022-12-10T21:49:01.932Z"
   },
   {
    "duration": 6,
    "start_time": "2022-12-10T21:49:31.162Z"
   },
   {
    "duration": 1063,
    "start_time": "2022-12-10T21:49:42.110Z"
   },
   {
    "duration": 64,
    "start_time": "2022-12-10T21:49:43.175Z"
   },
   {
    "duration": 34,
    "start_time": "2022-12-10T21:49:43.240Z"
   },
   {
    "duration": 6,
    "start_time": "2022-12-10T21:49:43.276Z"
   },
   {
    "duration": 16,
    "start_time": "2022-12-10T21:49:43.284Z"
   },
   {
    "duration": 19,
    "start_time": "2022-12-10T21:49:43.302Z"
   },
   {
    "duration": 13,
    "start_time": "2022-12-10T21:49:43.323Z"
   },
   {
    "duration": 4,
    "start_time": "2022-12-10T21:49:43.338Z"
   },
   {
    "duration": 54,
    "start_time": "2022-12-10T21:49:43.344Z"
   },
   {
    "duration": 6,
    "start_time": "2022-12-10T21:49:43.400Z"
   },
   {
    "duration": 7,
    "start_time": "2022-12-10T21:49:43.407Z"
   },
   {
    "duration": 300,
    "start_time": "2022-12-10T21:49:43.415Z"
   },
   {
    "duration": 12,
    "start_time": "2022-12-10T21:49:43.716Z"
   },
   {
    "duration": 351,
    "start_time": "2022-12-10T21:49:43.730Z"
   },
   {
    "duration": 6,
    "start_time": "2022-12-10T21:50:45.582Z"
   },
   {
    "duration": 7,
    "start_time": "2022-12-10T21:50:50.566Z"
   },
   {
    "duration": 4,
    "start_time": "2022-12-10T21:51:32.446Z"
   },
   {
    "duration": 342,
    "start_time": "2022-12-10T21:51:35.898Z"
   },
   {
    "duration": 384,
    "start_time": "2022-12-10T21:51:41.073Z"
   },
   {
    "duration": 12,
    "start_time": "2022-12-10T21:52:17.749Z"
   },
   {
    "duration": 13,
    "start_time": "2022-12-10T21:52:49.477Z"
   },
   {
    "duration": 12,
    "start_time": "2022-12-10T21:52:55.557Z"
   },
   {
    "duration": 11,
    "start_time": "2022-12-10T21:54:32.374Z"
   },
   {
    "duration": 54,
    "start_time": "2022-12-11T19:45:55.206Z"
   },
   {
    "duration": 9,
    "start_time": "2022-12-11T19:46:09.527Z"
   },
   {
    "duration": 1152,
    "start_time": "2022-12-11T19:47:44.674Z"
   },
   {
    "duration": 84,
    "start_time": "2022-12-11T19:47:45.827Z"
   },
   {
    "duration": 54,
    "start_time": "2022-12-11T19:47:45.913Z"
   },
   {
    "duration": 9,
    "start_time": "2022-12-11T19:47:45.969Z"
   },
   {
    "duration": 26,
    "start_time": "2022-12-11T19:47:45.979Z"
   },
   {
    "duration": 34,
    "start_time": "2022-12-11T19:47:46.007Z"
   },
   {
    "duration": 16,
    "start_time": "2022-12-11T19:47:46.043Z"
   },
   {
    "duration": 37,
    "start_time": "2022-12-11T19:47:46.062Z"
   },
   {
    "duration": 30,
    "start_time": "2022-12-11T19:47:46.101Z"
   },
   {
    "duration": 7,
    "start_time": "2022-12-11T19:47:46.134Z"
   },
   {
    "duration": 9,
    "start_time": "2022-12-11T19:47:46.142Z"
   },
   {
    "duration": 336,
    "start_time": "2022-12-11T19:47:46.153Z"
   },
   {
    "duration": 17,
    "start_time": "2022-12-11T19:47:46.491Z"
   },
   {
    "duration": 370,
    "start_time": "2022-12-11T19:47:46.510Z"
   },
   {
    "duration": 7,
    "start_time": "2022-12-11T19:48:21.214Z"
   },
   {
    "duration": 8,
    "start_time": "2022-12-11T19:48:21.342Z"
   },
   {
    "duration": 10,
    "start_time": "2022-12-11T19:48:33.850Z"
   },
   {
    "duration": 8,
    "start_time": "2022-12-11T19:48:57.610Z"
   },
   {
    "duration": 7,
    "start_time": "2022-12-11T19:50:19.714Z"
   },
   {
    "duration": 41,
    "start_time": "2022-12-11T19:51:34.082Z"
   },
   {
    "duration": 6,
    "start_time": "2022-12-11T19:52:49.950Z"
   },
   {
    "duration": 27,
    "start_time": "2022-12-11T19:53:08.526Z"
   },
   {
    "duration": 7,
    "start_time": "2022-12-11T19:53:16.037Z"
   },
   {
    "duration": 98,
    "start_time": "2022-12-11T19:55:41.578Z"
   },
   {
    "duration": 16,
    "start_time": "2022-12-11T19:57:27.739Z"
   },
   {
    "duration": 19,
    "start_time": "2022-12-11T20:00:37.469Z"
   },
   {
    "duration": 13,
    "start_time": "2022-12-11T20:00:58.204Z"
   },
   {
    "duration": 9501,
    "start_time": "2022-12-11T20:04:58.457Z"
   },
   {
    "duration": 9685,
    "start_time": "2022-12-11T20:05:20.746Z"
   },
   {
    "duration": 13,
    "start_time": "2022-12-11T20:05:46.053Z"
   },
   {
    "duration": 13,
    "start_time": "2022-12-11T20:07:05.206Z"
   },
   {
    "duration": 43,
    "start_time": "2022-12-11T20:08:16.849Z"
   },
   {
    "duration": 59,
    "start_time": "2022-12-11T20:08:23.993Z"
   },
   {
    "duration": 60,
    "start_time": "2022-12-11T20:08:36.557Z"
   },
   {
    "duration": 66,
    "start_time": "2022-12-11T20:08:49.146Z"
   },
   {
    "duration": 62,
    "start_time": "2022-12-11T20:09:01.065Z"
   },
   {
    "duration": 56,
    "start_time": "2022-12-11T20:09:13.360Z"
   },
   {
    "duration": 61,
    "start_time": "2022-12-11T20:09:19.089Z"
   },
   {
    "duration": 6,
    "start_time": "2022-12-11T20:09:23.016Z"
   },
   {
    "duration": 6,
    "start_time": "2022-12-11T20:09:38.169Z"
   },
   {
    "duration": 7,
    "start_time": "2022-12-11T20:09:53.617Z"
   },
   {
    "duration": 24,
    "start_time": "2022-12-11T20:10:04.837Z"
   },
   {
    "duration": 14,
    "start_time": "2022-12-11T20:12:41.060Z"
   },
   {
    "duration": 23,
    "start_time": "2022-12-11T20:13:21.741Z"
   },
   {
    "duration": 11,
    "start_time": "2022-12-11T20:15:15.816Z"
   },
   {
    "duration": 27,
    "start_time": "2022-12-11T20:15:20.892Z"
   },
   {
    "duration": 20,
    "start_time": "2022-12-11T20:15:46.517Z"
   },
   {
    "duration": 1109,
    "start_time": "2022-12-11T20:16:15.312Z"
   },
   {
    "duration": 65,
    "start_time": "2022-12-11T20:16:16.424Z"
   },
   {
    "duration": 47,
    "start_time": "2022-12-11T20:16:16.490Z"
   },
   {
    "duration": 8,
    "start_time": "2022-12-11T20:16:16.539Z"
   },
   {
    "duration": 7,
    "start_time": "2022-12-11T20:16:16.550Z"
   },
   {
    "duration": 55,
    "start_time": "2022-12-11T20:16:16.559Z"
   },
   {
    "duration": 12,
    "start_time": "2022-12-11T20:16:16.615Z"
   },
   {
    "duration": 4,
    "start_time": "2022-12-11T20:16:16.629Z"
   },
   {
    "duration": 14,
    "start_time": "2022-12-11T20:16:16.635Z"
   },
   {
    "duration": 6,
    "start_time": "2022-12-11T20:16:16.651Z"
   },
   {
    "duration": 21,
    "start_time": "2022-12-11T20:19:21.410Z"
   },
   {
    "duration": 1059,
    "start_time": "2022-12-11T20:19:42.216Z"
   },
   {
    "duration": 75,
    "start_time": "2022-12-11T20:19:43.277Z"
   },
   {
    "duration": 35,
    "start_time": "2022-12-11T20:19:43.354Z"
   },
   {
    "duration": 13,
    "start_time": "2022-12-11T20:19:43.391Z"
   },
   {
    "duration": 7,
    "start_time": "2022-12-11T20:19:43.412Z"
   },
   {
    "duration": 19,
    "start_time": "2022-12-11T20:19:43.421Z"
   },
   {
    "duration": 11,
    "start_time": "2022-12-11T20:19:43.442Z"
   },
   {
    "duration": 4,
    "start_time": "2022-12-11T20:19:43.454Z"
   },
   {
    "duration": 18,
    "start_time": "2022-12-11T20:19:46.196Z"
   },
   {
    "duration": 30,
    "start_time": "2022-12-11T20:20:03.272Z"
   },
   {
    "duration": 12,
    "start_time": "2022-12-11T20:20:21.596Z"
   },
   {
    "duration": 6,
    "start_time": "2022-12-11T20:20:26.860Z"
   },
   {
    "duration": 12,
    "start_time": "2022-12-11T20:21:30.313Z"
   },
   {
    "duration": 14,
    "start_time": "2022-12-11T20:22:17.511Z"
   },
   {
    "duration": 14,
    "start_time": "2022-12-11T20:22:24.113Z"
   },
   {
    "duration": 7,
    "start_time": "2022-12-11T20:23:27.027Z"
   },
   {
    "duration": 1211,
    "start_time": "2022-12-11T20:23:35.683Z"
   },
   {
    "duration": 59,
    "start_time": "2022-12-11T20:23:36.897Z"
   },
   {
    "duration": 35,
    "start_time": "2022-12-11T20:23:36.958Z"
   },
   {
    "duration": 6,
    "start_time": "2022-12-11T20:23:36.995Z"
   },
   {
    "duration": 8,
    "start_time": "2022-12-11T20:23:37.002Z"
   },
   {
    "duration": 21,
    "start_time": "2022-12-11T20:23:37.011Z"
   },
   {
    "duration": 10,
    "start_time": "2022-12-11T20:23:37.034Z"
   },
   {
    "duration": 4,
    "start_time": "2022-12-11T20:23:37.046Z"
   },
   {
    "duration": 19,
    "start_time": "2022-12-11T20:23:37.096Z"
   },
   {
    "duration": 6,
    "start_time": "2022-12-11T20:23:37.117Z"
   },
   {
    "duration": 9,
    "start_time": "2022-12-11T20:23:37.125Z"
   },
   {
    "duration": 312,
    "start_time": "2022-12-11T20:23:37.135Z"
   },
   {
    "duration": 13,
    "start_time": "2022-12-11T20:23:37.448Z"
   },
   {
    "duration": 414,
    "start_time": "2022-12-11T20:23:37.463Z"
   },
   {
    "duration": 3345,
    "start_time": "2022-12-11T20:49:44.542Z"
   },
   {
    "duration": 828,
    "start_time": "2022-12-11T20:51:14.817Z"
   },
   {
    "duration": 157,
    "start_time": "2022-12-11T20:52:04.217Z"
   },
   {
    "duration": 186,
    "start_time": "2022-12-11T20:52:15.034Z"
   },
   {
    "duration": 224,
    "start_time": "2022-12-11T20:52:33.988Z"
   },
   {
    "duration": 170,
    "start_time": "2022-12-11T20:52:46.852Z"
   },
   {
    "duration": 12,
    "start_time": "2022-12-11T20:52:51.740Z"
   },
   {
    "duration": 123,
    "start_time": "2022-12-11T20:53:03.729Z"
   },
   {
    "duration": 0,
    "start_time": "2022-12-11T20:53:56.049Z"
   },
   {
    "duration": 3817,
    "start_time": "2022-12-11T20:53:58.240Z"
   },
   {
    "duration": 30,
    "start_time": "2022-12-11T20:56:18.768Z"
   },
   {
    "duration": 1522,
    "start_time": "2022-12-11T20:56:27.852Z"
   },
   {
    "duration": 1380,
    "start_time": "2022-12-11T20:56:41.768Z"
   },
   {
    "duration": 694,
    "start_time": "2022-12-11T20:57:08.339Z"
   },
   {
    "duration": 4,
    "start_time": "2022-12-11T20:57:21.516Z"
   },
   {
    "duration": 5,
    "start_time": "2022-12-11T20:57:38.767Z"
   },
   {
    "duration": 42621,
    "start_time": "2022-12-11T20:57:46.312Z"
   },
   {
    "duration": 266,
    "start_time": "2022-12-11T20:58:55.151Z"
   },
   {
    "duration": 13,
    "start_time": "2022-12-11T20:59:30.299Z"
   },
   {
    "duration": 186,
    "start_time": "2022-12-11T20:59:39.295Z"
   },
   {
    "duration": 196,
    "start_time": "2022-12-11T20:59:56.570Z"
   },
   {
    "duration": 166,
    "start_time": "2022-12-11T21:00:12.299Z"
   },
   {
    "duration": 52,
    "start_time": "2022-12-11T21:00:29.433Z"
   },
   {
    "duration": 2068,
    "start_time": "2022-12-11T21:00:33.242Z"
   },
   {
    "duration": 273,
    "start_time": "2022-12-11T21:01:02.546Z"
   },
   {
    "duration": 151,
    "start_time": "2022-12-11T21:01:12.067Z"
   },
   {
    "duration": 14,
    "start_time": "2022-12-11T21:01:18.933Z"
   },
   {
    "duration": 159,
    "start_time": "2022-12-11T21:01:33.088Z"
   },
   {
    "duration": 346,
    "start_time": "2022-12-11T21:02:39.894Z"
   },
   {
    "duration": 342,
    "start_time": "2022-12-11T21:03:09.798Z"
   },
   {
    "duration": 372,
    "start_time": "2022-12-11T21:03:21.533Z"
   },
   {
    "duration": 313,
    "start_time": "2022-12-11T21:03:29.308Z"
   },
   {
    "duration": 324,
    "start_time": "2022-12-11T21:03:34.745Z"
   },
   {
    "duration": 201,
    "start_time": "2022-12-11T21:04:11.378Z"
   },
   {
    "duration": 202,
    "start_time": "2022-12-11T21:04:17.370Z"
   },
   {
    "duration": 208,
    "start_time": "2022-12-11T21:04:22.962Z"
   },
   {
    "duration": 144,
    "start_time": "2022-12-11T21:04:44.178Z"
   },
   {
    "duration": 251,
    "start_time": "2022-12-11T21:04:51.014Z"
   },
   {
    "duration": 16,
    "start_time": "2022-12-11T21:05:10.533Z"
   },
   {
    "duration": 249,
    "start_time": "2022-12-11T21:05:28.734Z"
   },
   {
    "duration": 228,
    "start_time": "2022-12-11T21:05:37.533Z"
   },
   {
    "duration": 7,
    "start_time": "2022-12-11T21:06:32.470Z"
   },
   {
    "duration": 122,
    "start_time": "2022-12-11T21:06:36.430Z"
   },
   {
    "duration": 108,
    "start_time": "2022-12-11T21:06:42.693Z"
   },
   {
    "duration": 112,
    "start_time": "2022-12-11T21:07:01.151Z"
   },
   {
    "duration": 47,
    "start_time": "2022-12-11T21:07:08.657Z"
   },
   {
    "duration": 103,
    "start_time": "2022-12-11T21:07:12.173Z"
   },
   {
    "duration": 103,
    "start_time": "2022-12-11T21:07:17.585Z"
   },
   {
    "duration": 104,
    "start_time": "2022-12-11T21:07:22.736Z"
   },
   {
    "duration": 110,
    "start_time": "2022-12-11T21:07:27.669Z"
   },
   {
    "duration": 1127,
    "start_time": "2022-12-11T21:07:41.241Z"
   },
   {
    "duration": 115,
    "start_time": "2022-12-11T21:07:42.370Z"
   },
   {
    "duration": 37,
    "start_time": "2022-12-11T21:07:42.486Z"
   },
   {
    "duration": 6,
    "start_time": "2022-12-11T21:07:42.525Z"
   },
   {
    "duration": 7,
    "start_time": "2022-12-11T21:07:42.532Z"
   },
   {
    "duration": 22,
    "start_time": "2022-12-11T21:07:42.540Z"
   },
   {
    "duration": 40,
    "start_time": "2022-12-11T21:07:42.563Z"
   },
   {
    "duration": 4,
    "start_time": "2022-12-11T21:07:42.605Z"
   },
   {
    "duration": 14,
    "start_time": "2022-12-11T21:07:42.611Z"
   },
   {
    "duration": 5,
    "start_time": "2022-12-11T21:07:42.627Z"
   },
   {
    "duration": 10,
    "start_time": "2022-12-11T21:07:42.633Z"
   },
   {
    "duration": 348,
    "start_time": "2022-12-11T21:07:42.644Z"
   },
   {
    "duration": 15,
    "start_time": "2022-12-11T21:07:42.995Z"
   },
   {
    "duration": 376,
    "start_time": "2022-12-11T21:07:43.012Z"
   },
   {
    "duration": 107,
    "start_time": "2022-12-11T21:07:43.391Z"
   },
   {
    "duration": 92,
    "start_time": "2022-12-11T21:08:16.657Z"
   },
   {
    "duration": 27,
    "start_time": "2022-12-11T21:08:26.933Z"
   },
   {
    "duration": 101,
    "start_time": "2022-12-11T21:08:41.220Z"
   },
   {
    "duration": 12,
    "start_time": "2022-12-11T21:08:45.753Z"
   },
   {
    "duration": 98,
    "start_time": "2022-12-11T21:08:54.944Z"
   },
   {
    "duration": 14,
    "start_time": "2022-12-11T21:08:58.057Z"
   },
   {
    "duration": 95,
    "start_time": "2022-12-11T21:09:20.925Z"
   },
   {
    "duration": 17,
    "start_time": "2022-12-11T21:09:26.452Z"
   },
   {
    "duration": 111,
    "start_time": "2022-12-11T21:09:38.156Z"
   },
   {
    "duration": 16,
    "start_time": "2022-12-11T21:09:43.967Z"
   },
   {
    "duration": 168,
    "start_time": "2022-12-11T21:09:54.681Z"
   },
   {
    "duration": 15,
    "start_time": "2022-12-11T21:10:00.488Z"
   },
   {
    "duration": 91,
    "start_time": "2022-12-11T21:10:15.760Z"
   },
   {
    "duration": 14,
    "start_time": "2022-12-11T21:10:18.744Z"
   },
   {
    "duration": 94,
    "start_time": "2022-12-11T21:10:27.296Z"
   },
   {
    "duration": 17,
    "start_time": "2022-12-11T21:10:30.861Z"
   },
   {
    "duration": 14,
    "start_time": "2022-12-11T21:10:48.000Z"
   },
   {
    "duration": 95,
    "start_time": "2022-12-11T21:10:52.772Z"
   },
   {
    "duration": 103,
    "start_time": "2022-12-11T21:10:56.732Z"
   },
   {
    "duration": 15,
    "start_time": "2022-12-11T21:10:59.956Z"
   },
   {
    "duration": 114,
    "start_time": "2022-12-11T21:11:13.889Z"
   },
   {
    "duration": 14,
    "start_time": "2022-12-11T21:11:17.076Z"
   },
   {
    "duration": 138,
    "start_time": "2022-12-11T21:11:23.965Z"
   },
   {
    "duration": 21,
    "start_time": "2022-12-11T21:11:26.958Z"
   },
   {
    "duration": 50,
    "start_time": "2022-12-11T21:11:35.337Z"
   },
   {
    "duration": 105,
    "start_time": "2022-12-11T21:11:38.774Z"
   },
   {
    "duration": 15,
    "start_time": "2022-12-11T21:11:41.334Z"
   },
   {
    "duration": 120,
    "start_time": "2022-12-11T21:11:52.048Z"
   },
   {
    "duration": 13,
    "start_time": "2022-12-11T21:11:57.572Z"
   },
   {
    "duration": 94,
    "start_time": "2022-12-11T21:12:09.308Z"
   },
   {
    "duration": 18,
    "start_time": "2022-12-11T21:12:14.416Z"
   },
   {
    "duration": 111,
    "start_time": "2022-12-11T21:12:20.138Z"
   },
   {
    "duration": 15,
    "start_time": "2022-12-11T21:12:23.456Z"
   },
   {
    "duration": 94,
    "start_time": "2022-12-11T21:12:32.608Z"
   },
   {
    "duration": 97,
    "start_time": "2022-12-11T21:12:37.540Z"
   },
   {
    "duration": 178,
    "start_time": "2022-12-11T21:12:43.140Z"
   },
   {
    "duration": 4,
    "start_time": "2022-12-11T21:13:03.192Z"
   },
   {
    "duration": 1055,
    "start_time": "2022-12-11T21:13:10.644Z"
   },
   {
    "duration": 55,
    "start_time": "2022-12-11T21:13:11.701Z"
   },
   {
    "duration": 49,
    "start_time": "2022-12-11T21:13:11.758Z"
   },
   {
    "duration": 8,
    "start_time": "2022-12-11T21:13:11.809Z"
   },
   {
    "duration": 10,
    "start_time": "2022-12-11T21:13:11.818Z"
   },
   {
    "duration": 32,
    "start_time": "2022-12-11T21:13:11.830Z"
   },
   {
    "duration": 47,
    "start_time": "2022-12-11T21:13:11.864Z"
   },
   {
    "duration": 4,
    "start_time": "2022-12-11T21:13:11.913Z"
   },
   {
    "duration": 31,
    "start_time": "2022-12-11T21:13:11.919Z"
   },
   {
    "duration": 15,
    "start_time": "2022-12-11T21:13:11.954Z"
   },
   {
    "duration": 40,
    "start_time": "2022-12-11T21:13:11.970Z"
   },
   {
    "duration": 296,
    "start_time": "2022-12-11T21:13:12.012Z"
   },
   {
    "duration": 13,
    "start_time": "2022-12-11T21:13:12.310Z"
   },
   {
    "duration": 474,
    "start_time": "2022-12-11T21:13:12.325Z"
   },
   {
    "duration": 113,
    "start_time": "2022-12-11T21:13:12.800Z"
   },
   {
    "duration": 130,
    "start_time": "2022-12-11T21:13:31.788Z"
   },
   {
    "duration": 6,
    "start_time": "2022-12-11T21:13:41.600Z"
   },
   {
    "duration": 326,
    "start_time": "2022-12-11T21:13:45.284Z"
   },
   {
    "duration": 5,
    "start_time": "2022-12-11T21:13:52.834Z"
   },
   {
    "duration": 348,
    "start_time": "2022-12-11T21:13:56.184Z"
   },
   {
    "duration": 17,
    "start_time": "2022-12-11T21:14:04.676Z"
   },
   {
    "duration": 9,
    "start_time": "2022-12-11T21:14:22.009Z"
   },
   {
    "duration": 420,
    "start_time": "2022-12-11T21:14:26.344Z"
   },
   {
    "duration": 5,
    "start_time": "2022-12-11T21:15:18.164Z"
   },
   {
    "duration": 325,
    "start_time": "2022-12-11T21:15:22.027Z"
   },
   {
    "duration": 6,
    "start_time": "2022-12-11T21:15:45.753Z"
   },
   {
    "duration": 364,
    "start_time": "2022-12-11T21:15:50.822Z"
   },
   {
    "duration": 502,
    "start_time": "2022-12-11T21:15:56.123Z"
   },
   {
    "duration": 112,
    "start_time": "2022-12-11T21:15:59.136Z"
   },
   {
    "duration": 4,
    "start_time": "2022-12-11T21:16:17.218Z"
   },
   {
    "duration": 1174,
    "start_time": "2022-12-11T21:16:22.079Z"
   },
   {
    "duration": 66,
    "start_time": "2022-12-11T21:16:23.255Z"
   },
   {
    "duration": 39,
    "start_time": "2022-12-11T21:16:23.323Z"
   },
   {
    "duration": 6,
    "start_time": "2022-12-11T21:16:23.365Z"
   },
   {
    "duration": 30,
    "start_time": "2022-12-11T21:16:23.397Z"
   },
   {
    "duration": 36,
    "start_time": "2022-12-11T21:16:23.429Z"
   },
   {
    "duration": 14,
    "start_time": "2022-12-11T21:16:23.468Z"
   },
   {
    "duration": 20,
    "start_time": "2022-12-11T21:16:23.484Z"
   },
   {
    "duration": 37,
    "start_time": "2022-12-11T21:16:23.506Z"
   },
   {
    "duration": 7,
    "start_time": "2022-12-11T21:16:23.546Z"
   },
   {
    "duration": 10,
    "start_time": "2022-12-11T21:16:23.554Z"
   },
   {
    "duration": 414,
    "start_time": "2022-12-11T21:16:23.567Z"
   },
   {
    "duration": 27,
    "start_time": "2022-12-11T21:16:23.983Z"
   },
   {
    "duration": 394,
    "start_time": "2022-12-11T21:16:24.018Z"
   },
   {
    "duration": 117,
    "start_time": "2022-12-11T21:16:24.414Z"
   },
   {
    "duration": 5,
    "start_time": "2022-12-11T21:17:17.975Z"
   },
   {
    "duration": 330,
    "start_time": "2022-12-11T21:17:21.919Z"
   },
   {
    "duration": 110,
    "start_time": "2022-12-11T21:17:27.832Z"
   },
   {
    "duration": 3,
    "start_time": "2022-12-11T21:18:22.308Z"
   },
   {
    "duration": 1139,
    "start_time": "2022-12-11T21:18:29.186Z"
   },
   {
    "duration": 90,
    "start_time": "2022-12-11T21:18:30.327Z"
   },
   {
    "duration": 39,
    "start_time": "2022-12-11T21:18:30.418Z"
   },
   {
    "duration": 11,
    "start_time": "2022-12-11T21:18:30.459Z"
   },
   {
    "duration": 32,
    "start_time": "2022-12-11T21:18:30.472Z"
   },
   {
    "duration": 45,
    "start_time": "2022-12-11T21:18:30.509Z"
   },
   {
    "duration": 21,
    "start_time": "2022-12-11T21:18:30.555Z"
   },
   {
    "duration": 19,
    "start_time": "2022-12-11T21:18:30.578Z"
   },
   {
    "duration": 43,
    "start_time": "2022-12-11T21:18:30.599Z"
   },
   {
    "duration": 27,
    "start_time": "2022-12-11T21:18:30.645Z"
   },
   {
    "duration": 16,
    "start_time": "2022-12-11T21:18:30.674Z"
   },
   {
    "duration": 364,
    "start_time": "2022-12-11T21:18:30.692Z"
   },
   {
    "duration": 12,
    "start_time": "2022-12-11T21:18:31.058Z"
   },
   {
    "duration": 461,
    "start_time": "2022-12-11T21:18:31.072Z"
   },
   {
    "duration": 120,
    "start_time": "2022-12-11T21:18:31.535Z"
   },
   {
    "duration": 105,
    "start_time": "2022-12-11T21:19:09.774Z"
   },
   {
    "duration": 115,
    "start_time": "2022-12-11T21:19:13.850Z"
   },
   {
    "duration": 109,
    "start_time": "2022-12-11T21:19:42.838Z"
   },
   {
    "duration": 1956,
    "start_time": "2022-12-11T21:20:54.618Z"
   },
   {
    "duration": 2014,
    "start_time": "2022-12-11T21:22:12.005Z"
   },
   {
    "duration": 1940,
    "start_time": "2022-12-11T21:23:49.115Z"
   },
   {
    "duration": 1994,
    "start_time": "2022-12-11T21:24:00.862Z"
   },
   {
    "duration": 1847,
    "start_time": "2022-12-11T21:24:32.670Z"
   },
   {
    "duration": 63,
    "start_time": "2022-12-11T21:24:42.213Z"
   },
   {
    "duration": 2019,
    "start_time": "2022-12-11T21:24:45.786Z"
   },
   {
    "duration": 2114,
    "start_time": "2022-12-11T21:24:55.766Z"
   },
   {
    "duration": 1914,
    "start_time": "2022-12-11T21:25:32.823Z"
   },
   {
    "duration": 1914,
    "start_time": "2022-12-11T21:26:06.865Z"
   },
   {
    "duration": 2746,
    "start_time": "2022-12-11T21:26:51.014Z"
   },
   {
    "duration": 2776,
    "start_time": "2022-12-11T21:27:19.649Z"
   },
   {
    "duration": 1969,
    "start_time": "2022-12-11T21:27:28.165Z"
   },
   {
    "duration": 121,
    "start_time": "2022-12-11T21:27:44.517Z"
   },
   {
    "duration": 121,
    "start_time": "2022-12-11T21:28:05.338Z"
   },
   {
    "duration": 139,
    "start_time": "2022-12-11T21:28:12.270Z"
   },
   {
    "duration": 101,
    "start_time": "2022-12-11T21:28:15.753Z"
   },
   {
    "duration": 113,
    "start_time": "2022-12-11T21:29:35.245Z"
   },
   {
    "duration": 282,
    "start_time": "2022-12-11T21:29:44.794Z"
   },
   {
    "duration": 2242,
    "start_time": "2022-12-11T21:29:50.917Z"
   },
   {
    "duration": 250,
    "start_time": "2022-12-11T21:30:08.004Z"
   },
   {
    "duration": 106,
    "start_time": "2022-12-11T21:30:40.043Z"
   },
   {
    "duration": 1029,
    "start_time": "2022-12-11T21:31:21.277Z"
   },
   {
    "duration": 192,
    "start_time": "2022-12-11T21:31:28.453Z"
   },
   {
    "duration": 346,
    "start_time": "2022-12-11T21:31:59.844Z"
   },
   {
    "duration": 325,
    "start_time": "2022-12-11T21:32:51.650Z"
   },
   {
    "duration": 233,
    "start_time": "2022-12-11T21:33:01.044Z"
   },
   {
    "duration": 13,
    "start_time": "2022-12-11T21:33:39.517Z"
   },
   {
    "duration": 333,
    "start_time": "2022-12-11T21:33:52.418Z"
   },
   {
    "duration": 243,
    "start_time": "2022-12-11T21:34:00.570Z"
   },
   {
    "duration": 256,
    "start_time": "2022-12-11T21:36:15.115Z"
   },
   {
    "duration": 238,
    "start_time": "2022-12-11T21:36:23.721Z"
   },
   {
    "duration": 243,
    "start_time": "2022-12-11T21:36:35.445Z"
   },
   {
    "duration": 242,
    "start_time": "2022-12-11T21:36:49.165Z"
   },
   {
    "duration": 265,
    "start_time": "2022-12-11T21:37:22.790Z"
   },
   {
    "duration": 352,
    "start_time": "2022-12-11T21:38:06.498Z"
   },
   {
    "duration": 246,
    "start_time": "2022-12-11T21:38:15.411Z"
   },
   {
    "duration": 230,
    "start_time": "2022-12-11T21:38:26.917Z"
   },
   {
    "duration": 251,
    "start_time": "2022-12-11T21:38:48.914Z"
   },
   {
    "duration": 252,
    "start_time": "2022-12-11T21:39:04.953Z"
   },
   {
    "duration": 223,
    "start_time": "2022-12-11T21:39:33.153Z"
   },
   {
    "duration": 214,
    "start_time": "2022-12-11T21:39:43.517Z"
   },
   {
    "duration": 59,
    "start_time": "2022-12-11T21:40:06.133Z"
   },
   {
    "duration": 239,
    "start_time": "2022-12-11T21:40:15.657Z"
   },
   {
    "duration": 233,
    "start_time": "2022-12-11T21:40:24.635Z"
   },
   {
    "duration": 230,
    "start_time": "2022-12-11T21:40:31.433Z"
   },
   {
    "duration": 152,
    "start_time": "2022-12-11T21:40:50.093Z"
   },
   {
    "duration": 374,
    "start_time": "2022-12-11T21:41:00.022Z"
   },
   {
    "duration": 135,
    "start_time": "2022-12-11T21:41:26.689Z"
   },
   {
    "duration": 242,
    "start_time": "2022-12-11T21:41:32.729Z"
   },
   {
    "duration": 216,
    "start_time": "2022-12-11T21:44:23.145Z"
   },
   {
    "duration": 47,
    "start_time": "2022-12-11T21:44:47.605Z"
   },
   {
    "duration": 235,
    "start_time": "2022-12-11T21:44:52.113Z"
   },
   {
    "duration": 219,
    "start_time": "2022-12-11T21:44:57.117Z"
   },
   {
    "duration": 231,
    "start_time": "2022-12-11T21:45:03.689Z"
   },
   {
    "duration": 258,
    "start_time": "2022-12-11T21:45:21.192Z"
   },
   {
    "duration": 238,
    "start_time": "2022-12-11T21:45:31.148Z"
   },
   {
    "duration": 241,
    "start_time": "2022-12-11T21:45:50.401Z"
   },
   {
    "duration": 6,
    "start_time": "2022-12-11T21:49:15.357Z"
   },
   {
    "duration": 7,
    "start_time": "2022-12-11T21:54:03.719Z"
   },
   {
    "duration": 1035,
    "start_time": "2022-12-11T21:54:11.644Z"
   },
   {
    "duration": 57,
    "start_time": "2022-12-11T21:54:12.680Z"
   },
   {
    "duration": 34,
    "start_time": "2022-12-11T21:54:12.738Z"
   },
   {
    "duration": 5,
    "start_time": "2022-12-11T21:54:12.774Z"
   },
   {
    "duration": 6,
    "start_time": "2022-12-11T21:54:12.796Z"
   },
   {
    "duration": 28,
    "start_time": "2022-12-11T21:54:12.803Z"
   },
   {
    "duration": 11,
    "start_time": "2022-12-11T21:54:12.832Z"
   },
   {
    "duration": 4,
    "start_time": "2022-12-11T21:54:12.845Z"
   },
   {
    "duration": 50,
    "start_time": "2022-12-11T21:54:12.850Z"
   },
   {
    "duration": 5,
    "start_time": "2022-12-11T21:54:12.902Z"
   },
   {
    "duration": 9,
    "start_time": "2022-12-11T21:54:12.909Z"
   },
   {
    "duration": 317,
    "start_time": "2022-12-11T21:54:12.920Z"
   },
   {
    "duration": 12,
    "start_time": "2022-12-11T21:54:13.238Z"
   },
   {
    "duration": 430,
    "start_time": "2022-12-11T21:54:13.251Z"
   },
   {
    "duration": 266,
    "start_time": "2022-12-11T21:54:13.682Z"
   },
   {
    "duration": 4,
    "start_time": "2022-12-11T21:57:18.432Z"
   },
   {
    "duration": 5,
    "start_time": "2022-12-11T21:57:23.820Z"
   },
   {
    "duration": 8,
    "start_time": "2022-12-11T21:57:54.440Z"
   },
   {
    "duration": 8,
    "start_time": "2022-12-11T21:58:00.368Z"
   },
   {
    "duration": 131,
    "start_time": "2022-12-11T21:58:09.577Z"
   },
   {
    "duration": 97,
    "start_time": "2022-12-11T21:58:15.488Z"
   },
   {
    "duration": 150,
    "start_time": "2022-12-11T21:58:20.020Z"
   },
   {
    "duration": 397,
    "start_time": "2022-12-11T21:59:00.816Z"
   },
   {
    "duration": 578,
    "start_time": "2022-12-11T21:59:06.005Z"
   },
   {
    "duration": 23,
    "start_time": "2022-12-11T21:59:32.520Z"
   },
   {
    "duration": 428,
    "start_time": "2022-12-11T21:59:49.615Z"
   },
   {
    "duration": 434,
    "start_time": "2022-12-12T12:54:22.875Z"
   },
   {
    "duration": 394,
    "start_time": "2022-12-12T12:54:32.922Z"
   },
   {
    "duration": 378,
    "start_time": "2022-12-12T12:55:12.508Z"
   },
   {
    "duration": 388,
    "start_time": "2022-12-12T12:55:28.304Z"
   },
   {
    "duration": 363,
    "start_time": "2022-12-12T12:55:34.307Z"
   },
   {
    "duration": 391,
    "start_time": "2022-12-12T12:56:12.676Z"
   },
   {
    "duration": 407,
    "start_time": "2022-12-12T12:56:33.189Z"
   },
   {
    "duration": 402,
    "start_time": "2022-12-12T12:56:42.266Z"
   },
   {
    "duration": 386,
    "start_time": "2022-12-12T12:56:57.935Z"
   },
   {
    "duration": 495,
    "start_time": "2022-12-12T12:58:36.885Z"
   },
   {
    "duration": 3,
    "start_time": "2022-12-12T13:05:18.453Z"
   },
   {
    "duration": 515,
    "start_time": "2022-12-12T13:06:49.212Z"
   },
   {
    "duration": 48,
    "start_time": "2022-12-12T13:07:16.191Z"
   },
   {
    "duration": 499,
    "start_time": "2022-12-12T13:07:37.483Z"
   },
   {
    "duration": 1074,
    "start_time": "2022-12-12T13:08:22.912Z"
   },
   {
    "duration": 119,
    "start_time": "2022-12-12T13:08:23.989Z"
   },
   {
    "duration": 37,
    "start_time": "2022-12-12T13:08:24.109Z"
   },
   {
    "duration": 7,
    "start_time": "2022-12-12T13:08:24.148Z"
   },
   {
    "duration": 7,
    "start_time": "2022-12-12T13:08:24.157Z"
   },
   {
    "duration": 31,
    "start_time": "2022-12-12T13:08:24.196Z"
   },
   {
    "duration": 16,
    "start_time": "2022-12-12T13:08:24.229Z"
   },
   {
    "duration": 16,
    "start_time": "2022-12-12T13:08:24.246Z"
   },
   {
    "duration": 21,
    "start_time": "2022-12-12T13:08:24.264Z"
   },
   {
    "duration": 9,
    "start_time": "2022-12-12T13:08:24.288Z"
   },
   {
    "duration": 23,
    "start_time": "2022-12-12T13:08:24.299Z"
   },
   {
    "duration": 324,
    "start_time": "2022-12-12T13:08:24.324Z"
   },
   {
    "duration": 12,
    "start_time": "2022-12-12T13:08:24.650Z"
   },
   {
    "duration": 450,
    "start_time": "2022-12-12T13:08:24.664Z"
   },
   {
    "duration": 269,
    "start_time": "2022-12-12T13:08:25.116Z"
   },
   {
    "duration": 10,
    "start_time": "2022-12-12T13:08:25.387Z"
   },
   {
    "duration": 534,
    "start_time": "2022-12-12T13:08:25.398Z"
   },
   {
    "duration": 524,
    "start_time": "2022-12-12T13:09:34.834Z"
   },
   {
    "duration": 410,
    "start_time": "2022-12-12T13:10:03.456Z"
   },
   {
    "duration": 543,
    "start_time": "2022-12-12T13:12:01.480Z"
   },
   {
    "duration": 3,
    "start_time": "2022-12-12T13:12:10.162Z"
   },
   {
    "duration": 391,
    "start_time": "2022-12-12T13:12:12.375Z"
   },
   {
    "duration": 3,
    "start_time": "2022-12-12T13:12:27.907Z"
   },
   {
    "duration": 434,
    "start_time": "2022-12-12T13:12:29.990Z"
   },
   {
    "duration": 3,
    "start_time": "2022-12-12T13:13:03.396Z"
   },
   {
    "duration": 416,
    "start_time": "2022-12-12T13:13:31.142Z"
   },
   {
    "duration": 406,
    "start_time": "2022-12-12T13:13:53.656Z"
   },
   {
    "duration": 3,
    "start_time": "2022-12-12T13:16:31.255Z"
   },
   {
    "duration": 439,
    "start_time": "2022-12-12T13:16:32.899Z"
   },
   {
    "duration": 432,
    "start_time": "2022-12-12T13:16:39.842Z"
   },
   {
    "duration": 3,
    "start_time": "2022-12-12T13:17:23.259Z"
   },
   {
    "duration": 128,
    "start_time": "2022-12-12T13:19:47.143Z"
   },
   {
    "duration": 241,
    "start_time": "2022-12-12T13:20:03.173Z"
   },
   {
    "duration": 250,
    "start_time": "2022-12-12T13:20:17.894Z"
   },
   {
    "duration": 238,
    "start_time": "2022-12-12T13:20:36.711Z"
   },
   {
    "duration": 347,
    "start_time": "2022-12-12T13:20:44.959Z"
   },
   {
    "duration": 255,
    "start_time": "2022-12-12T13:21:03.195Z"
   },
   {
    "duration": 228,
    "start_time": "2022-12-12T13:21:34.177Z"
   },
   {
    "duration": 439,
    "start_time": "2022-12-12T13:21:55.096Z"
   },
   {
    "duration": 397,
    "start_time": "2022-12-12T13:22:43.667Z"
   },
   {
    "duration": 234,
    "start_time": "2022-12-12T13:23:05.740Z"
   },
   {
    "duration": 224,
    "start_time": "2022-12-12T13:23:35.642Z"
   },
   {
    "duration": 260,
    "start_time": "2022-12-12T13:23:46.506Z"
   },
   {
    "duration": 235,
    "start_time": "2022-12-12T13:23:51.363Z"
   },
   {
    "duration": 239,
    "start_time": "2022-12-12T13:23:58.353Z"
   },
   {
    "duration": 410,
    "start_time": "2022-12-12T13:24:26.574Z"
   },
   {
    "duration": 523,
    "start_time": "2022-12-12T13:24:32.249Z"
   },
   {
    "duration": 430,
    "start_time": "2022-12-12T13:24:37.281Z"
   },
   {
    "duration": 434,
    "start_time": "2022-12-12T13:24:47.257Z"
   },
   {
    "duration": 415,
    "start_time": "2022-12-12T13:24:52.109Z"
   },
   {
    "duration": 427,
    "start_time": "2022-12-12T13:24:58.760Z"
   },
   {
    "duration": 428,
    "start_time": "2022-12-12T13:25:07.754Z"
   },
   {
    "duration": 9,
    "start_time": "2022-12-12T13:31:40.290Z"
   },
   {
    "duration": 11,
    "start_time": "2022-12-12T13:32:34.444Z"
   },
   {
    "duration": 10,
    "start_time": "2022-12-12T13:34:02.345Z"
   },
   {
    "duration": 10,
    "start_time": "2022-12-12T13:34:13.887Z"
   },
   {
    "duration": 9,
    "start_time": "2022-12-12T13:34:33.141Z"
   },
   {
    "duration": 10,
    "start_time": "2022-12-12T13:41:32.637Z"
   },
   {
    "duration": 8,
    "start_time": "2022-12-12T13:41:57.401Z"
   },
   {
    "duration": 9,
    "start_time": "2022-12-12T13:42:14.273Z"
   },
   {
    "duration": 304,
    "start_time": "2022-12-12T13:44:53.220Z"
   },
   {
    "duration": 386,
    "start_time": "2022-12-12T13:44:59.491Z"
   },
   {
    "duration": 427,
    "start_time": "2022-12-12T13:45:04.804Z"
   },
   {
    "duration": 351,
    "start_time": "2022-12-12T13:45:17.167Z"
   },
   {
    "duration": 343,
    "start_time": "2022-12-12T13:45:24.923Z"
   },
   {
    "duration": 331,
    "start_time": "2022-12-12T13:45:30.655Z"
   },
   {
    "duration": 401,
    "start_time": "2022-12-12T13:45:36.031Z"
   },
   {
    "duration": 303,
    "start_time": "2022-12-12T13:45:42.352Z"
   },
   {
    "duration": 424,
    "start_time": "2022-12-12T13:45:53.603Z"
   },
   {
    "duration": 304,
    "start_time": "2022-12-12T13:46:11.157Z"
   },
   {
    "duration": 287,
    "start_time": "2022-12-12T13:46:51.970Z"
   },
   {
    "duration": 416,
    "start_time": "2022-12-12T13:46:59.335Z"
   },
   {
    "duration": 420,
    "start_time": "2022-12-12T13:47:09.650Z"
   },
   {
    "duration": 472,
    "start_time": "2022-12-12T13:47:13.431Z"
   },
   {
    "duration": 398,
    "start_time": "2022-12-12T13:47:23.195Z"
   },
   {
    "duration": 384,
    "start_time": "2022-12-12T13:47:36.203Z"
   },
   {
    "duration": 400,
    "start_time": "2022-12-12T13:47:51.467Z"
   },
   {
    "duration": 397,
    "start_time": "2022-12-12T13:48:08.659Z"
   },
   {
    "duration": 499,
    "start_time": "2022-12-12T13:48:15.982Z"
   },
   {
    "duration": 518,
    "start_time": "2022-12-12T13:48:19.083Z"
   },
   {
    "duration": 348,
    "start_time": "2022-12-12T13:48:37.785Z"
   },
   {
    "duration": 397,
    "start_time": "2022-12-12T13:48:48.808Z"
   },
   {
    "duration": 393,
    "start_time": "2022-12-12T13:49:03.722Z"
   },
   {
    "duration": 257,
    "start_time": "2022-12-12T13:49:53.811Z"
   },
   {
    "duration": 65,
    "start_time": "2022-12-12T13:50:09.824Z"
   },
   {
    "duration": 5,
    "start_time": "2022-12-12T13:50:48.462Z"
   },
   {
    "duration": 260,
    "start_time": "2022-12-12T13:51:46.081Z"
   },
   {
    "duration": 272,
    "start_time": "2022-12-12T13:52:17.829Z"
   },
   {
    "duration": 268,
    "start_time": "2022-12-12T13:52:35.686Z"
   },
   {
    "duration": 4,
    "start_time": "2022-12-12T13:53:44.406Z"
   },
   {
    "duration": 4,
    "start_time": "2022-12-12T13:53:55.350Z"
   },
   {
    "duration": 61,
    "start_time": "2022-12-12T13:54:03.494Z"
   },
   {
    "duration": 255,
    "start_time": "2022-12-12T13:54:21.174Z"
   },
   {
    "duration": 416,
    "start_time": "2022-12-12T13:54:35.830Z"
   },
   {
    "duration": 258,
    "start_time": "2022-12-12T13:54:40.252Z"
   },
   {
    "duration": 238,
    "start_time": "2022-12-12T13:54:58.362Z"
   },
   {
    "duration": 251,
    "start_time": "2022-12-12T13:56:41.726Z"
   },
   {
    "duration": 393,
    "start_time": "2022-12-12T13:58:24.717Z"
   },
   {
    "duration": 428,
    "start_time": "2022-12-12T13:58:37.084Z"
   },
   {
    "duration": 4,
    "start_time": "2022-12-12T13:58:49.293Z"
   },
   {
    "duration": 423,
    "start_time": "2022-12-12T13:58:51.073Z"
   },
   {
    "duration": 287,
    "start_time": "2022-12-12T14:01:26.119Z"
   },
   {
    "duration": 4,
    "start_time": "2022-12-12T14:02:16.806Z"
   },
   {
    "duration": 376,
    "start_time": "2022-12-12T14:02:21.420Z"
   },
   {
    "duration": 109,
    "start_time": "2022-12-12T14:02:29.551Z"
   },
   {
    "duration": 127,
    "start_time": "2022-12-12T14:02:45.432Z"
   },
   {
    "duration": 264,
    "start_time": "2022-12-12T14:03:00.955Z"
   },
   {
    "duration": 128,
    "start_time": "2022-12-12T14:03:09.731Z"
   },
   {
    "duration": 124,
    "start_time": "2022-12-12T14:03:17.527Z"
   },
   {
    "duration": 428,
    "start_time": "2022-12-12T14:03:53.288Z"
   },
   {
    "duration": 439,
    "start_time": "2022-12-12T14:03:59.673Z"
   },
   {
    "duration": 155,
    "start_time": "2022-12-12T14:07:28.512Z"
   },
   {
    "duration": 292,
    "start_time": "2022-12-12T14:07:34.540Z"
   },
   {
    "duration": 311,
    "start_time": "2022-12-12T14:07:40.958Z"
   },
   {
    "duration": 327,
    "start_time": "2022-12-12T14:07:51.839Z"
   },
   {
    "duration": 1124,
    "start_time": "2022-12-12T14:08:15.130Z"
   },
   {
    "duration": 80,
    "start_time": "2022-12-12T14:08:16.257Z"
   },
   {
    "duration": 41,
    "start_time": "2022-12-12T14:08:16.338Z"
   },
   {
    "duration": 19,
    "start_time": "2022-12-12T14:08:16.381Z"
   },
   {
    "duration": 36,
    "start_time": "2022-12-12T14:08:16.402Z"
   },
   {
    "duration": 26,
    "start_time": "2022-12-12T14:08:16.440Z"
   },
   {
    "duration": 11,
    "start_time": "2022-12-12T14:08:16.468Z"
   },
   {
    "duration": 25,
    "start_time": "2022-12-12T14:08:16.481Z"
   },
   {
    "duration": 30,
    "start_time": "2022-12-12T14:08:16.508Z"
   },
   {
    "duration": 5,
    "start_time": "2022-12-12T14:08:16.541Z"
   },
   {
    "duration": 8,
    "start_time": "2022-12-12T14:08:16.547Z"
   },
   {
    "duration": 441,
    "start_time": "2022-12-12T14:08:16.556Z"
   },
   {
    "duration": 13,
    "start_time": "2022-12-12T14:08:16.999Z"
   },
   {
    "duration": 27,
    "start_time": "2022-12-12T14:08:17.014Z"
   },
   {
    "duration": 454,
    "start_time": "2022-12-12T14:08:17.043Z"
   },
   {
    "duration": 316,
    "start_time": "2022-12-12T14:08:17.498Z"
   },
   {
    "duration": 140,
    "start_time": "2022-12-12T14:08:17.816Z"
   },
   {
    "duration": 541,
    "start_time": "2022-12-12T14:08:17.958Z"
   },
   {
    "duration": 9,
    "start_time": "2022-12-12T14:08:18.501Z"
   },
   {
    "duration": 362,
    "start_time": "2022-12-12T14:16:05.342Z"
   },
   {
    "duration": 249,
    "start_time": "2022-12-12T14:16:41.290Z"
   },
   {
    "duration": 281,
    "start_time": "2022-12-12T14:16:50.554Z"
   },
   {
    "duration": 250,
    "start_time": "2022-12-12T14:17:00.788Z"
   },
   {
    "duration": 320,
    "start_time": "2022-12-12T14:17:41.373Z"
   },
   {
    "duration": 4,
    "start_time": "2022-12-12T14:17:57.931Z"
   },
   {
    "duration": 4,
    "start_time": "2022-12-12T14:18:01.629Z"
   },
   {
    "duration": 251,
    "start_time": "2022-12-12T14:18:05.421Z"
   },
   {
    "duration": 257,
    "start_time": "2022-12-12T14:18:39.642Z"
   },
   {
    "duration": 127,
    "start_time": "2022-12-12T14:19:19.572Z"
   },
   {
    "duration": 223,
    "start_time": "2022-12-12T14:19:25.665Z"
   },
   {
    "duration": 127,
    "start_time": "2022-12-12T14:19:31.914Z"
   },
   {
    "duration": 61,
    "start_time": "2022-12-12T14:20:38.317Z"
   },
   {
    "duration": 126,
    "start_time": "2022-12-12T14:20:50.404Z"
   },
   {
    "duration": 426,
    "start_time": "2022-12-12T14:21:02.179Z"
   },
   {
    "duration": 1145,
    "start_time": "2022-12-12T14:24:10.939Z"
   },
   {
    "duration": 134,
    "start_time": "2022-12-12T14:24:12.086Z"
   },
   {
    "duration": 39,
    "start_time": "2022-12-12T14:24:12.221Z"
   },
   {
    "duration": 6,
    "start_time": "2022-12-12T14:24:12.262Z"
   },
   {
    "duration": 34,
    "start_time": "2022-12-12T14:24:12.269Z"
   },
   {
    "duration": 27,
    "start_time": "2022-12-12T14:24:12.304Z"
   },
   {
    "duration": 37,
    "start_time": "2022-12-12T14:24:12.333Z"
   },
   {
    "duration": 10,
    "start_time": "2022-12-12T14:24:12.372Z"
   },
   {
    "duration": 21,
    "start_time": "2022-12-12T14:24:12.396Z"
   },
   {
    "duration": 17,
    "start_time": "2022-12-12T14:24:12.420Z"
   },
   {
    "duration": 12,
    "start_time": "2022-12-12T14:24:12.440Z"
   },
   {
    "duration": 470,
    "start_time": "2022-12-12T14:24:12.454Z"
   },
   {
    "duration": 14,
    "start_time": "2022-12-12T14:24:12.926Z"
   },
   {
    "duration": 4,
    "start_time": "2022-12-12T14:24:12.942Z"
   },
   {
    "duration": 475,
    "start_time": "2022-12-12T14:24:12.948Z"
   },
   {
    "duration": 280,
    "start_time": "2022-12-12T14:24:13.424Z"
   },
   {
    "duration": 145,
    "start_time": "2022-12-12T14:24:13.706Z"
   },
   {
    "duration": 473,
    "start_time": "2022-12-12T14:24:13.852Z"
   },
   {
    "duration": 10,
    "start_time": "2022-12-12T14:24:14.327Z"
   },
   {
    "duration": 136,
    "start_time": "2022-12-12T15:03:29.309Z"
   },
   {
    "duration": 348,
    "start_time": "2022-12-12T15:04:04.953Z"
   },
   {
    "duration": 256,
    "start_time": "2022-12-12T15:06:28.484Z"
   },
   {
    "duration": 186,
    "start_time": "2022-12-12T15:09:19.089Z"
   },
   {
    "duration": 246,
    "start_time": "2022-12-12T15:09:33.141Z"
   },
   {
    "duration": 260,
    "start_time": "2022-12-12T15:34:00.041Z"
   },
   {
    "duration": 383,
    "start_time": "2022-12-12T15:36:17.346Z"
   },
   {
    "duration": 404,
    "start_time": "2022-12-12T15:36:29.419Z"
   },
   {
    "duration": 258,
    "start_time": "2022-12-12T15:36:38.494Z"
   },
   {
    "duration": 336,
    "start_time": "2022-12-12T15:36:58.553Z"
   },
   {
    "duration": 488,
    "start_time": "2022-12-12T15:37:03.929Z"
   },
   {
    "duration": 373,
    "start_time": "2022-12-12T15:37:25.438Z"
   },
   {
    "duration": 377,
    "start_time": "2022-12-12T15:43:59.370Z"
   },
   {
    "duration": 447,
    "start_time": "2022-12-12T15:47:08.203Z"
   },
   {
    "duration": 387,
    "start_time": "2022-12-12T15:47:38.400Z"
   },
   {
    "duration": 374,
    "start_time": "2022-12-12T15:47:47.000Z"
   },
   {
    "duration": 14563,
    "start_time": "2022-12-12T15:48:03.779Z"
   },
   {
    "duration": 210,
    "start_time": "2022-12-12T15:48:26.564Z"
   },
   {
    "duration": 430,
    "start_time": "2022-12-12T15:48:42.428Z"
   },
   {
    "duration": 441,
    "start_time": "2022-12-12T15:49:00.794Z"
   },
   {
    "duration": 486,
    "start_time": "2022-12-12T15:49:44.688Z"
   },
   {
    "duration": 474,
    "start_time": "2022-12-12T15:50:28.580Z"
   },
   {
    "duration": 445,
    "start_time": "2022-12-12T15:51:11.745Z"
   },
   {
    "duration": 420,
    "start_time": "2022-12-12T15:51:31.788Z"
   },
   {
    "duration": 482,
    "start_time": "2022-12-12T15:51:40.889Z"
   },
   {
    "duration": 449,
    "start_time": "2022-12-12T15:52:32.273Z"
   },
   {
    "duration": 438,
    "start_time": "2022-12-12T15:52:58.188Z"
   },
   {
    "duration": 493,
    "start_time": "2022-12-12T15:53:22.933Z"
   },
   {
    "duration": 486,
    "start_time": "2022-12-12T15:53:28.129Z"
   },
   {
    "duration": 329,
    "start_time": "2022-12-12T15:55:01.786Z"
   },
   {
    "duration": 44,
    "start_time": "2022-12-12T15:55:11.725Z"
   },
   {
    "duration": 61,
    "start_time": "2022-12-12T15:55:20.385Z"
   },
   {
    "duration": 519,
    "start_time": "2022-12-12T15:55:26.007Z"
   },
   {
    "duration": 442,
    "start_time": "2022-12-12T15:55:50.956Z"
   },
   {
    "duration": 754,
    "start_time": "2022-12-12T15:56:57.004Z"
   },
   {
    "duration": 742,
    "start_time": "2022-12-12T15:57:23.433Z"
   },
   {
    "duration": 481,
    "start_time": "2022-12-12T15:57:33.094Z"
   },
   {
    "duration": 434,
    "start_time": "2022-12-12T15:58:12.150Z"
   },
   {
    "duration": 321,
    "start_time": "2022-12-12T15:59:40.046Z"
   },
   {
    "duration": 298,
    "start_time": "2022-12-12T16:00:34.019Z"
   },
   {
    "duration": 424,
    "start_time": "2022-12-12T16:00:51.472Z"
   },
   {
    "duration": 280,
    "start_time": "2022-12-12T16:01:26.019Z"
   },
   {
    "duration": 17,
    "start_time": "2022-12-12T16:03:24.830Z"
   },
   {
    "duration": 16,
    "start_time": "2022-12-12T16:03:31.940Z"
   },
   {
    "duration": 217,
    "start_time": "2022-12-12T16:03:36.819Z"
   },
   {
    "duration": 448,
    "start_time": "2022-12-12T16:03:53.895Z"
   },
   {
    "duration": 873,
    "start_time": "2022-12-12T16:04:36.915Z"
   },
   {
    "duration": 14,
    "start_time": "2022-12-12T16:05:25.331Z"
   },
   {
    "duration": 14,
    "start_time": "2022-12-12T16:05:36.631Z"
   },
   {
    "duration": 16,
    "start_time": "2022-12-12T16:06:34.187Z"
   },
   {
    "duration": 895,
    "start_time": "2022-12-12T16:06:46.880Z"
   },
   {
    "duration": 769,
    "start_time": "2022-12-12T16:06:53.914Z"
   },
   {
    "duration": 433,
    "start_time": "2022-12-12T16:07:11.179Z"
   },
   {
    "duration": 439,
    "start_time": "2022-12-12T16:07:40.747Z"
   },
   {
    "duration": 0,
    "start_time": "2022-12-12T16:08:53.877Z"
   },
   {
    "duration": 6529,
    "start_time": "2022-12-12T16:08:55.508Z"
   },
   {
    "duration": 232,
    "start_time": "2022-12-12T16:09:11.218Z"
   },
   {
    "duration": 225,
    "start_time": "2022-12-12T16:09:45.328Z"
   },
   {
    "duration": 550,
    "start_time": "2022-12-12T16:10:43.564Z"
   },
   {
    "duration": 243,
    "start_time": "2022-12-12T16:11:02.888Z"
   },
   {
    "duration": 227,
    "start_time": "2022-12-12T16:12:13.412Z"
   },
   {
    "duration": 22799,
    "start_time": "2022-12-12T16:13:59.730Z"
   },
   {
    "duration": 157,
    "start_time": "2022-12-12T16:16:52.419Z"
   },
   {
    "duration": 282,
    "start_time": "2022-12-12T16:17:20.218Z"
   },
   {
    "duration": 279,
    "start_time": "2022-12-12T16:17:36.221Z"
   },
   {
    "duration": 6,
    "start_time": "2022-12-12T16:22:04.088Z"
   },
   {
    "duration": 7,
    "start_time": "2022-12-12T16:25:31.005Z"
   },
   {
    "duration": 450,
    "start_time": "2022-12-12T16:26:38.059Z"
   },
   {
    "duration": 448,
    "start_time": "2022-12-12T16:27:11.309Z"
   },
   {
    "duration": 469,
    "start_time": "2022-12-12T16:27:16.714Z"
   },
   {
    "duration": 5,
    "start_time": "2022-12-12T16:27:57.702Z"
   },
   {
    "duration": 986,
    "start_time": "2022-12-12T16:28:12.931Z"
   },
   {
    "duration": 455,
    "start_time": "2022-12-12T16:28:25.259Z"
   },
   {
    "duration": 995,
    "start_time": "2022-12-12T16:29:15.519Z"
   },
   {
    "duration": 465,
    "start_time": "2022-12-12T16:29:31.534Z"
   },
   {
    "duration": 449,
    "start_time": "2022-12-12T16:29:34.718Z"
   },
   {
    "duration": 481,
    "start_time": "2022-12-12T16:30:03.238Z"
   },
   {
    "duration": 880,
    "start_time": "2022-12-12T16:30:09.283Z"
   },
   {
    "duration": 471,
    "start_time": "2022-12-12T16:30:30.990Z"
   },
   {
    "duration": 10,
    "start_time": "2022-12-12T19:12:59.754Z"
   },
   {
    "duration": 15,
    "start_time": "2022-12-12T19:13:04.625Z"
   },
   {
    "duration": 11,
    "start_time": "2022-12-12T19:23:44.301Z"
   },
   {
    "duration": 533,
    "start_time": "2022-12-12T19:25:22.128Z"
   },
   {
    "duration": 13,
    "start_time": "2022-12-12T19:25:42.404Z"
   },
   {
    "duration": 13,
    "start_time": "2022-12-12T19:25:50.132Z"
   },
   {
    "duration": 138,
    "start_time": "2022-12-12T19:26:25.136Z"
   },
   {
    "duration": 193,
    "start_time": "2022-12-12T19:27:06.432Z"
   },
   {
    "duration": 206,
    "start_time": "2022-12-12T19:27:23.957Z"
   },
   {
    "duration": 12,
    "start_time": "2022-12-12T19:28:08.862Z"
   },
   {
    "duration": 6517,
    "start_time": "2022-12-12T19:28:14.372Z"
   },
   {
    "duration": 6,
    "start_time": "2022-12-12T19:28:31.930Z"
   },
   {
    "duration": 11,
    "start_time": "2022-12-12T19:28:41.376Z"
   },
   {
    "duration": 180,
    "start_time": "2022-12-12T19:28:43.927Z"
   },
   {
    "duration": 131,
    "start_time": "2022-12-12T19:29:12.412Z"
   },
   {
    "duration": 206,
    "start_time": "2022-12-12T19:30:00.558Z"
   },
   {
    "duration": 786,
    "start_time": "2022-12-12T19:33:09.239Z"
   },
   {
    "duration": 249,
    "start_time": "2022-12-12T19:33:15.867Z"
   },
   {
    "duration": 20,
    "start_time": "2022-12-12T19:33:45.647Z"
   },
   {
    "duration": 384,
    "start_time": "2022-12-12T19:34:44.414Z"
   },
   {
    "duration": 370,
    "start_time": "2022-12-12T19:35:20.130Z"
   },
   {
    "duration": 398,
    "start_time": "2022-12-12T19:35:39.652Z"
   },
   {
    "duration": 451,
    "start_time": "2022-12-12T19:35:45.611Z"
   },
   {
    "duration": 377,
    "start_time": "2022-12-12T19:35:54.302Z"
   },
   {
    "duration": 522,
    "start_time": "2022-12-12T19:36:47.686Z"
   },
   {
    "duration": 277,
    "start_time": "2022-12-12T19:37:46.168Z"
   },
   {
    "duration": 256,
    "start_time": "2022-12-12T19:39:16.822Z"
   },
   {
    "duration": 272,
    "start_time": "2022-12-12T19:39:40.811Z"
   },
   {
    "duration": 297,
    "start_time": "2022-12-12T19:40:06.082Z"
   },
   {
    "duration": 280,
    "start_time": "2022-12-12T19:40:14.898Z"
   },
   {
    "duration": 6,
    "start_time": "2022-12-12T19:44:39.597Z"
   },
   {
    "duration": 8,
    "start_time": "2022-12-12T19:45:21.664Z"
   },
   {
    "duration": 5,
    "start_time": "2022-12-12T19:45:25.789Z"
   },
   {
    "duration": 209,
    "start_time": "2022-12-12T19:52:04.158Z"
   },
   {
    "duration": 401,
    "start_time": "2022-12-12T19:52:36.912Z"
   },
   {
    "duration": 164,
    "start_time": "2022-12-12T19:54:34.758Z"
   },
   {
    "duration": 6,
    "start_time": "2022-12-12T19:55:21.881Z"
   },
   {
    "duration": 170,
    "start_time": "2022-12-12T19:55:55.003Z"
   },
   {
    "duration": 152,
    "start_time": "2022-12-12T19:56:06.235Z"
   },
   {
    "duration": 229,
    "start_time": "2022-12-12T19:57:32.403Z"
   },
   {
    "duration": 218,
    "start_time": "2022-12-12T19:57:59.623Z"
   },
   {
    "duration": 10,
    "start_time": "2022-12-12T20:04:18.053Z"
   },
   {
    "duration": 9,
    "start_time": "2022-12-12T20:04:25.776Z"
   },
   {
    "duration": 113,
    "start_time": "2022-12-12T20:04:30.354Z"
   },
   {
    "duration": 201,
    "start_time": "2022-12-12T20:04:40.510Z"
   },
   {
    "duration": 4,
    "start_time": "2022-12-12T20:04:52.282Z"
   },
   {
    "duration": 11,
    "start_time": "2022-12-12T20:04:58.822Z"
   },
   {
    "duration": 7,
    "start_time": "2022-12-12T20:05:06.662Z"
   },
   {
    "duration": 8,
    "start_time": "2022-12-12T20:05:12.890Z"
   },
   {
    "duration": 7,
    "start_time": "2022-12-12T20:05:19.074Z"
   },
   {
    "duration": 10,
    "start_time": "2022-12-12T20:05:34.786Z"
   },
   {
    "duration": 374,
    "start_time": "2022-12-12T20:06:33.974Z"
   },
   {
    "duration": 369,
    "start_time": "2022-12-12T20:06:49.418Z"
   },
   {
    "duration": 7,
    "start_time": "2022-12-12T20:09:35.005Z"
   },
   {
    "duration": 10,
    "start_time": "2022-12-13T08:37:28.393Z"
   },
   {
    "duration": 9,
    "start_time": "2022-12-13T08:37:42.819Z"
   },
   {
    "duration": 47,
    "start_time": "2022-12-13T09:10:50.302Z"
   },
   {
    "duration": 88,
    "start_time": "2022-12-13T09:11:31.623Z"
   },
   {
    "duration": 54,
    "start_time": "2022-12-13T09:13:41.367Z"
   },
   {
    "duration": 11,
    "start_time": "2022-12-13T09:13:48.839Z"
   },
   {
    "duration": 59,
    "start_time": "2022-12-13T09:15:49.891Z"
   },
   {
    "duration": 42,
    "start_time": "2022-12-13T09:15:54.450Z"
   },
   {
    "duration": 12,
    "start_time": "2022-12-13T09:16:00.959Z"
   },
   {
    "duration": 11,
    "start_time": "2022-12-13T09:18:51.292Z"
   },
   {
    "duration": 6,
    "start_time": "2022-12-13T09:19:12.028Z"
   },
   {
    "duration": 6,
    "start_time": "2022-12-13T09:20:02.792Z"
   },
   {
    "duration": 22,
    "start_time": "2022-12-13T09:20:13.033Z"
   },
   {
    "duration": 8,
    "start_time": "2022-12-13T09:20:43.434Z"
   },
   {
    "duration": 10,
    "start_time": "2022-12-13T09:23:12.339Z"
   },
   {
    "duration": 58,
    "start_time": "2022-12-13T09:23:54.565Z"
   },
   {
    "duration": 11,
    "start_time": "2022-12-13T09:23:58.686Z"
   },
   {
    "duration": 30,
    "start_time": "2022-12-13T09:24:07.249Z"
   },
   {
    "duration": 579,
    "start_time": "2022-12-13T09:24:25.327Z"
   },
   {
    "duration": 28,
    "start_time": "2022-12-13T09:25:58.588Z"
   },
   {
    "duration": 10,
    "start_time": "2022-12-13T09:47:24.895Z"
   },
   {
    "duration": 9,
    "start_time": "2022-12-13T09:47:31.047Z"
   },
   {
    "duration": 13,
    "start_time": "2022-12-13T09:47:36.923Z"
   },
   {
    "duration": 145,
    "start_time": "2022-12-13T09:47:46.398Z"
   },
   {
    "duration": 134,
    "start_time": "2022-12-13T09:48:03.459Z"
   },
   {
    "duration": 144,
    "start_time": "2022-12-13T09:48:35.091Z"
   },
   {
    "duration": 216,
    "start_time": "2022-12-13T09:49:25.230Z"
   },
   {
    "duration": 810,
    "start_time": "2022-12-13T09:50:11.926Z"
   },
   {
    "duration": 849,
    "start_time": "2022-12-13T09:50:25.545Z"
   },
   {
    "duration": 9,
    "start_time": "2022-12-13T09:50:34.632Z"
   },
   {
    "duration": 8,
    "start_time": "2022-12-13T09:50:43.001Z"
   },
   {
    "duration": 6,
    "start_time": "2022-12-13T09:50:59.768Z"
   },
   {
    "duration": 7,
    "start_time": "2022-12-13T09:51:01.777Z"
   },
   {
    "duration": 6,
    "start_time": "2022-12-13T09:51:07.843Z"
   },
   {
    "duration": 6,
    "start_time": "2022-12-13T09:51:13.061Z"
   },
   {
    "duration": 6,
    "start_time": "2022-12-13T09:51:18.275Z"
   },
   {
    "duration": 226,
    "start_time": "2022-12-13T10:03:00.960Z"
   },
   {
    "duration": 232,
    "start_time": "2022-12-13T10:04:08.199Z"
   },
   {
    "duration": 5,
    "start_time": "2022-12-13T12:03:53.629Z"
   },
   {
    "duration": 19,
    "start_time": "2022-12-13T12:04:03.920Z"
   },
   {
    "duration": 13,
    "start_time": "2022-12-13T12:04:09.629Z"
   },
   {
    "duration": 461,
    "start_time": "2022-12-13T12:05:38.759Z"
   },
   {
    "duration": 253,
    "start_time": "2022-12-13T12:08:55.775Z"
   },
   {
    "duration": 228,
    "start_time": "2022-12-13T12:09:03.970Z"
   },
   {
    "duration": 321,
    "start_time": "2022-12-13T12:09:13.246Z"
   },
   {
    "duration": 142,
    "start_time": "2022-12-13T12:09:51.572Z"
   },
   {
    "duration": 136,
    "start_time": "2022-12-13T12:10:47.208Z"
   },
   {
    "duration": 142,
    "start_time": "2022-12-13T12:11:11.440Z"
   },
   {
    "duration": 142,
    "start_time": "2022-12-13T12:11:19.324Z"
   },
   {
    "duration": 172,
    "start_time": "2022-12-13T12:16:10.218Z"
   },
   {
    "duration": 163,
    "start_time": "2022-12-13T12:17:57.807Z"
   },
   {
    "duration": 164,
    "start_time": "2022-12-13T12:18:03.372Z"
   },
   {
    "duration": 198,
    "start_time": "2022-12-13T12:21:36.509Z"
   },
   {
    "duration": 214,
    "start_time": "2022-12-13T12:21:42.102Z"
   },
   {
    "duration": 232,
    "start_time": "2022-12-13T12:21:49.814Z"
   },
   {
    "duration": 205,
    "start_time": "2022-12-13T12:21:57.203Z"
   },
   {
    "duration": 177,
    "start_time": "2022-12-13T12:22:01.745Z"
   },
   {
    "duration": 214,
    "start_time": "2022-12-13T12:22:10.308Z"
   },
   {
    "duration": 221,
    "start_time": "2022-12-13T12:22:14.975Z"
   },
   {
    "duration": 219,
    "start_time": "2022-12-13T12:22:22.052Z"
   },
   {
    "duration": 228,
    "start_time": "2022-12-13T12:22:33.668Z"
   },
   {
    "duration": 547,
    "start_time": "2022-12-13T12:25:06.044Z"
   },
   {
    "duration": 452,
    "start_time": "2022-12-13T12:26:42.807Z"
   },
   {
    "duration": 465,
    "start_time": "2022-12-13T12:27:15.170Z"
   },
   {
    "duration": 481,
    "start_time": "2022-12-13T12:28:25.068Z"
   },
   {
    "duration": 468,
    "start_time": "2022-12-13T12:29:18.419Z"
   },
   {
    "duration": 401,
    "start_time": "2022-12-13T12:30:47.750Z"
   },
   {
    "duration": 482,
    "start_time": "2022-12-13T12:30:59.436Z"
   },
   {
    "duration": 514,
    "start_time": "2022-12-13T12:31:19.477Z"
   },
   {
    "duration": 475,
    "start_time": "2022-12-13T12:31:25.249Z"
   },
   {
    "duration": 482,
    "start_time": "2022-12-13T12:31:27.735Z"
   },
   {
    "duration": 234,
    "start_time": "2022-12-13T12:33:36.650Z"
   },
   {
    "duration": 216,
    "start_time": "2022-12-13T12:37:33.454Z"
   },
   {
    "duration": 229,
    "start_time": "2022-12-13T12:37:41.124Z"
   },
   {
    "duration": 221,
    "start_time": "2022-12-13T12:38:12.817Z"
   },
   {
    "duration": 221,
    "start_time": "2022-12-13T12:43:29.545Z"
   },
   {
    "duration": 231,
    "start_time": "2022-12-13T12:44:14.989Z"
   },
   {
    "duration": 158,
    "start_time": "2022-12-13T12:44:22.523Z"
   },
   {
    "duration": 14,
    "start_time": "2022-12-13T12:44:32.160Z"
   },
   {
    "duration": 12,
    "start_time": "2022-12-13T12:44:47.135Z"
   },
   {
    "duration": 232,
    "start_time": "2022-12-13T12:44:52.580Z"
   },
   {
    "duration": 218,
    "start_time": "2022-12-13T12:45:04.549Z"
   },
   {
    "duration": 224,
    "start_time": "2022-12-13T12:45:59.461Z"
   },
   {
    "duration": 215,
    "start_time": "2022-12-13T12:47:15.269Z"
   },
   {
    "duration": 215,
    "start_time": "2022-12-13T12:48:17.930Z"
   },
   {
    "duration": 4,
    "start_time": "2022-12-13T14:16:04.904Z"
   },
   {
    "duration": 72,
    "start_time": "2022-12-13T14:16:08.627Z"
   },
   {
    "duration": 11,
    "start_time": "2022-12-13T14:16:33.663Z"
   },
   {
    "duration": 5,
    "start_time": "2022-12-13T14:17:39.967Z"
   },
   {
    "duration": 7,
    "start_time": "2022-12-13T14:17:50.422Z"
   },
   {
    "duration": 7,
    "start_time": "2022-12-13T14:17:58.941Z"
   },
   {
    "duration": 10,
    "start_time": "2022-12-13T14:43:01.060Z"
   },
   {
    "duration": 10,
    "start_time": "2022-12-13T14:57:41.710Z"
   },
   {
    "duration": 4,
    "start_time": "2022-12-13T14:59:50.625Z"
   },
   {
    "duration": 17,
    "start_time": "2022-12-13T14:59:54.090Z"
   },
   {
    "duration": 18,
    "start_time": "2022-12-13T15:01:15.273Z"
   },
   {
    "duration": 17,
    "start_time": "2022-12-13T15:01:55.799Z"
   },
   {
    "duration": 6,
    "start_time": "2022-12-13T15:02:21.003Z"
   },
   {
    "duration": 6,
    "start_time": "2022-12-13T15:02:31.113Z"
   },
   {
    "duration": 18,
    "start_time": "2022-12-13T15:07:51.813Z"
   },
   {
    "duration": 19,
    "start_time": "2022-12-13T15:08:04.859Z"
   },
   {
    "duration": 28,
    "start_time": "2022-12-13T15:09:58.567Z"
   },
   {
    "duration": 19,
    "start_time": "2022-12-13T15:10:38.620Z"
   },
   {
    "duration": 17,
    "start_time": "2022-12-13T15:10:48.665Z"
   },
   {
    "duration": 7,
    "start_time": "2022-12-13T15:11:42.204Z"
   },
   {
    "duration": 5,
    "start_time": "2022-12-13T15:11:52.561Z"
   },
   {
    "duration": 17,
    "start_time": "2022-12-13T15:12:09.121Z"
   },
   {
    "duration": 18,
    "start_time": "2022-12-13T15:14:11.352Z"
   },
   {
    "duration": 10,
    "start_time": "2022-12-13T15:14:17.536Z"
   },
   {
    "duration": 16,
    "start_time": "2022-12-13T15:14:20.665Z"
   },
   {
    "duration": 7,
    "start_time": "2022-12-13T15:17:04.158Z"
   },
   {
    "duration": 62,
    "start_time": "2022-12-13T15:17:37.498Z"
   },
   {
    "duration": 60,
    "start_time": "2022-12-13T15:17:44.283Z"
   },
   {
    "duration": 16,
    "start_time": "2022-12-13T15:17:54.526Z"
   },
   {
    "duration": 16,
    "start_time": "2022-12-13T15:18:58.315Z"
   },
   {
    "duration": 8,
    "start_time": "2022-12-13T15:20:04.990Z"
   },
   {
    "duration": 18,
    "start_time": "2022-12-13T15:20:15.216Z"
   },
   {
    "duration": 9,
    "start_time": "2022-12-13T15:20:22.230Z"
   },
   {
    "duration": 9,
    "start_time": "2022-12-13T15:20:42.973Z"
   },
   {
    "duration": 14,
    "start_time": "2022-12-13T15:21:49.736Z"
   },
   {
    "duration": 12,
    "start_time": "2022-12-13T15:22:04.215Z"
   },
   {
    "duration": 13,
    "start_time": "2022-12-13T15:22:09.752Z"
   },
   {
    "duration": 15,
    "start_time": "2022-12-13T15:23:20.203Z"
   },
   {
    "duration": 1117,
    "start_time": "2022-12-13T15:23:28.697Z"
   },
   {
    "duration": 149,
    "start_time": "2022-12-13T15:23:29.815Z"
   },
   {
    "duration": 41,
    "start_time": "2022-12-13T15:23:29.965Z"
   },
   {
    "duration": 6,
    "start_time": "2022-12-13T15:23:30.008Z"
   },
   {
    "duration": 36,
    "start_time": "2022-12-13T15:23:30.015Z"
   },
   {
    "duration": 60,
    "start_time": "2022-12-13T15:23:30.053Z"
   },
   {
    "duration": 78,
    "start_time": "2022-12-13T15:23:30.115Z"
   },
   {
    "duration": 32,
    "start_time": "2022-12-13T15:23:30.195Z"
   },
   {
    "duration": 32,
    "start_time": "2022-12-13T15:23:30.229Z"
   },
   {
    "duration": 22,
    "start_time": "2022-12-13T15:23:30.264Z"
   },
   {
    "duration": 57,
    "start_time": "2022-12-13T15:23:30.288Z"
   },
   {
    "duration": 470,
    "start_time": "2022-12-13T15:23:30.347Z"
   },
   {
    "duration": 12,
    "start_time": "2022-12-13T15:23:30.819Z"
   },
   {
    "duration": 10,
    "start_time": "2022-12-13T15:23:30.832Z"
   },
   {
    "duration": 466,
    "start_time": "2022-12-13T15:23:30.843Z"
   },
   {
    "duration": 276,
    "start_time": "2022-12-13T15:23:31.313Z"
   },
   {
    "duration": 442,
    "start_time": "2022-12-13T15:23:31.590Z"
   },
   {
    "duration": 8,
    "start_time": "2022-12-13T15:23:32.034Z"
   },
   {
    "duration": 379,
    "start_time": "2022-12-13T15:23:32.044Z"
   },
   {
    "duration": 244,
    "start_time": "2022-12-13T15:23:32.425Z"
   },
   {
    "duration": 539,
    "start_time": "2022-12-13T15:23:32.671Z"
   },
   {
    "duration": 5,
    "start_time": "2022-12-13T15:23:33.211Z"
   },
   {
    "duration": 436,
    "start_time": "2022-12-13T15:23:33.218Z"
   },
   {
    "duration": 393,
    "start_time": "2022-12-13T15:23:33.656Z"
   },
   {
    "duration": 6,
    "start_time": "2022-12-13T15:23:34.050Z"
   },
   {
    "duration": 224,
    "start_time": "2022-12-13T15:23:34.058Z"
   },
   {
    "duration": 12,
    "start_time": "2022-12-13T15:23:34.284Z"
   },
   {
    "duration": 232,
    "start_time": "2022-12-13T15:23:34.299Z"
   },
   {
    "duration": 234,
    "start_time": "2022-12-13T15:23:34.533Z"
   },
   {
    "duration": 445,
    "start_time": "2022-12-13T15:23:34.769Z"
   },
   {
    "duration": 155,
    "start_time": "2022-12-13T15:23:35.215Z"
   },
   {
    "duration": 216,
    "start_time": "2022-12-13T15:23:35.372Z"
   },
   {
    "duration": 11,
    "start_time": "2022-12-13T15:23:35.597Z"
   },
   {
    "duration": 13,
    "start_time": "2022-12-13T15:23:35.610Z"
   },
   {
    "duration": 10,
    "start_time": "2022-12-13T15:27:40.510Z"
   },
   {
    "duration": 121,
    "start_time": "2022-12-13T15:31:08.890Z"
   },
   {
    "duration": 13,
    "start_time": "2022-12-13T15:31:18.376Z"
   },
   {
    "duration": 12,
    "start_time": "2022-12-13T15:34:00.613Z"
   },
   {
    "duration": 25,
    "start_time": "2022-12-13T15:34:03.899Z"
   },
   {
    "duration": 21,
    "start_time": "2022-12-13T15:34:10.175Z"
   },
   {
    "duration": 16,
    "start_time": "2022-12-13T15:37:02.128Z"
   },
   {
    "duration": 14,
    "start_time": "2022-12-13T15:37:12.175Z"
   },
   {
    "duration": 10,
    "start_time": "2022-12-13T15:37:20.952Z"
   },
   {
    "duration": 9,
    "start_time": "2022-12-13T15:49:39.585Z"
   },
   {
    "duration": 12,
    "start_time": "2022-12-13T15:49:48.115Z"
   },
   {
    "duration": 8,
    "start_time": "2022-12-13T15:49:50.380Z"
   },
   {
    "duration": 9,
    "start_time": "2022-12-13T15:50:40.277Z"
   },
   {
    "duration": 9,
    "start_time": "2022-12-13T15:50:43.617Z"
   },
   {
    "duration": 10,
    "start_time": "2022-12-13T15:51:25.867Z"
   },
   {
    "duration": 181,
    "start_time": "2022-12-13T15:51:38.081Z"
   },
   {
    "duration": 9,
    "start_time": "2022-12-13T15:52:45.047Z"
   },
   {
    "duration": 19,
    "start_time": "2022-12-14T10:30:43.556Z"
   },
   {
    "duration": 10,
    "start_time": "2022-12-14T10:30:50.216Z"
   },
   {
    "duration": 19,
    "start_time": "2022-12-14T10:31:14.544Z"
   },
   {
    "duration": 10,
    "start_time": "2022-12-14T10:31:19.553Z"
   },
   {
    "duration": 18,
    "start_time": "2022-12-14T10:31:27.688Z"
   },
   {
    "duration": 9,
    "start_time": "2022-12-14T10:31:39.518Z"
   },
   {
    "duration": 18,
    "start_time": "2022-12-14T10:31:59.150Z"
   },
   {
    "duration": 108,
    "start_time": "2022-12-14T10:39:38.265Z"
   },
   {
    "duration": 46,
    "start_time": "2022-12-14T10:45:56.477Z"
   },
   {
    "duration": 8,
    "start_time": "2022-12-14T10:46:16.029Z"
   },
   {
    "duration": 4,
    "start_time": "2022-12-14T10:48:06.598Z"
   },
   {
    "duration": 8,
    "start_time": "2022-12-14T10:48:10.533Z"
   },
   {
    "duration": 8,
    "start_time": "2022-12-14T10:48:21.047Z"
   },
   {
    "duration": 125,
    "start_time": "2022-12-14T10:48:52.690Z"
   },
   {
    "duration": 174,
    "start_time": "2022-12-14T10:48:59.201Z"
   },
   {
    "duration": 228,
    "start_time": "2022-12-14T10:49:53.970Z"
   },
   {
    "duration": 49,
    "start_time": "2022-12-14T10:50:18.675Z"
   },
   {
    "duration": 322,
    "start_time": "2022-12-14T10:50:22.257Z"
   },
   {
    "duration": 211,
    "start_time": "2022-12-14T10:50:57.409Z"
   },
   {
    "duration": 240,
    "start_time": "2022-12-14T10:52:04.914Z"
   },
   {
    "duration": 313,
    "start_time": "2022-12-14T10:52:45.939Z"
   },
   {
    "duration": 6,
    "start_time": "2022-12-14T12:27:46.280Z"
   },
   {
    "duration": 6,
    "start_time": "2022-12-14T12:27:53.575Z"
   },
   {
    "duration": 29,
    "start_time": "2022-12-14T12:28:10.188Z"
   },
   {
    "duration": 8,
    "start_time": "2022-12-14T12:28:28.916Z"
   },
   {
    "duration": 13,
    "start_time": "2022-12-14T12:29:00.675Z"
   },
   {
    "duration": 156,
    "start_time": "2022-12-14T12:29:09.204Z"
   },
   {
    "duration": 172,
    "start_time": "2022-12-14T12:31:03.986Z"
   },
   {
    "duration": 167,
    "start_time": "2022-12-14T12:31:09.689Z"
   },
   {
    "duration": 200,
    "start_time": "2022-12-14T12:31:31.390Z"
   },
   {
    "duration": 305,
    "start_time": "2022-12-14T12:31:36.149Z"
   },
   {
    "duration": 165,
    "start_time": "2022-12-14T12:31:44.533Z"
   },
   {
    "duration": 170,
    "start_time": "2022-12-14T12:31:47.696Z"
   },
   {
    "duration": 186,
    "start_time": "2022-12-14T12:31:51.641Z"
   },
   {
    "duration": 176,
    "start_time": "2022-12-14T12:31:56.933Z"
   },
   {
    "duration": 178,
    "start_time": "2022-12-14T12:32:02.241Z"
   },
   {
    "duration": 276,
    "start_time": "2022-12-14T12:35:34.475Z"
   },
   {
    "duration": 233,
    "start_time": "2022-12-14T12:35:58.495Z"
   },
   {
    "duration": 5926,
    "start_time": "2022-12-14T13:15:01.983Z"
   },
   {
    "duration": 432,
    "start_time": "2022-12-14T13:15:08.468Z"
   },
   {
    "duration": 1040,
    "start_time": "2022-12-14T13:34:32.552Z"
   },
   {
    "duration": 100,
    "start_time": "2022-12-14T13:34:33.594Z"
   },
   {
    "duration": 39,
    "start_time": "2022-12-14T13:34:33.696Z"
   },
   {
    "duration": 7,
    "start_time": "2022-12-14T13:34:33.737Z"
   },
   {
    "duration": 8,
    "start_time": "2022-12-14T13:34:33.745Z"
   },
   {
    "duration": 42,
    "start_time": "2022-12-14T13:34:33.754Z"
   },
   {
    "duration": 14,
    "start_time": "2022-12-14T13:34:33.798Z"
   },
   {
    "duration": 4,
    "start_time": "2022-12-14T13:34:33.813Z"
   },
   {
    "duration": 16,
    "start_time": "2022-12-14T13:34:33.819Z"
   },
   {
    "duration": 6,
    "start_time": "2022-12-14T13:34:33.837Z"
   },
   {
    "duration": 8,
    "start_time": "2022-12-14T13:34:33.844Z"
   },
   {
    "duration": 436,
    "start_time": "2022-12-14T13:34:33.853Z"
   },
   {
    "duration": 17,
    "start_time": "2022-12-14T13:34:34.291Z"
   },
   {
    "duration": 11,
    "start_time": "2022-12-14T13:34:34.309Z"
   },
   {
    "duration": 411,
    "start_time": "2022-12-14T13:34:34.322Z"
   },
   {
    "duration": 265,
    "start_time": "2022-12-14T13:34:34.735Z"
   },
   {
    "duration": 443,
    "start_time": "2022-12-14T13:34:35.002Z"
   },
   {
    "duration": 197,
    "start_time": "2022-12-14T13:34:35.447Z"
   },
   {
    "duration": 8,
    "start_time": "2022-12-14T13:34:35.645Z"
   },
   {
    "duration": 384,
    "start_time": "2022-12-14T13:34:35.655Z"
   },
   {
    "duration": 405,
    "start_time": "2022-12-14T13:34:36.042Z"
   },
   {
    "duration": 239,
    "start_time": "2022-12-14T13:34:36.449Z"
   },
   {
    "duration": 438,
    "start_time": "2022-12-14T13:34:36.690Z"
   },
   {
    "duration": 5,
    "start_time": "2022-12-14T13:34:37.130Z"
   },
   {
    "duration": 443,
    "start_time": "2022-12-14T13:34:37.137Z"
   },
   {
    "duration": 386,
    "start_time": "2022-12-14T13:34:37.583Z"
   },
   {
    "duration": 7,
    "start_time": "2022-12-14T13:34:37.971Z"
   },
   {
    "duration": 228,
    "start_time": "2022-12-14T13:34:37.981Z"
   },
   {
    "duration": 10,
    "start_time": "2022-12-14T13:34:38.211Z"
   },
   {
    "duration": 216,
    "start_time": "2022-12-14T13:34:38.223Z"
   },
   {
    "duration": 211,
    "start_time": "2022-12-14T13:34:38.441Z"
   },
   {
    "duration": 434,
    "start_time": "2022-12-14T13:34:38.654Z"
   },
   {
    "duration": 153,
    "start_time": "2022-12-14T13:34:39.090Z"
   },
   {
    "duration": 293,
    "start_time": "2022-12-14T13:34:39.245Z"
   },
   {
    "duration": 10,
    "start_time": "2022-12-14T13:34:39.539Z"
   },
   {
    "duration": 11,
    "start_time": "2022-12-14T13:34:39.550Z"
   },
   {
    "duration": 8,
    "start_time": "2022-12-14T13:34:39.563Z"
   },
   {
    "duration": 11,
    "start_time": "2022-12-14T13:34:39.596Z"
   },
   {
    "duration": 9,
    "start_time": "2022-12-14T13:41:38.580Z"
   },
   {
    "duration": 8,
    "start_time": "2022-12-14T13:42:10.651Z"
   },
   {
    "duration": 1126,
    "start_time": "2022-12-14T13:42:16.661Z"
   },
   {
    "duration": 81,
    "start_time": "2022-12-14T13:42:17.789Z"
   },
   {
    "duration": 37,
    "start_time": "2022-12-14T13:42:17.872Z"
   },
   {
    "duration": 10,
    "start_time": "2022-12-14T13:42:17.911Z"
   },
   {
    "duration": 12,
    "start_time": "2022-12-14T13:42:17.927Z"
   },
   {
    "duration": 21,
    "start_time": "2022-12-14T13:42:17.941Z"
   },
   {
    "duration": 11,
    "start_time": "2022-12-14T13:42:17.963Z"
   },
   {
    "duration": 24,
    "start_time": "2022-12-14T13:42:17.975Z"
   },
   {
    "duration": 40,
    "start_time": "2022-12-14T13:42:18.001Z"
   },
   {
    "duration": 6,
    "start_time": "2022-12-14T13:42:18.043Z"
   },
   {
    "duration": 8,
    "start_time": "2022-12-14T13:42:18.050Z"
   },
   {
    "duration": 392,
    "start_time": "2022-12-14T13:42:18.060Z"
   },
   {
    "duration": 11,
    "start_time": "2022-12-14T13:42:18.453Z"
   },
   {
    "duration": 4,
    "start_time": "2022-12-14T13:42:18.466Z"
   },
   {
    "duration": 426,
    "start_time": "2022-12-14T13:42:18.471Z"
   },
   {
    "duration": 267,
    "start_time": "2022-12-14T13:42:18.899Z"
   },
   {
    "duration": 429,
    "start_time": "2022-12-14T13:42:19.167Z"
   },
   {
    "duration": 180,
    "start_time": "2022-12-14T13:42:19.598Z"
   },
   {
    "duration": 20,
    "start_time": "2022-12-14T13:42:19.780Z"
   },
   {
    "duration": 384,
    "start_time": "2022-12-14T13:42:19.802Z"
   },
   {
    "duration": 337,
    "start_time": "2022-12-14T13:42:20.188Z"
   },
   {
    "duration": 233,
    "start_time": "2022-12-14T13:42:20.527Z"
   },
   {
    "duration": 447,
    "start_time": "2022-12-14T13:42:20.761Z"
   },
   {
    "duration": 7,
    "start_time": "2022-12-14T13:42:21.210Z"
   },
   {
    "duration": 460,
    "start_time": "2022-12-14T13:42:21.218Z"
   },
   {
    "duration": 390,
    "start_time": "2022-12-14T13:42:21.680Z"
   },
   {
    "duration": 7,
    "start_time": "2022-12-14T13:42:22.071Z"
   },
   {
    "duration": 223,
    "start_time": "2022-12-14T13:42:22.081Z"
   },
   {
    "duration": 8,
    "start_time": "2022-12-14T13:42:22.306Z"
   },
   {
    "duration": 241,
    "start_time": "2022-12-14T13:42:22.316Z"
   },
   {
    "duration": 215,
    "start_time": "2022-12-14T13:42:22.559Z"
   },
   {
    "duration": 423,
    "start_time": "2022-12-14T13:42:22.776Z"
   },
   {
    "duration": 154,
    "start_time": "2022-12-14T13:42:23.200Z"
   },
   {
    "duration": 294,
    "start_time": "2022-12-14T13:42:23.355Z"
   },
   {
    "duration": 9,
    "start_time": "2022-12-14T13:42:23.650Z"
   },
   {
    "duration": 10,
    "start_time": "2022-12-14T13:42:23.661Z"
   },
   {
    "duration": 28,
    "start_time": "2022-12-14T13:42:23.673Z"
   },
   {
    "duration": 19,
    "start_time": "2022-12-14T13:42:23.704Z"
   },
   {
    "duration": 417,
    "start_time": "2022-12-14T13:45:43.534Z"
   },
   {
    "duration": 401,
    "start_time": "2022-12-14T13:48:32.843Z"
   },
   {
    "duration": 323,
    "start_time": "2022-12-14T13:49:01.928Z"
   },
   {
    "duration": 391,
    "start_time": "2022-12-14T13:56:44.878Z"
   },
   {
    "duration": 603,
    "start_time": "2022-12-14T13:57:23.157Z"
   },
   {
    "duration": 654,
    "start_time": "2022-12-14T13:59:09.905Z"
   },
   {
    "duration": 679,
    "start_time": "2022-12-14T14:00:09.549Z"
   },
   {
    "duration": 743,
    "start_time": "2022-12-14T14:00:16.598Z"
   },
   {
    "duration": 644,
    "start_time": "2022-12-14T14:00:53.798Z"
   },
   {
    "duration": 639,
    "start_time": "2022-12-14T14:01:13.141Z"
   },
   {
    "duration": 8,
    "start_time": "2022-12-14T14:02:36.179Z"
   },
   {
    "duration": 112,
    "start_time": "2022-12-14T15:50:12.728Z"
   },
   {
    "duration": 119,
    "start_time": "2022-12-14T15:50:21.053Z"
   },
   {
    "duration": 121,
    "start_time": "2022-12-14T15:51:50.140Z"
   },
   {
    "duration": 217,
    "start_time": "2022-12-14T15:56:43.976Z"
   },
   {
    "duration": 399,
    "start_time": "2022-12-14T16:09:48.158Z"
   },
   {
    "duration": 387,
    "start_time": "2022-12-14T16:10:06.132Z"
   },
   {
    "duration": 332,
    "start_time": "2022-12-14T16:10:13.118Z"
   },
   {
    "duration": 395,
    "start_time": "2022-12-14T16:10:20.854Z"
   },
   {
    "duration": 478,
    "start_time": "2022-12-14T16:10:40.020Z"
   },
   {
    "duration": 444,
    "start_time": "2022-12-14T16:10:54.160Z"
   },
   {
    "duration": 377,
    "start_time": "2022-12-14T16:41:30.750Z"
   },
   {
    "duration": 387,
    "start_time": "2022-12-14T16:43:00.216Z"
   },
   {
    "duration": 196,
    "start_time": "2022-12-14T17:00:52.507Z"
   },
   {
    "duration": 1220,
    "start_time": "2022-12-14T17:18:16.214Z"
   },
   {
    "duration": 122,
    "start_time": "2022-12-14T17:18:17.435Z"
   },
   {
    "duration": 40,
    "start_time": "2022-12-14T17:18:17.559Z"
   },
   {
    "duration": 11,
    "start_time": "2022-12-14T17:18:17.601Z"
   },
   {
    "duration": 27,
    "start_time": "2022-12-14T17:18:17.614Z"
   },
   {
    "duration": 22,
    "start_time": "2022-12-14T17:18:17.643Z"
   },
   {
    "duration": 10,
    "start_time": "2022-12-14T17:18:17.667Z"
   },
   {
    "duration": 4,
    "start_time": "2022-12-14T17:18:17.679Z"
   },
   {
    "duration": 18,
    "start_time": "2022-12-14T17:18:17.697Z"
   },
   {
    "duration": 30,
    "start_time": "2022-12-14T17:18:17.716Z"
   },
   {
    "duration": 21,
    "start_time": "2022-12-14T17:18:17.747Z"
   },
   {
    "duration": 418,
    "start_time": "2022-12-14T17:18:17.770Z"
   },
   {
    "duration": 19,
    "start_time": "2022-12-14T17:18:18.190Z"
   },
   {
    "duration": 19,
    "start_time": "2022-12-14T17:18:18.212Z"
   },
   {
    "duration": 399,
    "start_time": "2022-12-14T17:18:18.232Z"
   },
   {
    "duration": 290,
    "start_time": "2022-12-14T17:18:18.633Z"
   },
   {
    "duration": 522,
    "start_time": "2022-12-14T17:18:18.925Z"
   },
   {
    "duration": 201,
    "start_time": "2022-12-14T17:18:19.449Z"
   },
   {
    "duration": 8,
    "start_time": "2022-12-14T17:18:19.651Z"
   },
   {
    "duration": 418,
    "start_time": "2022-12-14T17:18:19.661Z"
   },
   {
    "duration": 358,
    "start_time": "2022-12-14T17:18:20.080Z"
   },
   {
    "duration": 235,
    "start_time": "2022-12-14T17:18:20.440Z"
   },
   {
    "duration": 480,
    "start_time": "2022-12-14T17:18:20.676Z"
   },
   {
    "duration": 5,
    "start_time": "2022-12-14T17:18:21.157Z"
   },
   {
    "duration": 477,
    "start_time": "2022-12-14T17:18:21.163Z"
   },
   {
    "duration": 403,
    "start_time": "2022-12-14T17:18:21.642Z"
   },
   {
    "duration": 6,
    "start_time": "2022-12-14T17:18:22.048Z"
   },
   {
    "duration": 259,
    "start_time": "2022-12-14T17:18:22.056Z"
   },
   {
    "duration": 11,
    "start_time": "2022-12-14T17:18:22.318Z"
   },
   {
    "duration": 230,
    "start_time": "2022-12-14T17:18:22.330Z"
   },
   {
    "duration": 224,
    "start_time": "2022-12-14T17:18:22.562Z"
   },
   {
    "duration": 408,
    "start_time": "2022-12-14T17:18:22.788Z"
   },
   {
    "duration": 756,
    "start_time": "2022-12-14T17:18:23.198Z"
   },
   {
    "duration": 168,
    "start_time": "2022-12-14T17:18:23.956Z"
   },
   {
    "duration": 452,
    "start_time": "2022-12-14T17:18:24.126Z"
   },
   {
    "duration": 230,
    "start_time": "2022-12-14T17:18:24.580Z"
   },
   {
    "duration": 362,
    "start_time": "2022-12-14T17:18:24.812Z"
   },
   {
    "duration": 10,
    "start_time": "2022-12-14T17:18:25.176Z"
   },
   {
    "duration": 10,
    "start_time": "2022-12-14T17:18:25.196Z"
   },
   {
    "duration": 29,
    "start_time": "2022-12-14T17:18:25.207Z"
   },
   {
    "duration": 9,
    "start_time": "2022-12-14T17:18:25.239Z"
   },
   {
    "duration": 1160,
    "start_time": "2022-12-15T17:55:59.448Z"
   },
   {
    "duration": 1244,
    "start_time": "2022-12-15T17:56:00.610Z"
   },
   {
    "duration": 40,
    "start_time": "2022-12-15T17:56:01.859Z"
   },
   {
    "duration": 14,
    "start_time": "2022-12-15T17:56:01.901Z"
   },
   {
    "duration": 49,
    "start_time": "2022-12-15T17:56:01.917Z"
   },
   {
    "duration": 56,
    "start_time": "2022-12-15T17:56:01.968Z"
   },
   {
    "duration": 27,
    "start_time": "2022-12-15T17:56:02.026Z"
   },
   {
    "duration": 27,
    "start_time": "2022-12-15T17:56:02.055Z"
   },
   {
    "duration": 46,
    "start_time": "2022-12-15T17:56:02.085Z"
   },
   {
    "duration": 50,
    "start_time": "2022-12-15T17:56:02.133Z"
   },
   {
    "duration": 45,
    "start_time": "2022-12-15T17:56:02.184Z"
   },
   {
    "duration": 469,
    "start_time": "2022-12-15T17:56:02.231Z"
   },
   {
    "duration": 14,
    "start_time": "2022-12-15T17:56:02.701Z"
   },
   {
    "duration": 44,
    "start_time": "2022-12-15T17:56:02.716Z"
   },
   {
    "duration": 427,
    "start_time": "2022-12-15T17:56:02.762Z"
   },
   {
    "duration": 258,
    "start_time": "2022-12-15T17:56:03.190Z"
   },
   {
    "duration": 407,
    "start_time": "2022-12-15T17:56:03.449Z"
   },
   {
    "duration": 209,
    "start_time": "2022-12-15T17:56:03.857Z"
   },
   {
    "duration": 20,
    "start_time": "2022-12-15T17:56:04.068Z"
   },
   {
    "duration": 373,
    "start_time": "2022-12-15T17:56:04.090Z"
   },
   {
    "duration": 324,
    "start_time": "2022-12-15T17:56:04.464Z"
   },
   {
    "duration": 230,
    "start_time": "2022-12-15T17:56:04.789Z"
   },
   {
    "duration": 444,
    "start_time": "2022-12-15T17:56:05.020Z"
   },
   {
    "duration": 14,
    "start_time": "2022-12-15T17:56:05.467Z"
   },
   {
    "duration": 457,
    "start_time": "2022-12-15T17:56:05.483Z"
   },
   {
    "duration": 350,
    "start_time": "2022-12-15T17:56:05.942Z"
   },
   {
    "duration": 9,
    "start_time": "2022-12-15T17:56:06.295Z"
   },
   {
    "duration": 202,
    "start_time": "2022-12-15T17:56:06.306Z"
   },
   {
    "duration": 8,
    "start_time": "2022-12-15T17:56:06.510Z"
   },
   {
    "duration": 233,
    "start_time": "2022-12-15T17:56:06.520Z"
   },
   {
    "duration": 219,
    "start_time": "2022-12-15T17:56:06.755Z"
   },
   {
    "duration": 409,
    "start_time": "2022-12-15T17:56:06.978Z"
   },
   {
    "duration": 710,
    "start_time": "2022-12-15T17:56:07.389Z"
   },
   {
    "duration": 140,
    "start_time": "2022-12-15T17:56:08.101Z"
   },
   {
    "duration": 409,
    "start_time": "2022-12-15T17:56:08.242Z"
   },
   {
    "duration": 206,
    "start_time": "2022-12-15T17:56:08.653Z"
   },
   {
    "duration": 313,
    "start_time": "2022-12-15T17:56:08.860Z"
   },
   {
    "duration": 9,
    "start_time": "2022-12-15T17:56:09.175Z"
   },
   {
    "duration": 10,
    "start_time": "2022-12-15T17:56:09.185Z"
   },
   {
    "duration": 16,
    "start_time": "2022-12-15T17:56:09.197Z"
   },
   {
    "duration": 10,
    "start_time": "2022-12-15T17:56:09.216Z"
   },
   {
    "duration": 4,
    "start_time": "2022-12-15T18:13:51.025Z"
   },
   {
    "duration": 97,
    "start_time": "2022-12-15T18:13:52.890Z"
   },
   {
    "duration": 34,
    "start_time": "2022-12-15T18:13:53.545Z"
   },
   {
    "duration": 8,
    "start_time": "2022-12-15T18:13:53.935Z"
   },
   {
    "duration": 9,
    "start_time": "2022-12-15T18:13:54.718Z"
   },
   {
    "duration": 20,
    "start_time": "2022-12-15T18:13:54.808Z"
   },
   {
    "duration": 12,
    "start_time": "2022-12-15T18:13:54.987Z"
   },
   {
    "duration": 5,
    "start_time": "2022-12-15T18:13:55.142Z"
   },
   {
    "duration": 17,
    "start_time": "2022-12-15T18:13:55.646Z"
   },
   {
    "duration": 26,
    "start_time": "2022-12-15T18:13:55.664Z"
   },
   {
    "duration": 6,
    "start_time": "2022-12-15T18:13:55.804Z"
   },
   {
    "duration": 342,
    "start_time": "2022-12-15T18:13:56.060Z"
   },
   {
    "duration": 9,
    "start_time": "2022-12-15T18:13:56.405Z"
   },
   {
    "duration": 4,
    "start_time": "2022-12-15T18:13:56.692Z"
   },
   {
    "duration": 354,
    "start_time": "2022-12-15T18:13:56.721Z"
   },
   {
    "duration": 217,
    "start_time": "2022-12-15T18:13:57.080Z"
   },
   {
    "duration": 387,
    "start_time": "2022-12-15T18:13:57.299Z"
   },
   {
    "duration": 173,
    "start_time": "2022-12-15T18:13:57.688Z"
   },
   {
    "duration": 16,
    "start_time": "2022-12-15T18:13:57.862Z"
   },
   {
    "duration": 436,
    "start_time": "2022-12-15T18:13:57.880Z"
   },
   {
    "duration": 229,
    "start_time": "2022-12-15T18:13:58.317Z"
   },
   {
    "duration": 209,
    "start_time": "2022-12-15T18:13:58.548Z"
   },
   {
    "duration": 400,
    "start_time": "2022-12-15T18:13:58.759Z"
   },
   {
    "duration": 4,
    "start_time": "2022-12-15T18:13:59.161Z"
   },
   {
    "duration": 434,
    "start_time": "2022-12-15T18:13:59.177Z"
   },
   {
    "duration": 337,
    "start_time": "2022-12-15T18:13:59.612Z"
   },
   {
    "duration": 6,
    "start_time": "2022-12-15T18:13:59.950Z"
   },
   {
    "duration": 203,
    "start_time": "2022-12-15T18:13:59.958Z"
   },
   {
    "duration": 8,
    "start_time": "2022-12-15T18:14:00.162Z"
   },
   {
    "duration": 211,
    "start_time": "2022-12-15T18:14:00.178Z"
   },
   {
    "duration": 214,
    "start_time": "2022-12-15T18:14:00.391Z"
   },
   {
    "duration": 415,
    "start_time": "2022-12-15T18:14:00.607Z"
   },
   {
    "duration": 823,
    "start_time": "2022-12-15T18:14:01.024Z"
   },
   {
    "duration": 158,
    "start_time": "2022-12-15T18:14:01.849Z"
   },
   {
    "duration": 452,
    "start_time": "2022-12-15T18:14:02.008Z"
   },
   {
    "duration": 222,
    "start_time": "2022-12-15T18:14:02.462Z"
   },
   {
    "duration": 339,
    "start_time": "2022-12-15T18:14:02.687Z"
   },
   {
    "duration": 11,
    "start_time": "2022-12-15T18:14:03.028Z"
   },
   {
    "duration": 44,
    "start_time": "2022-12-15T18:14:03.041Z"
   },
   {
    "duration": 36,
    "start_time": "2022-12-15T18:14:03.087Z"
   },
   {
    "duration": 21,
    "start_time": "2022-12-15T18:14:03.125Z"
   },
   {
    "duration": 77,
    "start_time": "2022-12-15T18:17:30.608Z"
   },
   {
    "duration": 69,
    "start_time": "2022-12-15T18:19:40.373Z"
   },
   {
    "duration": 78,
    "start_time": "2022-12-15T18:20:06.186Z"
   },
   {
    "duration": 78,
    "start_time": "2022-12-15T18:21:21.759Z"
   },
   {
    "duration": 70,
    "start_time": "2022-12-15T18:22:07.678Z"
   },
   {
    "duration": 5,
    "start_time": "2022-12-15T18:38:29.531Z"
   },
   {
    "duration": 4,
    "start_time": "2022-12-15T18:38:44.647Z"
   },
   {
    "duration": 73,
    "start_time": "2022-12-15T18:40:25.429Z"
   },
   {
    "duration": 78,
    "start_time": "2022-12-15T18:41:09.744Z"
   },
   {
    "duration": 46,
    "start_time": "2022-12-15T18:46:09.320Z"
   },
   {
    "duration": 6,
    "start_time": "2022-12-15T19:31:50.532Z"
   },
   {
    "duration": 1248,
    "start_time": "2022-12-15T19:31:56.376Z"
   },
   {
    "duration": 107,
    "start_time": "2022-12-15T19:31:57.626Z"
   },
   {
    "duration": 53,
    "start_time": "2022-12-15T19:31:57.735Z"
   },
   {
    "duration": 7,
    "start_time": "2022-12-15T19:31:57.790Z"
   },
   {
    "duration": 33,
    "start_time": "2022-12-15T19:31:57.798Z"
   },
   {
    "duration": 22,
    "start_time": "2022-12-15T19:31:57.833Z"
   },
   {
    "duration": 12,
    "start_time": "2022-12-15T19:31:57.857Z"
   },
   {
    "duration": 5,
    "start_time": "2022-12-15T19:31:57.870Z"
   },
   {
    "duration": 16,
    "start_time": "2022-12-15T19:31:57.876Z"
   },
   {
    "duration": 27,
    "start_time": "2022-12-15T19:31:57.895Z"
   },
   {
    "duration": 6,
    "start_time": "2022-12-15T19:31:57.924Z"
   },
   {
    "duration": 397,
    "start_time": "2022-12-15T19:31:57.932Z"
   },
   {
    "duration": 11,
    "start_time": "2022-12-15T19:31:58.331Z"
   },
   {
    "duration": 3,
    "start_time": "2022-12-15T19:31:58.344Z"
   },
   {
    "duration": 467,
    "start_time": "2022-12-15T19:31:58.349Z"
   },
   {
    "duration": 239,
    "start_time": "2022-12-15T19:31:58.817Z"
   },
   {
    "duration": 410,
    "start_time": "2022-12-15T19:31:59.057Z"
   },
   {
    "duration": 169,
    "start_time": "2022-12-15T19:31:59.469Z"
   },
   {
    "duration": 8,
    "start_time": "2022-12-15T19:31:59.640Z"
   },
   {
    "duration": 443,
    "start_time": "2022-12-15T19:31:59.649Z"
   },
   {
    "duration": 246,
    "start_time": "2022-12-15T19:32:00.094Z"
   },
   {
    "duration": 245,
    "start_time": "2022-12-15T19:32:00.341Z"
   },
   {
    "duration": 434,
    "start_time": "2022-12-15T19:32:00.588Z"
   },
   {
    "duration": 6,
    "start_time": "2022-12-15T19:32:01.023Z"
   },
   {
    "duration": 436,
    "start_time": "2022-12-15T19:32:01.030Z"
   },
   {
    "duration": 389,
    "start_time": "2022-12-15T19:32:01.467Z"
   },
   {
    "duration": 6,
    "start_time": "2022-12-15T19:32:01.857Z"
   },
   {
    "duration": 213,
    "start_time": "2022-12-15T19:32:01.866Z"
   },
   {
    "duration": 8,
    "start_time": "2022-12-15T19:32:02.080Z"
   },
   {
    "duration": 230,
    "start_time": "2022-12-15T19:32:02.090Z"
   },
   {
    "duration": 195,
    "start_time": "2022-12-15T19:32:02.321Z"
   },
   {
    "duration": 401,
    "start_time": "2022-12-15T19:32:02.521Z"
   },
   {
    "duration": 744,
    "start_time": "2022-12-15T19:32:02.924Z"
   },
   {
    "duration": 168,
    "start_time": "2022-12-15T19:32:03.669Z"
   },
   {
    "duration": 499,
    "start_time": "2022-12-15T19:32:03.839Z"
   },
   {
    "duration": 209,
    "start_time": "2022-12-15T19:32:04.339Z"
   },
   {
    "duration": 322,
    "start_time": "2022-12-15T19:32:04.549Z"
   },
   {
    "duration": 10,
    "start_time": "2022-12-15T19:32:04.873Z"
   },
   {
    "duration": 27,
    "start_time": "2022-12-15T19:32:04.884Z"
   },
   {
    "duration": 13,
    "start_time": "2022-12-15T19:32:04.913Z"
   },
   {
    "duration": 27,
    "start_time": "2022-12-15T19:32:04.927Z"
   },
   {
    "duration": 11,
    "start_time": "2022-12-15T19:32:04.956Z"
   },
   {
    "duration": 4,
    "start_time": "2022-12-15T19:32:12.308Z"
   },
   {
    "duration": 10,
    "start_time": "2022-12-15T19:32:25.316Z"
   },
   {
    "duration": 12,
    "start_time": "2022-12-15T19:33:07.613Z"
   },
   {
    "duration": 11,
    "start_time": "2022-12-15T19:33:20.032Z"
   },
   {
    "duration": 8,
    "start_time": "2022-12-15T19:33:40.975Z"
   },
   {
    "duration": 10,
    "start_time": "2022-12-15T19:33:50.800Z"
   },
   {
    "duration": 7,
    "start_time": "2022-12-15T19:34:34.953Z"
   },
   {
    "duration": 107,
    "start_time": "2022-12-15T19:34:51.251Z"
   },
   {
    "duration": 8,
    "start_time": "2022-12-15T19:35:08.948Z"
   },
   {
    "duration": 11,
    "start_time": "2022-12-15T19:35:13.375Z"
   },
   {
    "duration": 8,
    "start_time": "2022-12-15T19:35:22.787Z"
   },
   {
    "duration": 6,
    "start_time": "2022-12-15T19:35:26.908Z"
   },
   {
    "duration": 8,
    "start_time": "2022-12-15T19:39:19.587Z"
   },
   {
    "duration": 10,
    "start_time": "2022-12-15T19:39:26.315Z"
   },
   {
    "duration": 3,
    "start_time": "2022-12-15T19:45:43.375Z"
   },
   {
    "duration": 11,
    "start_time": "2022-12-15T19:45:57.775Z"
   },
   {
    "duration": 4,
    "start_time": "2022-12-15T19:46:01.906Z"
   },
   {
    "duration": 4,
    "start_time": "2022-12-15T19:46:35.626Z"
   },
   {
    "duration": 18,
    "start_time": "2022-12-15T19:47:03.438Z"
   },
   {
    "duration": 3,
    "start_time": "2022-12-15T19:54:56.233Z"
   },
   {
    "duration": 7,
    "start_time": "2022-12-15T19:55:02.341Z"
   },
   {
    "duration": 5,
    "start_time": "2022-12-15T19:55:07.301Z"
   },
   {
    "duration": 18,
    "start_time": "2022-12-15T19:55:26.101Z"
   },
   {
    "duration": 4,
    "start_time": "2022-12-15T19:55:38.333Z"
   },
   {
    "duration": 5,
    "start_time": "2022-12-15T19:55:51.045Z"
   },
   {
    "duration": 5,
    "start_time": "2022-12-15T19:55:53.176Z"
   },
   {
    "duration": 6,
    "start_time": "2022-12-15T19:55:57.889Z"
   },
   {
    "duration": 4,
    "start_time": "2022-12-15T19:56:07.037Z"
   },
   {
    "duration": 6,
    "start_time": "2022-12-15T19:56:14.821Z"
   },
   {
    "duration": 11,
    "start_time": "2022-12-15T19:59:13.260Z"
   },
   {
    "duration": 8,
    "start_time": "2022-12-15T19:59:18.700Z"
   },
   {
    "duration": 9,
    "start_time": "2022-12-15T19:59:28.888Z"
   },
   {
    "duration": 7,
    "start_time": "2022-12-15T19:59:30.256Z"
   },
   {
    "duration": 9,
    "start_time": "2022-12-15T19:59:42.160Z"
   },
   {
    "duration": 26,
    "start_time": "2022-12-15T20:09:20.735Z"
   },
   {
    "duration": 4,
    "start_time": "2022-12-15T20:11:26.798Z"
   },
   {
    "duration": 4,
    "start_time": "2022-12-15T20:12:46.750Z"
   },
   {
    "duration": 6,
    "start_time": "2022-12-15T20:15:58.717Z"
   },
   {
    "duration": 7,
    "start_time": "2022-12-15T20:16:21.621Z"
   },
   {
    "duration": 15,
    "start_time": "2022-12-15T20:16:50.449Z"
   },
   {
    "duration": 11,
    "start_time": "2022-12-15T20:18:07.866Z"
   },
   {
    "duration": 5,
    "start_time": "2022-12-15T20:18:44.805Z"
   },
   {
    "duration": 3,
    "start_time": "2022-12-15T20:19:47.390Z"
   },
   {
    "duration": 7,
    "start_time": "2022-12-15T20:20:31.577Z"
   },
   {
    "duration": 8,
    "start_time": "2022-12-15T20:25:19.309Z"
   },
   {
    "duration": 9,
    "start_time": "2022-12-15T20:27:05.628Z"
   },
   {
    "duration": 5,
    "start_time": "2022-12-15T20:28:19.464Z"
   },
   {
    "duration": 7,
    "start_time": "2022-12-15T20:31:37.996Z"
   },
   {
    "duration": 1689,
    "start_time": "2022-12-15T20:33:37.051Z"
   },
   {
    "duration": 176,
    "start_time": "2022-12-15T20:33:48.884Z"
   },
   {
    "duration": 195,
    "start_time": "2022-12-15T20:33:58.408Z"
   },
   {
    "duration": 1181,
    "start_time": "2022-12-15T20:40:30.971Z"
   },
   {
    "duration": 1192,
    "start_time": "2022-12-15T20:41:59.763Z"
   },
   {
    "duration": 14,
    "start_time": "2022-12-15T20:42:19.255Z"
   },
   {
    "duration": 12,
    "start_time": "2022-12-15T20:42:45.360Z"
   },
   {
    "duration": 6,
    "start_time": "2022-12-15T20:43:24.739Z"
   },
   {
    "duration": 11,
    "start_time": "2022-12-15T20:44:59.995Z"
   },
   {
    "duration": 7,
    "start_time": "2022-12-15T20:45:11.051Z"
   },
   {
    "duration": 14,
    "start_time": "2022-12-15T20:45:21.382Z"
   },
   {
    "duration": 3,
    "start_time": "2022-12-15T20:49:39.423Z"
   },
   {
    "duration": 48,
    "start_time": "2022-12-15T20:49:46.183Z"
   },
   {
    "duration": 249,
    "start_time": "2022-12-15T21:00:28.719Z"
   },
   {
    "duration": 3,
    "start_time": "2022-12-15T21:01:21.907Z"
   },
   {
    "duration": 18,
    "start_time": "2022-12-15T21:01:38.655Z"
   },
   {
    "duration": 1572,
    "start_time": "2022-12-15T21:03:16.503Z"
   },
   {
    "duration": 6,
    "start_time": "2022-12-15T21:04:31.342Z"
   },
   {
    "duration": 12,
    "start_time": "2022-12-15T21:04:36.722Z"
   },
   {
    "duration": 1149,
    "start_time": "2022-12-15T21:05:47.394Z"
   },
   {
    "duration": 11,
    "start_time": "2022-12-15T21:05:57.658Z"
   },
   {
    "duration": 1106,
    "start_time": "2022-12-15T21:06:07.190Z"
   },
   {
    "duration": 10,
    "start_time": "2022-12-15T21:06:17.074Z"
   },
   {
    "duration": 11,
    "start_time": "2022-12-15T21:06:35.062Z"
   },
   {
    "duration": 10,
    "start_time": "2022-12-15T21:06:41.374Z"
   },
   {
    "duration": 7,
    "start_time": "2022-12-15T21:08:56.609Z"
   },
   {
    "duration": 22,
    "start_time": "2022-12-15T21:09:02.270Z"
   },
   {
    "duration": 1188,
    "start_time": "2022-12-15T21:09:33.809Z"
   },
   {
    "duration": 120,
    "start_time": "2022-12-15T21:09:34.999Z"
   },
   {
    "duration": 44,
    "start_time": "2022-12-15T21:09:35.120Z"
   },
   {
    "duration": 6,
    "start_time": "2022-12-15T21:09:35.166Z"
   },
   {
    "duration": 21,
    "start_time": "2022-12-15T21:09:35.174Z"
   },
   {
    "duration": 37,
    "start_time": "2022-12-15T21:09:35.198Z"
   },
   {
    "duration": 21,
    "start_time": "2022-12-15T21:09:35.238Z"
   },
   {
    "duration": 17,
    "start_time": "2022-12-15T21:09:35.262Z"
   },
   {
    "duration": 28,
    "start_time": "2022-12-15T21:09:35.282Z"
   },
   {
    "duration": 11,
    "start_time": "2022-12-15T21:09:35.314Z"
   },
   {
    "duration": 37,
    "start_time": "2022-12-15T21:09:35.329Z"
   },
   {
    "duration": 411,
    "start_time": "2022-12-15T21:09:35.368Z"
   },
   {
    "duration": 15,
    "start_time": "2022-12-15T21:09:35.781Z"
   },
   {
    "duration": 5,
    "start_time": "2022-12-15T21:09:35.797Z"
   },
   {
    "duration": 413,
    "start_time": "2022-12-15T21:09:35.822Z"
   },
   {
    "duration": 18,
    "start_time": "2022-12-15T21:09:36.237Z"
   },
   {
    "duration": 41,
    "start_time": "2022-12-15T21:10:00.114Z"
   },
   {
    "duration": 560,
    "start_time": "2022-12-15T21:11:14.177Z"
   },
   {
    "duration": 1147,
    "start_time": "2022-12-15T21:11:31.504Z"
   },
   {
    "duration": 63,
    "start_time": "2022-12-15T21:11:32.653Z"
   },
   {
    "duration": 44,
    "start_time": "2022-12-15T21:11:32.718Z"
   },
   {
    "duration": 7,
    "start_time": "2022-12-15T21:11:32.765Z"
   },
   {
    "duration": 9,
    "start_time": "2022-12-15T21:11:32.773Z"
   },
   {
    "duration": 39,
    "start_time": "2022-12-15T21:11:32.784Z"
   },
   {
    "duration": 12,
    "start_time": "2022-12-15T21:11:32.825Z"
   },
   {
    "duration": 4,
    "start_time": "2022-12-15T21:11:32.839Z"
   },
   {
    "duration": 15,
    "start_time": "2022-12-15T21:11:32.844Z"
   },
   {
    "duration": 4,
    "start_time": "2022-12-15T21:11:32.861Z"
   },
   {
    "duration": 9,
    "start_time": "2022-12-15T21:11:32.867Z"
   },
   {
    "duration": 429,
    "start_time": "2022-12-15T21:11:32.878Z"
   },
   {
    "duration": 22,
    "start_time": "2022-12-15T21:11:33.309Z"
   },
   {
    "duration": 5,
    "start_time": "2022-12-15T21:11:33.333Z"
   },
   {
    "duration": 427,
    "start_time": "2022-12-15T21:11:33.340Z"
   },
   {
    "duration": 255,
    "start_time": "2022-12-15T21:11:33.768Z"
   },
   {
    "duration": 474,
    "start_time": "2022-12-15T21:11:34.026Z"
   },
   {
    "duration": 173,
    "start_time": "2022-12-15T21:11:34.501Z"
   },
   {
    "duration": 8,
    "start_time": "2022-12-15T21:11:34.675Z"
   },
   {
    "duration": 432,
    "start_time": "2022-12-15T21:11:34.684Z"
   },
   {
    "duration": 260,
    "start_time": "2022-12-15T21:11:35.117Z"
   },
   {
    "duration": 246,
    "start_time": "2022-12-15T21:11:35.378Z"
   },
   {
    "duration": 477,
    "start_time": "2022-12-15T21:11:35.626Z"
   },
   {
    "duration": 6,
    "start_time": "2022-12-15T21:11:36.104Z"
   },
   {
    "duration": 428,
    "start_time": "2022-12-15T21:11:36.123Z"
   },
   {
    "duration": 362,
    "start_time": "2022-12-15T21:11:36.553Z"
   },
   {
    "duration": 7,
    "start_time": "2022-12-15T21:11:36.917Z"
   },
   {
    "duration": 203,
    "start_time": "2022-12-15T21:11:36.928Z"
   },
   {
    "duration": 8,
    "start_time": "2022-12-15T21:11:37.133Z"
   },
   {
    "duration": 209,
    "start_time": "2022-12-15T21:11:37.142Z"
   },
   {
    "duration": 198,
    "start_time": "2022-12-15T21:11:37.352Z"
   },
   {
    "duration": 442,
    "start_time": "2022-12-15T21:11:37.551Z"
   },
   {
    "duration": 884,
    "start_time": "2022-12-15T21:11:37.995Z"
   },
   {
    "duration": 144,
    "start_time": "2022-12-15T21:11:38.880Z"
   },
   {
    "duration": 418,
    "start_time": "2022-12-15T21:11:39.025Z"
   },
   {
    "duration": 211,
    "start_time": "2022-12-15T21:11:39.444Z"
   },
   {
    "duration": 354,
    "start_time": "2022-12-15T21:11:39.658Z"
   },
   {
    "duration": 16,
    "start_time": "2022-12-15T21:11:40.013Z"
   },
   {
    "duration": 18,
    "start_time": "2022-12-15T21:11:40.030Z"
   },
   {
    "duration": 538,
    "start_time": "2022-12-15T21:12:10.264Z"
   },
   {
    "duration": 653,
    "start_time": "2022-12-15T21:12:15.969Z"
   },
   {
    "duration": 1220,
    "start_time": "2022-12-15T21:12:45.025Z"
   },
   {
    "duration": 76,
    "start_time": "2022-12-15T21:12:46.247Z"
   },
   {
    "duration": 42,
    "start_time": "2022-12-15T21:12:46.324Z"
   },
   {
    "duration": 6,
    "start_time": "2022-12-15T21:12:46.368Z"
   },
   {
    "duration": 57,
    "start_time": "2022-12-15T21:12:46.375Z"
   },
   {
    "duration": 48,
    "start_time": "2022-12-15T21:12:46.434Z"
   },
   {
    "duration": 26,
    "start_time": "2022-12-15T21:12:46.484Z"
   },
   {
    "duration": 29,
    "start_time": "2022-12-15T21:12:46.512Z"
   },
   {
    "duration": 38,
    "start_time": "2022-12-15T21:12:46.542Z"
   },
   {
    "duration": 22,
    "start_time": "2022-12-15T21:12:46.582Z"
   },
   {
    "duration": 27,
    "start_time": "2022-12-15T21:12:46.606Z"
   },
   {
    "duration": 408,
    "start_time": "2022-12-15T21:12:46.635Z"
   },
   {
    "duration": 17,
    "start_time": "2022-12-15T21:12:47.045Z"
   },
   {
    "duration": 27,
    "start_time": "2022-12-15T21:12:47.063Z"
   },
   {
    "duration": 573,
    "start_time": "2022-12-15T21:12:47.092Z"
   },
   {
    "duration": 319,
    "start_time": "2022-12-15T21:12:47.666Z"
   },
   {
    "duration": 430,
    "start_time": "2022-12-15T21:12:47.986Z"
   },
   {
    "duration": 182,
    "start_time": "2022-12-15T21:12:48.418Z"
   },
   {
    "duration": 22,
    "start_time": "2022-12-15T21:12:48.601Z"
   },
   {
    "duration": 511,
    "start_time": "2022-12-15T21:12:48.625Z"
   },
   {
    "duration": 259,
    "start_time": "2022-12-15T21:12:49.138Z"
   },
   {
    "duration": 281,
    "start_time": "2022-12-15T21:12:49.400Z"
   },
   {
    "duration": 477,
    "start_time": "2022-12-15T21:12:49.683Z"
   },
   {
    "duration": 6,
    "start_time": "2022-12-15T21:12:50.162Z"
   },
   {
    "duration": 454,
    "start_time": "2022-12-15T21:12:50.170Z"
   },
   {
    "duration": 367,
    "start_time": "2022-12-15T21:12:50.625Z"
   },
   {
    "duration": 6,
    "start_time": "2022-12-15T21:12:50.994Z"
   },
   {
    "duration": 224,
    "start_time": "2022-12-15T21:12:51.003Z"
   },
   {
    "duration": 8,
    "start_time": "2022-12-15T21:12:51.229Z"
   },
   {
    "duration": 226,
    "start_time": "2022-12-15T21:12:51.238Z"
   },
   {
    "duration": 210,
    "start_time": "2022-12-15T21:12:51.466Z"
   },
   {
    "duration": 484,
    "start_time": "2022-12-15T21:12:51.678Z"
   },
   {
    "duration": 872,
    "start_time": "2022-12-15T21:12:52.164Z"
   },
   {
    "duration": 139,
    "start_time": "2022-12-15T21:12:53.038Z"
   },
   {
    "duration": 426,
    "start_time": "2022-12-15T21:12:53.179Z"
   },
   {
    "duration": 206,
    "start_time": "2022-12-15T21:12:53.607Z"
   },
   {
    "duration": 375,
    "start_time": "2022-12-15T21:12:53.821Z"
   },
   {
    "duration": 12,
    "start_time": "2022-12-15T21:12:54.199Z"
   },
   {
    "duration": 30,
    "start_time": "2022-12-15T21:12:54.223Z"
   },
   {
    "duration": 45,
    "start_time": "2022-12-16T10:12:29.664Z"
   },
   {
    "duration": 1290,
    "start_time": "2022-12-16T10:12:37.468Z"
   },
   {
    "duration": 123,
    "start_time": "2022-12-16T10:12:38.760Z"
   },
   {
    "duration": 46,
    "start_time": "2022-12-16T10:12:38.884Z"
   },
   {
    "duration": 7,
    "start_time": "2022-12-16T10:12:38.933Z"
   },
   {
    "duration": 16,
    "start_time": "2022-12-16T10:12:38.942Z"
   },
   {
    "duration": 28,
    "start_time": "2022-12-16T10:12:38.959Z"
   },
   {
    "duration": 10,
    "start_time": "2022-12-16T10:12:38.989Z"
   },
   {
    "duration": 4,
    "start_time": "2022-12-16T10:12:39.001Z"
   },
   {
    "duration": 14,
    "start_time": "2022-12-16T10:12:39.007Z"
   },
   {
    "duration": 7,
    "start_time": "2022-12-16T10:12:39.051Z"
   },
   {
    "duration": 19,
    "start_time": "2022-12-16T10:12:39.060Z"
   },
   {
    "duration": 389,
    "start_time": "2022-12-16T10:12:39.081Z"
   },
   {
    "duration": 13,
    "start_time": "2022-12-16T10:12:39.472Z"
   },
   {
    "duration": 3,
    "start_time": "2022-12-16T10:12:39.487Z"
   },
   {
    "duration": 603,
    "start_time": "2022-12-16T10:12:39.491Z"
   },
   {
    "duration": 244,
    "start_time": "2022-12-16T10:12:40.096Z"
   },
   {
    "duration": 406,
    "start_time": "2022-12-16T10:12:40.341Z"
   },
   {
    "duration": 196,
    "start_time": "2022-12-16T10:12:40.749Z"
   },
   {
    "duration": 12,
    "start_time": "2022-12-16T10:12:40.951Z"
   },
   {
    "duration": 448,
    "start_time": "2022-12-16T10:12:40.964Z"
   },
   {
    "duration": 248,
    "start_time": "2022-12-16T10:12:41.414Z"
   },
   {
    "duration": 244,
    "start_time": "2022-12-16T10:12:41.664Z"
   },
   {
    "duration": 449,
    "start_time": "2022-12-16T10:12:41.909Z"
   },
   {
    "duration": 6,
    "start_time": "2022-12-16T10:12:42.361Z"
   },
   {
    "duration": 514,
    "start_time": "2022-12-16T10:12:42.368Z"
   },
   {
    "duration": 408,
    "start_time": "2022-12-16T10:12:42.885Z"
   },
   {
    "duration": 7,
    "start_time": "2022-12-16T10:12:43.295Z"
   },
   {
    "duration": 222,
    "start_time": "2022-12-16T10:12:43.306Z"
   },
   {
    "duration": 8,
    "start_time": "2022-12-16T10:12:43.530Z"
   },
   {
    "duration": 231,
    "start_time": "2022-12-16T10:12:43.540Z"
   },
   {
    "duration": 205,
    "start_time": "2022-12-16T10:12:43.772Z"
   },
   {
    "duration": 444,
    "start_time": "2022-12-16T10:12:43.979Z"
   },
   {
    "duration": 918,
    "start_time": "2022-12-16T10:12:44.425Z"
   },
   {
    "duration": 2817,
    "start_time": "2022-12-16T10:12:45.345Z"
   },
   {
    "duration": 426,
    "start_time": "2022-12-16T10:12:48.164Z"
   },
   {
    "duration": 210,
    "start_time": "2022-12-16T10:12:48.592Z"
   },
   {
    "duration": 333,
    "start_time": "2022-12-16T10:12:48.803Z"
   },
   {
    "duration": 16,
    "start_time": "2022-12-16T10:12:49.138Z"
   },
   {
    "duration": 116,
    "start_time": "2022-12-16T10:12:49.155Z"
   },
   {
    "duration": 299,
    "start_time": "2022-12-16T10:13:09.925Z"
   },
   {
    "duration": 521,
    "start_time": "2022-12-16T10:44:57.495Z"
   },
   {
    "duration": 529,
    "start_time": "2022-12-16T10:45:13.470Z"
   },
   {
    "duration": 734,
    "start_time": "2022-12-16T10:45:23.649Z"
   },
   {
    "duration": 845,
    "start_time": "2022-12-16T10:45:28.759Z"
   },
   {
    "duration": 928,
    "start_time": "2022-12-16T10:45:35.959Z"
   },
   {
    "duration": 1191,
    "start_time": "2022-12-16T10:45:50.799Z"
   },
   {
    "duration": 75,
    "start_time": "2022-12-16T10:45:51.992Z"
   },
   {
    "duration": 46,
    "start_time": "2022-12-16T10:45:52.068Z"
   },
   {
    "duration": 6,
    "start_time": "2022-12-16T10:45:52.117Z"
   },
   {
    "duration": 27,
    "start_time": "2022-12-16T10:45:52.125Z"
   },
   {
    "duration": 22,
    "start_time": "2022-12-16T10:45:52.155Z"
   },
   {
    "duration": 22,
    "start_time": "2022-12-16T10:45:52.179Z"
   },
   {
    "duration": 24,
    "start_time": "2022-12-16T10:45:52.203Z"
   },
   {
    "duration": 23,
    "start_time": "2022-12-16T10:45:52.228Z"
   },
   {
    "duration": 5,
    "start_time": "2022-12-16T10:45:52.254Z"
   },
   {
    "duration": 30,
    "start_time": "2022-12-16T10:45:52.261Z"
   },
   {
    "duration": 539,
    "start_time": "2022-12-16T10:45:52.293Z"
   },
   {
    "duration": 19,
    "start_time": "2022-12-16T10:45:52.834Z"
   },
   {
    "duration": 6,
    "start_time": "2022-12-16T10:45:52.855Z"
   },
   {
    "duration": 534,
    "start_time": "2022-12-16T10:45:52.862Z"
   },
   {
    "duration": 274,
    "start_time": "2022-12-16T10:45:53.399Z"
   },
   {
    "duration": 439,
    "start_time": "2022-12-16T10:45:53.674Z"
   },
   {
    "duration": 237,
    "start_time": "2022-12-16T10:45:54.115Z"
   },
   {
    "duration": 14,
    "start_time": "2022-12-16T10:45:54.354Z"
   },
   {
    "duration": 500,
    "start_time": "2022-12-16T10:45:54.371Z"
   },
   {
    "duration": 250,
    "start_time": "2022-12-16T10:45:54.872Z"
   },
   {
    "duration": 231,
    "start_time": "2022-12-16T10:45:55.124Z"
   },
   {
    "duration": 441,
    "start_time": "2022-12-16T10:45:55.357Z"
   },
   {
    "duration": 4,
    "start_time": "2022-12-16T10:45:55.800Z"
   },
   {
    "duration": 429,
    "start_time": "2022-12-16T10:45:55.806Z"
   },
   {
    "duration": 361,
    "start_time": "2022-12-16T10:45:56.236Z"
   },
   {
    "duration": 7,
    "start_time": "2022-12-16T10:45:56.598Z"
   },
   {
    "duration": 203,
    "start_time": "2022-12-16T10:45:56.608Z"
   },
   {
    "duration": 8,
    "start_time": "2022-12-16T10:45:56.813Z"
   },
   {
    "duration": 226,
    "start_time": "2022-12-16T10:45:56.822Z"
   },
   {
    "duration": 200,
    "start_time": "2022-12-16T10:45:57.049Z"
   },
   {
    "duration": 453,
    "start_time": "2022-12-16T10:45:57.251Z"
   },
   {
    "duration": 878,
    "start_time": "2022-12-16T10:45:57.705Z"
   },
   {
    "duration": 293,
    "start_time": "2022-12-16T10:45:58.585Z"
   },
   {
    "duration": 447,
    "start_time": "2022-12-16T10:45:58.880Z"
   },
   {
    "duration": 224,
    "start_time": "2022-12-16T10:45:59.330Z"
   },
   {
    "duration": 330,
    "start_time": "2022-12-16T10:45:59.556Z"
   },
   {
    "duration": 10,
    "start_time": "2022-12-16T10:45:59.888Z"
   },
   {
    "duration": 13,
    "start_time": "2022-12-16T10:45:59.900Z"
   },
   {
    "duration": 102,
    "start_time": "2022-12-16T10:51:51.265Z"
   },
   {
    "duration": 292,
    "start_time": "2022-12-16T10:52:05.157Z"
   },
   {
    "duration": 394,
    "start_time": "2022-12-16T10:52:17.227Z"
   },
   {
    "duration": 3,
    "start_time": "2022-12-16T10:54:26.053Z"
   },
   {
    "duration": 391,
    "start_time": "2022-12-16T10:54:58.427Z"
   },
   {
    "duration": 869,
    "start_time": "2022-12-16T10:55:51.388Z"
   },
   {
    "duration": 106,
    "start_time": "2022-12-16T10:56:13.479Z"
   },
   {
    "duration": 11,
    "start_time": "2022-12-16T10:56:16.701Z"
   },
   {
    "duration": 193,
    "start_time": "2022-12-16T10:56:22.499Z"
   },
   {
    "duration": 539,
    "start_time": "2022-12-16T10:57:09.566Z"
   },
   {
    "duration": 337,
    "start_time": "2022-12-16T10:57:19.212Z"
   },
   {
    "duration": 337,
    "start_time": "2022-12-16T10:57:46.661Z"
   },
   {
    "duration": 423,
    "start_time": "2022-12-16T10:58:18.339Z"
   },
   {
    "duration": 399,
    "start_time": "2022-12-16T10:58:41.368Z"
   },
   {
    "duration": 18,
    "start_time": "2022-12-16T10:59:34.640Z"
   },
   {
    "duration": 766,
    "start_time": "2022-12-16T10:59:41.012Z"
   },
   {
    "duration": 0,
    "start_time": "2022-12-16T11:00:11.728Z"
   },
   {
    "duration": 1536,
    "start_time": "2022-12-16T11:00:12.800Z"
   },
   {
    "duration": 9,
    "start_time": "2022-12-16T11:00:19.540Z"
   },
   {
    "duration": 938,
    "start_time": "2022-12-16T11:00:26.092Z"
   },
   {
    "duration": 4,
    "start_time": "2022-12-16T11:01:20.196Z"
   },
   {
    "duration": 16,
    "start_time": "2022-12-16T11:03:11.108Z"
   },
   {
    "duration": 4,
    "start_time": "2022-12-16T11:04:04.948Z"
   },
   {
    "duration": 413,
    "start_time": "2022-12-16T11:04:42.957Z"
   },
   {
    "duration": 14,
    "start_time": "2022-12-16T11:05:01.625Z"
   },
   {
    "duration": 1131,
    "start_time": "2022-12-16T11:05:11.674Z"
   },
   {
    "duration": 68,
    "start_time": "2022-12-16T11:05:12.807Z"
   },
   {
    "duration": 44,
    "start_time": "2022-12-16T11:05:12.877Z"
   },
   {
    "duration": 6,
    "start_time": "2022-12-16T11:05:12.923Z"
   },
   {
    "duration": 21,
    "start_time": "2022-12-16T11:05:12.931Z"
   },
   {
    "duration": 31,
    "start_time": "2022-12-16T11:05:12.954Z"
   },
   {
    "duration": 12,
    "start_time": "2022-12-16T11:05:12.987Z"
   },
   {
    "duration": 4,
    "start_time": "2022-12-16T11:05:13.001Z"
   },
   {
    "duration": 15,
    "start_time": "2022-12-16T11:05:13.008Z"
   },
   {
    "duration": 5,
    "start_time": "2022-12-16T11:05:13.054Z"
   },
   {
    "duration": 9,
    "start_time": "2022-12-16T11:05:13.061Z"
   },
   {
    "duration": 425,
    "start_time": "2022-12-16T11:05:13.072Z"
   },
   {
    "duration": 13,
    "start_time": "2022-12-16T11:05:13.499Z"
   },
   {
    "duration": 4,
    "start_time": "2022-12-16T11:05:13.514Z"
   },
   {
    "duration": 504,
    "start_time": "2022-12-16T11:05:13.519Z"
   },
   {
    "duration": 245,
    "start_time": "2022-12-16T11:05:14.024Z"
   },
   {
    "duration": 4,
    "start_time": "2022-12-16T11:05:14.272Z"
   },
   {
    "duration": 432,
    "start_time": "2022-12-16T11:05:14.278Z"
   },
   {
    "duration": 187,
    "start_time": "2022-12-16T11:05:14.712Z"
   },
   {
    "duration": 9,
    "start_time": "2022-12-16T11:05:14.901Z"
   },
   {
    "duration": 421,
    "start_time": "2022-12-16T11:05:14.911Z"
   },
   {
    "duration": 102,
    "start_time": "2022-12-16T11:05:15.334Z"
   },
   {
    "duration": 0,
    "start_time": "2022-12-16T11:05:15.438Z"
   },
   {
    "duration": 0,
    "start_time": "2022-12-16T11:05:15.440Z"
   },
   {
    "duration": 0,
    "start_time": "2022-12-16T11:05:15.441Z"
   },
   {
    "duration": 0,
    "start_time": "2022-12-16T11:05:15.453Z"
   },
   {
    "duration": 0,
    "start_time": "2022-12-16T11:05:15.454Z"
   },
   {
    "duration": 0,
    "start_time": "2022-12-16T11:05:15.455Z"
   },
   {
    "duration": 0,
    "start_time": "2022-12-16T11:05:15.457Z"
   },
   {
    "duration": 0,
    "start_time": "2022-12-16T11:05:15.457Z"
   },
   {
    "duration": 0,
    "start_time": "2022-12-16T11:05:15.459Z"
   },
   {
    "duration": 0,
    "start_time": "2022-12-16T11:05:15.460Z"
   },
   {
    "duration": 0,
    "start_time": "2022-12-16T11:05:15.461Z"
   },
   {
    "duration": 0,
    "start_time": "2022-12-16T11:05:15.466Z"
   },
   {
    "duration": 0,
    "start_time": "2022-12-16T11:05:15.467Z"
   },
   {
    "duration": 0,
    "start_time": "2022-12-16T11:05:15.469Z"
   },
   {
    "duration": 0,
    "start_time": "2022-12-16T11:05:15.470Z"
   },
   {
    "duration": 0,
    "start_time": "2022-12-16T11:05:15.471Z"
   },
   {
    "duration": 0,
    "start_time": "2022-12-16T11:05:15.473Z"
   },
   {
    "duration": 1,
    "start_time": "2022-12-16T11:05:15.474Z"
   },
   {
    "duration": 4,
    "start_time": "2022-12-16T11:10:59.216Z"
   },
   {
    "duration": 239,
    "start_time": "2022-12-16T11:11:04.091Z"
   },
   {
    "duration": 20,
    "start_time": "2022-12-16T11:11:13.692Z"
   },
   {
    "duration": 425,
    "start_time": "2022-12-16T11:11:19.545Z"
   },
   {
    "duration": 440,
    "start_time": "2022-12-16T11:11:33.326Z"
   },
   {
    "duration": 6,
    "start_time": "2022-12-16T11:11:36.315Z"
   },
   {
    "duration": 411,
    "start_time": "2022-12-16T11:11:37.836Z"
   },
   {
    "duration": 370,
    "start_time": "2022-12-16T11:12:19.109Z"
   },
   {
    "duration": 6,
    "start_time": "2022-12-16T11:12:27.980Z"
   },
   {
    "duration": 232,
    "start_time": "2022-12-16T11:12:48.850Z"
   },
   {
    "duration": 336,
    "start_time": "2022-12-16T11:13:02.372Z"
   },
   {
    "duration": 9,
    "start_time": "2022-12-16T11:14:13.798Z"
   },
   {
    "duration": 8,
    "start_time": "2022-12-16T11:14:15.226Z"
   },
   {
    "duration": 301,
    "start_time": "2022-12-16T11:14:16.803Z"
   },
   {
    "duration": 320,
    "start_time": "2022-12-16T11:14:32.969Z"
   },
   {
    "duration": 200,
    "start_time": "2022-12-16T11:15:28.561Z"
   },
   {
    "duration": 343,
    "start_time": "2022-12-16T11:15:47.431Z"
   },
   {
    "duration": 280,
    "start_time": "2022-12-16T11:15:57.723Z"
   },
   {
    "duration": 363,
    "start_time": "2022-12-16T11:16:04.328Z"
   },
   {
    "duration": 416,
    "start_time": "2022-12-16T11:17:34.571Z"
   },
   {
    "duration": 775,
    "start_time": "2022-12-16T11:17:39.734Z"
   },
   {
    "duration": 270,
    "start_time": "2022-12-16T11:17:43.377Z"
   },
   {
    "duration": 405,
    "start_time": "2022-12-16T11:18:07.139Z"
   },
   {
    "duration": 281,
    "start_time": "2022-12-16T11:18:18.634Z"
   },
   {
    "duration": 309,
    "start_time": "2022-12-16T11:18:39.540Z"
   },
   {
    "duration": 1113,
    "start_time": "2022-12-16T11:22:59.627Z"
   },
   {
    "duration": 159,
    "start_time": "2022-12-16T11:23:00.744Z"
   },
   {
    "duration": 43,
    "start_time": "2022-12-16T11:23:00.905Z"
   },
   {
    "duration": 8,
    "start_time": "2022-12-16T11:23:00.950Z"
   },
   {
    "duration": 29,
    "start_time": "2022-12-16T11:23:00.960Z"
   },
   {
    "duration": 35,
    "start_time": "2022-12-16T11:23:00.991Z"
   },
   {
    "duration": 10,
    "start_time": "2022-12-16T11:23:01.027Z"
   },
   {
    "duration": 9,
    "start_time": "2022-12-16T11:23:01.039Z"
   },
   {
    "duration": 25,
    "start_time": "2022-12-16T11:23:01.051Z"
   },
   {
    "duration": 16,
    "start_time": "2022-12-16T11:23:01.078Z"
   },
   {
    "duration": 27,
    "start_time": "2022-12-16T11:23:01.095Z"
   },
   {
    "duration": 393,
    "start_time": "2022-12-16T11:23:01.123Z"
   },
   {
    "duration": 13,
    "start_time": "2022-12-16T11:23:01.517Z"
   },
   {
    "duration": 6,
    "start_time": "2022-12-16T11:23:01.531Z"
   },
   {
    "duration": 478,
    "start_time": "2022-12-16T11:23:01.551Z"
   },
   {
    "duration": 241,
    "start_time": "2022-12-16T11:23:02.030Z"
   },
   {
    "duration": 4,
    "start_time": "2022-12-16T11:23:02.273Z"
   },
   {
    "duration": 466,
    "start_time": "2022-12-16T11:23:02.279Z"
   },
   {
    "duration": 167,
    "start_time": "2022-12-16T11:23:02.746Z"
   },
   {
    "duration": 8,
    "start_time": "2022-12-16T11:23:02.915Z"
   },
   {
    "duration": 440,
    "start_time": "2022-12-16T11:23:02.924Z"
   },
   {
    "duration": 237,
    "start_time": "2022-12-16T11:23:03.366Z"
   },
   {
    "duration": 400,
    "start_time": "2022-12-16T11:23:03.605Z"
   },
   {
    "duration": 437,
    "start_time": "2022-12-16T11:23:04.007Z"
   },
   {
    "duration": 10,
    "start_time": "2022-12-16T11:23:04.446Z"
   },
   {
    "duration": 424,
    "start_time": "2022-12-16T11:23:04.458Z"
   },
   {
    "duration": 363,
    "start_time": "2022-12-16T11:23:04.886Z"
   },
   {
    "duration": 7,
    "start_time": "2022-12-16T11:23:05.251Z"
   },
   {
    "duration": 281,
    "start_time": "2022-12-16T11:23:05.260Z"
   },
   {
    "duration": 10,
    "start_time": "2022-12-16T11:23:05.543Z"
   },
   {
    "duration": 317,
    "start_time": "2022-12-16T11:23:05.555Z"
   },
   {
    "duration": 337,
    "start_time": "2022-12-16T11:23:05.874Z"
   },
   {
    "duration": 482,
    "start_time": "2022-12-16T11:23:06.212Z"
   },
   {
    "duration": 860,
    "start_time": "2022-12-16T11:23:06.696Z"
   },
   {
    "duration": 290,
    "start_time": "2022-12-16T11:23:07.558Z"
   },
   {
    "duration": 439,
    "start_time": "2022-12-16T11:23:07.852Z"
   },
   {
    "duration": 203,
    "start_time": "2022-12-16T11:23:08.293Z"
   },
   {
    "duration": 311,
    "start_time": "2022-12-16T11:23:08.498Z"
   },
   {
    "duration": 9,
    "start_time": "2022-12-16T11:23:08.811Z"
   },
   {
    "duration": 13,
    "start_time": "2022-12-16T11:23:08.821Z"
   },
   {
    "duration": 58,
    "start_time": "2022-12-16T12:39:41.217Z"
   },
   {
    "duration": 64,
    "start_time": "2022-12-16T12:41:02.918Z"
   },
   {
    "duration": 48,
    "start_time": "2022-12-16T12:41:16.227Z"
   },
   {
    "duration": 45,
    "start_time": "2022-12-16T12:41:33.397Z"
   },
   {
    "duration": 48,
    "start_time": "2022-12-16T12:42:41.478Z"
   }
  ],
  "colab": {
   "provenance": []
  },
  "kernelspec": {
   "display_name": "Python 3 (ipykernel)",
   "language": "python",
   "name": "python3"
  },
  "language_info": {
   "codemirror_mode": {
    "name": "ipython",
    "version": 3
   },
   "file_extension": ".py",
   "mimetype": "text/x-python",
   "name": "python",
   "nbconvert_exporter": "python",
   "pygments_lexer": "ipython3",
   "version": "3.9.13"
  },
  "toc": {
   "base_numbering": 1,
   "nav_menu": {
    "height": "350.99px",
    "width": "364.414px"
   },
   "number_sections": true,
   "sideBar": true,
   "skip_h1_title": true,
   "title_cell": "Table of Contents",
   "title_sidebar": "Contents",
   "toc_cell": false,
   "toc_position": {},
   "toc_section_display": true,
   "toc_window_display": false
  }
 },
 "nbformat": 4,
 "nbformat_minor": 1
}
